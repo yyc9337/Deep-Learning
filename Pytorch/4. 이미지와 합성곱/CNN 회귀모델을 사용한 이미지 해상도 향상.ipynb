{
 "cells": [
  {
   "cell_type": "code",
   "execution_count": 4,
   "metadata": {},
   "outputs": [],
   "source": [
    "import torch\n",
    "from torch import nn, optim\n",
    "from torch.utils.data import (Dataset, DataLoader, TensorDataset)\n",
    "import tqdm\n",
    "\n",
    "from torchvision.datasets import ImageFolder\n",
    "from torchvision import transforms\n"
   ]
  },
  {
   "cell_type": "code",
   "execution_count": 5,
   "metadata": {},
   "outputs": [],
   "source": [
    "class DownSizedPairImageFolder(ImageFolder):\n",
    "    def __init__(self, root, transform=None, \n",
    "                 large_size=128, small_size=32, **kwds):\n",
    "        super().__init__(root, transform=transform, **kwds)\n",
    "        self.large_resizer = transforms.Resize(large_size)\n",
    "        self.small_resizer = transforms.Resize(small_size)\n",
    "        \n",
    "    def __getitem__(self, index):\n",
    "        path, _ = self.imgs[index]\n",
    "        img = self.loader(path)\n",
    "        \n",
    "        # 읽은 이미지를 128×128픽셀과 32×32픽셀로 리사이즈\n",
    "        large_img = self.large_resizer(img)\n",
    "        small_img = self.small_resizer(img)\n",
    "            \n",
    "        # 기타 변환 적용\n",
    "        if self.transform is not None:\n",
    "            large_img = self.transform(large_img)\n",
    "            small_img = self.transform(small_img)\n",
    "        \n",
    "        # 32픽셀의 이미지와 128픽셀의 이미지 반환\n",
    "        return small_img, large_img"
   ]
  },
  {
   "cell_type": "code",
   "execution_count": 6,
   "metadata": {},
   "outputs": [],
   "source": [
    "train_data = DownSizedPairImageFolder(\n",
    "    \"../lfw-deepfunneled/train\",\n",
    "    transform=transforms.ToTensor())\n",
    "test_data = DownSizedPairImageFolder(\n",
    "    \"../lfw-deepfunneled/test\",\n",
    "    transform=transforms.ToTensor())\n",
    "batch_size = 32\n",
    "train_loader = DataLoader(train_data, batch_size=batch_size, \n",
    "                          shuffle=True, num_workers=16)\n",
    "test_loader = DataLoader(test_data, batch_size=batch_size,\n",
    "                         shuffle=False, num_workers=16)"
   ]
  },
  {
   "cell_type": "code",
   "execution_count": 8,
   "metadata": {},
   "outputs": [],
   "source": [
    "net = nn.Sequential(\n",
    "    nn.Conv2d(3, 256, 4,\n",
    "              stride=2, padding=1),\n",
    "    nn.ReLU(),\n",
    "    nn.BatchNorm2d(256),\n",
    "    nn.Conv2d(256, 512, 4,\n",
    "              stride=2, padding=1),\n",
    "    nn.ReLU(),\n",
    "    nn.BatchNorm2d(512),\n",
    "    nn.ConvTranspose2d(512, 256, 4,\n",
    "                       stride=2, padding=1),\n",
    "    nn.ReLU(),\n",
    "    nn.BatchNorm2d(256),\n",
    "    nn.ConvTranspose2d(256, 128, 4,\n",
    "                       stride=2, padding=1),\n",
    "    nn.ReLU(),\n",
    "    nn.BatchNorm2d(128),\n",
    "    nn.ConvTranspose2d(128, 64, 4,\n",
    "                       stride=2, padding=1),\n",
    "    nn.ReLU(),\n",
    "    nn.BatchNorm2d(64),\n",
    "    nn.ConvTranspose2d(64, 3, 4,\n",
    "                       stride=2, padding=1)\n",
    ")"
   ]
  }
 ],
 "metadata": {
  "interpreter": {
   "hash": "916dbcbb3f70747c44a77c7bcd40155683ae19c65e1c03b4aa3499c5328201f1"
  },
  "kernelspec": {
   "display_name": "Python 3.8.10 64-bit",
   "language": "python",
   "name": "python3"
  },
  "language_info": {
   "codemirror_mode": {
    "name": "ipython",
    "version": 3
   },
   "file_extension": ".py",
   "mimetype": "text/x-python",
   "name": "python",
   "nbconvert_exporter": "python",
   "pygments_lexer": "ipython3",
   "version": "3.8.10"
  },
  "orig_nbformat": 4
 },
 "nbformat": 4,
 "nbformat_minor": 2
}
