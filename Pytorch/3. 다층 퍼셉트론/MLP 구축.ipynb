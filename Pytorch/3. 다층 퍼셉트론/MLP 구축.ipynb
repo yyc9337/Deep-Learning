{
 "cells": [
  {
   "cell_type": "code",
   "execution_count": 1,
   "metadata": {
    "collapsed": true,
    "pycharm": {
     "name": "#%%\n"
    }
   },
   "outputs": [
    {
     "name": "stdout",
     "output_type": "stream",
     "text": [
      "\u001B[31mERROR: torch-1.0.0-cp36-cp36m-linux_x86_64.whl is not a supported wheel on this platform.\u001B[0m\r\n",
      "Collecting torchvision\r\n",
      "  Using cached torchvision-0.12.0-cp38-cp38-macosx_10_9_x86_64.whl (1.3 MB)\r\n",
      "Requirement already satisfied: numpy in /Users/aidev_yyc_mac/opt/anaconda3/envs/mario/lib/python3.8/site-packages (from torchvision) (1.22.3)\r\n",
      "Requirement already satisfied: typing-extensions in /Users/aidev_yyc_mac/opt/anaconda3/envs/mario/lib/python3.8/site-packages (from torchvision) (4.1.1)\r\n",
      "Requirement already satisfied: requests in /Users/aidev_yyc_mac/opt/anaconda3/envs/mario/lib/python3.8/site-packages (from torchvision) (2.27.1)\r\n",
      "Collecting torch==1.11.0\r\n",
      "  Using cached torch-1.11.0-cp38-none-macosx_10_9_x86_64.whl (129.9 MB)\r\n",
      "Requirement already satisfied: pillow!=8.3.*,>=5.3.0 in /Users/aidev_yyc_mac/opt/anaconda3/envs/mario/lib/python3.8/site-packages (from torchvision) (9.1.1)\r\n",
      "Requirement already satisfied: certifi>=2017.4.17 in /Users/aidev_yyc_mac/opt/anaconda3/envs/mario/lib/python3.8/site-packages (from requests->torchvision) (2022.5.18.1)\r\n",
      "Requirement already satisfied: idna<4,>=2.5 in /Users/aidev_yyc_mac/opt/anaconda3/envs/mario/lib/python3.8/site-packages (from requests->torchvision) (3.3)\r\n",
      "Requirement already satisfied: urllib3<1.27,>=1.21.1 in /Users/aidev_yyc_mac/opt/anaconda3/envs/mario/lib/python3.8/site-packages (from requests->torchvision) (1.26.9)\r\n",
      "Requirement already satisfied: charset-normalizer~=2.0.0 in /Users/aidev_yyc_mac/opt/anaconda3/envs/mario/lib/python3.8/site-packages (from requests->torchvision) (2.0.4)\r\n",
      "Installing collected packages: torch, torchvision\r\n",
      "  Attempting uninstall: torch\r\n",
      "    Found existing installation: torch 1.10.2\r\n",
      "    Uninstalling torch-1.10.2:\r\n",
      "      Successfully uninstalled torch-1.10.2\r\n",
      "Successfully installed torch-1.11.0 torchvision-0.12.0\r\n",
      "Requirement already satisfied: tqdm in /Users/aidev_yyc_mac/opt/anaconda3/envs/mario/lib/python3.8/site-packages (4.64.0)\r\n"
     ]
    }
   ],
   "source": [
    "# !pip install http://download.pytorch.org/whl/cu90/torch-1.0.0-cp36-cp36m-linux_x86_64.whl\n",
    "# !pip install torchvision\n",
    "# !pip install tqdm"
   ]
  },
  {
   "cell_type": "code",
   "execution_count": null,
   "outputs": [],
   "source": [],
   "metadata": {
    "collapsed": false,
    "pycharm": {
     "name": "#%%\n"
    }
   }
  }
 ],
 "metadata": {
  "kernelspec": {
   "display_name": "Python 3",
   "language": "python",
   "name": "python3"
  },
  "language_info": {
   "codemirror_mode": {
    "name": "ipython",
    "version": 2
   },
   "file_extension": ".py",
   "mimetype": "text/x-python",
   "name": "python",
   "nbconvert_exporter": "python",
   "pygments_lexer": "ipython2",
   "version": "2.7.6"
  }
 },
 "nbformat": 4,
 "nbformat_minor": 0
}