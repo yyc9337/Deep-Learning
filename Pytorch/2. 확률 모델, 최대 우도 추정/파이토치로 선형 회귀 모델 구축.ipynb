{
 "cells": [
  {
   "cell_type": "code",
   "execution_count": 1,
   "metadata": {
    "collapsed": true,
    "pycharm": {
     "name": "#%%\n"
    }
   },
   "outputs": [],
   "source": [
    "import torch"
   ]
  },
  {
   "cell_type": "code",
   "execution_count": 2,
   "outputs": [],
   "source": [
    "# 참의 계수\n",
    "w_true = torch.Tensor([1, 2, 3])\n",
    "\n",
    "# X 데이터 준비. 절편을 회귀 계수에 포함시키기 위해\n",
    "# X의 최초 차원에 1을 추가해둔다\n",
    "X = torch.cat([torch.ones(100, 1), torch.randn(100, 2)], 1)\n",
    "\n",
    "# 참의 게수와 각 X의 내적을 행렬과 벡터의 곱으로 모아서 계산\n",
    "y = torch.mv(X, w_true) + torch.randn(100) * 0.5\n",
    "\n",
    "# 기울기 하강으로 최적화하기 위해 파라미터 Tensor를\n",
    "# 난수로 초기화해서 생성\n",
    "w = torch.randn(3, requires_grad=True)\n",
    "\n",
    "# 학습률\n",
    "gamma = 0.1"
   ],
   "metadata": {
    "collapsed": false,
    "pycharm": {
     "name": "#%%\n"
    }
   }
  }
 ],
 "metadata": {
  "kernelspec": {
   "display_name": "Python 3",
   "language": "python",
   "name": "python3"
  },
  "language_info": {
   "codemirror_mode": {
    "name": "ipython",
    "version": 2
   },
   "file_extension": ".py",
   "mimetype": "text/x-python",
   "name": "python",
   "nbconvert_exporter": "python",
   "pygments_lexer": "ipython2",
   "version": "2.7.6"
  }
 },
 "nbformat": 4,
 "nbformat_minor": 0
}