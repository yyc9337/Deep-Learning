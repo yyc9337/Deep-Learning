{
 "cells": [
  {
   "cell_type": "code",
   "execution_count": 13,
   "metadata": {
    "collapsed": true,
    "pycharm": {
     "name": "#%%\n"
    }
   },
   "outputs": [],
   "source": [
    "import torch"
   ]
  },
  {
   "cell_type": "code",
   "execution_count": 14,
   "outputs": [],
   "source": [
    "import torch\n",
    "\n",
    "# 참의 계수\n",
    "w_true = torch.Tensor([1, 2, 3])\n",
    "\n",
    "# X 데이터 준비. 절편을 회귀 계수에 포함시키기 위해\n",
    "# X의 최초 차원에 1을 추가해둔다\n",
    "X = torch.cat([torch.ones(100, 1), torch.randn(100, 2)], 1)\n",
    "\n",
    "# 참의 게수와 각 X의 내적을 행렬과 벡터의 곱으로 모아서 계산\n",
    "y = torch.mv(X, w_true) + torch.randn(100) * 0.5\n",
    "\n",
    "# 기울기 하강으로 최적화하기 위해 파라미터 Tensor를\n",
    "# 난수로 초기화해서 생성\n",
    "w = torch.randn(3, requires_grad=True)\n",
    "\n",
    "# 학습률\n",
    "gamma = 0.1"
   ],
   "metadata": {
    "collapsed": false,
    "pycharm": {
     "name": "#%%\n"
    }
   }
  },
  {
   "cell_type": "code",
   "execution_count": 15,
   "outputs": [],
   "source": [
    "# 경사 하강법으로 파라미터를 최적화함\n",
    "\n",
    "# 손실 함수의 로그\n",
    "losses = []\n",
    "\n",
    "# 100회 반복\n",
    "for epoc in range(100):\n",
    "    # 전회의 backward 메서드로 계산된 경사 값을 초기화\n",
    "    w.grad = None\n",
    "\n",
    "    # 선형 모델으로 y 예측 값을 계산\n",
    "    y_pred = torch.mv(X, w)\n",
    "\n",
    "    # MSE loss와 w에 의한 미분을 계산\n",
    "    loss = torch.mean((y - y_pred)**2)\n",
    "    loss.backward()\n",
    "\n",
    "    # 경사를 갱신한다\n",
    "    # w를 그대로 대입해서 갱신하면 다른 Tensor가 돼서\n",
    "    # 계산 그래프가 망가진다. 따라서 data만 갱신한다\n",
    "    w.data = w.data - gamma * w.grad.data\n",
    "\n",
    "    # 수렴 확인을 위한 loss를 기록해둔다\n",
    "    losses.append(loss.item())"
   ],
   "metadata": {
    "collapsed": false,
    "pycharm": {
     "name": "#%%\n"
    }
   }
  },
  {
   "cell_type": "code",
   "execution_count": 16,
   "outputs": [
    {
     "data": {
      "text/plain": "[<matplotlib.lines.Line2D at 0x7f9952a0c310>]"
     },
     "execution_count": 16,
     "metadata": {},
     "output_type": "execute_result"
    },
    {
     "data": {
      "text/plain": "<Figure size 432x288 with 1 Axes>",
      "image/png": "[encoded data removed]"
     },
     "metadata": {
      "needs_background": "light"
     },
     "output_type": "display_data"
    }
   ],
   "source": [
    "%matplotlib inline\n",
    "from matplotlib import pyplot as plt\n",
    "plt.plot(losses)"
   ],
   "metadata": {
    "collapsed": false,
    "pycharm": {
     "name": "#%%\n"
    }
   }
  },
  {
   "cell_type": "code",
   "execution_count": 17,
   "outputs": [],
   "source": [
    "from torch import nn, optim\n",
    "from sklearn.datasets import load_iris\n",
    "iris = load_iris()\n",
    "\n",
    "# iris는 (0,1,2)의 세 개 클래스를 분류하는 문제이므로\n",
    "# (0,1)의 두 개 클래스 데이터만 사용한다\n",
    "# 원래는 교육용과 테스트용으로 나누어야 하지만 여기선 생략한다\n",
    "X = iris.data[:100]\n",
    "y = iris.target[:100]\n",
    "\n",
    "# NumPy의 ndarray를 PyTorch의 Tensor로 변환\n",
    "X = torch.tensor(X, dtype=torch.float32)\n",
    "y = torch.tensor(y, dtype=torch.float32)"
   ],
   "metadata": {
    "collapsed": false,
    "pycharm": {
     "name": "#%%\n"
    }
   }
  },
  {
   "cell_type": "code",
   "execution_count": 18,
   "outputs": [
    {
     "data": {
      "text/plain": "tensor([0.9961, 2.0450, 2.9749], requires_grad=True)"
     },
     "execution_count": 18,
     "metadata": {},
     "output_type": "execute_result"
    }
   ],
   "source": [
    "w"
   ],
   "metadata": {
    "collapsed": false,
    "pycharm": {
     "name": "#%%\n"
    }
   }
  },
  {
   "cell_type": "markdown",
   "source": [
    "##### PyTorch : nn\n",
    " 연산 그래프와 자동미분은 복잡한 연산을 정의하고 자동으로 미분을 하기 위한 강력한 패러다임입니다.\n",
    "\n",
    "---------------------------------------------------------------------------------------------------------------\n",
    "##### PyTorch: optim\n",
    "지금까지는 torch.no_grad() 로 학습 가능한 매개변수를 갖는 텐서들을 직접 조작하여 모델의 가중치(weight)를 갱신하였습니다. 이것은 확률적 경사하강법(SGD; stochastic gradient descent)와 같은 간단한 최적화 알고리즘에서는 크게 부담이 되지 않지만, 실제로 신경망을 학습할 때는 AdaGrad, RMSProp, Adam 등과 같은 더 정교한 옵티마이저(optimizer)를 사용하곤 합니다."
   ],
   "metadata": {
    "collapsed": false,
    "pycharm": {
     "name": "#%% md\n"
    }
   }
  },
  {
   "cell_type": "code",
   "execution_count": 29,
   "outputs": [],
   "source": [
    "import torch\n",
    "\n",
    "# 참의 계수\n",
    "w_true = torch.Tensor([1, 2, 3])\n",
    "\n",
    "# X 데이터 준비. 절편을 회귀 계수에 포함시키기 위해\n",
    "# X의 최초 차원에 1을 추가해둔다\n",
    "X = torch.cat([torch.ones(100, 1), torch.randn(100, 2)], 1)\n",
    "\n",
    "# 참의 게수와 각 X의 내적을 행렬과 벡터의 곱으로 모아서 계산\n",
    "y = torch.mv(X, w_true) + torch.randn(100) * 0.5\n",
    "\n",
    "# 기울기 하강으로 최적화하기 위해 파라미터 Tensor를\n",
    "# 난수로 초기화해서 생성\n",
    "w = torch.randn(3, requires_grad=True)\n",
    "\n",
    "# 학습률\n",
    "gamma = 0.1"
   ],
   "metadata": {
    "collapsed": false,
    "pycharm": {
     "name": "#%%\n"
    }
   }
  },
  {
   "cell_type": "markdown",
   "source": [
    "#### 최적화 루프"
   ],
   "metadata": {
    "collapsed": false,
    "pycharm": {
     "name": "#%% md\n"
    }
   }
  },
  {
   "cell_type": "code",
   "execution_count": 30,
   "outputs": [],
   "source": [
    "# 손실 함수 로그\n",
    "losses = []\n",
    "\n",
    "# 100회 반복\n",
    "for epoc in range(100):\n",
    "     # 전회의 backward 메서드로 계산된 경사 값을 초기화\n",
    "    optimizer.zero_grad()\n",
    "\n",
    "    # 선형 모델으로 y 예측 값을 계산\n",
    "    y_pred = net(X)\n",
    "\n",
    "    # MSE loss 계산\n",
    "    # y_pred는 (n,1)과 같은 shape를 지니고 있으므로 (n,)으로 변경할 필요가 있다\n",
    "    loss = loss_fn(y_pred.view_as(y), y)\n",
    "\n",
    "    # loss의 w를 사용한 미분 계산\n",
    "    loss.backward()\n",
    "\n",
    "    # 경사를 갱신한다\n",
    "    optimizer.step()\n",
    "\n",
    "    # 수렴 확인을 위한 loss를 기록해둔다\n",
    "    losses.append(loss.item())"
   ],
   "metadata": {
    "collapsed": false,
    "pycharm": {
     "name": "#%%\n"
    }
   }
  },
  {
   "cell_type": "code",
   "execution_count": 31,
   "outputs": [
    {
     "data": {
      "text/plain": "[Parameter containing:\n tensor([[0.9856, 1.9051, 3.0160]], requires_grad=True)]"
     },
     "execution_count": 31,
     "metadata": {},
     "output_type": "execute_result"
    }
   ],
   "source": [
    "list(net.parameters())"
   ],
   "metadata": {
    "collapsed": false,
    "pycharm": {
     "name": "#%%\n"
    }
   }
  },
  {
   "cell_type": "code",
   "execution_count": 32,
   "outputs": [],
   "source": [
    "from torch import nn, optim\n",
    "\n",
    "# Linear층을 작성. 이번에는 절편은 회귀 계수에 포함하므로\n",
    "# 입력 차원을 3으로 하고 bias(절편)을 False로 한다\n",
    "net = nn.Linear(in_features=3, out_features=1, bias=False)\n",
    "\n",
    "# SGD의 optimizer상에서 정의한 네트워크의\n",
    "# 파라미터를 전달해서 초기화\n",
    "optimizer = optim.SGD(net.parameters(), lr=0.1)\n",
    "\n",
    "# MSE loss클래스\n",
    "loss_fn = nn.MSELoss()"
   ],
   "metadata": {
    "collapsed": false,
    "pycharm": {
     "name": "#%%\n"
    }
   }
  },
  {
   "cell_type": "markdown",
   "source": [
    "## iris 데이터에 적용"
   ],
   "metadata": {
    "collapsed": false,
    "pycharm": {
     "name": "#%% md\n"
    }
   }
  },
  {
   "cell_type": "code",
   "execution_count": 33,
   "outputs": [],
   "source": [
    "from torch import nn, optim\n",
    "from sklearn.datasets import load_iris\n",
    "iris = load_iris()\n",
    "\n",
    "# iris는 (0,1,2)의 세 개 클래스를 분류하는 문제이므로\n",
    "# (0,1)의 두 개 클래스 데이터만 사용한다\n",
    "# 원래는 교육용과 테스트용으로 나누어야 하지만 여기선 생략한다\n",
    "X = iris.data[:100]\n",
    "y = iris.target[:100]\n",
    "\n",
    "# NumPy의 ndarray를 PyTorch의 Tensor로 변환\n",
    "X = torch.tensor(X, dtype=torch.float32)\n",
    "y = torch.tensor(y, dtype=torch.float32)"
   ],
   "metadata": {
    "collapsed": false,
    "pycharm": {
     "name": "#%%\n"
    }
   }
  },
  {
   "cell_type": "code",
   "execution_count": 34,
   "outputs": [],
   "source": [
    "# iris 데이터는 4차원\n",
    "net = nn.Linear(4, 1)\n",
    "\n",
    "# 시그모이드 함수를 적용해서 두 클래스의 분류를 위한\n",
    "# 크로스 엔트로비를 계산\n",
    "loss_fn = nn.BCEWithLogitsLoss()\n",
    "\n",
    "# SGD(약간 큰 학습률)\n",
    "optimizer = optim.SGD(net.parameters(), lr=0.25)"
   ],
   "metadata": {
    "collapsed": false,
    "pycharm": {
     "name": "#%%\n"
    }
   }
  },
  {
   "cell_type": "code",
   "execution_count": 35,
   "outputs": [],
   "source": [
    "# 손실 함수 로그\n",
    "losses = []\n",
    "\n",
    "# 100회 반복\n",
    "for epoc in range(100):\n",
    "     # 전회의 backward 메서드로 계산된 경사 값을 초기화\n",
    "    optimizer.zero_grad()\n",
    "\n",
    "    # 선형 모델으로 y 예측 값을 계산\n",
    "    y_pred = net(X)\n",
    "\n",
    "    # MSE loss 미분 계산\n",
    "    loss = loss_fn(y_pred.view_as(y), y)\n",
    "    loss.backward()\n",
    "\n",
    "    # 경사를 갱신한다\n",
    "    optimizer.step()\n",
    "\n",
    "    # 수렴 확인을 위한 loss를 기록해둔다\n",
    "    losses.append(loss.item())"
   ],
   "metadata": {
    "collapsed": false,
    "pycharm": {
     "name": "#%%\n"
    }
   }
  },
  {
   "cell_type": "code",
   "execution_count": 36,
   "outputs": [
    {
     "data": {
      "text/plain": "[<matplotlib.lines.Line2D at 0x7f99215a8bb0>]"
     },
     "execution_count": 36,
     "metadata": {},
     "output_type": "execute_result"
    },
    {
     "data": {
      "text/plain": "<Figure size 432x288 with 1 Axes>",
      "image/png": "[encoded data removed]"
     },
     "metadata": {
      "needs_background": "light"
     },
     "output_type": "display_data"
    }
   ],
   "source": [
    "%matplotlib inline\n",
    "from matplotlib import pyplot as plt\n",
    "plt.plot(losses)"
   ],
   "metadata": {
    "collapsed": false,
    "pycharm": {
     "name": "#%%\n"
    }
   }
  },
  {
   "cell_type": "code",
   "execution_count": 37,
   "outputs": [
    {
     "name": "stderr",
     "output_type": "stream",
     "text": [
      "/Users/aidev_yyc_mac/opt/anaconda3/envs/mario/lib/python3.8/site-packages/torch/nn/functional.py:1806: UserWarning: nn.functional.sigmoid is deprecated. Use torch.sigmoid instead.\n",
      "  warnings.warn(\"nn.functional.sigmoid is deprecated. Use torch.sigmoid instead.\")\n"
     ]
    },
    {
     "data": {
      "text/plain": "100"
     },
     "execution_count": 37,
     "metadata": {},
     "output_type": "execute_result"
    }
   ],
   "source": [
    "# 선형 결합의 결과\n",
    "h = net(X)\n",
    "\n",
    "# 시그모이드 함수를 적용한 결과는 y=1의 확률을 보여준다\n",
    "prob = nn.functional.sigmoid(h)\n",
    "\n",
    "# 확률이 0.5이상인 것을 클래스1로 예측하고 그외는 0으로 한다\n",
    "# PyTorch에는 Bool형이 없으므로 ByteTensor가 출력된다.\n",
    "y_pred = prob > 0.5\n",
    "\n",
    "# 예측 결과 확인 (yはFloatTensor이므로 ByteTensor로\n",
    "# 로 변환한 후에 비교）\n",
    "(y.byte() == y_pred.view_as(y)).sum().item()"
   ],
   "metadata": {
    "collapsed": false,
    "pycharm": {
     "name": "#%%\n"
    }
   }
  }
 ],
 "metadata": {
  "kernelspec": {
   "display_name": "Python 3",
   "language": "python",
   "name": "python3"
  },
  "language_info": {
   "codemirror_mode": {
    "name": "ipython",
    "version": 2
   },
   "file_extension": ".py",
   "mimetype": "text/x-python",
   "name": "python",
   "nbconvert_exporter": "python",
   "pygments_lexer": "ipython2",
   "version": "2.7.6"
  }
 },
 "nbformat": 4,
 "nbformat_minor": 0
}