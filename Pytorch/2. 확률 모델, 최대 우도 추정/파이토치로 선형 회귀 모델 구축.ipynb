{
 "cells": [
  {
   "cell_type": "code",
   "execution_count": 1,
   "metadata": {
    "collapsed": true,
    "pycharm": {
     "name": "#%%\n"
    }
   },
   "outputs": [],
   "source": [
    "import torch"
   ]
  },
  {
   "cell_type": "code",
   "execution_count": 5,
   "outputs": [
    {
     "name": "stdout",
     "output_type": "stream",
     "text": [
      "torch.Size([100, 3])\n",
      "tensor([[ 1.0000e+00,  5.5609e-01, -1.5375e+00],\n",
      "        [ 1.0000e+00, -1.2314e+00, -9.9154e-01],\n",
      "        [ 1.0000e+00, -2.7964e+00, -9.4070e-01],\n",
      "        [ 1.0000e+00,  3.5730e-01, -5.0498e-01],\n",
      "        [ 1.0000e+00, -4.2531e-01, -1.0912e+00],\n",
      "        [ 1.0000e+00, -1.2813e+00, -8.6639e-01],\n",
      "        [ 1.0000e+00, -4.4702e-01, -4.7861e-01],\n",
      "        [ 1.0000e+00,  1.1560e+00,  3.8665e-01],\n",
      "        [ 1.0000e+00,  9.0758e-01, -2.9635e+00],\n",
      "        [ 1.0000e+00, -8.3751e-01, -1.7222e+00],\n",
      "        [ 1.0000e+00, -4.7986e-01,  7.5200e-01],\n",
      "        [ 1.0000e+00,  2.7226e-01, -1.1089e+00],\n",
      "        [ 1.0000e+00,  5.9119e-01,  1.7951e+00],\n",
      "        [ 1.0000e+00,  1.3757e-01, -3.1938e-01],\n",
      "        [ 1.0000e+00, -1.2993e+00, -4.1220e-01],\n",
      "        [ 1.0000e+00,  5.8324e-01, -9.8663e-01],\n",
      "        [ 1.0000e+00, -3.8566e-01,  6.8396e-02],\n",
      "        [ 1.0000e+00, -1.5530e+00,  8.0095e-01],\n",
      "        [ 1.0000e+00, -7.6287e-01, -7.1007e-02],\n",
      "        [ 1.0000e+00, -7.7926e-01,  2.7481e-01],\n",
      "        [ 1.0000e+00,  7.5981e-01,  3.1750e-01],\n",
      "        [ 1.0000e+00,  1.2737e+00, -9.6713e-01],\n",
      "        [ 1.0000e+00, -2.1264e+00, -1.9564e+00],\n",
      "        [ 1.0000e+00,  1.4102e+00, -1.3214e+00],\n",
      "        [ 1.0000e+00, -1.2503e-01,  1.0429e+00],\n",
      "        [ 1.0000e+00, -1.3069e-01,  1.0785e-01],\n",
      "        [ 1.0000e+00,  6.0509e-01, -1.5075e+00],\n",
      "        [ 1.0000e+00, -3.2773e-01,  2.3772e+00],\n",
      "        [ 1.0000e+00,  3.0123e-02, -8.0870e-01],\n",
      "        [ 1.0000e+00, -6.1175e-01, -3.7990e-01],\n",
      "        [ 1.0000e+00, -2.8338e-01,  9.3694e-02],\n",
      "        [ 1.0000e+00,  1.1765e+00,  9.3078e-01],\n",
      "        [ 1.0000e+00,  1.5608e+00, -2.3132e+00],\n",
      "        [ 1.0000e+00, -2.0307e+00, -1.4856e-01],\n",
      "        [ 1.0000e+00,  1.2716e+00,  3.8543e-02],\n",
      "        [ 1.0000e+00,  6.4961e-01, -1.0396e+00],\n",
      "        [ 1.0000e+00,  2.1017e+00,  2.5440e-01],\n",
      "        [ 1.0000e+00,  8.2201e-02, -1.3112e+00],\n",
      "        [ 1.0000e+00,  2.0477e+00, -7.1776e-01],\n",
      "        [ 1.0000e+00, -2.8305e-01, -7.0577e-01],\n",
      "        [ 1.0000e+00, -4.4528e-01,  6.1860e-01],\n",
      "        [ 1.0000e+00,  1.6128e-01,  9.5332e-01],\n",
      "        [ 1.0000e+00,  1.2269e+00,  7.8400e-02],\n",
      "        [ 1.0000e+00,  9.8114e-01,  7.7302e-01],\n",
      "        [ 1.0000e+00,  2.9003e+00, -1.0616e+00],\n",
      "        [ 1.0000e+00,  1.1393e+00, -3.5901e-01],\n",
      "        [ 1.0000e+00, -1.0493e+00,  1.4498e+00],\n",
      "        [ 1.0000e+00, -1.8339e+00, -4.8996e-01],\n",
      "        [ 1.0000e+00,  1.1551e+00,  9.6004e-01],\n",
      "        [ 1.0000e+00, -7.0730e-01,  2.5054e-02],\n",
      "        [ 1.0000e+00, -2.2229e-01, -2.5911e+00],\n",
      "        [ 1.0000e+00, -6.5796e-01, -1.0512e+00],\n",
      "        [ 1.0000e+00, -1.9396e+00, -1.0443e-01],\n",
      "        [ 1.0000e+00,  2.3125e-01,  1.8442e-01],\n",
      "        [ 1.0000e+00,  5.2289e-01,  1.2945e-01],\n",
      "        [ 1.0000e+00,  6.9433e-01, -6.7694e-02],\n",
      "        [ 1.0000e+00,  4.6849e-01,  4.3620e-01],\n",
      "        [ 1.0000e+00,  1.7965e+00, -4.0177e-01],\n",
      "        [ 1.0000e+00,  6.7494e-01,  1.5133e+00],\n",
      "        [ 1.0000e+00,  2.4406e-02, -3.8224e-01],\n",
      "        [ 1.0000e+00, -7.2531e-01, -7.0895e-01],\n",
      "        [ 1.0000e+00,  4.8258e-01,  7.6548e-01],\n",
      "        [ 1.0000e+00,  1.8247e+00, -1.2147e-01],\n",
      "        [ 1.0000e+00, -8.8959e-01,  3.6677e-01],\n",
      "        [ 1.0000e+00,  1.4647e-01, -9.4442e-01],\n",
      "        [ 1.0000e+00,  7.1850e-01,  1.8042e-01],\n",
      "        [ 1.0000e+00, -1.6572e-01, -9.6594e-02],\n",
      "        [ 1.0000e+00, -2.3605e-01, -7.0023e-01],\n",
      "        [ 1.0000e+00, -4.8263e-01, -4.1016e-01],\n",
      "        [ 1.0000e+00,  4.3804e-01,  6.7467e-01],\n",
      "        [ 1.0000e+00, -1.1135e+00,  1.4646e+00],\n",
      "        [ 1.0000e+00,  9.0726e-01, -1.1083e+00],\n",
      "        [ 1.0000e+00,  3.5909e-01, -5.7257e-01],\n",
      "        [ 1.0000e+00, -8.4142e-01, -4.9044e-01],\n",
      "        [ 1.0000e+00,  3.1832e-01, -7.0325e-01],\n",
      "        [ 1.0000e+00, -9.0370e-01,  1.2616e-02],\n",
      "        [ 1.0000e+00,  1.7379e-01,  5.8967e-01],\n",
      "        [ 1.0000e+00, -7.5135e-01,  3.8892e-01],\n",
      "        [ 1.0000e+00, -7.0162e-01,  1.2746e+00],\n",
      "        [ 1.0000e+00, -2.1563e-01,  1.5094e+00],\n",
      "        [ 1.0000e+00, -1.4315e-01,  1.4212e+00],\n",
      "        [ 1.0000e+00, -4.2207e-01,  1.9697e+00],\n",
      "        [ 1.0000e+00, -4.9463e-01, -3.1957e-01],\n",
      "        [ 1.0000e+00, -6.2226e-01,  1.5483e+00],\n",
      "        [ 1.0000e+00,  3.6568e-01,  3.0043e-01],\n",
      "        [ 1.0000e+00,  9.5684e-02,  1.0779e+00],\n",
      "        [ 1.0000e+00,  6.6035e-01, -4.5507e-01],\n",
      "        [ 1.0000e+00,  9.3412e-01, -6.4470e-01],\n",
      "        [ 1.0000e+00,  6.2158e-01,  3.9638e-01],\n",
      "        [ 1.0000e+00, -1.1642e+00, -5.7707e-02],\n",
      "        [ 1.0000e+00, -7.3619e-01,  1.7212e+00],\n",
      "        [ 1.0000e+00, -6.8959e-01, -1.2223e+00],\n",
      "        [ 1.0000e+00,  5.1762e-01,  7.9366e-01],\n",
      "        [ 1.0000e+00, -9.2955e-01,  7.8061e-02],\n",
      "        [ 1.0000e+00, -4.5467e-01, -4.7707e-03],\n",
      "        [ 1.0000e+00,  3.8990e-01, -3.3476e-01],\n",
      "        [ 1.0000e+00, -2.0847e+00,  6.4474e-01],\n",
      "        [ 1.0000e+00,  5.7755e-01, -2.0827e-01],\n",
      "        [ 1.0000e+00, -5.0930e-01,  1.1895e+00],\n",
      "        [ 1.0000e+00, -5.6234e-04,  3.5777e-01]])\n"
     ]
    }
   ],
   "source": [
    "# 참의 계수\n",
    "w_true = torch.Tensor([1, 2, 3])\n",
    "\n",
    "# X 데이터 준비. 절편을 회귀 계수에 포함시키기 위해\n",
    "# X의 최초 차원에 1을 추가해둔다\n",
    "X = torch.cat([torch.ones(100, 1), torch.randn(100, 2)], 1)\n",
    "\n",
    "\n",
    "# 참의 게수와 각 X의 내적을 행렬과 벡터의 곱으로 모아서 계산\n",
    "y = torch.mv(X, w_true) + torch.randn(100) * 0.5\n",
    "\n",
    "# 기울기 하강으로 최적화하기 위해 파라미터 Tensor를\n",
    "# 난수로 초기화해서 생성\n",
    "w = torch.randn(3, requires_grad=True)\n",
    "\n",
    "# 학습률\n",
    "gamma = 0.1"
   ],
   "metadata": {
    "collapsed": false,
    "pycharm": {
     "name": "#%%\n"
    }
   }
  },
  {
   "cell_type": "code",
   "execution_count": 9,
   "outputs": [],
   "source": [
    "# 손실 함수의 로그\n",
    "losses = []\n",
    "\n",
    "# 100회 반복\n",
    "for epoc in range(100):\n",
    "    # 전회의 backward 메서드로 계산된 경사 값을 초기화\n",
    "    w.grad = None\n",
    "\n",
    "    # 선형 모델으로 y 예측 값을 계산\n",
    "    y_pred = torch.mv(X, w)\n",
    "\n",
    "    # MSE loss와 w에 의한 미분을 계산\n",
    "    loss = torch.mean((y - y_pred)**2)\n",
    "    loss.backward()\n",
    "\n",
    "    # 경사를 갱신한다\n",
    "    # w를 그대로 대입해서 갱신하면 다른 Tensor가 돼서\n",
    "    # 계산 그래프가 망가진다. 따라서 data만 갱신한다\n",
    "    w.data = w.data - gamma * w.grad.data\n",
    "\n",
    "    # 수렴 확인을 위한 loss를 기록해둔다\n",
    "    losses.append(loss.item())"
   ],
   "metadata": {
    "collapsed": false,
    "pycharm": {
     "name": "#%%\n"
    }
   }
  },
  {
   "cell_type": "code",
   "execution_count": 10,
   "outputs": [
    {
     "data": {
      "text/plain": "[<matplotlib.lines.Line2D at 0x7fb9d0cfd760>]"
     },
     "execution_count": 10,
     "metadata": {},
     "output_type": "execute_result"
    },
    {
     "data": {
      "text/plain": "<Figure size 432x288 with 1 Axes>",
      "image/png": "[encoded data removed]"
     },
     "metadata": {
      "needs_background": "light"
     },
     "output_type": "display_data"
    }
   ],
   "source": [
    "%matplotlib inline\n",
    "from matplotlib import pyplot as plt\n",
    "plt.plot(losses)"
   ],
   "metadata": {
    "collapsed": false,
    "pycharm": {
     "name": "#%%\n"
    }
   }
  }
 ],
 "metadata": {
  "kernelspec": {
   "display_name": "Python 3",
   "language": "python",
   "name": "python3"
  },
  "language_info": {
   "codemirror_mode": {
    "name": "ipython",
    "version": 2
   },
   "file_extension": ".py",
   "mimetype": "text/x-python",
   "name": "python",
   "nbconvert_exporter": "python",
   "pygments_lexer": "ipython2",
   "version": "2.7.6"
  }
 },
 "nbformat": 4,
 "nbformat_minor": 0
}