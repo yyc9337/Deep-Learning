{
 "cells": [
  {
   "cell_type": "code",
   "execution_count": 4,
   "metadata": {},
   "outputs": [],
   "source": [
    "# !wget http://ai.stanford.edu/~amaas/data/sentiment/aclImdb_v1.tar.gz\n",
    "# !tar xf aclImdb_v1.tar.gz"
   ]
  },
  {
   "cell_type": "code",
   "execution_count": 5,
   "metadata": {},
   "outputs": [],
   "source": [
    "import glob\n",
    "import pathlib\n",
    "import re\n",
    "\n",
    "remove_marks_regex = re.compile(\"[,\\.\\(\\)\\[\\]\\*:;]|<.*?>\")\n",
    "shift_marks_regex = re.compile(\"([?!])\")\n",
    "\n",
    "def text2ids(text, vocab_dict):\n",
    "    # !? 이외의 기호 삭제\n",
    "    text = remove_marks_regex.sub(\"\", text)\n",
    "    # !?와 단어 사이에 공백 삽입\n",
    "    text = shift_marks_regex.sub(r\" \\1 \", text)\n",
    "    tokens = text.split()\n",
    "    return [vocab_dict.get(token, 0) for token in tokens]\n",
    "\n",
    "def list2tensor(token_idxes, max_len=100, padding=True):\n",
    "    if len(token_idxes) > max_len:\n",
    "        token_idxes = token_idxes[:max_len]\n",
    "    n_tokens = len(token_idxes)\n",
    "    if padding:\n",
    "        token_idxes = token_idxes \\\n",
    "            + [0] * (max_len - len(token_idxes))\n",
    "    return torch.tensor(token_idxes, dtype=torch.int64), n_tokens"
   ]
  },
  {
   "cell_type": "code",
   "execution_count": 6,
   "metadata": {},
   "outputs": [],
   "source": [
    "import torch\n",
    "from torch import nn, optim\n",
    "from torch.utils.data import (Dataset, \n",
    "                              DataLoader,\n",
    "                              TensorDataset)\n",
    "import tqdm"
   ]
  },
  {
   "cell_type": "code",
   "execution_count": 7,
   "metadata": {},
   "outputs": [],
   "source": [
    "class IMDBDataset(Dataset):\n",
    "    def __init__(self, dir_path, train=True,\n",
    "                 max_len=100, padding=True):\n",
    "        self.max_len = max_len\n",
    "        self.padding = padding\n",
    "        \n",
    "        path = pathlib.Path(dir_path)\n",
    "        vocab_path = path.joinpath(\"imdb.vocab\")\n",
    "        \n",
    "        # 용어집 파일을 읽어서 행 단위로 분할\n",
    "        self.vocab_array = vocab_path.open() \\\n",
    "                            .read().strip().splitlines()\n",
    "        # 단어가 키이고 값이 ID인 dict 만들기\n",
    "        self.vocab_dict = dict((w, i+1) \\\n",
    "            for (i, w) in enumerate(self.vocab_array))\n",
    "        \n",
    "        if train:\n",
    "            target_path = path.joinpath(\"train\")\n",
    "        else:\n",
    "            target_path = path.joinpath(\"test\")\n",
    "        pos_files = sorted(glob.glob(\n",
    "            str(target_path.joinpath(\"pos/*.txt\"))))\n",
    "        neg_files = sorted(glob.glob(\n",
    "            str(target_path.joinpath(\"neg/*.txt\"))))\n",
    "        # pos는 1, neg는 0인 label을 붙여서\n",
    "        # (file_path, label)의 튜플 리스트 작성\n",
    "        self.labeled_files = \\\n",
    "            list(zip([0]*len(neg_files), neg_files )) + \\\n",
    "            list(zip([1]*len(pos_files), pos_files))\n",
    "    \n",
    "    @property\n",
    "    def vocab_size(self):\n",
    "        return len(self.vocab_array)\n",
    "    \n",
    "    def __len__(self):\n",
    "        return len(self.labeled_files)\n",
    "    \n",
    "    def __getitem__(self, idx):\n",
    "        label, f = self.labeled_files[idx]\n",
    "        # 파일의 텍스트 데이터를 읽어서 소문자로 변환\n",
    "        data = open(f).read().lower()\n",
    "        # 텍스트 데이터를 ID 리스트로 변환\n",
    "        data = text2ids(data, self.vocab_dict)\n",
    "        # ID 리스트를 Tensor로 변환\n",
    "        data, n_tokens = list2tensor(data, self.max_len, self.padding)\n",
    "        return data, label, n_tokens"
   ]
  },
  {
   "cell_type": "code",
   "execution_count": 8,
   "metadata": {},
   "outputs": [],
   "source": [
    "train_data = IMDBDataset(\"aclImdb/\")\n",
    "test_data = IMDBDataset(\"aclImdb/\", train=False)\n",
    "train_loader = DataLoader(train_data, batch_size=32,\n",
    "                          shuffle=True, num_workers=4)\n",
    "test_loader = DataLoader(test_data, batch_size=32,\n",
    "                        shuffle=False, num_workers=4)"
   ]
  },
  {
   "cell_type": "code",
   "execution_count": 12,
   "metadata": {},
   "outputs": [],
   "source": [
    "class SequenceTaggingNet(nn.Module):\n",
    "    def __init__(self, num_embeddings,\n",
    "                 embedding_dim=50, \n",
    "                 hidden_size=50,\n",
    "                 num_layers=1,\n",
    "                 dropout=0.2):\n",
    "        super().__init__()\n",
    "        self.emb = nn.Embedding(num_embeddings, embedding_dim,\n",
    "                            padding_idx=0)\n",
    "        self.lstm = nn.LSTM(embedding_dim,\n",
    "                            hidden_size, num_layers,\n",
    "                            batch_first=True, dropout=dropout)\n",
    "        self.lstm = nn.LSTM(embedding_dim,\n",
    "                            hidden_size, num_layers,\n",
    "                            batch_first=True, dropout=dropout)\n",
    "        self.linear = nn.Linear(hidden_size, 1)\n",
    "\n",
    "\n",
    "        \n",
    "        \n",
    "    def forward(self, x, h0=None, l=None):\n",
    "        # ID를 Embedding으로 다차원 벡터로 변환\n",
    "        # x는 (batch_size, step_size) \n",
    "        # -> (batch_size, step_size, embedding_dim)\n",
    "        x = self.emb(x)\n",
    "        # 초기 상태 h0와 함께 RNN에 x를 전달\n",
    "        # x는(batch_size, step_size, embedding_dim)\n",
    "        # -> (batch_size, step_size, hidden_dim)\n",
    "        x, h = self.lstm(x, h0)\n",
    "        # 마지막 단계만 추출\n",
    "        # xは(batch_size, step_size, hidden_dim)\n",
    "        # -> (batch_size, 1)\n",
    "        if l is not None:\n",
    "            # 입력의 원래 길이가 있으면 그것을 이용\n",
    "            x = x[list(range(len(x))), l-1, :]\n",
    "        else:\n",
    "            # 없으면 단순히 마지막 것을 이용\n",
    "            x = x[:, -1, :]\n",
    "        # 추출한 마지막 단계를 선형 계층에 넣는다\n",
    "        x = self.linear(x)\n",
    "        # 불필요한 차원을 삭제\n",
    "        # (batch_size, 1) -> (batch_size, )\n",
    "        x = x.squeeze()\n",
    "        return x"
   ]
  },
  {
   "cell_type": "code",
   "execution_count": 10,
   "metadata": {},
   "outputs": [],
   "source": [
    "def eval_net(net, data_loader, device=\"cpu\"):\n",
    "    net.eval()\n",
    "    ys = []\n",
    "    ypreds = []\n",
    "    for x, y, l in data_loader:\n",
    "        x = x.to(device)\n",
    "        y = y.to(device)\n",
    "        l = l.to(device)\n",
    "        with torch.no_grad():\n",
    "            y_pred = net(x, l=l)\n",
    "            y_pred = (y_pred > 0).long()\n",
    "            ys.append(y)\n",
    "            ypreds.append(y_pred)\n",
    "    ys = torch.cat(ys)\n",
    "    ypreds = torch.cat(ypreds)\n",
    "    acc = (ys == ypreds).float().sum() / len(ys)\n",
    "    return acc.item()"
   ]
  },
  {
   "cell_type": "code",
   "execution_count": 13,
   "metadata": {},
   "outputs": [
    {
     "name": "stderr",
     "output_type": "stream",
     "text": [
      "100%|██████████| 782/782 [00:18<00:00, 43.14it/s]\n"
     ]
    },
    {
     "name": "stdout",
     "output_type": "stream",
     "text": [
      "0 0.673903976864827 0.613319993019104 0.5935199856758118\n"
     ]
    },
    {
     "name": "stderr",
     "output_type": "stream",
     "text": [
      "100%|██████████| 782/782 [00:18<00:00, 43.21it/s]\n"
     ]
    },
    {
     "name": "stdout",
     "output_type": "stream",
     "text": [
      "1 0.5527495930871695 0.7844799757003784 0.7346799969673157\n"
     ]
    },
    {
     "name": "stderr",
     "output_type": "stream",
     "text": [
      "100%|██████████| 782/782 [00:18<00:00, 43.17it/s]\n"
     ]
    },
    {
     "name": "stdout",
     "output_type": "stream",
     "text": [
      "2 0.43851981401595924 0.8328399658203125 0.7600399851799011\n"
     ]
    },
    {
     "name": "stderr",
     "output_type": "stream",
     "text": [
      "100%|██████████| 782/782 [00:18<00:00, 43.06it/s]\n"
     ]
    },
    {
     "name": "stdout",
     "output_type": "stream",
     "text": [
      "3 0.3564918701491697 0.8820799589157104 0.78711998462677\n"
     ]
    },
    {
     "name": "stderr",
     "output_type": "stream",
     "text": [
      "100%|██████████| 782/782 [00:18<00:00, 43.08it/s]\n"
     ]
    },
    {
     "name": "stdout",
     "output_type": "stream",
     "text": [
      "4 0.29712793409176497 0.9090399742126465 0.7879599928855896\n"
     ]
    },
    {
     "name": "stderr",
     "output_type": "stream",
     "text": [
      "100%|██████████| 782/782 [00:18<00:00, 43.16it/s]\n"
     ]
    },
    {
     "name": "stdout",
     "output_type": "stream",
     "text": [
      "5 0.2709312606174165 0.9275999665260315 0.7946799993515015\n"
     ]
    },
    {
     "name": "stderr",
     "output_type": "stream",
     "text": [
      "100%|██████████| 782/782 [00:18<00:00, 43.11it/s]\n"
     ]
    },
    {
     "name": "stdout",
     "output_type": "stream",
     "text": [
      "6 0.20679970100388656 0.9440799951553345 0.7828399538993835\n"
     ]
    },
    {
     "name": "stderr",
     "output_type": "stream",
     "text": [
      "100%|██████████| 782/782 [00:18<00:00, 43.41it/s]\n"
     ]
    },
    {
     "name": "stdout",
     "output_type": "stream",
     "text": [
      "7 0.16614207106135082 0.9591999650001526 0.792199969291687\n"
     ]
    },
    {
     "name": "stderr",
     "output_type": "stream",
     "text": [
      "100%|██████████| 782/782 [00:18<00:00, 43.38it/s]\n"
     ]
    },
    {
     "name": "stdout",
     "output_type": "stream",
     "text": [
      "8 0.1320712909381122 0.9758399724960327 0.7884799838066101\n"
     ]
    },
    {
     "name": "stderr",
     "output_type": "stream",
     "text": [
      "100%|██████████| 782/782 [00:18<00:00, 43.32it/s]\n"
     ]
    },
    {
     "name": "stdout",
     "output_type": "stream",
     "text": [
      "9 0.09741204919750847 0.9830399751663208 0.7832399606704712\n"
     ]
    }
   ],
   "source": [
    "from statistics import mean\n",
    "\n",
    "# num_embeddings에는 0을 포함해서 train_data.vocab_size+1를 넣는다\n",
    "net = SequenceTaggingNet(train_data.vocab_size+1, \n",
    "num_layers=2)\n",
    "net.to(\"cuda:0\")\n",
    "opt = optim.Adam(net.parameters())\n",
    "loss_f = nn.BCEWithLogitsLoss()\n",
    "\n",
    "for epoch in range(10):\n",
    "    losses = []\n",
    "    net.train()\n",
    "    for x, y, l in tqdm.tqdm(train_loader):\n",
    "        x = x.to(\"cuda:0\")\n",
    "        y = y.to(\"cuda:0\")\n",
    "        l = l.to(\"cuda:0\")\n",
    "        y_pred = net(x, l=l)\n",
    "        loss = loss_f(y_pred, y.float())\n",
    "        net.zero_grad()\n",
    "        loss.backward()\n",
    "        opt.step()\n",
    "        losses.append(loss.item())\n",
    "    train_acc = eval_net(net, train_loader, \"cuda:0\")\n",
    "    val_acc = eval_net(net, test_loader, \"cuda:0\")\n",
    "    print(epoch, mean(losses), train_acc, val_acc)"
   ]
  },
  {
   "cell_type": "markdown",
   "metadata": {},
   "source": [
    "## 가변 길이 계열 처리"
   ]
  }
 ],
 "metadata": {
  "interpreter": {
   "hash": "916dbcbb3f70747c44a77c7bcd40155683ae19c65e1c03b4aa3499c5328201f1"
  },
  "kernelspec": {
   "display_name": "Python 3.8.10 64-bit",
   "language": "python",
   "name": "python3"
  },
  "language_info": {
   "codemirror_mode": {
    "name": "ipython",
    "version": 3
   },
   "file_extension": ".py",
   "mimetype": "text/x-python",
   "name": "python",
   "nbconvert_exporter": "python",
   "pygments_lexer": "ipython3",
   "version": "3.8.10"
  },
  "orig_nbformat": 4
 },
 "nbformat": 4,
 "nbformat_minor": 2
}
