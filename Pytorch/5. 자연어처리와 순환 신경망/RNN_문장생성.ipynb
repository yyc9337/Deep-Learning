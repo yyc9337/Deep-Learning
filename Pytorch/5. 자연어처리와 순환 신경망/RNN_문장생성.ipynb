{
 "cells": [
  {
   "cell_type": "code",
   "execution_count": 1,
   "metadata": {},
   "outputs": [],
   "source": [
    "# 모든 ascii 문자로 사전 만들기\n",
    "import string\n",
    "all_chars = string.printable\n",
    "\n",
    "vocab_size = len(all_chars)\n",
    "vocab_dict = dict((c, i) for (i, c) in enumerate(all_chars))\n",
    "\n",
    "# 문자열을 수치 리스트로 변환하는 함수\n",
    "def str2ints(s, vocab_dict):\n",
    "    return [vocab_dict[c] for c in s]\n",
    "  \n",
    "# 수치 리스트를 문자열로 변환하는 함수\n",
    "def ints2str(x, vocab_array):\n",
    "    return \"\".join([vocab_array[i] for i in x])"
   ]
  },
  {
   "cell_type": "code",
   "execution_count": 3,
   "metadata": {},
   "outputs": [],
   "source": [
    "import torch\n",
    "from torch import nn, optim\n",
    "from torch.utils.data import (Dataset, \n",
    "                           DataLoader,\n",
    "                           TensorDataset)\n",
    "import tqdm"
   ]
  },
  {
   "cell_type": "code",
   "execution_count": 4,
   "metadata": {},
   "outputs": [],
   "source": [
    "class ShakespeareDataset(Dataset):\n",
    "    def __init__(self, path, chunk_size=200):\n",
    "        # 파일을 읽어서 수치 리스트로 변환\n",
    "        data = str2ints(open(path).read().strip(), vocab_dict)\n",
    "        \n",
    "        # Tensor로 변환해서 split 한다\n",
    "        data = torch.tensor(data, dtype=torch.int64).split(chunk_size)\n",
    "        \n",
    "        # 마지막 덩어리(chunk)의 길이를 확인해서 부족한 경우 버린다後のchunkの長さをチェックして足りない場合には捨てる\n",
    "        if len(data[-1]) < chunk_size:\n",
    "            data = data[:-1]\n",
    "        \n",
    "        self.data = data\n",
    "        self.n_chunks = len(self.data)\n",
    "    \n",
    "    def __len__(self):\n",
    "        return self.n_chunks\n",
    "\n",
    "    def __getitem__(self, idx):\n",
    "        return self.data[idx]"
   ]
  },
  {
   "cell_type": "code",
   "execution_count": 5,
   "metadata": {},
   "outputs": [],
   "source": [
    "ds = ShakespeareDataset(\"input.txt\",  chunk_size=200)\n",
    "loader = DataLoader(ds, batch_size=32, shuffle=True, num_workers=4)"
   ]
  },
  {
   "cell_type": "code",
   "execution_count": 8,
   "metadata": {},
   "outputs": [],
   "source": [
    "class SequenceGenerationNet(nn.Module):\n",
    "    def __init__(self, num_embeddings, \n",
    "                 embedding_dim=50, \n",
    "                 hidden_size=50,\n",
    "                 num_layers=1, dropout=0.2):\n",
    "        super().__init__()\n",
    "        self.emb = nn.Embedding(num_embeddings, embedding_dim)\n",
    "        self.lstm = nn.LSTM(embedding_dim, \n",
    "                            hidden_size,\n",
    "                            num_layers,\n",
    "                            batch_first=True,\n",
    "                            dropout=dropout)\n",
    "        # Linear의 output 크기는 첫 Embedding의 \n",
    "        # input 크기와 같은 num_embeddings\n",
    "        self.linear = nn.Linear(hidden_size, num_embeddings)\n",
    "        \n",
    "    def forward(self, x, h0=None):\n",
    "        x = self.emb(x)\n",
    "        x, h = self.lstm(x, h0)\n",
    "        x = self.linear(x)\n",
    "        return x, h"
   ]
  },
  {
   "cell_type": "code",
   "execution_count": 9,
   "metadata": {},
   "outputs": [],
   "source": [
    "\n",
    "def generate_seq(net, start_phrase=\"The King said \",\n",
    "                 length=200, temperature=0.8, device=\"cpu\"):\n",
    "    # 모델을 평가 모드로 설정\n",
    "    net.eval()\n",
    "    # 출력 수치를 저장할 리스트\n",
    "    result = []\n",
    "    \n",
    "    # 시작 문자열을 Tensor로 변환\n",
    "    start_tensor = torch.tensor(\n",
    "        str2ints(start_phrase, vocab_dict),\n",
    "        dtype=torch.int64\n",
    "    ).to(device)\n",
    "    # 선두에 batch 차원을 붙인다\n",
    "    x0 = start_tensor.unsqueeze(0) \n",
    "    # RNN을 통해서 출력과 새로운 내부 상태를 얻는다\n",
    "    o, h = net(x0)\n",
    "    # 출력을 정규화돼있지 않은 확률로 변환\n",
    "    out_dist = o[:, -1].view(-1).exp()\n",
    "    # 확률로부터 실제 문자의 인덱스를 샘플링グ\n",
    "    top_i = torch.multinomial(out_dist, 1)[0]\n",
    "    # 결과 저장\n",
    "    result.append(top_i)\n",
    "    \n",
    "    # 생성된 결과를 차례로 RNN에 넣는다\n",
    "    for i in range(length):\n",
    "        inp = torch.tensor([[top_i]], dtype=torch.int64)\n",
    "        inp = inp.to(device)\n",
    "        o, h = net(inp, h)\n",
    "        out_dist = o.view(-1).exp()\n",
    "        top_i = torch.multinomial(out_dist, 1)[0]\n",
    "        result.append(top_i)\n",
    "    \n",
    "    # 시작 문자열과 생성된 문자열을 모아서 반환\n",
    "    return start_phrase + ints2str(result, all_chars)"
   ]
  },
  {
   "cell_type": "code",
   "execution_count": 10,
   "metadata": {},
   "outputs": [
    {
     "name": "stderr",
     "output_type": "stream",
     "text": [
      "100%|██████████| 175/175 [00:07<00:00, 24.18it/s]\n"
     ]
    },
    {
     "name": "stdout",
     "output_type": "stream",
     "text": [
      "0 3.4976481737409317\n",
      "The King said or asA m edemoe!naoongbmh it Udr mahhr'e yupn  wa ooidynkaea ,naep:ru Haefdd nrihO etee\n",
      "t Nd  c.i]tinf\n",
      "rod bnii reicrede eohceaeyu o to nn\n",
      "rted\n",
      "tr   :rase,seeHTmd \n",
      "tita o\n",
      "io eouhem, loy a SERnwce\n"
     ]
    },
    {
     "name": "stderr",
     "output_type": "stream",
     "text": [
      "100%|██████████| 175/175 [00:07<00:00, 24.50it/s]\n"
     ]
    },
    {
     "name": "stdout",
     "output_type": "stream",
     "text": [
      "1 3.082128519330706\n",
      "The King said uoe,.\n",
      "Bh:esOr Aom ns\n",
      "ehsfrnu, hue sp?hiuay ina,s.uhr owe tar ant, awe, tihe\n",
      "j\n",
      "J?it tehmrf tsa Mninpiuet iean tctfkr shadan, wa, nrun gooe erot\n",
      "monen, oee \n",
      "Tor'l'e naptcouP\n",
      "\n",
      "wiyoop non IA\n",
      "p an om\n",
      "moyhl \n"
     ]
    },
    {
     "name": "stderr",
     "output_type": "stream",
     "text": [
      "100%|██████████| 175/175 [00:07<00:00, 24.87it/s]\n"
     ]
    },
    {
     "name": "stdout",
     "output_type": "stream",
     "text": [
      "2 2.617704892839704\n",
      "The King said moud hi.\n",
      "waa oet Io be theach\n",
      "I a mon\n",
      "Ior, aen\n",
      "dou b,, tor to miselk ther mil.ey ard kin thi time waath wem's avn barcolin\n",
      "ay,, he meeoulweet Tog saqtheol s wel thui onl tol bol hew woy thomy'O Olt ouw\n"
     ]
    },
    {
     "name": "stderr",
     "output_type": "stream",
     "text": [
      "100%|██████████| 175/175 [00:07<00:00, 24.73it/s]\n"
     ]
    },
    {
     "name": "stdout",
     "output_type": "stream",
     "text": [
      "3 2.421708744594029\n",
      "The King said wosem fous, mtet wilw poils all tos komt at. Os tis the as theremer the,lese whetot poraomeclire:\n",
      "h gorer.\n",
      "Zhronsat, ke that-agpau. Epthun\n",
      "Weeng tat\n",
      "hund senly.\n",
      "Whiive,. Ile,;es, med, belet tee?: iuk l\n"
     ]
    },
    {
     "name": "stderr",
     "output_type": "stream",
     "text": [
      "100%|██████████| 175/175 [00:07<00:00, 24.60it/s]\n"
     ]
    },
    {
     "name": "stdout",
     "output_type": "stream",
     "text": [
      "4 2.3200347001211985\n",
      "The King said to hat, at nissish be have in I ig ot derud thy with be than the: hinh mere go dfook os nade core in we t\n",
      "koir the dore?\n",
      "\n",
      "Whery thee and yot gidy swimils met\n",
      "beraetslvand hoon whicoif tmet nrullll dest\n"
     ]
    },
    {
     "name": "stderr",
     "output_type": "stream",
     "text": [
      "100%|██████████| 175/175 [00:06<00:00, 25.05it/s]\n"
     ]
    },
    {
     "name": "stdout",
     "output_type": "stream",
     "text": [
      "5 2.2456513009752546\n",
      "The King said thiy so halk.\n",
      " Os wintad, os-cofind tises the wo lromers, then: heoe shasobank, thour flut, trile she gyon srive maljegt Nry alf rountergen thap lind to benicg 'the mowlo-efn!\n",
      "Voralls,\n",
      "CE cang nir!,uur\n"
     ]
    },
    {
     "name": "stderr",
     "output_type": "stream",
     "text": [
      "100%|██████████| 175/175 [00:07<00:00, 24.77it/s]\n"
     ]
    },
    {
     "name": "stdout",
     "output_type": "stream",
     "text": [
      "6 2.1871507726396833\n",
      "The King said in sher Kich thite you lont a jy fild fom tou'd, acpirklliss doties deas then ming, the lonler or to shany ol? whot he cold rams.\n",
      "\n",
      "RUHELENS:\n",
      "How or adde'cbera~es ky frsy sa this bewery not be hith so.\n",
      "\n"
     ]
    },
    {
     "name": "stderr",
     "output_type": "stream",
     "text": [
      "100%|██████████| 175/175 [00:07<00:00, 24.72it/s]\n"
     ]
    },
    {
     "name": "stdout",
     "output_type": "stream",
     "text": [
      "7 2.1392443234579903\n",
      "The King said of weend'?\n",
      "\n",
      "DIRCYB:\n",
      "Pligh or me ungas,\n",
      "His etniriteng nond Wenruke that way nom med he grins leune, in as and; gheh she-s;ere Theor-hik that; leist and ming encord congow;\n",
      "Fathid; Pored,e.\n",
      "\n",
      "TIONKH OUMK\n"
     ]
    },
    {
     "name": "stderr",
     "output_type": "stream",
     "text": [
      "100%|██████████| 175/175 [00:07<00:00, 24.74it/s]\n"
     ]
    },
    {
     "name": "stdout",
     "output_type": "stream",
     "text": [
      "8 2.098840842928205\n",
      "The King said wive merebr'gur the the theilter in the furek,\n",
      "O's.\n",
      "\n",
      "JDUOLE:\n",
      "Whersikees hy go of tot oll there, but badly uwenter,\n",
      "Our nanmny lost pave, dess so srork o bears.\n",
      "\n",
      "MRTILLA:\n",
      "I\n",
      "List\n",
      "woulds hear one now must\n"
     ]
    },
    {
     "name": "stderr",
     "output_type": "stream",
     "text": [
      "100%|██████████| 175/175 [00:07<00:00, 24.71it/s]\n"
     ]
    },
    {
     "name": "stdout",
     "output_type": "stream",
     "text": [
      "9 2.0636922809055873\n",
      "The King said old obenin in berels. Wheress\n",
      "Foone sforby.\n",
      "Gow, whis mich\n",
      "Bued, and reremed\n",
      "Dete\n",
      "If mal. O us; um:\n",
      "I not my daidee\n",
      "Ank she ater in as miden\n",
      "For To to frak of hisfecciyt buky.\n",
      "\n",
      "BUNOLANDIE:\n",
      "That hee awr\n"
     ]
    },
    {
     "name": "stderr",
     "output_type": "stream",
     "text": [
      "100%|██████████| 175/175 [00:07<00:00, 24.40it/s]\n"
     ]
    },
    {
     "name": "stdout",
     "output_type": "stream",
     "text": [
      "10 2.033389896665301\n",
      "The King said id sell cascher, sather se uher.\n",
      "\n",
      "BONIO:\n",
      "Goly migher for yith prove, fraom kintqon sece and sistener: all sare there a mases throwh, fuantiring; thou the hid spraise walr to the you wards me 'stoo blea\n"
     ]
    },
    {
     "name": "stderr",
     "output_type": "stream",
     "text": [
      "100%|██████████| 175/175 [00:07<00:00, 24.29it/s]\n"
     ]
    },
    {
     "name": "stdout",
     "output_type": "stream",
     "text": [
      "11 2.005174525124686\n",
      "The King said to to the so thy chank, that feef; mall I Croized,\n",
      "HiMide\n",
      "To -theals trune swolep:\n",
      "Qotoren mont! and tren un, I trorge would is ham, land.\n",
      "\n",
      "Croseound:\n",
      "Whee kas;\n",
      "Omosh, to my besiguie pilleslow sumery u\n"
     ]
    },
    {
     "name": "stderr",
     "output_type": "stream",
     "text": [
      "100%|██████████| 175/175 [00:06<00:00, 25.03it/s]\n"
     ]
    },
    {
     "name": "stdout",
     "output_type": "stream",
     "text": [
      "12 1.9813384703227452\n",
      "The King said wat quke, herforse.\n",
      "\n",
      "Pmow\n",
      "Whew,\n",
      "Houl weer, tree, not but 'cind on, come, you effey?\n",
      "\n",
      "PUMILANANR:\n",
      "To preceall wowt diintend,\n",
      "Unentery; venoon?\n",
      "\n",
      "RISAT:\n",
      "Whe noto the be loce breatibe; that lidale\n",
      "And wo a\n"
     ]
    },
    {
     "name": "stderr",
     "output_type": "stream",
     "text": [
      "100%|██████████| 175/175 [00:07<00:00, 24.69it/s]\n"
     ]
    },
    {
     "name": "stdout",
     "output_type": "stream",
     "text": [
      "13 1.9581560148511614\n",
      "The King said whe, qutwst thou lords:\n",
      "A plork un, couke mysow loin and dow,\n",
      "And mades comess my lighter\n",
      "Nort will nage shath-feiny his but to deeisy my repttiund-with gumt, dey sear bes Groume not ter,\n",
      "I us I wall\n",
      "e\n"
     ]
    },
    {
     "name": "stderr",
     "output_type": "stream",
     "text": [
      "100%|██████████| 175/175 [00:07<00:00, 24.66it/s]\n"
     ]
    },
    {
     "name": "stdout",
     "output_type": "stream",
     "text": [
      "14 1.9375276831218176\n",
      "The King said on twut by cuncarors heRh with myint\n",
      "Thour,\n",
      "And to withool take.\n",
      "And thle bose hin my times? bumery.\n",
      "\n",
      "DUSENZ:\n",
      "Meverfur and His gaish host my hercaous, wene carfory, and wos, 'tut the athoy!\n",
      "\n",
      "QUEEN!:\n",
      "Pr\n"
     ]
    },
    {
     "name": "stderr",
     "output_type": "stream",
     "text": [
      "100%|██████████| 175/175 [00:07<00:00, 24.57it/s]\n"
     ]
    },
    {
     "name": "stdout",
     "output_type": "stream",
     "text": [
      "15 1.9202129922594342\n",
      "The King said hoth dadouvous to,\n",
      "Ensool:\n",
      "Whear,\n",
      "Lor prone thut id\n",
      "Juy me,\n",
      "Datsmer, to the amanbingnt but it is here mathime.\n",
      "Letire, but lick\n",
      "whoutser, one harce!\n",
      "Cantle seal angay.\n",
      "\n",
      "Cirawn:\n",
      "With live.\n",
      "\n",
      "VBORIS:\n",
      "Ampe\n"
     ]
    },
    {
     "name": "stderr",
     "output_type": "stream",
     "text": [
      "100%|██████████| 175/175 [00:07<00:00, 24.33it/s]\n"
     ]
    },
    {
     "name": "stdout",
     "output_type": "stream",
     "text": [
      "16 1.9048239319665092\n",
      "The King said itseress; and Broneatheld,\n",
      "Hage that surer all my dight, sust thi mave, and all bays,\n",
      "Hom must hind! Dud ofy maods:\n",
      "Weloo love the not your are figher ary his and and so these, where that Cowle our at \n"
     ]
    },
    {
     "name": "stderr",
     "output_type": "stream",
     "text": [
      "100%|██████████| 175/175 [00:07<00:00, 24.79it/s]\n"
     ]
    },
    {
     "name": "stdout",
     "output_type": "stream",
     "text": [
      "17 1.8895707327978952\n",
      "The King said ence frallel heart to the him's\n",
      "Bet's\n",
      "Arrer Edocl.\n",
      "\n",
      "GRRIOLA:\n",
      "Ig the saeruple.\n",
      "\n",
      "RISBLARD:\n",
      "I, but you hofivess by mower-mans roolfady, the groud to come,\n",
      "Say ksimn'ss,\n",
      "Whie me\n",
      "For pledy is your!\n",
      "And held\n"
     ]
    },
    {
     "name": "stderr",
     "output_type": "stream",
     "text": [
      "100%|██████████| 175/175 [00:07<00:00, 24.18it/s]\n"
     ]
    },
    {
     "name": "stdout",
     "output_type": "stream",
     "text": [
      "18 1.8776092917578562\n",
      "The King said gies. As so alasy?\n",
      "\n",
      "CAUTENCBO:\n",
      "He an cendem thead con'ster have with of revake ir in prepentle home I guch neatal the dishace beven with\n",
      "That\n",
      "Wat the the, go light sonen tace'ss sual.\n",
      "Then's fat,\n",
      "Bavoo\n"
     ]
    },
    {
     "name": "stderr",
     "output_type": "stream",
     "text": [
      "100%|██████████| 175/175 [00:07<00:00, 24.53it/s]\n"
     ]
    },
    {
     "name": "stdout",
     "output_type": "stream",
     "text": [
      "19 1.8647758184160506\n",
      "The King said by gayy shall nod.\n",
      "\n",
      "LIMCANUS:\n",
      "Lren haves as;\n",
      "Sesce strinessteting do\n",
      "come toon'd we sild if king it hall prood there: bnoush\n",
      "Farlowed\n",
      "\n",
      "DUKE VINGRTARET:\n",
      "Why if wistis, ther your allandiinger engoman ble\n"
     ]
    },
    {
     "name": "stderr",
     "output_type": "stream",
     "text": [
      "100%|██████████| 175/175 [00:07<00:00, 24.27it/s]\n"
     ]
    },
    {
     "name": "stdout",
     "output_type": "stream",
     "text": [
      "20 1.853437191418239\n",
      "The King said woud, by as the shenes his erk, of mothy, whoth,\n",
      "-home\n",
      "An thenwse Cloerard,\n",
      "Make:\n",
      "Ank with well perwaipon, our! are lake, be thy by lictonsise\n",
      "Of mine.\n",
      "\n",
      "Coristeres,\n",
      "And wear, word not that stary I weit\n"
     ]
    },
    {
     "name": "stderr",
     "output_type": "stream",
     "text": [
      "100%|██████████| 175/175 [00:07<00:00, 23.77it/s]\n"
     ]
    },
    {
     "name": "stdout",
     "output_type": "stream",
     "text": [
      "21 1.8436331408364433\n",
      "The King said lide your son: pou, may and wemy incetn\n",
      "To Henciestoraing sill attend.\n",
      "\n",
      "PENOT:\n",
      "No if infoll bed my velts\n",
      "Ibtrompendrited your his tender,\n",
      "Buther, and not pan thy costuch yet\n",
      "Pracstes oveechanting, is s\n"
     ]
    },
    {
     "name": "stderr",
     "output_type": "stream",
     "text": [
      "100%|██████████| 175/175 [00:07<00:00, 24.49it/s]\n"
     ]
    },
    {
     "name": "stdout",
     "output_type": "stream",
     "text": [
      "22 1.8340526941844395\n",
      "The King said I On I neads rewot his you I deisit.\n",
      "\n",
      "Sirdds:\n",
      "And Rome?\n",
      "\n",
      "COLIXBESTH:\n",
      "Nowirs, thou sather Keve fort\n",
      "Why is the calen.\n",
      "\n",
      "TRRANO:\n",
      "What now the all deyy,\n",
      "As  hadous lart, thered you thou puthreathe frouge m\n"
     ]
    },
    {
     "name": "stderr",
     "output_type": "stream",
     "text": [
      "100%|██████████| 175/175 [00:07<00:00, 24.76it/s]\n"
     ]
    },
    {
     "name": "stdout",
     "output_type": "stream",
     "text": [
      "23 1.8249652848924909\n",
      "The King said thou said; post not lougiterciten; and gop cainss;\n",
      "Where say and foe ever a veractiso stis more Whis!\n",
      "\n",
      "TKING RICHARD III:\n",
      "Riching.\n",
      "\n",
      "GRUTIO:\n",
      "Shall aar,\n",
      "And genstite.\n",
      "\n",
      "CLARCINIUS:\n",
      "Whe coult death: thee, \n"
     ]
    },
    {
     "name": "stderr",
     "output_type": "stream",
     "text": [
      "100%|██████████| 175/175 [00:07<00:00, 24.51it/s]\n"
     ]
    },
    {
     "name": "stdout",
     "output_type": "stream",
     "text": [
      "24 1.8156802592958723\n",
      "The King said it is send thee sonerough'd; are costed trep a some have find tham thou fould werrson dean do heaves all he pakens, for of fageater,\n",
      "Thou place word lights,\n",
      "That net your eves to worrsest,\n",
      "Cerseen, I-t\n"
     ]
    },
    {
     "name": "stderr",
     "output_type": "stream",
     "text": [
      "100%|██████████| 175/175 [00:07<00:00, 24.46it/s]\n"
     ]
    },
    {
     "name": "stdout",
     "output_type": "stream",
     "text": [
      "25 1.8079224695478167\n",
      "The King said ther at Rarritup Himpute taightison the shiar, By huspeilling dignther whee the some bistle quwhies,\n",
      "His hell hopher.\n",
      "\n",
      "JULIET:\n",
      "I defelf.\n",
      "\n",
      "PANLO:\n",
      "She rone we sare not new\n",
      "af manchan worde ans-cimpit sin\n"
     ]
    },
    {
     "name": "stderr",
     "output_type": "stream",
     "text": [
      "100%|██████████| 175/175 [00:07<00:00, 24.45it/s]\n"
     ]
    },
    {
     "name": "stdout",
     "output_type": "stream",
     "text": [
      "26 1.7989249508721488\n",
      "The King said in the wonevime?\n",
      "\n",
      "GLOUCESTER:\n",
      "These not;\n",
      "What!\n",
      "\n",
      "ILCAPPROTA:\n",
      "Yuker,' thable of a mamely spapler.\n",
      "\n",
      "Nunsidy:\n",
      "Feed\n",
      "Fholls sile;\n",
      "But fell all;\n",
      "Arar\n",
      "you I onathh as he see,\n",
      "For band was not limb reseast of t\n"
     ]
    },
    {
     "name": "stderr",
     "output_type": "stream",
     "text": [
      "100%|██████████| 175/175 [00:07<00:00, 24.54it/s]\n"
     ]
    },
    {
     "name": "stdout",
     "output_type": "stream",
     "text": [
      "27 1.7919374356951032\n",
      "The King said dy fill be suck?\n",
      "\n",
      "KATHARINA:\n",
      "To your his, and lome hols.\n",
      "\n",
      "POMPEO:\n",
      "I'll your that see;\n",
      "Come love my wish letter me.\n",
      "\n",
      "GHAS:\n",
      "Yead twarchit:\n",
      "Reasgits not\n",
      "Whyen, so, and bright's,\n",
      "In un me prilace.: in thee\n"
     ]
    },
    {
     "name": "stderr",
     "output_type": "stream",
     "text": [
      "100%|██████████| 175/175 [00:07<00:00, 24.77it/s]\n"
     ]
    },
    {
     "name": "stdout",
     "output_type": "stream",
     "text": [
      "28 1.7857700150353568\n",
      "The King said have pranither just to stars: I dull\n",
      "hanral and aw the hommange wan, Evester offle hind are are lalk; some knose is underbeh you agy fore my Eringy? Come mish praut in hough of what no good with stroid\n"
     ]
    },
    {
     "name": "stderr",
     "output_type": "stream",
     "text": [
      "100%|██████████| 175/175 [00:07<00:00, 24.52it/s]\n"
     ]
    },
    {
     "name": "stdout",
     "output_type": "stream",
     "text": [
      "29 1.7784243025098527\n",
      "The King said me it the genkue,\n",
      "Well\n",
      "Have to shire light for us proceite the see they,' paurad,\n",
      "And net?\n",
      "\n",
      "EBBuL the, Levir?\n",
      "Flen what I will nock ryust sarruck praed, faed we gate spurrence; to gexts, sir are is we \n"
     ]
    },
    {
     "name": "stderr",
     "output_type": "stream",
     "text": [
      "100%|██████████| 175/175 [00:07<00:00, 24.50it/s]\n"
     ]
    },
    {
     "name": "stdout",
     "output_type": "stream",
     "text": [
      "30 1.77230055809021\n",
      "The King said arcour have saint,\n",
      "Palingst,\n",
      "Who your dow is how Ronucky you mills ertroy ha's good his to a kilt were swees,\n",
      "And with enemmends;\n",
      "Had cacvan were plut to my kisst mores and exore ubmee there in beconge\n"
     ]
    },
    {
     "name": "stderr",
     "output_type": "stream",
     "text": [
      "100%|██████████| 175/175 [00:07<00:00, 24.42it/s]\n"
     ]
    },
    {
     "name": "stdout",
     "output_type": "stream",
     "text": [
      "31 1.7658332906450545\n",
      "The King said maey his not engrect offors.\n",
      "\n",
      "PRIMPERYAS:\n",
      "Say but of shall gour theat!\n",
      "\n",
      "MARIANA:\n",
      "Overak,\n",
      "Is if see thee seen,\n",
      "Meveard.\n",
      "\n",
      "CORIOLANUS:\n",
      "No no so welblo?\n",
      "\n",
      "SICINIUS:\n",
      "How, deaw.\n",
      "\n",
      "KING RICHARD III:\n",
      "I my year?\n",
      "\n"
     ]
    },
    {
     "name": "stderr",
     "output_type": "stream",
     "text": [
      "100%|██████████| 175/175 [00:07<00:00, 24.36it/s]\n"
     ]
    },
    {
     "name": "stdout",
     "output_type": "stream",
     "text": [
      "32 1.7601552064078194\n",
      "The King said bo there youror liven whill your master we bewict sirnt\n",
      "I'll to him my live a cast.\n",
      "My ares when the shall Comied of oresen\n",
      "That how in\n",
      "The kinns mare.\n",
      "\n",
      "COLINCENTIO:\n",
      "Nakees pan but gick:\n",
      "Our vepelf,\n",
      "No\n"
     ]
    },
    {
     "name": "stderr",
     "output_type": "stream",
     "text": [
      "100%|██████████| 175/175 [00:07<00:00, 24.57it/s]\n"
     ]
    },
    {
     "name": "stdout",
     "output_type": "stream",
     "text": [
      "33 1.7546463169370379\n",
      "The King said tolk tongumal mard.\n",
      "\n",
      "MERCUTIO:\n",
      "Croogn,\n",
      "For'll: you crack,\n",
      "And would not  of and my discon the mencouke,\n",
      "For proat upence;-\n",
      "\n",
      "ESCALUS:\n",
      "Severwe alrown'fled a grown with woundefson?\n",
      "\n",
      "LUCIO:\n",
      "Sway you undere\n"
     ]
    },
    {
     "name": "stderr",
     "output_type": "stream",
     "text": [
      "100%|██████████| 175/175 [00:07<00:00, 24.38it/s]\n"
     ]
    },
    {
     "name": "stdout",
     "output_type": "stream",
     "text": [
      "34 1.7487796531404767\n",
      "The King said the kmarchy.\n",
      "\n",
      "CORIOLANUS:\n",
      "No, he home;\n",
      "And what dive not wear your part of I Engexome how here lein.\n",
      "\n",
      "Ferrouve:\n",
      "Sistling the broughtiegman'ggied,\n",
      "and my lade?\n",
      "\n",
      "LARIO:\n",
      "What.\n",
      "\n",
      "KING RICHARD II:\n",
      "Where,--is\n"
     ]
    },
    {
     "name": "stderr",
     "output_type": "stream",
     "text": [
      "100%|██████████| 175/175 [00:07<00:00, 24.56it/s]\n"
     ]
    },
    {
     "name": "stdout",
     "output_type": "stream",
     "text": [
      "35 1.7440684046064103\n",
      "The King said man now on wo ears. Let would carm as my canst's you migh thou march of blun's have by not I puschore-way.\n",
      "\n",
      "Ley:\n",
      "We so I\n",
      "desore,\n",
      "What in the for your spory have: plaest find, mand me; not and wank mine\n"
     ]
    },
    {
     "name": "stderr",
     "output_type": "stream",
     "text": [
      "100%|██████████| 175/175 [00:07<00:00, 24.69it/s]\n"
     ]
    },
    {
     "name": "stdout",
     "output_type": "stream",
     "text": [
      "36 1.7397101136616298\n",
      "The King said Weaasunaty; as him.\n",
      "Now nleman a shalned my reill words\n",
      "To mering,\n",
      "That clistor their will is sull concny pace,\n",
      "Yould born to hath cith mine,\n",
      "And thy shall my trasstree,\n",
      "Dees her have heavensed thine, \n"
     ]
    },
    {
     "name": "stderr",
     "output_type": "stream",
     "text": [
      "100%|██████████| 175/175 [00:07<00:00, 24.60it/s]\n"
     ]
    },
    {
     "name": "stdout",
     "output_type": "stream",
     "text": [
      "37 1.7338145739691597\n",
      "The King said that;\n",
      "Come branks: by a set thrient 'twithy araces. You:\n",
      "And if wamber's swance face;\n",
      "Thing. As witherous a so thee\n",
      "By aling prays that York I caints a honound,\n",
      "But?\n",
      "\n",
      "METREBA:\n",
      "Fulisen me it him has me \n"
     ]
    },
    {
     "name": "stderr",
     "output_type": "stream",
     "text": [
      "100%|██████████| 175/175 [00:07<00:00, 24.67it/s]\n"
     ]
    },
    {
     "name": "stdout",
     "output_type": "stream",
     "text": [
      "38 1.7298319012778145\n",
      "The King said our hings in it\n",
      "Were uncle, and let cebipy, gots and but negam!\n",
      "\n",
      "LUCENTIO:\n",
      "Fires, and my ha's seet of this they to sudle York-\n",
      "That thank my?\n",
      "\n",
      "MENENIUS:\n",
      "A your hast Cacuece unfert in my promak;\n",
      "That be\n"
     ]
    },
    {
     "name": "stderr",
     "output_type": "stream",
     "text": [
      "100%|██████████| 175/175 [00:07<00:00, 24.34it/s]\n"
     ]
    },
    {
     "name": "stdout",
     "output_type": "stream",
     "text": [
      "39 1.7254541771752494\n",
      "The King said tich of the radeas:\n",
      "So parts to dust.\n",
      "\n",
      "KING EDWARD IV:\n",
      "Lonk your play you more me? Somovy with they bene you aptservent herow leaw her itrecu.\n",
      "Shall heard, swee, and ame,\n",
      "We shoud go fribe\n",
      "I thoue so r\n"
     ]
    },
    {
     "name": "stderr",
     "output_type": "stream",
     "text": [
      "100%|██████████| 175/175 [00:07<00:00, 24.34it/s]\n"
     ]
    },
    {
     "name": "stdout",
     "output_type": "stream",
     "text": [
      "40 1.7218067632402692\n",
      "The King said entore have stand in shwill we leave the reigne.\n",
      "\n",
      "BYOS BOLANS:\n",
      "At and wabe, I should splreatal for couth\n",
      "ow adwiegedss of himself in nothing I, he what is a crace with,\n",
      "Them his doffe: my, deceow their\n"
     ]
    },
    {
     "name": "stderr",
     "output_type": "stream",
     "text": [
      "100%|██████████| 175/175 [00:07<00:00, 24.64it/s]\n"
     ]
    },
    {
     "name": "stdout",
     "output_type": "stream",
     "text": [
      "41 1.7165708528246197\n",
      "The King said of your flaitalis might her womander Lartneisy,\n",
      "And heard, should my a piry I good--\n",
      "\n",
      "LEUMENO:\n",
      "Preight--Lae and Marthe coustis\n",
      "Hearleghy'd we let many, who now It thy lyers.\n",
      "\n",
      "PAMERO:\n",
      "Good with of as ha\n"
     ]
    },
    {
     "name": "stderr",
     "output_type": "stream",
     "text": [
      "100%|██████████| 175/175 [00:07<00:00, 24.52it/s]\n"
     ]
    },
    {
     "name": "stdout",
     "output_type": "stream",
     "text": [
      "42 1.712610900742667\n",
      "The King said wither,\n",
      "Thy son morbous to my hargst the rest a day, sus a kind way\n",
      "Bnorch.\n",
      "Come toeope Thumase on upes.\n",
      "\n",
      "JULIET:\n",
      "A ciqbery these in chend sut's\n",
      "That do not-well. The from do he I wimand flott of thenc\n"
     ]
    },
    {
     "name": "stderr",
     "output_type": "stream",
     "text": [
      "100%|██████████| 175/175 [00:07<00:00, 24.59it/s]\n"
     ]
    },
    {
     "name": "stdout",
     "output_type": "stream",
     "text": [
      "43 1.7088051434925624\n",
      "The King said at you,\n",
      "The light in out the gr like I foeals!\n",
      "Pome; who is in the were us not suvites,\n",
      "For the rother tray, so ablent undone.\n",
      "\n",
      "BAPGPLOLANUT:\n",
      "By lict hit: the moved.\n",
      "Nothord wife of Lord.\n",
      "\n",
      "ASTIS:\n",
      "Sorra\n"
     ]
    },
    {
     "name": "stderr",
     "output_type": "stream",
     "text": [
      "100%|██████████| 175/175 [00:07<00:00, 24.77it/s]\n"
     ]
    },
    {
     "name": "stdout",
     "output_type": "stream",
     "text": [
      "44 1.704700824873788\n",
      "The King said be hajle, king dound to felching here a magree he left;\n",
      "That anter,\n",
      "Wells, to be of in your brotters, when hards of thy death;\n",
      "Most pisy,\n",
      "And too, which palitision: figh a deenst,\n",
      "Thou himblor to be qu\n"
     ]
    },
    {
     "name": "stderr",
     "output_type": "stream",
     "text": [
      "100%|██████████| 175/175 [00:07<00:00, 24.69it/s]\n"
     ]
    },
    {
     "name": "stdout",
     "output_type": "stream",
     "text": [
      "45 1.7015321711131504\n",
      "The King said for-to nor, or,\n",
      "Why, in thy dips, yet I were\n",
      "Of the more and kis entou thus a then canest,\n",
      "And even he sorum in we dight\n",
      "As mosberation, mine well, duke, my hast this in, my strefellow you retoon Andie\n"
     ]
    },
    {
     "name": "stderr",
     "output_type": "stream",
     "text": [
      "100%|██████████| 175/175 [00:07<00:00, 24.40it/s]\n"
     ]
    },
    {
     "name": "stdout",
     "output_type": "stream",
     "text": [
      "46 1.6971095439365933\n",
      "The King said we heartis,\n",
      "It me?\n",
      "\n",
      "MENENIUS:\n",
      "I would nosming it Thay his lank you that never farsed. Wh'd thou best the rike Op your, know: Come, Furd one his tongenep of kis more truen, son why?\n",
      "Proog a\n",
      "our galings \n"
     ]
    },
    {
     "name": "stderr",
     "output_type": "stream",
     "text": [
      "100%|██████████| 175/175 [00:07<00:00, 24.52it/s]\n"
     ]
    },
    {
     "name": "stdout",
     "output_type": "stream",
     "text": [
      "47 1.693846616744995\n",
      "The King said you for my confers!\n",
      "And so your ack to scilly in baved of all squeet cemsted?\n",
      "\n",
      "BROTANTES:\n",
      "Now your beaused. Whas' he knax it basts and broon if a soults in the ere varged: upon fire of his jest;\n",
      "'Fisel\n"
     ]
    },
    {
     "name": "stderr",
     "output_type": "stream",
     "text": [
      "100%|██████████| 175/175 [00:07<00:00, 24.69it/s]\n"
     ]
    },
    {
     "name": "stdout",
     "output_type": "stream",
     "text": [
      "48 1.69193781375885\n",
      "The King said him on waste thou arged fore this hest\n",
      "than 'spile of all\n",
      "And allows is my back;\n",
      "To you fol Nathiching enest in this loved his very;\n",
      "To which corment as you fe to just cirkandly world hance with not ga\n"
     ]
    },
    {
     "name": "stderr",
     "output_type": "stream",
     "text": [
      "100%|██████████| 175/175 [00:07<00:00, 24.59it/s]\n"
     ]
    },
    {
     "name": "stdout",
     "output_type": "stream",
     "text": [
      "49 1.688188762664795\n",
      "The King said make have her kneever trays\n",
      "I'll tompt, sightous contay,\n",
      "Thy offon it true upon,\n",
      "As they stonk\n",
      "Though wouss: Llight Bort, one take think, and thou heart,\n",
      "But with rymippy\n",
      "But but son\n",
      "And do creach upon\n"
     ]
    }
   ],
   "source": [
    "from statistics import mean\n",
    "net = SequenceGenerationNet(vocab_size, 20, 50,\n",
    "                            num_layers=2, dropout=0.1)\n",
    "net.to(\"cuda:0\")\n",
    "opt = optim.Adam(net.parameters())\n",
    "# 다중 식별 문제이므로 SoftmaxCrossEntropyLoss가 손실 함수가 된다\n",
    "loss_f = nn.CrossEntropyLoss()\n",
    "\n",
    "for epoch in range(50):\n",
    "    net.train()\n",
    "    losses = []\n",
    "    for data in tqdm.tqdm(loader):\n",
    "        # x는 처음부터 마지막의 하나 앞 문자까지\n",
    "        x = data[:, :-1]\n",
    "        # y는 두 번째부터 마지막 문자까지\n",
    "        y = data[:, 1:]\n",
    "        \n",
    "        x = x.to(\"cuda:0\")\n",
    "        y = y.to(\"cuda:0\")\n",
    "        \n",
    "        y_pred, _ = net(x)\n",
    "        # batch와 step 축을 통합해서 CrossEntropyLoss에 전달\n",
    "        loss = loss_f(y_pred.view(-1, vocab_size), y.view(-1))\n",
    "        net.zero_grad()\n",
    "        loss.backward()\n",
    "        opt.step()\n",
    "        losses.append(loss.item())\n",
    "    # 현재 손실 함수와 생성된 문장 예 표시\n",
    "    print(epoch, mean(losses))\n",
    "    with torch.no_grad():\n",
    "        print(generate_seq(net, device=\"cuda:0\"))"
   ]
  }
 ],
 "metadata": {
  "interpreter": {
   "hash": "916dbcbb3f70747c44a77c7bcd40155683ae19c65e1c03b4aa3499c5328201f1"
  },
  "kernelspec": {
   "display_name": "Python 3.8.10 64-bit",
   "language": "python",
   "name": "python3"
  },
  "language_info": {
   "codemirror_mode": {
    "name": "ipython",
    "version": 3
   },
   "file_extension": ".py",
   "mimetype": "text/x-python",
   "name": "python",
   "nbconvert_exporter": "python",
   "pygments_lexer": "ipython3",
   "version": "3.8.10"
  },
  "orig_nbformat": 4
 },
 "nbformat": 4,
 "nbformat_minor": 2
}
