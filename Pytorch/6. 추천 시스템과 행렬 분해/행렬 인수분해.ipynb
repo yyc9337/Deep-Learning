{
 "cells": [
  {
   "cell_type": "code",
   "execution_count": 1,
   "metadata": {},
   "outputs": [],
   "source": [
    "\n",
    "import torch\n",
    "from torch import nn, optim\n",
    "from torch.utils.data import (Dataset, \n",
    "                              DataLoader,\n",
    "                              TensorDataset)\n",
    "import tqdm"
   ]
  },
  {
   "cell_type": "code",
   "execution_count": 2,
   "metadata": {},
   "outputs": [],
   "source": [
    "import pandas as pd\n",
    "# 훈련 데이터와 테스트 데이터를 나누기 위해 사용한다\n",
    "from sklearn import model_selection\n",
    "\n",
    "df = pd.read_csv(\"ml-20m/ratings.csv\")\n",
    "# X는 (userId, movieId) 쌍\n",
    "X = df[[\"userId\", \"movieId\"]].values\n",
    "Y = df[[\"rating\"]].values\n",
    "\n",
    "# 훈련 데이터와 테스트 데이터를 9대 1로 분할\n",
    "train_X, test_X, train_Y, test_Y\\\n",
    "    = model_selection.train_test_split(X, Y, test_size=0.1)\n",
    "\n",
    "# X는 ID이고 정수이므로 int64, Y는 실수이므로 float32의 Tensor로 변환\n",
    "train_dataset = TensorDataset(\n",
    "    torch.tensor(train_X, dtype=torch.int64), torch.tensor(train_Y, dtype=torch.float32))\n",
    "test_dataset = TensorDataset(\n",
    "    torch.tensor(test_X, dtype=torch.int64), torch.tensor(test_Y, dtype=torch.float32))\n",
    "train_loader = DataLoader(\n",
    "    train_dataset, batch_size=1024, num_workers=4, shuffle=True)\n",
    "test_loader = DataLoader(\n",
    "    test_dataset, batch_size=1024, num_workers=4)"
   ]
  },
  {
   "cell_type": "markdown",
   "metadata": {},
   "source": [
    "### 파이토치에서 행렬 인수분해"
   ]
  },
  {
   "cell_type": "markdown",
   "metadata": {},
   "source": [
    "#### 행렬 인수분해"
   ]
  },
  {
   "cell_type": "code",
   "execution_count": 3,
   "metadata": {},
   "outputs": [],
   "source": [
    "class MatrixFactorization(nn.Module):\n",
    "    def __init__(self, max_user, max_item, k=20):\n",
    "        super().__init__()\n",
    "        self.max_user = max_user\n",
    "        self.max_item = max_item\n",
    "        self.user_emb = nn.Embedding(max_user, k, 0)\n",
    "        self.item_emb = nn.Embedding(max_item, k, 0)\n",
    "        \n",
    "    def forward(self, x):\n",
    "        user_idx = x[:, 0]\n",
    "        item_idx = x[:, 1]\n",
    "        user_feature = self.user_emb(user_idx)\n",
    "        item_feature = self.item_emb(item_idx)\n",
    "        \n",
    "        # user_feature*item_feature는 (batch_size,k) 차원이므로\n",
    "        # k의 sum을 구하면 각 샘플의 내적이 된다\n",
    "        out = torch.sum(user_feature * item_feature, 1)\n",
    "        \n",
    "        # [0, 5] 범위 내로 조정\n",
    "        out = nn.functional.sigmoid(out) * 5\n",
    "        return out"
   ]
  },
  {
   "cell_type": "code",
   "execution_count": 4,
   "metadata": {},
   "outputs": [],
   "source": [
    "\n",
    "max_user, max_item = X.max(0)\n",
    "# np.int64형을 파이썬의 표준 int로 캐스트\n",
    "max_user = int(max_user)\n",
    "max_item = int(max_item)\n",
    "net = MatrixFactorization(max_user+1, max_item+1)"
   ]
  },
  {
   "cell_type": "code",
   "execution_count": 5,
   "metadata": {},
   "outputs": [],
   "source": [
    "def eval_net(net, loader, score_fn=nn.functional.\n",
    "l1_loss, device=\"cpu\"):\n",
    "    ys = []\n",
    "    ypreds = []\n",
    "    for x, y in loader:\n",
    "        x = x.to(device)\n",
    "        ys.append(y)\n",
    "        with torch.no_grad():\n",
    "         ypred = net(x).to(\"cpu\").view(-1)\n",
    "        ypreds.append(ypred)\n",
    "    score = score_fn(torch.cat(ys).squeeze(), \n",
    "torch.cat(ypreds))\n",
    "    return score.item()"
   ]
  },
  {
   "cell_type": "code",
   "execution_count": 6,
   "metadata": {},
   "outputs": [
    {
     "name": "stderr",
     "output_type": "stream",
     "text": [
      "  0%|          | 0/17579 [00:00<?, ?it/s]/usr/local/lib/python3.8/dist-packages/torch/nn/functional.py:1944: UserWarning: nn.functional.sigmoid is deprecated. Use torch.sigmoid instead.\n",
      "  warnings.warn(\"nn.functional.sigmoid is deprecated. Use torch.sigmoid instead.\")\n",
      "100%|██████████| 17579/17579 [02:52<00:00, 101.87it/s]\n"
     ]
    },
    {
     "name": "stdout",
     "output_type": "stream",
     "text": [
      "0 1.613379878153932 0.7354139685630798\n"
     ]
    },
    {
     "name": "stderr",
     "output_type": "stream",
     "text": [
      "100%|██████████| 17579/17579 [02:51<00:00, 102.26it/s]\n"
     ]
    },
    {
     "name": "stdout",
     "output_type": "stream",
     "text": [
      "1 0.8829837778409503 0.7098354697227478\n"
     ]
    },
    {
     "name": "stderr",
     "output_type": "stream",
     "text": [
      "100%|██████████| 17579/17579 [02:51<00:00, 102.28it/s]\n"
     ]
    },
    {
     "name": "stdout",
     "output_type": "stream",
     "text": [
      "2 0.8357044201240624 0.7001104354858398\n"
     ]
    },
    {
     "name": "stderr",
     "output_type": "stream",
     "text": [
      "100%|██████████| 17579/17579 [02:51<00:00, 102.36it/s]\n"
     ]
    },
    {
     "name": "stdout",
     "output_type": "stream",
     "text": [
      "3 0.8135738665892529 0.6960717439651489\n"
     ]
    },
    {
     "name": "stderr",
     "output_type": "stream",
     "text": [
      "100%|██████████| 17579/17579 [02:52<00:00, 102.17it/s]\n"
     ]
    },
    {
     "name": "stdout",
     "output_type": "stream",
     "text": [
      "4 0.8018317886929821 0.6947773694992065\n"
     ]
    }
   ],
   "source": [
    "from statistics import mean\n",
    "\n",
    "net.to(\"cuda:0\")\n",
    "opt = optim.Adam(net.parameters(), lr=0.01)\n",
    "loss_f = nn.MSELoss()\n",
    "\n",
    "for epoch in range(5):\n",
    "    loss_log = []\n",
    "    for x, y in tqdm.tqdm(train_loader):\n",
    "        x = x.to(\"cuda:0\")\n",
    "        y = y.to(\"cuda:0\")\n",
    "        o = net(x)\n",
    "        loss = loss_f(o, y.view(-1))\n",
    "        net.zero_grad()\n",
    "        loss.backward()\n",
    "        opt.step()\n",
    "        loss_log.append(loss.item())\n",
    "    test_score = eval_net(net, test_loader, device=\"cuda:0\")\n",
    "    print(epoch, mean(loss_log), test_score, flush=True)"
   ]
  },
  {
   "cell_type": "code",
   "execution_count": 15,
   "metadata": {},
   "outputs": [],
   "source": [
    "torch.save(net.state_dict(), '../model.pt')"
   ]
  }
 ],
 "metadata": {
  "interpreter": {
   "hash": "916dbcbb3f70747c44a77c7bcd40155683ae19c65e1c03b4aa3499c5328201f1"
  },
  "kernelspec": {
   "display_name": "Python 3.8.10 64-bit",
   "language": "python",
   "name": "python3"
  },
  "language_info": {
   "codemirror_mode": {
    "name": "ipython",
    "version": 3
   },
   "file_extension": ".py",
   "mimetype": "text/x-python",
   "name": "python",
   "nbconvert_exporter": "python",
   "pygments_lexer": "ipython3",
   "version": "3.8.10"
  },
  "orig_nbformat": 4
 },
 "nbformat": 4,
 "nbformat_minor": 2
}
