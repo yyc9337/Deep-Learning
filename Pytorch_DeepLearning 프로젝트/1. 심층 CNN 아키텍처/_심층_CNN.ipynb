{
 "cells": [
  {
   "cell_type": "markdown",
   "metadata": {
    "id": "HxTx2LkXPSer",
    "pycharm": {
     "name": "#%% md\n"
    }
   },
   "source": [
    "## CNN\n",
    "\n",
    "##### 가중치 공유 : CNN은 가중치를 공유함으로써 매개변수를 효율적으로 활용함. 즉 동일한 가중치 또는 매개변수로 다양한 특징을 추출\n",
    "\n",
    "##### 자동 특징 추출 : 특징 추출 단계를 여럿 둠으로써 CNN은 데이터셋에서 자동으로 특징 표현을 학습할 수 있다\n",
    "\n",
    "##### 계층적 학습 : 여러 계층으로 구성된 CNN 구조 덕분에 CNN은 저수준부터 고수준까지의 특징을 학습할 수 있다\n",
    "\n",
    "##### 동영상 처리 작업처럼, 데이터에서 공간적, 시간적 상관관계를 탐색할 수 있다.\n",
    "\n",
    "##### 매개변수 최적화 : 단순한 확률적 경사 하강법 대신 적응형 모멘트 추정 기법에 기반한 옵티마이저 등을 사용\n",
    "\n",
    "##### 정칙화 : L2 정칙화 외에 드롭아웃과 배치 정규화를 적용한다.\n",
    "\n"
   ]
  },
  {
   "cell_type": "code",
   "execution_count": null,
   "metadata": {
    "vscode": {
     "languageId": "plaintext"
    },
    "pycharm": {
     "name": "#%%\n"
    }
   },
   "outputs": [],
   "source": []
  }
 ],
 "metadata": {
  "colab": {
   "collapsed_sections": [],
   "name": "\b심층 CNN.ipynb",
   "provenance": []
  },
  "kernelspec": {
   "display_name": "Python 3",
   "name": "python3"
  },
  "language_info": {
   "name": "python"
  }
 },
 "nbformat": 4,
 "nbformat_minor": 0
}