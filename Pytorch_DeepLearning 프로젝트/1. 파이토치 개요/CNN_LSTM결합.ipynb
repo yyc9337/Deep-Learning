{
 "cells": [
  {
   "cell_type": "code",
   "execution_count": null,
   "metadata": {
    "collapsed": true,
    "pycharm": {
     "name": "#%%\n"
    }
   },
   "outputs": [],
   "source": [
    "# linux\n",
    "!apt-get install wget\n",
    "# mac\n",
    "!brew install wget\n",
    "\n",
    "# create a data directory\n",
    "!mkdir data_dir\n",
    "\n",
    "# download images and annotations to the data directory\n",
    "!wget http://msvocds.blob.core.windows.net/annotations-1-0-3/captions_train-val2014.zip -P ./data_dir/\n",
    "!wget http://images.cocodataset.org/zips/train2014.zip -P ./data_dir/\n",
    "!wget http://images.cocodataset.org/zips/val2014.zip -P ./data_dir/\n",
    "\n",
    "# extract zipped images and annotations and remove the zip files\n",
    "!unzip ./data_dir/captions_train-val2014.zip -d ./data_dir/\n",
    "!rm ./data_dir/captions_train-val2014.zip\n",
    "!unzip ./data_dir/train2014.zip -d ./data_dir/\n",
    "!rm ./data_dir/train2014.zip\n",
    "!unzip ./data_dir/val2014.zip -d ./data_dir/\n",
    "!rm ./data_dir/val2014.zip"
   ]
  }
 ],
 "metadata": {
  "kernelspec": {
   "display_name": "Python 3",
   "language": "python",
   "name": "python3"
  },
  "language_info": {
   "codemirror_mode": {
    "name": "ipython",
    "version": 2
   },
   "file_extension": ".py",
   "mimetype": "text/x-python",
   "name": "python",
   "nbconvert_exporter": "python",
   "pygments_lexer": "ipython2",
   "version": "2.7.6"
  }
 },
 "nbformat": 4,
 "nbformat_minor": 0
}