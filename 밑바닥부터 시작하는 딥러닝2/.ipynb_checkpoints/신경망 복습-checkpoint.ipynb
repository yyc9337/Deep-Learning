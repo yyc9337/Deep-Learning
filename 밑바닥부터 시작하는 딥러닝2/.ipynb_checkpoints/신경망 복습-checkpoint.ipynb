{
 "cells": [
  {
   "cell_type": "code",
   "execution_count": 53,
   "id": "bc25ecfc",
   "metadata": {
    "ExecuteTime": {
     "end_time": "2022-03-23T07:48:56.986422Z",
     "start_time": "2022-03-23T07:48:56.967448Z"
    }
   },
   "outputs": [
    {
     "name": "stdout",
     "output_type": "stream",
     "text": [
      "(100, 4)\n"
     ]
    }
   ],
   "source": [
    "import numpy as np\n",
    "\n",
    "W1 = np.random.randn(2,4)\n",
    "b1 = np.random.randn(4)\n",
    "x = np.random.randn(100, 2)\n",
    "h = np.matmul(x, W1) +b1\n",
    "W1\n",
    "print(h.shape)\n",
    "#print(h)\n"
   ]
  },
  {
   "cell_type": "code",
   "execution_count": null,
   "id": "7f0e47f6",
   "metadata": {},
   "outputs": [],
   "source": []
  }
 ],
 "metadata": {
  "kernelspec": {
   "display_name": "yyc",
   "language": "python",
   "name": "yyc"
  },
  "language_info": {
   "codemirror_mode": {
    "name": "ipython",
    "version": 3
   },
   "file_extension": ".py",
   "mimetype": "text/x-python",
   "name": "python",
   "nbconvert_exporter": "python",
   "pygments_lexer": "ipython3",
   "version": "3.7.6"
  }
 },
 "nbformat": 4,
 "nbformat_minor": 5
}
