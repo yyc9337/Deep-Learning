{
 "cells": [
  {
   "cell_type": "code",
   "execution_count": 3,
   "metadata": {
    "id": "oackS8xHZp97"
   },
   "outputs": [],
   "source": [
    "# coding: utf-8\n",
    "import sys\n",
    "import matplotlib.pyplot as plt\n",
    "import numpy as np\n",
    "from common.optimizer import SGD\n",
    "from dataset import ptb\n",
    "\n",
    "\n",
    "sys.path.append('../예제/')\n",
    "from common.time_layers import *"
   ]
  },
  {
   "cell_type": "code",
   "execution_count": 4,
   "metadata": {
    "id": "q3CAbTKfJxoB"
   },
   "outputs": [],
   "source": [
    "class SimpleRnnlm:\n",
    "    def __init__(self, vocab_size, wordvec_size, hidden_size):\n",
    "        V, D, H = vocab_size, wordvec_size, hidden_size\n",
    "        rn = np.random.randn\n",
    "\n",
    "        # 가중치 초기화\n",
    "        embed_W = (rn(V, D) / 100).astype('f')\n",
    "        rnn_Wx = (rn(D, H) / np.sqrt(D)).astype('f') ## Xavier 초깃값\n",
    "        rnn_Wh = (rn(H, H) / np.sqrt(H)).astype('f') ## Xavier 초깃값\n",
    "        rnn_b = np.zeros(H).astype('f')\n",
    "        affine_W = (rn(H, V) / np.sqrt(H)).astype('f')   ## Xavier 초깃값\n",
    "        affine_b = np.zeros(V).astype('f')\n",
    "\n",
    "        # 계층 생성\n",
    "        self.layers = [\n",
    "            TimeEmbedding(embed_W),\n",
    "            TimeRNN(rnn_Wx, rnn_Wh, rnn_b, stateful=True),\n",
    "            TimeAffine(affine_W, affine_b)\n",
    "        ]\n",
    "        self.loss_layer = TimeSoftmaxWithLoss()\n",
    "        self.rnn_layer = self.layers[1]\n",
    "\n",
    "        # 모든 가중치와 기울기를 리스트에 모은다.\n",
    "        self.params, self.grads = [], []\n",
    "        for layer in self.layers:\n",
    "            self.params += layer.params\n",
    "            self.grads += layer.grads\n",
    "\n",
    "    def forward(self, xs, ts):\n",
    "        for layer in self.layers:\n",
    "            xs = layer.forward(xs)\n",
    "        loss = self.loss_layer.forward(xs, ts)\n",
    "        return loss\n",
    "\n",
    "    def backward(self, dout=1):\n",
    "        dout = self.loss_layer.backward(dout)\n",
    "        for layer in reversed(self.layers):\n",
    "            dout = layer.backward(dout)\n",
    "        return dout\n",
    "\n",
    "    def reset_state(self):\n",
    "        self.rnn_layer.reset_state()"
   ]
  },
  {
   "cell_type": "code",
   "execution_count": 5,
   "metadata": {
    "id": "wAlk2MIcZxSg"
   },
   "outputs": [],
   "source": [
    "# 하이퍼파라미터 설정\n",
    "batch_size = 10\n",
    "wordvec_size = 100\n",
    "hidden_size = 100 # RNN의 은닉 상태 벡터의 원소 수\n",
    "time_size = 5     # Truncated BPTT가 한 번에 펼치는 시간 크기\n",
    "lr = 0.1\n",
    "max_epoch = 100"
   ]
  },
  {
   "cell_type": "code",
   "execution_count": 6,
   "metadata": {
    "id": "g_dhUAxqZz2w"
   },
   "outputs": [],
   "source": [
    "# 학습 데이터 읽기(전체 중 1000개만)\n",
    "corpus, word_to_id, id_to_word = ptb.load_data('train')\n",
    "corpus_size = 1000\n",
    "corpus = corpus[:corpus_size]\n",
    "vocab_size = int(max(corpus) + 1)"
   ]
  },
  {
   "cell_type": "code",
   "execution_count": 7,
   "metadata": {
    "colab": {
     "base_uri": "https://localhost:8080/"
    },
    "id": "Q7Srq5bkZ3N6",
    "outputId": "585bc495-8e89-4423-dcf3-6ca5bd5da4c1"
   },
   "outputs": [
    {
     "name": "stdout",
     "output_type": "stream",
     "text": [
      "말뭉치 크기: 1000, 어휘 수: 418\n"
     ]
    }
   ],
   "source": [
    "xs = corpus[:-1]  # 입력\n",
    "ts = corpus[1:]   # 출력(정답 레이블)\n",
    "data_size = len(xs)\n",
    "print('말뭉치 크기: %d, 어휘 수: %d' % (corpus_size, vocab_size))"
   ]
  },
  {
   "cell_type": "code",
   "execution_count": 8,
   "metadata": {
    "colab": {
     "base_uri": "https://localhost:8080/",
     "height": 1000
    },
    "id": "SiYaMeXkZmgg",
    "outputId": "7a9c6bb9-2a31-454b-fc6f-e204ab371f7a"
   },
   "outputs": [
    {
     "name": "stdout",
     "output_type": "stream",
     "text": [
      "| 에폭 1 | 퍼플렉서티 387.52\n",
      "| 에폭 2 | 퍼플렉서티 257.40\n",
      "| 에폭 3 | 퍼플렉서티 222.29\n",
      "| 에폭 4 | 퍼플렉서티 214.61\n",
      "| 에폭 5 | 퍼플렉서티 204.27\n",
      "| 에폭 6 | 퍼플렉서티 201.43\n",
      "| 에폭 7 | 퍼플렉서티 198.12\n",
      "| 에폭 8 | 퍼플렉서티 196.42\n",
      "| 에폭 9 | 퍼플렉서티 191.11\n",
      "| 에폭 10 | 퍼플렉서티 192.08\n",
      "| 에폭 11 | 퍼플렉서티 188.95\n",
      "| 에폭 12 | 퍼플렉서티 192.10\n",
      "| 에폭 13 | 퍼플렉서티 189.67\n",
      "| 에폭 14 | 퍼플렉서티 190.21\n",
      "| 에폭 15 | 퍼플렉서티 189.79\n",
      "| 에폭 16 | 퍼플렉서티 185.29\n",
      "| 에폭 17 | 퍼플렉서티 183.76\n",
      "| 에폭 18 | 퍼플렉서티 180.49\n",
      "| 에폭 19 | 퍼플렉서티 181.75\n",
      "| 에폭 20 | 퍼플렉서티 182.96\n",
      "| 에폭 21 | 퍼플렉서티 180.98\n",
      "| 에폭 22 | 퍼플렉서티 176.40\n",
      "| 에폭 23 | 퍼플렉서티 173.10\n",
      "| 에폭 24 | 퍼플렉서티 174.64\n",
      "| 에폭 25 | 퍼플렉서티 172.29\n",
      "| 에폭 26 | 퍼플렉서티 171.95\n",
      "| 에폭 27 | 퍼플렉서티 167.24\n",
      "| 에폭 28 | 퍼플렉서티 165.24\n",
      "| 에폭 29 | 퍼플렉서티 162.71\n",
      "| 에폭 30 | 퍼플렉서티 158.89\n",
      "| 에폭 31 | 퍼플렉서티 159.78\n",
      "| 에폭 32 | 퍼플렉서티 152.11\n",
      "| 에폭 33 | 퍼플렉서티 154.24\n",
      "| 에폭 34 | 퍼플렉서티 147.59\n",
      "| 에폭 35 | 퍼플렉서티 147.22\n",
      "| 에폭 36 | 퍼플렉서티 142.53\n",
      "| 에폭 37 | 퍼플렉서티 137.53\n",
      "| 에폭 38 | 퍼플렉서티 134.37\n",
      "| 에폭 39 | 퍼플렉서티 127.24\n",
      "| 에폭 40 | 퍼플렉서티 124.64\n",
      "| 에폭 41 | 퍼플렉서티 123.16\n",
      "| 에폭 42 | 퍼플렉서티 117.22\n",
      "| 에폭 43 | 퍼플렉서티 112.69\n",
      "| 에폭 44 | 퍼플렉서티 106.12\n",
      "| 에폭 45 | 퍼플렉서티 102.49\n",
      "| 에폭 46 | 퍼플렉서티 101.45\n",
      "| 에폭 47 | 퍼플렉서티 94.85\n",
      "| 에폭 48 | 퍼플렉서티 88.91\n",
      "| 에폭 49 | 퍼플렉서티 86.76\n",
      "| 에폭 50 | 퍼플렉서티 82.94\n",
      "| 에폭 51 | 퍼플렉서티 78.07\n",
      "| 에폭 52 | 퍼플렉서티 76.31\n",
      "| 에폭 53 | 퍼플렉서티 71.15\n",
      "| 에폭 54 | 퍼플렉서티 69.52\n",
      "| 에폭 55 | 퍼플렉서티 66.27\n",
      "| 에폭 56 | 퍼플렉서티 62.76\n",
      "| 에폭 57 | 퍼플렉서티 58.45\n",
      "| 에폭 58 | 퍼플렉서티 55.37\n",
      "| 에폭 59 | 퍼플렉서티 53.36\n",
      "| 에폭 60 | 퍼플렉서티 49.82\n",
      "| 에폭 61 | 퍼플렉서티 48.18\n",
      "| 에폭 62 | 퍼플렉서티 46.24\n",
      "| 에폭 63 | 퍼플렉서티 42.55\n",
      "| 에폭 64 | 퍼플렉서티 40.40\n",
      "| 에폭 65 | 퍼플렉서티 39.23\n",
      "| 에폭 66 | 퍼플렉서티 36.85\n",
      "| 에폭 67 | 퍼플렉서티 36.50\n",
      "| 에폭 68 | 퍼플렉서티 32.00\n",
      "| 에폭 69 | 퍼플렉서티 30.25\n",
      "| 에폭 70 | 퍼플렉서티 30.00\n",
      "| 에폭 71 | 퍼플렉서티 27.98\n",
      "| 에폭 72 | 퍼플렉서티 27.18\n",
      "| 에폭 73 | 퍼플렉서티 25.81\n",
      "| 에폭 74 | 퍼플렉서티 23.76\n",
      "| 에폭 75 | 퍼플렉서티 22.01\n",
      "| 에폭 76 | 퍼플렉서티 21.32\n",
      "| 에폭 77 | 퍼플렉서티 20.04\n",
      "| 에폭 78 | 퍼플렉서티 17.77\n",
      "| 에폭 79 | 퍼플렉서티 18.02\n",
      "| 에폭 80 | 퍼플렉서티 17.03\n",
      "| 에폭 81 | 퍼플렉서티 16.57\n",
      "| 에폭 82 | 퍼플렉서티 15.69\n",
      "| 에폭 83 | 퍼플렉서티 13.86\n",
      "| 에폭 84 | 퍼플렉서티 13.21\n",
      "| 에폭 85 | 퍼플렉서티 12.68\n",
      "| 에폭 86 | 퍼플렉서티 12.15\n",
      "| 에폭 87 | 퍼플렉서티 11.35\n",
      "| 에폭 88 | 퍼플렉서티 10.87\n",
      "| 에폭 89 | 퍼플렉서티 10.47\n",
      "| 에폭 90 | 퍼플렉서티 10.18\n",
      "| 에폭 91 | 퍼플렉서티 9.13\n",
      "| 에폭 92 | 퍼플렉서티 8.50\n",
      "| 에폭 93 | 퍼플렉서티 8.36\n",
      "| 에폭 94 | 퍼플렉서티 8.19\n",
      "| 에폭 95 | 퍼플렉서티 8.06\n",
      "| 에폭 96 | 퍼플렉서티 7.53\n",
      "| 에폭 97 | 퍼플렉서티 6.91\n",
      "| 에폭 98 | 퍼플렉서티 6.56\n",
      "| 에폭 99 | 퍼플렉서티 6.33\n",
      "| 에폭 100 | 퍼플렉서티 6.48\n"
     ]
    },
    {
     "data": {
      "image/png": "[encoded data removed]",
      "text/plain": [
       "<Figure size 432x288 with 1 Axes>"
      ]
     },
     "metadata": {
      "needs_background": "light"
     },
     "output_type": "display_data"
    }
   ],
   "source": [
    "# 학습 시 사용하는 변수\n",
    "max_iters = data_size // (batch_size * time_size)\n",
    "time_idx = 0\n",
    "total_loss = 0\n",
    "loss_count = 0\n",
    "ppl_list = []\n",
    "\n",
    "# 모델 생성\n",
    "model = SimpleRnnlm(vocab_size, wordvec_size, hidden_size)\n",
    "optimizer = SGD(lr)\n",
    "\n",
    "# 미니배치의 각 샘플의 읽기 시작 위치를 계산\n",
    "jump = (corpus_size - 1) // batch_size\n",
    "offsets = [i * jump for i in range(batch_size)]\n",
    "\n",
    "for epoch in range(max_epoch):\n",
    "    for iter in range(max_iters):\n",
    "        # 미니배치 취득\n",
    "        batch_x = np.empty((batch_size, time_size), dtype='i')\n",
    "        batch_t = np.empty((batch_size, time_size), dtype='i')\n",
    "        for t in range(time_size):\n",
    "            for i, offset in enumerate(offsets):\n",
    "                batch_x[i, t] = xs[(offset + time_idx) % data_size]\n",
    "                batch_t[i, t] = ts[(offset + time_idx) % data_size]\n",
    "            time_idx += 1\n",
    "\n",
    "        # 기울기를 구하여 매개변수 갱신\n",
    "        loss = model.forward(batch_x, batch_t)\n",
    "        model.backward()\n",
    "        optimizer.update(model.params, model.grads)\n",
    "        total_loss += loss\n",
    "        loss_count += 1\n",
    "\n",
    "    # 에폭마다 퍼플렉서티 평가\n",
    "    ppl = np.exp(total_loss / loss_count)\n",
    "    print('| 에폭 %d | 퍼플렉서티 %.2f'\n",
    "          % (epoch+1, ppl))\n",
    "    ppl_list.append(float(ppl))\n",
    "    total_loss, loss_count = 0, 0\n",
    "\n",
    "# 그래프 그리기\n",
    "x = np.arange(len(ppl_list))\n",
    "plt.plot(x, ppl_list, label='train')\n",
    "plt.xlabel('epochs')\n",
    "plt.ylabel('perplexity')\n",
    "plt.show()"
   ]
  }
 ],
 "metadata": {
  "colab": {
   "collapsed_sections": [],
   "name": "Simple_Rnnlm.ipynb",
   "provenance": []
  },
  "kernelspec": {
   "display_name": "Python 3 (ipykernel)",
   "language": "python",
   "name": "python3"
  },
  "language_info": {
   "codemirror_mode": {
    "name": "ipython",
    "version": 3
   },
   "file_extension": ".py",
   "mimetype": "text/x-python",
   "name": "python",
   "nbconvert_exporter": "python",
   "pygments_lexer": "ipython3",
   "version": "3.7.6"
  }
 },
 "nbformat": 4,
 "nbformat_minor": 1
}
