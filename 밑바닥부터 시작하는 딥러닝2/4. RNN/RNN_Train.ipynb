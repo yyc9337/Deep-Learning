{
 "cells": [
  {
   "cell_type": "code",
   "execution_count": 2,
   "id": "fdac27f9",
   "metadata": {
    "ExecuteTime": {
     "end_time": "2022-04-05T02:33:16.709865Z",
     "start_time": "2022-04-05T02:33:16.655869Z"
    }
   },
   "outputs": [],
   "source": [
    "# coding: utf-8\n",
    "import sys\n",
    "sys.path.append('../예제/')\n",
    "sys.path.append('../예제/ch05')\n",
    "from common.optimizer import SGD\n",
    "from common.trainer import RnnlmTrainer\n",
    "from dataset import ptb\n",
    "from simple_rnnlm import SimpleRnnlm"
   ]
  },
  {
   "cell_type": "code",
   "execution_count": 3,
   "id": "17f5211e",
   "metadata": {
    "ExecuteTime": {
     "end_time": "2022-04-05T02:34:18.832759Z",
     "start_time": "2022-04-05T02:34:18.811767Z"
    }
   },
   "outputs": [],
   "source": [
    "# 하이퍼파라미터 설정\n",
    "batch_size = 10\n",
    "wordvec_size = 100\n",
    "hidden_size = 100  # RNN의 은닉 상태 벡터의 원소 수\n",
    "time_size = 5  # RNN을 펼치는 크기\n",
    "lr = 0.1\n",
    "max_epoch = 100"
   ]
  },
  {
   "cell_type": "code",
   "execution_count": 4,
   "id": "8c60b011",
   "metadata": {
    "ExecuteTime": {
     "end_time": "2022-04-05T02:34:19.895230Z",
     "start_time": "2022-04-05T02:34:19.843234Z"
    }
   },
   "outputs": [],
   "source": [
    "# 학습 데이터 읽기\n",
    "corpus, word_to_id, id_to_word = ptb.load_data('train')\n",
    "corpus_size = 1000  # 테스트 데이터셋을 작게 설정\n",
    "corpus = corpus[:corpus_size]\n",
    "vocab_size = int(max(corpus) + 1)\n",
    "xs = corpus[:-1]  # 입력\n",
    "ts = corpus[1:]  # 출력（정답 레이블）"
   ]
  },
  {
   "cell_type": "code",
   "execution_count": 5,
   "id": "4fe0455f",
   "metadata": {
    "ExecuteTime": {
     "end_time": "2022-04-05T02:34:29.096346Z",
     "start_time": "2022-04-05T02:34:21.043862Z"
    }
   },
   "outputs": [
    {
     "name": "stdout",
     "output_type": "stream",
     "text": [
      "| 에폭 1 |  반복 1 / 19 | 시간 0[s] | 퍼플렉서티 416.75\n",
      "| 에폭 2 |  반복 1 / 19 | 시간 0[s] | 퍼플렉서티 395.54\n",
      "| 에폭 3 |  반복 1 / 19 | 시간 0[s] | 퍼플렉서티 272.70\n",
      "| 에폭 4 |  반복 1 / 19 | 시간 0[s] | 퍼플렉서티 220.75\n",
      "| 에폭 5 |  반복 1 / 19 | 시간 0[s] | 퍼플렉서티 208.89\n",
      "| 에폭 6 |  반복 1 / 19 | 시간 0[s] | 퍼플렉서티 207.07\n",
      "| 에폭 7 |  반복 1 / 19 | 시간 0[s] | 퍼플렉서티 200.26\n",
      "| 에폭 8 |  반복 1 / 19 | 시간 0[s] | 퍼플렉서티 198.87\n",
      "| 에폭 9 |  반복 1 / 19 | 시간 0[s] | 퍼플렉서티 193.56\n",
      "| 에폭 10 |  반복 1 / 19 | 시간 0[s] | 퍼플렉서티 189.09\n",
      "| 에폭 11 |  반복 1 / 19 | 시간 0[s] | 퍼플렉서티 190.63\n",
      "| 에폭 12 |  반복 1 / 19 | 시간 0[s] | 퍼플렉서티 187.14\n",
      "| 에폭 13 |  반복 1 / 19 | 시간 1[s] | 퍼플렉서티 190.64\n",
      "| 에폭 14 |  반복 1 / 19 | 시간 1[s] | 퍼플렉서티 184.96\n",
      "| 에폭 15 |  반복 1 / 19 | 시간 1[s] | 퍼플렉서티 184.40\n",
      "| 에폭 16 |  반복 1 / 19 | 시간 1[s] | 퍼플렉서티 188.89\n",
      "| 에폭 17 |  반복 1 / 19 | 시간 1[s] | 퍼플렉서티 187.47\n",
      "| 에폭 18 |  반복 1 / 19 | 시간 1[s] | 퍼플렉서티 181.54\n",
      "| 에폭 19 |  반복 1 / 19 | 시간 1[s] | 퍼플렉서티 180.86\n",
      "| 에폭 20 |  반복 1 / 19 | 시간 1[s] | 퍼플렉서티 179.87\n",
      "| 에폭 21 |  반복 1 / 19 | 시간 1[s] | 퍼플렉서티 177.06\n",
      "| 에폭 22 |  반복 1 / 19 | 시간 1[s] | 퍼플렉서티 174.74\n",
      "| 에폭 23 |  반복 1 / 19 | 시간 1[s] | 퍼플렉서티 176.81\n",
      "| 에폭 24 |  반복 1 / 19 | 시간 1[s] | 퍼플렉서티 174.07\n",
      "| 에폭 25 |  반복 1 / 19 | 시간 1[s] | 퍼플렉서티 166.82\n",
      "| 에폭 26 |  반복 1 / 19 | 시간 2[s] | 퍼플렉서티 170.12\n",
      "| 에폭 27 |  반복 1 / 19 | 시간 2[s] | 퍼플렉서티 166.79\n",
      "| 에폭 28 |  반복 1 / 19 | 시간 2[s] | 퍼플렉서티 164.83\n",
      "| 에폭 29 |  반복 1 / 19 | 시간 2[s] | 퍼플렉서티 161.29\n",
      "| 에폭 30 |  반복 1 / 19 | 시간 2[s] | 퍼플렉서티 159.23\n",
      "| 에폭 31 |  반복 1 / 19 | 시간 2[s] | 퍼플렉서티 153.61\n",
      "| 에폭 32 |  반복 1 / 19 | 시간 2[s] | 퍼플렉서티 149.25\n",
      "| 에폭 33 |  반복 1 / 19 | 시간 2[s] | 퍼플렉서티 148.95\n",
      "| 에폭 34 |  반복 1 / 19 | 시간 2[s] | 퍼플렉서티 148.63\n",
      "| 에폭 35 |  반복 1 / 19 | 시간 2[s] | 퍼플렉서티 140.23\n",
      "| 에폭 36 |  반복 1 / 19 | 시간 2[s] | 퍼플렉서티 138.10\n",
      "| 에폭 37 |  반복 1 / 19 | 시간 2[s] | 퍼플렉서티 138.61\n",
      "| 에폭 38 |  반복 1 / 19 | 시간 2[s] | 퍼플렉서티 129.93\n",
      "| 에폭 39 |  반복 1 / 19 | 시간 2[s] | 퍼플렉서티 126.65\n",
      "| 에폭 40 |  반복 1 / 19 | 시간 3[s] | 퍼플렉서티 121.54\n",
      "| 에폭 41 |  반복 1 / 19 | 시간 3[s] | 퍼플렉서티 115.27\n",
      "| 에폭 42 |  반복 1 / 19 | 시간 3[s] | 퍼플렉서티 114.61\n",
      "| 에폭 43 |  반복 1 / 19 | 시간 3[s] | 퍼플렉서티 110.64\n",
      "| 에폭 44 |  반복 1 / 19 | 시간 3[s] | 퍼플렉서티 107.96\n",
      "| 에폭 45 |  반복 1 / 19 | 시간 3[s] | 퍼플렉서티 98.42\n",
      "| 에폭 46 |  반복 1 / 19 | 시간 3[s] | 퍼플렉서티 96.21\n",
      "| 에폭 47 |  반복 1 / 19 | 시간 3[s] | 퍼플렉서티 95.85\n",
      "| 에폭 48 |  반복 1 / 19 | 시간 3[s] | 퍼플렉서티 90.76\n",
      "| 에폭 49 |  반복 1 / 19 | 시간 3[s] | 퍼플렉서티 85.89\n",
      "| 에폭 50 |  반복 1 / 19 | 시간 3[s] | 퍼플렉서티 80.50\n",
      "| 에폭 51 |  반복 1 / 19 | 시간 3[s] | 퍼플렉서티 78.42\n",
      "| 에폭 52 |  반복 1 / 19 | 시간 4[s] | 퍼플렉서티 73.51\n",
      "| 에폭 53 |  반복 1 / 19 | 시간 4[s] | 퍼플렉서티 71.35\n",
      "| 에폭 54 |  반복 1 / 19 | 시간 4[s] | 퍼플렉서티 66.62\n",
      "| 에폭 55 |  반복 1 / 19 | 시간 4[s] | 퍼플렉서티 65.23\n",
      "| 에폭 56 |  반복 1 / 19 | 시간 4[s] | 퍼플렉서티 60.37\n",
      "| 에폭 57 |  반복 1 / 19 | 시간 4[s] | 퍼플렉서티 60.14\n",
      "| 에폭 58 |  반복 1 / 19 | 시간 4[s] | 퍼플렉서티 54.05\n",
      "| 에폭 59 |  반복 1 / 19 | 시간 4[s] | 퍼플렉서티 51.20\n",
      "| 에폭 60 |  반복 1 / 19 | 시간 4[s] | 퍼플렉서티 48.99\n",
      "| 에폭 61 |  반복 1 / 19 | 시간 4[s] | 퍼플렉서티 45.48\n",
      "| 에폭 62 |  반복 1 / 19 | 시간 4[s] | 퍼플렉서티 43.85\n",
      "| 에폭 63 |  반복 1 / 19 | 시간 4[s] | 퍼플렉서티 42.02\n",
      "| 에폭 64 |  반복 1 / 19 | 시간 4[s] | 퍼플렉서티 39.20\n",
      "| 에폭 65 |  반복 1 / 19 | 시간 5[s] | 퍼플렉서티 36.16\n",
      "| 에폭 66 |  반복 1 / 19 | 시간 5[s] | 퍼플렉서티 35.25\n",
      "| 에폭 67 |  반복 1 / 19 | 시간 5[s] | 퍼플렉서티 32.39\n",
      "| 에폭 68 |  반복 1 / 19 | 시간 5[s] | 퍼플렉서티 30.99\n",
      "| 에폭 69 |  반복 1 / 19 | 시간 5[s] | 퍼플렉서티 28.80\n",
      "| 에폭 70 |  반복 1 / 19 | 시간 5[s] | 퍼플렉서티 26.86\n",
      "| 에폭 71 |  반복 1 / 19 | 시간 5[s] | 퍼플렉서티 26.30\n",
      "| 에폭 72 |  반복 1 / 19 | 시간 5[s] | 퍼플렉서티 24.76\n",
      "| 에폭 73 |  반복 1 / 19 | 시간 5[s] | 퍼플렉서티 23.23\n",
      "| 에폭 74 |  반복 1 / 19 | 시간 5[s] | 퍼플렉서티 21.83\n",
      "| 에폭 75 |  반복 1 / 19 | 시간 5[s] | 퍼플렉서티 20.57\n",
      "| 에폭 76 |  반복 1 / 19 | 시간 5[s] | 퍼플렉서티 19.54\n",
      "| 에폭 77 |  반복 1 / 19 | 시간 5[s] | 퍼플렉서티 18.92\n",
      "| 에폭 78 |  반복 1 / 19 | 시간 6[s] | 퍼플렉서티 17.28\n",
      "| 에폭 79 |  반복 1 / 19 | 시간 6[s] | 퍼플렉서티 16.13\n",
      "| 에폭 80 |  반복 1 / 19 | 시간 6[s] | 퍼플렉서티 14.74\n",
      "| 에폭 81 |  반복 1 / 19 | 시간 6[s] | 퍼플렉서티 14.76\n",
      "| 에폭 82 |  반복 1 / 19 | 시간 6[s] | 퍼플렉서티 13.67\n",
      "| 에폭 83 |  반복 1 / 19 | 시간 6[s] | 퍼플렉서티 12.88\n",
      "| 에폭 84 |  반복 1 / 19 | 시간 6[s] | 퍼플렉서티 12.22\n",
      "| 에폭 85 |  반복 1 / 19 | 시간 6[s] | 퍼플렉서티 11.85\n",
      "| 에폭 86 |  반복 1 / 19 | 시간 6[s] | 퍼플렉서티 11.08\n",
      "| 에폭 87 |  반복 1 / 19 | 시간 6[s] | 퍼플렉서티 10.48\n",
      "| 에폭 88 |  반복 1 / 19 | 시간 6[s] | 퍼플렉서티 9.57\n",
      "| 에폭 89 |  반복 1 / 19 | 시간 6[s] | 퍼플렉서티 9.39\n",
      "| 에폭 90 |  반복 1 / 19 | 시간 6[s] | 퍼플렉서티 8.73\n",
      "| 에폭 91 |  반복 1 / 19 | 시간 7[s] | 퍼플렉서티 8.52\n",
      "| 에폭 92 |  반복 1 / 19 | 시간 7[s] | 퍼플렉서티 8.42\n",
      "| 에폭 93 |  반복 1 / 19 | 시간 7[s] | 퍼플렉서티 7.72\n",
      "| 에폭 94 |  반복 1 / 19 | 시간 7[s] | 퍼플렉서티 7.42\n",
      "| 에폭 95 |  반복 1 / 19 | 시간 7[s] | 퍼플렉서티 6.83\n",
      "| 에폭 96 |  반복 1 / 19 | 시간 7[s] | 퍼플렉서티 6.72\n",
      "| 에폭 97 |  반복 1 / 19 | 시간 7[s] | 퍼플렉서티 6.31\n",
      "| 에폭 98 |  반복 1 / 19 | 시간 7[s] | 퍼플렉서티 6.05\n",
      "| 에폭 99 |  반복 1 / 19 | 시간 7[s] | 퍼플렉서티 5.57\n",
      "| 에폭 100 |  반복 1 / 19 | 시간 7[s] | 퍼플렉서티 5.31\n"
     ]
    },
    {
     "name": "stderr",
     "output_type": "stream",
     "text": [
      "C:\\Users\\inp032\\.conda\\envs\\yyc\\lib\\site-packages\\matplotlib\\backends\\backend_agg.py:240: RuntimeWarning: Glyph 48152 missing from current font.\n",
      "  font.set_text(s, 0.0, flags=flags)\n",
      "C:\\Users\\inp032\\.conda\\envs\\yyc\\lib\\site-packages\\matplotlib\\backends\\backend_agg.py:240: RuntimeWarning: Glyph 48373 missing from current font.\n",
      "  font.set_text(s, 0.0, flags=flags)\n",
      "C:\\Users\\inp032\\.conda\\envs\\yyc\\lib\\site-packages\\matplotlib\\backends\\backend_agg.py:240: RuntimeWarning: Glyph 54140 missing from current font.\n",
      "  font.set_text(s, 0.0, flags=flags)\n",
      "C:\\Users\\inp032\\.conda\\envs\\yyc\\lib\\site-packages\\matplotlib\\backends\\backend_agg.py:240: RuntimeWarning: Glyph 54540 missing from current font.\n",
      "  font.set_text(s, 0.0, flags=flags)\n",
      "C:\\Users\\inp032\\.conda\\envs\\yyc\\lib\\site-packages\\matplotlib\\backends\\backend_agg.py:240: RuntimeWarning: Glyph 47113 missing from current font.\n",
      "  font.set_text(s, 0.0, flags=flags)\n",
      "C:\\Users\\inp032\\.conda\\envs\\yyc\\lib\\site-packages\\matplotlib\\backends\\backend_agg.py:240: RuntimeWarning: Glyph 49436 missing from current font.\n",
      "  font.set_text(s, 0.0, flags=flags)\n",
      "C:\\Users\\inp032\\.conda\\envs\\yyc\\lib\\site-packages\\matplotlib\\backends\\backend_agg.py:240: RuntimeWarning: Glyph 54000 missing from current font.\n",
      "  font.set_text(s, 0.0, flags=flags)\n",
      "C:\\Users\\inp032\\.conda\\envs\\yyc\\lib\\site-packages\\matplotlib\\backends\\backend_agg.py:203: RuntimeWarning: Glyph 48152 missing from current font.\n",
      "  font.set_text(s, 0, flags=flags)\n",
      "C:\\Users\\inp032\\.conda\\envs\\yyc\\lib\\site-packages\\matplotlib\\backends\\backend_agg.py:203: RuntimeWarning: Glyph 48373 missing from current font.\n",
      "  font.set_text(s, 0, flags=flags)\n",
      "C:\\Users\\inp032\\.conda\\envs\\yyc\\lib\\site-packages\\matplotlib\\backends\\backend_agg.py:203: RuntimeWarning: Glyph 54140 missing from current font.\n",
      "  font.set_text(s, 0, flags=flags)\n",
      "C:\\Users\\inp032\\.conda\\envs\\yyc\\lib\\site-packages\\matplotlib\\backends\\backend_agg.py:203: RuntimeWarning: Glyph 54540 missing from current font.\n",
      "  font.set_text(s, 0, flags=flags)\n",
      "C:\\Users\\inp032\\.conda\\envs\\yyc\\lib\\site-packages\\matplotlib\\backends\\backend_agg.py:203: RuntimeWarning: Glyph 47113 missing from current font.\n",
      "  font.set_text(s, 0, flags=flags)\n",
      "C:\\Users\\inp032\\.conda\\envs\\yyc\\lib\\site-packages\\matplotlib\\backends\\backend_agg.py:203: RuntimeWarning: Glyph 49436 missing from current font.\n",
      "  font.set_text(s, 0, flags=flags)\n",
      "C:\\Users\\inp032\\.conda\\envs\\yyc\\lib\\site-packages\\matplotlib\\backends\\backend_agg.py:203: RuntimeWarning: Glyph 54000 missing from current font.\n",
      "  font.set_text(s, 0, flags=flags)\n"
     ]
    },
    {
     "data": {
      "image/png": "[encoded data removed]",
      "text/plain": [
       "<Figure size 432x288 with 1 Axes>"
      ]
     },
     "metadata": {
      "needs_background": "light"
     },
     "output_type": "display_data"
    }
   ],
   "source": [
    "# 모델 생성\n",
    "model = SimpleRnnlm(vocab_size, wordvec_size, hidden_size)\n",
    "optimizer = SGD(lr)\n",
    "trainer = RnnlmTrainer(model, optimizer)\n",
    "\n",
    "trainer.fit(xs, ts, max_epoch, batch_size, time_size)\n",
    "trainer.plot()"
   ]
  }
 ],
 "metadata": {
  "kernelspec": {
   "display_name": "yyc",
   "language": "python",
   "name": "yyc"
  },
  "language_info": {
   "codemirror_mode": {
    "name": "ipython",
    "version": 3
   },
   "file_extension": ".py",
   "mimetype": "text/x-python",
   "name": "python",
   "nbconvert_exporter": "python",
   "pygments_lexer": "ipython3",
   "version": "3.7.6"
  },
  "toc": {
   "base_numbering": 1,
   "nav_menu": {},
   "number_sections": true,
   "sideBar": true,
   "skip_h1_title": false,
   "title_cell": "Table of Contents",
   "title_sidebar": "Contents",
   "toc_cell": false,
   "toc_position": {},
   "toc_section_display": true,
   "toc_window_display": false
  }
 },
 "nbformat": 4,
 "nbformat_minor": 5
}
