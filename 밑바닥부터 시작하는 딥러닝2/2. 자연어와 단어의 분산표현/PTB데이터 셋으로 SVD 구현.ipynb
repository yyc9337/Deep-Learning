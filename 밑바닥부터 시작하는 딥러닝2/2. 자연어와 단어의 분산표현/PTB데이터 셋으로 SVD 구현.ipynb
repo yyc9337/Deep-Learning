{
 "cells": [
  {
   "cell_type": "code",
   "execution_count": 1,
   "id": "303fa2ae",
   "metadata": {
    "ExecuteTime": {
     "end_time": "2022-03-29T01:04:12.021512Z",
     "start_time": "2022-03-29T01:04:11.814510Z"
    }
   },
   "outputs": [
    {
     "name": "stdout",
     "output_type": "stream",
     "text": [
      "말뭉치 크기: 929589\n",
      "corpus[:30]: [ 0  1  2  3  4  5  6  7  8  9 10 11 12 13 14 15 16 17 18 19 20 21 22 23\n",
      " 24 25 26 27 28 29]\n",
      "\n",
      "id_to_word[0]: aer\n",
      "id_to_word[1]: banknote\n",
      "id_to_word[2]: berlitz\n",
      "\n",
      "word_to_id['car']: 3856\n",
      "word_to_id['happy']: 4428\n",
      "word_to_id['lexus']: 7426\n"
     ]
    }
   ],
   "source": [
    "# coding: utf-8\n",
    "import sys\n",
    "sys.path.append('../예제/')\n",
    "from dataset import ptb\n",
    "from common.util import most_similar, create_co_matrix, ppmi\n",
    "\n",
    "corpus, word_to_id, id_to_word = ptb.load_data('train')\n",
    "\n",
    "print('말뭉치 크기:', len(corpus))\n",
    "print('corpus[:30]:', corpus[:30])\n",
    "print()\n",
    "print('id_to_word[0]:', id_to_word[0])\n",
    "print('id_to_word[1]:', id_to_word[1])\n",
    "print('id_to_word[2]:', id_to_word[2])\n",
    "print()\n",
    "print(\"word_to_id['car']:\", word_to_id['car'])\n",
    "print(\"word_to_id['happy']:\", word_to_id['happy'])\n",
    "print(\"word_to_id['lexus']:\", word_to_id['lexus'])\n"
   ]
  },
  {
   "cell_type": "code",
   "execution_count": 2,
   "id": "9a68df56",
   "metadata": {
    "ExecuteTime": {
     "end_time": "2022-03-29T01:09:56.131198Z",
     "start_time": "2022-03-29T01:04:13.438765Z"
    }
   },
   "outputs": [
    {
     "name": "stdout",
     "output_type": "stream",
     "text": [
      "동시발생 수 계산 ...\n",
      "PPMI 계산 ...\n"
     ]
    },
    {
     "name": "stderr",
     "output_type": "stream",
     "text": [
      "../예제\\common\\util.py:141: RuntimeWarning: overflow encountered in long_scalars\n",
      "  pmi = np.log2(C[i, j] * N / (S[j]*S[i]) + eps)\n",
      "../예제\\common\\util.py:141: RuntimeWarning: invalid value encountered in log2\n",
      "  pmi = np.log2(C[i, j] * N / (S[j]*S[i]) + eps)\n"
     ]
    },
    {
     "name": "stdout",
     "output_type": "stream",
     "text": [
      "1.0% 완료\n",
      "2.0% 완료\n",
      "3.0% 완료\n",
      "4.0% 완료\n",
      "5.0% 완료\n",
      "6.0% 완료\n",
      "7.0% 완료\n",
      "8.0% 완료\n",
      "9.0% 완료\n",
      "10.0% 완료\n",
      "11.0% 완료\n",
      "12.0% 완료\n",
      "13.0% 완료\n",
      "14.0% 완료\n",
      "15.0% 완료\n",
      "16.0% 완료\n",
      "17.0% 완료\n",
      "18.0% 완료\n",
      "19.0% 완료\n",
      "20.0% 완료\n",
      "21.0% 완료\n",
      "22.0% 완료\n",
      "23.0% 완료\n",
      "24.0% 완료\n",
      "25.0% 완료\n",
      "26.0% 완료\n",
      "27.0% 완료\n",
      "28.0% 완료\n",
      "29.0% 완료\n",
      "30.0% 완료\n",
      "31.0% 완료\n",
      "32.0% 완료\n",
      "33.0% 완료\n",
      "34.0% 완료\n",
      "35.0% 완료\n",
      "36.0% 완료\n",
      "37.0% 완료\n",
      "38.0% 완료\n",
      "39.0% 완료\n",
      "40.0% 완료\n",
      "41.0% 완료\n",
      "42.0% 완료\n",
      "43.0% 완료\n",
      "44.0% 완료\n",
      "45.0% 완료\n",
      "46.0% 완료\n",
      "47.0% 완료\n",
      "48.0% 완료\n",
      "49.0% 완료\n",
      "50.0% 완료\n",
      "51.0% 완료\n",
      "52.0% 완료\n",
      "53.0% 완료\n",
      "54.0% 완료\n",
      "55.0% 완료\n",
      "56.0% 완료\n",
      "57.0% 완료\n",
      "58.0% 완료\n",
      "59.0% 완료\n",
      "60.0% 완료\n",
      "61.0% 완료\n",
      "62.0% 완료\n",
      "63.0% 완료\n",
      "64.0% 완료\n",
      "65.0% 완료\n",
      "66.0% 완료\n",
      "67.0% 완료\n",
      "68.0% 완료\n",
      "69.0% 완료\n",
      "70.0% 완료\n",
      "71.0% 완료\n",
      "72.0% 완료\n",
      "73.0% 완료\n",
      "74.0% 완료\n",
      "75.0% 완료\n",
      "76.0% 완료\n",
      "77.0% 완료\n",
      "78.0% 완료\n",
      "79.0% 완료\n",
      "80.0% 완료\n",
      "81.0% 완료\n",
      "82.0% 완료\n",
      "83.0% 완료\n",
      "84.0% 완료\n",
      "85.0% 완료\n",
      "86.0% 완료\n",
      "87.0% 완료\n",
      "88.0% 완료\n",
      "89.0% 완료\n",
      "90.0% 완료\n",
      "91.0% 완료\n",
      "92.0% 완료\n",
      "93.0% 완료\n",
      "94.0% 완료\n",
      "95.0% 완료\n",
      "96.0% 완료\n",
      "97.0% 완료\n",
      "98.0% 완료\n",
      "99.0% 완료\n",
      "calculating SVD ...\n",
      "\n",
      "[query] you\n",
      " i: 0.7195566296577454\n",
      " we: 0.6464656591415405\n",
      " me: 0.5413653254508972\n",
      " anybody: 0.5236579775810242\n",
      " 'll: 0.5211734175682068\n",
      "\n",
      "[query] year\n",
      " month: 0.6899698376655579\n",
      " last: 0.6327958106994629\n",
      " earlier: 0.6240954995155334\n",
      " next: 0.6176614165306091\n",
      " quarter: 0.6169272065162659\n",
      "\n",
      "[query] car\n",
      " luxury: 0.6529150605201721\n",
      " auto: 0.6135764718055725\n",
      " cars: 0.5495232939720154\n",
      " truck: 0.5442032217979431\n",
      " vehicle: 0.4587703347206116\n",
      "\n",
      "[query] toyota\n",
      " motor: 0.7327330708503723\n",
      " motors: 0.6827994585037231\n",
      " lexus: 0.6384904980659485\n",
      " honda: 0.6290525197982788\n",
      " nissan: 0.6090517640113831\n"
     ]
    }
   ],
   "source": [
    "window_size = 2\n",
    "wordvec_size = 100\n",
    "\n",
    "corpus, word_to_id, id_to_word = ptb.load_data('train')\n",
    "vocab_size = len(word_to_id)\n",
    "print('동시발생 수 계산 ...')\n",
    "C = create_co_matrix(corpus, vocab_size, window_size)\n",
    "print('PPMI 계산 ...')\n",
    "W = ppmi(C, verbose=True)\n",
    "\n",
    "print('calculating SVD ...')\n",
    "try:\n",
    "    # truncated SVD (빠르다!)\n",
    "    from sklearn.utils.extmath import randomized_svd\n",
    "    U, S, V = randomized_svd(W, n_components=wordvec_size, n_iter=5,\n",
    "                             random_state=None)\n",
    "except ImportError:\n",
    "    # SVD (느리다)\n",
    "    U, S, V = np.linalg.svd(W)\n",
    "\n",
    "word_vecs = U[:, :wordvec_size]\n",
    "\n",
    "querys = ['you', 'year', 'car', 'toyota']\n",
    "for query in querys:\n",
    "    most_similar(query, word_to_id, id_to_word, word_vecs, top=5)\n"
   ]
  },
  {
   "cell_type": "code",
   "execution_count": 3,
   "id": "e0c65ebb",
   "metadata": {
    "ExecuteTime": {
     "end_time": "2022-03-29T01:09:56.878754Z",
     "start_time": "2022-03-29T01:09:56.855753Z"
    }
   },
   "outputs": [
    {
     "data": {
      "text/plain": [
       "array([ 1.9211310e-11, -6.7781167e-07,  3.5851545e-07,  1.0815326e-06,\n",
       "        1.3876058e-06,  4.8859994e-07, -1.4812988e-06, -2.6902621e-06,\n",
       "        7.3709266e-08,  4.2265588e-06,  1.9712004e-06,  2.1389358e-06,\n",
       "       -1.0029461e-06, -8.9444920e-06,  4.7626440e-06,  3.4123746e-06,\n",
       "        7.2957246e-06, -1.3147410e-06,  6.3291100e-07,  1.6392099e-07,\n",
       "       -1.7955991e-06,  8.0952077e-06,  6.2260310e-06,  1.4083966e-07,\n",
       "        2.1957207e-05,  6.7731298e-06,  1.5944142e-05, -1.6081911e-05,\n",
       "        1.5144172e-05,  3.8624195e-05, -4.4744743e-06, -4.4308428e-05,\n",
       "        3.0994906e-05,  8.5982028e-06, -1.1136547e-05, -1.9547731e-05,\n",
       "        1.5677146e-05, -3.2163949e-05,  2.3383956e-05,  3.9529099e-05,\n",
       "        2.4616302e-05,  3.9738316e-05,  1.8774350e-05,  6.4432978e-05,\n",
       "        6.7977817e-05,  1.5161558e-05, -8.1099279e-07,  2.2064007e-05,\n",
       "       -6.8765621e-05,  1.1699570e-05, -2.5183152e-05, -3.8238632e-05,\n",
       "        8.3835665e-05,  2.6678235e-05,  5.6350502e-05,  2.5291742e-05,\n",
       "        2.8731200e-05,  1.4684568e-05, -5.9667243e-05, -6.5012362e-05,\n",
       "       -2.3238546e-05,  7.8626013e-05, -1.2961608e-04,  1.9801710e-06,\n",
       "       -2.5555400e-05,  7.9475059e-05, -2.5770270e-05,  4.1114905e-05,\n",
       "        9.7245538e-05,  1.0560140e-04,  9.7631353e-05, -6.6741090e-06,\n",
       "        3.1878585e-06, -9.3146453e-05,  4.8853741e-05, -2.5229407e-05,\n",
       "       -3.0110072e-05,  1.7022092e-05,  6.7376881e-05, -2.8298429e-05,\n",
       "       -1.4493895e-04,  2.6163331e-04,  6.6542605e-05, -2.7153930e-05,\n",
       "        4.8604026e-05, -5.1074003e-05,  8.3562474e-05, -5.2222895e-05,\n",
       "       -1.8523408e-05, -8.9864523e-05,  4.7395468e-05, -4.6466463e-05,\n",
       "       -3.3702156e-05, -3.2631284e-05,  2.0102059e-05,  3.8824943e-05,\n",
       "        6.0434752e-05, -5.6517965e-05, -3.9174723e-05,  1.7396048e-04],\n",
       "      dtype=float32)"
      ]
     },
     "execution_count": 3,
     "metadata": {},
     "output_type": "execute_result"
    }
   ],
   "source": [
    "word_vecs[0]"
   ]
  },
  {
   "cell_type": "code",
   "execution_count": null,
   "id": "d7496f5f",
   "metadata": {},
   "outputs": [],
   "source": [
    "import numpy as np\n",
    "# SVD\n",
    "U, S, V = np.linalg.svd(W)\n",
    "\n",
    "np.set_printoptions(precision=3)  # 유효 자릿수를 세 자리로 표시\n",
    "print(C[0])\n",
    "print(W[0])\n",
    "print(U[0])"
   ]
  },
  {
   "cell_type": "code",
   "execution_count": 8,
   "id": "75de71f9",
   "metadata": {
    "ExecuteTime": {
     "end_time": "2022-03-29T01:23:46.274265Z",
     "start_time": "2022-03-29T01:22:51.414810Z"
    }
   },
   "outputs": [
    {
     "data": {
      "image/png": "[encoded data removed]",
      "text/plain": [
       "<Figure size 432x288 with 1 Axes>"
      ]
     },
     "metadata": {
      "needs_background": "light"
     },
     "output_type": "display_data"
    }
   ],
   "source": [
    "import matplotlib.pyplot as plt\n",
    "# 플롯\n",
    "for word, word_id in word_to_id.items():\n",
    "    plt.annotate(word, (U[word_id, 0], U[word_id, 1]))\n",
    "plt.scatter(U[:,0], U[:,1], alpha=0.5)\n",
    "plt.show()"
   ]
  }
 ],
 "metadata": {
  "kernelspec": {
   "display_name": "yyc",
   "language": "python",
   "name": "yyc"
  },
  "language_info": {
   "codemirror_mode": {
    "name": "ipython",
    "version": 3
   },
   "file_extension": ".py",
   "mimetype": "text/x-python",
   "name": "python",
   "nbconvert_exporter": "python",
   "pygments_lexer": "ipython3",
   "version": "3.7.6"
  },
  "toc": {
   "base_numbering": 1,
   "nav_menu": {},
   "number_sections": true,
   "sideBar": true,
   "skip_h1_title": false,
   "title_cell": "Table of Contents",
   "title_sidebar": "Contents",
   "toc_cell": false,
   "toc_position": {},
   "toc_section_display": true,
   "toc_window_display": false
  }
 },
 "nbformat": 4,
 "nbformat_minor": 5
}
