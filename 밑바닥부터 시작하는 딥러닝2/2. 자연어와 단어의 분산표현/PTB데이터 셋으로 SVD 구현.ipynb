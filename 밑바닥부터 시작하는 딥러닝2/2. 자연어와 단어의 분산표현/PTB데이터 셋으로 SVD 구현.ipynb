{
 "cells": [
  {
   "cell_type": "code",
   "execution_count": 19,
   "id": "303fa2ae",
   "metadata": {
    "ExecuteTime": {
     "end_time": "2022-03-25T04:51:00.479497Z",
     "start_time": "2022-03-25T04:51:00.449497Z"
    }
   },
   "outputs": [
    {
     "name": "stdout",
     "output_type": "stream",
     "text": [
      "말뭉치 크기: 929589\n",
      "corpus[:30]: [ 0  1  2  3  4  5  6  7  8  9 10 11 12 13 14 15 16 17 18 19 20 21 22 23\n",
      " 24 25 26 27 28 29]\n",
      "\n",
      "id_to_word[0]: aer\n",
      "id_to_word[1]: banknote\n",
      "id_to_word[2]: berlitz\n",
      "\n",
      "word_to_id['car']: 3856\n",
      "word_to_id['happy']: 4428\n",
      "word_to_id['lexus']: 7426\n"
     ]
    }
   ],
   "source": [
    "# coding: utf-8\n",
    "import sys\n",
    "sys.path.append('../예제/')\n",
    "from dataset import ptb\n",
    "from common.util import most_similar, create_co_matrix, ppmi\n",
    "\n",
    "corpus, word_to_id, id_to_word = ptb.load_data('train')\n",
    "\n",
    "print('말뭉치 크기:', len(corpus))\n",
    "print('corpus[:30]:', corpus[:30])\n",
    "print()\n",
    "print('id_to_word[0]:', id_to_word[0])\n",
    "print('id_to_word[1]:', id_to_word[1])\n",
    "print('id_to_word[2]:', id_to_word[2])\n",
    "print()\n",
    "print(\"word_to_id['car']:\", word_to_id['car'])\n",
    "print(\"word_to_id['happy']:\", word_to_id['happy'])\n",
    "print(\"word_to_id['lexus']:\", word_to_id['lexus'])\n"
   ]
  },
  {
   "cell_type": "code",
   "execution_count": 20,
   "id": "9a68df56",
   "metadata": {
    "ExecuteTime": {
     "end_time": "2022-03-25T04:57:03.870390Z",
     "start_time": "2022-03-25T04:51:01.788133Z"
    }
   },
   "outputs": [
    {
     "name": "stdout",
     "output_type": "stream",
     "text": [
      "동시발생 수 계산 ...\n",
      "PPMI 계산 ...\n"
     ]
    },
    {
     "name": "stderr",
     "output_type": "stream",
     "text": [
      "../예제\\common\\util.py:141: RuntimeWarning: overflow encountered in long_scalars\n",
      "  pmi = np.log2(C[i, j] * N / (S[j]*S[i]) + eps)\n",
      "../예제\\common\\util.py:141: RuntimeWarning: invalid value encountered in log2\n",
      "  pmi = np.log2(C[i, j] * N / (S[j]*S[i]) + eps)\n"
     ]
    },
    {
     "name": "stdout",
     "output_type": "stream",
     "text": [
      "1.0% 완료\n",
      "2.0% 완료\n",
      "3.0% 완료\n",
      "4.0% 완료\n",
      "5.0% 완료\n",
      "6.0% 완료\n",
      "7.0% 완료\n",
      "8.0% 완료\n",
      "9.0% 완료\n",
      "10.0% 완료\n",
      "11.0% 완료\n",
      "12.0% 완료\n",
      "13.0% 완료\n",
      "14.0% 완료\n",
      "15.0% 완료\n",
      "16.0% 완료\n",
      "17.0% 완료\n",
      "18.0% 완료\n",
      "19.0% 완료\n",
      "20.0% 완료\n",
      "21.0% 완료\n",
      "22.0% 완료\n",
      "23.0% 완료\n",
      "24.0% 완료\n",
      "25.0% 완료\n",
      "26.0% 완료\n",
      "27.0% 완료\n",
      "28.0% 완료\n",
      "29.0% 완료\n",
      "30.0% 완료\n",
      "31.0% 완료\n",
      "32.0% 완료\n",
      "33.0% 완료\n",
      "34.0% 완료\n",
      "35.0% 완료\n",
      "36.0% 완료\n",
      "37.0% 완료\n",
      "38.0% 완료\n",
      "39.0% 완료\n",
      "40.0% 완료\n",
      "41.0% 완료\n",
      "42.0% 완료\n",
      "43.0% 완료\n",
      "44.0% 완료\n",
      "45.0% 완료\n",
      "46.0% 완료\n",
      "47.0% 완료\n",
      "48.0% 완료\n",
      "49.0% 완료\n",
      "50.0% 완료\n",
      "51.0% 완료\n",
      "52.0% 완료\n",
      "53.0% 완료\n",
      "54.0% 완료\n",
      "55.0% 완료\n",
      "56.0% 완료\n",
      "57.0% 완료\n",
      "58.0% 완료\n",
      "59.0% 완료\n",
      "60.0% 완료\n",
      "61.0% 완료\n",
      "62.0% 완료\n",
      "63.0% 완료\n",
      "64.0% 완료\n",
      "65.0% 완료\n",
      "66.0% 완료\n",
      "67.0% 완료\n",
      "68.0% 완료\n",
      "69.0% 완료\n",
      "70.0% 완료\n",
      "71.0% 완료\n",
      "72.0% 완료\n",
      "73.0% 완료\n",
      "74.0% 완료\n",
      "75.0% 완료\n",
      "76.0% 완료\n",
      "77.0% 완료\n",
      "78.0% 완료\n",
      "79.0% 완료\n",
      "80.0% 완료\n",
      "81.0% 완료\n",
      "82.0% 완료\n",
      "83.0% 완료\n",
      "84.0% 완료\n",
      "85.0% 완료\n",
      "86.0% 완료\n",
      "87.0% 완료\n",
      "88.0% 완료\n",
      "89.0% 완료\n",
      "90.0% 완료\n",
      "91.0% 완료\n",
      "92.0% 완료\n",
      "93.0% 완료\n",
      "94.0% 완료\n",
      "95.0% 완료\n",
      "96.0% 완료\n",
      "97.0% 완료\n",
      "98.0% 완료\n",
      "99.0% 완료\n",
      "calculating SVD ...\n",
      "\n",
      "[query] you\n",
      " i: 0.6695335507392883\n",
      " we: 0.6169514060020447\n",
      " someone: 0.5680535435676575\n",
      " do: 0.5605799555778503\n",
      " anybody: 0.5352079272270203\n",
      "\n",
      "[query] year\n",
      " month: 0.6745011210441589\n",
      " last: 0.6540041565895081\n",
      " next: 0.6250247359275818\n",
      " earlier: 0.6248190402984619\n",
      " quarter: 0.6177648305892944\n",
      "\n",
      "[query] car\n",
      " auto: 0.5817971229553223\n",
      " luxury: 0.5137227773666382\n",
      " vehicle: 0.511621356010437\n",
      " lexus: 0.4799751341342926\n",
      " domestic: 0.4558217227458954\n",
      "\n",
      "[query] toyota\n",
      " nissan: 0.6987254619598389\n",
      " motor: 0.6852202415466309\n",
      " honda: 0.6351269483566284\n",
      " motors: 0.6326700448989868\n",
      " lexus: 0.6008598208427429\n"
     ]
    }
   ],
   "source": [
    "window_size = 2\n",
    "wordvec_size = 100\n",
    "\n",
    "corpus, word_to_id, id_to_word = ptb.load_data('train')\n",
    "vocab_size = len(word_to_id)\n",
    "print('동시발생 수 계산 ...')\n",
    "C = create_co_matrix(corpus, vocab_size, window_size)\n",
    "print('PPMI 계산 ...')\n",
    "W = ppmi(C, verbose=True)\n",
    "\n",
    "print('calculating SVD ...')\n",
    "try:\n",
    "    # truncated SVD (빠르다!)\n",
    "    from sklearn.utils.extmath import randomized_svd\n",
    "    U, S, V = randomized_svd(W, n_components=wordvec_size, n_iter=5,\n",
    "                             random_state=None)\n",
    "except ImportError:\n",
    "    # SVD (느리다)\n",
    "    U, S, V = np.linalg.svd(W)\n",
    "\n",
    "word_vecs = U[:, :wordvec_size]\n",
    "\n",
    "querys = ['you', 'year', 'car', 'toyota']\n",
    "for query in querys:\n",
    "    most_similar(query, word_to_id, id_to_word, word_vecs, top=5)\n"
   ]
  },
  {
   "cell_type": "code",
   "execution_count": 29,
   "id": "e0c65ebb",
   "metadata": {
    "ExecuteTime": {
     "end_time": "2022-03-25T05:01:57.355761Z",
     "start_time": "2022-03-25T05:01:57.341767Z"
    }
   },
   "outputs": [
    {
     "data": {
      "text/plain": [
       "array([ 2.9381350e-10,  8.8810111e-07, -1.4343314e-06, -1.5215044e-06,\n",
       "        2.7392790e-07, -2.5225100e-07, -4.4598255e-07,  1.1290151e-06,\n",
       "       -3.2563500e-07, -1.0304192e-06, -2.6597995e-06,  1.8653142e-06,\n",
       "        4.1658432e-06,  4.4816152e-06, -4.4670367e-07, -5.8239602e-06,\n",
       "       -8.6832561e-06, -4.2868703e-07,  2.2923766e-06, -3.3604797e-06,\n",
       "       -1.5806683e-05,  1.5549120e-05,  1.1965754e-05,  6.4608180e-06,\n",
       "       -9.6176664e-06,  1.2414498e-05,  9.2319942e-06,  9.1065531e-06,\n",
       "       -1.0104637e-05,  1.2766383e-05, -8.3986070e-06,  9.4941734e-06,\n",
       "        3.8612197e-05,  5.0062925e-05,  1.6792061e-05,  9.6084577e-06,\n",
       "       -1.2362449e-05, -1.8135948e-05,  4.8186066e-06,  7.7214563e-06,\n",
       "       -3.2421285e-05, -2.6191274e-06,  3.6821919e-05, -2.4322297e-05,\n",
       "        2.0130141e-05, -6.9298931e-06,  1.6517703e-05, -5.6348646e-05,\n",
       "        7.3227391e-05, -4.1421994e-05, -4.3146614e-05, -3.3354248e-05,\n",
       "        8.5839647e-06, -2.0177615e-05, -7.8876903e-05,  2.4189185e-05,\n",
       "       -1.1591114e-06, -2.3313351e-05, -8.8273977e-05, -6.6291423e-06,\n",
       "        7.3596435e-05,  4.0551906e-05,  1.4506723e-05, -1.5464999e-05,\n",
       "       -4.7873713e-05, -3.5130717e-05, -1.0746166e-04,  2.1649896e-05,\n",
       "        5.5798988e-05,  2.5374620e-05,  3.5780122e-05, -4.7238733e-05,\n",
       "        4.4350760e-05,  1.2378021e-05,  2.7810507e-05, -2.0839976e-05,\n",
       "       -6.4290211e-06, -4.8543865e-05, -7.9029072e-05,  4.2622589e-05,\n",
       "       -3.6645644e-05, -1.3372216e-04, -9.1527672e-06, -8.4694948e-06,\n",
       "       -5.2423336e-05, -2.4785211e-05,  1.3856289e-04,  3.8676575e-05,\n",
       "        4.5950092e-05,  1.1112022e-04,  5.0146620e-05,  1.4795714e-04,\n",
       "       -1.0119055e-04, -5.0803999e-05,  5.3534854e-06,  1.2703936e-05,\n",
       "       -1.7755281e-04, -8.7468623e-05,  1.2458369e-04, -8.7483771e-05],\n",
       "      dtype=float32)"
      ]
     },
     "execution_count": 29,
     "metadata": {},
     "output_type": "execute_result"
    }
   ],
   "source": [
    "word_vecs[0]"
   ]
  }
 ],
 "metadata": {
  "kernelspec": {
   "display_name": "yyc",
   "language": "python",
   "name": "yyc"
  },
  "language_info": {
   "codemirror_mode": {
    "name": "ipython",
    "version": 3
   },
   "file_extension": ".py",
   "mimetype": "text/x-python",
   "name": "python",
   "nbconvert_exporter": "python",
   "pygments_lexer": "ipython3",
   "version": "3.7.6"
  },
  "toc": {
   "base_numbering": 1,
   "nav_menu": {},
   "number_sections": true,
   "sideBar": true,
   "skip_h1_title": false,
   "title_cell": "Table of Contents",
   "title_sidebar": "Contents",
   "toc_cell": false,
   "toc_position": {},
   "toc_section_display": true,
   "toc_window_display": false
  }
 },
 "nbformat": 4,
 "nbformat_minor": 5
}
