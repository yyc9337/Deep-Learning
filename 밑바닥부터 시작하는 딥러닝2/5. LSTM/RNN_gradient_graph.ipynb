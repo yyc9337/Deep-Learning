{
 "cells": [
  {
   "cell_type": "code",
   "execution_count": 19,
   "id": "c0e81308",
   "metadata": {
    "ExecuteTime": {
     "end_time": "2022-04-05T04:50:18.646424Z",
     "start_time": "2022-04-05T04:50:18.629120Z"
    }
   },
   "outputs": [],
   "source": [
    "# coding: utf-8\n",
    "import numpy as np\n",
    "import matplotlib.pyplot as plt"
   ]
  },
  {
   "cell_type": "code",
   "execution_count": 20,
   "id": "faf766ec",
   "metadata": {
    "ExecuteTime": {
     "end_time": "2022-04-05T04:50:19.086662Z",
     "start_time": "2022-04-05T04:50:19.077659Z"
    }
   },
   "outputs": [],
   "source": [
    "N = 2   # 미니배치 크기\n",
    "H = 3   # 은닉 상태 벡터의 차원 수\n",
    "T = 20  # 시계열 데이터의 길이"
   ]
  },
  {
   "cell_type": "code",
   "execution_count": 21,
   "id": "4ae1070d",
   "metadata": {
    "ExecuteTime": {
     "end_time": "2022-04-05T04:50:19.429197Z",
     "start_time": "2022-04-05T04:50:19.421193Z"
    }
   },
   "outputs": [],
   "source": [
    "dh = np.ones((N, H))\n",
    "\n",
    "np.random.seed(3) # 재현할 수 있도록 난수의 시드 고정"
   ]
  },
  {
   "cell_type": "code",
   "execution_count": 24,
   "id": "a7ee0583",
   "metadata": {
    "ExecuteTime": {
     "end_time": "2022-04-05T04:50:36.660815Z",
     "start_time": "2022-04-05T04:50:36.643819Z"
    }
   },
   "outputs": [
    {
     "name": "stdout",
     "output_type": "stream",
     "text": [
      "[0.005616597513103846, 0.003121052141956197, 0.005329427829808799, 0.004157543249401726, 0.007276739380660686, 0.008415790061848677, 0.012379157056526703, 0.016125672572514977, 0.022392593576338403, 0.030095916250342265, 0.04113820182944585, 0.05574649837158758, 0.07588036559937653, 0.10304907312856193, 0.14011088298904525, 0.19038632502130867, 0.25878279074373417, 0.3516941964628988, 0.4780033421645739, 0.6496481214105723]\n"
     ]
    }
   ],
   "source": [
    "Wh = np.random.randn(H, H)\n",
    "#Wh = w = np.random.randn(H, H) * np.sqrt(1.0 / H)\n",
    "\n",
    "norm_list = []\n",
    "for t in range(T):\n",
    "    dh = np.dot(dh, Wh.T)\n",
    "    norm = np.sqrt(np.sum(dh**2)) / N\n",
    "    norm_list.append(norm)\n",
    "\n",
    "print(norm_list)"
   ]
  },
  {
   "cell_type": "code",
   "execution_count": 25,
   "id": "45f8e081",
   "metadata": {
    "ExecuteTime": {
     "end_time": "2022-04-05T04:50:37.523667Z",
     "start_time": "2022-04-05T04:50:37.381535Z"
    }
   },
   "outputs": [
    {
     "name": "stderr",
     "output_type": "stream",
     "text": [
      "C:\\Users\\inp032\\.conda\\envs\\yyc\\lib\\site-packages\\matplotlib\\backends\\backend_agg.py:240: RuntimeWarning: Glyph 49884 missing from current font.\n",
      "  font.set_text(s, 0.0, flags=flags)\n",
      "C:\\Users\\inp032\\.conda\\envs\\yyc\\lib\\site-packages\\matplotlib\\backends\\backend_agg.py:240: RuntimeWarning: Glyph 44036 missing from current font.\n",
      "  font.set_text(s, 0.0, flags=flags)\n",
      "C:\\Users\\inp032\\.conda\\envs\\yyc\\lib\\site-packages\\matplotlib\\backends\\backend_agg.py:240: RuntimeWarning: Glyph 53356 missing from current font.\n",
      "  font.set_text(s, 0.0, flags=flags)\n",
      "C:\\Users\\inp032\\.conda\\envs\\yyc\\lib\\site-packages\\matplotlib\\backends\\backend_agg.py:240: RuntimeWarning: Glyph 44592 missing from current font.\n",
      "  font.set_text(s, 0.0, flags=flags)\n",
      "C:\\Users\\inp032\\.conda\\envs\\yyc\\lib\\site-packages\\matplotlib\\backends\\backend_agg.py:240: RuntimeWarning: Glyph 45432 missing from current font.\n",
      "  font.set_text(s, 0.0, flags=flags)\n",
      "C:\\Users\\inp032\\.conda\\envs\\yyc\\lib\\site-packages\\matplotlib\\backends\\backend_agg.py:240: RuntimeWarning: Glyph 47492 missing from current font.\n",
      "  font.set_text(s, 0.0, flags=flags)\n",
      "C:\\Users\\inp032\\.conda\\envs\\yyc\\lib\\site-packages\\matplotlib\\backends\\backend_agg.py:203: RuntimeWarning: Glyph 49884 missing from current font.\n",
      "  font.set_text(s, 0, flags=flags)\n",
      "C:\\Users\\inp032\\.conda\\envs\\yyc\\lib\\site-packages\\matplotlib\\backends\\backend_agg.py:203: RuntimeWarning: Glyph 44036 missing from current font.\n",
      "  font.set_text(s, 0, flags=flags)\n",
      "C:\\Users\\inp032\\.conda\\envs\\yyc\\lib\\site-packages\\matplotlib\\backends\\backend_agg.py:203: RuntimeWarning: Glyph 53356 missing from current font.\n",
      "  font.set_text(s, 0, flags=flags)\n",
      "C:\\Users\\inp032\\.conda\\envs\\yyc\\lib\\site-packages\\matplotlib\\backends\\backend_agg.py:203: RuntimeWarning: Glyph 44592 missing from current font.\n",
      "  font.set_text(s, 0, flags=flags)\n",
      "C:\\Users\\inp032\\.conda\\envs\\yyc\\lib\\site-packages\\matplotlib\\backends\\backend_agg.py:203: RuntimeWarning: Glyph 45432 missing from current font.\n",
      "  font.set_text(s, 0, flags=flags)\n",
      "C:\\Users\\inp032\\.conda\\envs\\yyc\\lib\\site-packages\\matplotlib\\backends\\backend_agg.py:203: RuntimeWarning: Glyph 47492 missing from current font.\n",
      "  font.set_text(s, 0, flags=flags)\n"
     ]
    },
    {
     "data": {
      "image/png": "[encoded data removed]",
      "text/plain": [
       "<Figure size 432x288 with 1 Axes>"
      ]
     },
     "metadata": {
      "needs_background": "light"
     },
     "output_type": "display_data"
    }
   ],
   "source": [
    "# 그래프 그리기\n",
    "plt.plot(np.arange(len(norm_list)), norm_list)\n",
    "plt.xticks([0, 4, 9, 14, 19], [1, 5, 10, 15, 20])\n",
    "plt.xlabel('시간 크기(time step)')\n",
    "plt.ylabel('노름(norm)')\n",
    "plt.show()"
   ]
  }
 ],
 "metadata": {
  "kernelspec": {
   "display_name": "yyc",
   "language": "python",
   "name": "yyc"
  },
  "language_info": {
   "codemirror_mode": {
    "name": "ipython",
    "version": 3
   },
   "file_extension": ".py",
   "mimetype": "text/x-python",
   "name": "python",
   "nbconvert_exporter": "python",
   "pygments_lexer": "ipython3",
   "version": "3.7.6"
  },
  "toc": {
   "base_numbering": 1,
   "nav_menu": {},
   "number_sections": true,
   "sideBar": true,
   "skip_h1_title": false,
   "title_cell": "Table of Contents",
   "title_sidebar": "Contents",
   "toc_cell": false,
   "toc_position": {},
   "toc_section_display": true,
   "toc_window_display": false
  }
 },
 "nbformat": 4,
 "nbformat_minor": 5
}
