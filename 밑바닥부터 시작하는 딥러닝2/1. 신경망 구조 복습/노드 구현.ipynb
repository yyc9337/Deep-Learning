{
 "cells": [
  {
   "cell_type": "code",
   "execution_count": 1,
   "id": "c6f464cf",
   "metadata": {
    "ExecuteTime": {
     "end_time": "2022-03-24T02:42:49.173604Z",
     "start_time": "2022-03-24T02:42:49.012566Z"
    }
   },
   "outputs": [],
   "source": [
    "import numpy as np"
   ]
  },
  {
   "cell_type": "code",
   "execution_count": 13,
   "id": "7eafa2b1",
   "metadata": {
    "ExecuteTime": {
     "end_time": "2022-03-24T02:47:51.778867Z",
     "start_time": "2022-03-24T02:47:51.767869Z"
    }
   },
   "outputs": [
    {
     "name": "stdout",
     "output_type": "stream",
     "text": [
      "[[-0.95213471 -0.330748   -0.55044547 -0.93831056  0.31550358 -0.67425905\n",
      "   2.03627929 -1.35792309]\n",
      " [-0.95213471 -0.330748   -0.55044547 -0.93831056  0.31550358 -0.67425905\n",
      "   2.03627929 -1.35792309]\n",
      " [-0.95213471 -0.330748   -0.55044547 -0.93831056  0.31550358 -0.67425905\n",
      "   2.03627929 -1.35792309]\n",
      " [-0.95213471 -0.330748   -0.55044547 -0.93831056  0.31550358 -0.67425905\n",
      "   2.03627929 -1.35792309]\n",
      " [-0.95213471 -0.330748   -0.55044547 -0.93831056  0.31550358 -0.67425905\n",
      "   2.03627929 -1.35792309]\n",
      " [-0.95213471 -0.330748   -0.55044547 -0.93831056  0.31550358 -0.67425905\n",
      "   2.03627929 -1.35792309]\n",
      " [-0.95213471 -0.330748   -0.55044547 -0.93831056  0.31550358 -0.67425905\n",
      "   2.03627929 -1.35792309]]\n"
     ]
    }
   ],
   "source": [
    "D, N = 8, 7\n",
    "x = np. random.randn(1 , D)\n",
    "y = np.repeat(x , N, axis = 0 ) # 순전파\n",
    "#print(x)\n",
    "print(y)\n",
    "\n",
    "dy = np.random.randn(N, D) # 무작위 기울기\n",
    "dx = np.sum(dy, axis = 0, keepdims = True) # 역전파\n",
    "#print(dx)\n",
    "#print(dy)\n"
   ]
  },
  {
   "cell_type": "code",
   "execution_count": null,
   "id": "6ea4415e",
   "metadata": {},
   "outputs": [],
   "source": []
  },
  {
   "cell_type": "code",
   "execution_count": null,
   "id": "989a5c12",
   "metadata": {},
   "outputs": [],
   "source": []
  },
  {
   "cell_type": "code",
   "execution_count": null,
   "id": "25c21172",
   "metadata": {},
   "outputs": [],
   "source": []
  }
 ],
 "metadata": {
  "kernelspec": {
   "display_name": "yyc",
   "language": "python",
   "name": "yyc"
  },
  "language_info": {
   "codemirror_mode": {
    "name": "ipython",
    "version": 3
   },
   "file_extension": ".py",
   "mimetype": "text/x-python",
   "name": "python",
   "nbconvert_exporter": "python",
   "pygments_lexer": "ipython3",
   "version": "3.7.6"
  },
  "toc": {
   "base_numbering": 1,
   "nav_menu": {},
   "number_sections": true,
   "sideBar": true,
   "skip_h1_title": false,
   "title_cell": "Table of Contents",
   "title_sidebar": "Contents",
   "toc_cell": false,
   "toc_position": {},
   "toc_section_display": true,
   "toc_window_display": false
  }
 },
 "nbformat": 4,
 "nbformat_minor": 5
}
