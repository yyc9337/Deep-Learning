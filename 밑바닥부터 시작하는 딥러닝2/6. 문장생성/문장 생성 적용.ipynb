{
 "cells": [
  {
   "cell_type": "code",
   "execution_count": 3,
   "id": "1788677f",
   "metadata": {
    "ExecuteTime": {
     "end_time": "2022-04-06T02:38:15.609159Z",
     "start_time": "2022-04-06T02:38:15.401055Z"
    }
   },
   "outputs": [],
   "source": [
    "# coding: utf-8\n",
    "import sys\n",
    "sys.path.append('../예제/ch07')\n",
    "from rnnlm_gen import RnnlmGen\n",
    "from dataset import ptb"
   ]
  },
  {
   "cell_type": "code",
   "execution_count": 4,
   "id": "cdbe4c5a",
   "metadata": {
    "ExecuteTime": {
     "end_time": "2022-04-06T02:38:18.339798Z",
     "start_time": "2022-04-06T02:38:18.296617Z"
    }
   },
   "outputs": [],
   "source": [
    "corpus, word_to_id, id_to_word = ptb.load_data('train')\n",
    "vocab_size = len(word_to_id)\n",
    "corpus_size = len(corpus)"
   ]
  },
  {
   "cell_type": "code",
   "execution_count": 7,
   "id": "b4e8909b",
   "metadata": {
    "ExecuteTime": {
     "end_time": "2022-04-06T02:39:30.378489Z",
     "start_time": "2022-04-06T02:39:29.932486Z"
    }
   },
   "outputs": [
    {
     "name": "stdout",
     "output_type": "stream",
     "text": [
      "you can hands back to the overly bit you know the play that will turn into a liberals of single military offices and means drive rates.\n",
      " the rumor sector moscow stockbrokers would worsen structured to eight million so-called conner and local fees.\n",
      " the paper could open to become generale financial corp. regret.\n",
      " the bottom of the went mistake are likely to take until they do n't have a work being managed by the opposition says it can exercise only two of the unusually interviews with showtime.\n",
      " in the test where we see perhaps deny a problem\n",
      "[316, 383, 3051, 653, 64, 32, 8685, 4496, 316, 2573, 32, 1811, 93, 30, 1554, 289, 35, 4703, 42, 1710, 2712, 3153, 48, 2512, 4232, 338, 24, 32, 6157, 1892, 1851, 5510, 718, 6025, 5855, 64, 4508, 468, 1258, 9242, 48, 972, 440, 24, 32, 180, 623, 386, 64, 751, 9207, 459, 103, 2146, 24, 32, 3032, 42, 32, 1614, 3029, 159, 124, 64, 885, 508, 374, 1153, 251, 154, 35, 323, 1162, 2412, 229, 32, 3900, 853, 78, 383, 4046, 387, 652, 42, 32, 85, 2686, 87, 9505, 24, 108, 32, 2791, 284, 130, 1817, 1132, 3144, 35, 127]\n"
     ]
    }
   ],
   "source": [
    "model = RnnlmGen()\n",
    "model.load_params('../예제/ch06/Rnnlm.pkl')\n",
    "\n",
    "# start 문자와 skip 문자 설정\n",
    "start_word = 'you'\n",
    "start_id = word_to_id[start_word]\n",
    "skip_words = ['N', '<unk>', '$']\n",
    "skip_ids = [word_to_id[w] for w in skip_words]\n",
    "# 문장 생성\n",
    "word_ids = model.generate(start_id, skip_ids)\n",
    "txt = ' '.join([id_to_word[i] for i in word_ids])\n",
    "txt = txt.replace(' <eos>', '.\\n')\n",
    "print(txt)\n",
    "print(word_ids)"
   ]
  }
 ],
 "metadata": {
  "kernelspec": {
   "display_name": "yyc",
   "language": "python",
   "name": "yyc"
  },
  "language_info": {
   "codemirror_mode": {
    "name": "ipython",
    "version": 3
   },
   "file_extension": ".py",
   "mimetype": "text/x-python",
   "name": "python",
   "nbconvert_exporter": "python",
   "pygments_lexer": "ipython3",
   "version": "3.7.6"
  },
  "toc": {
   "base_numbering": 1,
   "nav_menu": {},
   "number_sections": true,
   "sideBar": true,
   "skip_h1_title": false,
   "title_cell": "Table of Contents",
   "title_sidebar": "Contents",
   "toc_cell": false,
   "toc_position": {},
   "toc_section_display": true,
   "toc_window_display": false
  }
 },
 "nbformat": 4,
 "nbformat_minor": 5
}
