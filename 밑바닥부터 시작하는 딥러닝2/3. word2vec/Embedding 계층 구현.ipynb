{
 "cells": [
  {
   "cell_type": "code",
   "execution_count": 3,
   "id": "829b2fa9",
   "metadata": {
    "ExecuteTime": {
     "end_time": "2022-03-29T06:32:11.858763Z",
     "start_time": "2022-03-29T06:32:11.841761Z"
    }
   },
   "outputs": [],
   "source": [
    "class Embedding:\n",
    "    def __init__(self, W):\n",
    "        self.params = [W]\n",
    "        self.grads = [np.zeros_like(W)]\n",
    "        self.idx = None\n",
    "\n",
    "    def forward(self, idx):\n",
    "        W, = self.params\n",
    "        self.idx = idx\n",
    "        out = W[idx]\n",
    "        return out\n",
    "\n",
    "    def backward(self, dout):\n",
    "        dW, = self.grads\n",
    "        dW[...] = 0\n",
    "        np.add.at(dW, self.idx, dout)\n",
    "        return None"
   ]
  },
  {
   "cell_type": "code",
   "execution_count": 12,
   "id": "a44b5959",
   "metadata": {
    "ExecuteTime": {
     "end_time": "2022-03-29T07:02:08.133142Z",
     "start_time": "2022-03-29T07:02:08.119144Z"
    }
   },
   "outputs": [],
   "source": [
    "import numpy as np\n",
    "A = np.arange(24).reshape(8, 3)\n",
    "\n",
    "B = np.arange(12).reshape(4, 3)\n",
    "\n",
    "idx = np.array([0, 0, 3, 5])"
   ]
  },
  {
   "cell_type": "code",
   "execution_count": 14,
   "id": "f7dcd144",
   "metadata": {
    "ExecuteTime": {
     "end_time": "2022-03-29T07:02:21.553488Z",
     "start_time": "2022-03-29T07:02:21.530515Z"
    }
   },
   "outputs": [
    {
     "name": "stdout",
     "output_type": "stream",
     "text": [
      "idx : [0 0 3 5]\n",
      "A : [[ 0  1  2]\n",
      " [ 3  4  5]\n",
      " [ 6  7  8]\n",
      " [ 9 10 11]\n",
      " [12 13 14]\n",
      " [15 16 17]\n",
      " [18 19 20]\n",
      " [21 22 23]]\n",
      "B : [[ 0  1  2]\n",
      " [ 3  4  5]\n",
      " [ 6  7  8]\n",
      " [ 9 10 11]]\n"
     ]
    }
   ],
   "source": [
    "print('idx :', idx)\n",
    "print('A :', A)\n",
    "print('B :', B)\n"
   ]
  },
  {
   "cell_type": "code",
   "execution_count": 15,
   "id": "21dbd266",
   "metadata": {
    "ExecuteTime": {
     "end_time": "2022-03-29T07:02:36.059799Z",
     "start_time": "2022-03-29T07:02:36.050806Z"
    }
   },
   "outputs": [
    {
     "data": {
      "text/plain": [
       "array([[ 3,  6,  9],\n",
       "       [ 3,  4,  5],\n",
       "       [ 6,  7,  8],\n",
       "       [15, 17, 19],\n",
       "       [12, 13, 14],\n",
       "       [24, 26, 28],\n",
       "       [18, 19, 20],\n",
       "       [21, 22, 23]])"
      ]
     },
     "execution_count": 15,
     "metadata": {},
     "output_type": "execute_result"
    }
   ],
   "source": [
    "np.add.at(A, idx, B)\n",
    "A"
   ]
  }
 ],
 "metadata": {
  "kernelspec": {
   "display_name": "Python 3 (ipykernel)",
   "language": "python",
   "name": "python3"
  },
  "language_info": {
   "codemirror_mode": {
    "name": "ipython",
    "version": 3
   },
   "file_extension": ".py",
   "mimetype": "text/x-python",
   "name": "python",
   "nbconvert_exporter": "python",
   "pygments_lexer": "ipython3",
   "version": "3.7.6"
  },
  "toc": {
   "base_numbering": 1,
   "nav_menu": {},
   "number_sections": true,
   "sideBar": true,
   "skip_h1_title": false,
   "title_cell": "Table of Contents",
   "title_sidebar": "Contents",
   "toc_cell": false,
   "toc_position": {},
   "toc_section_display": true,
   "toc_window_display": false
  }
 },
 "nbformat": 4,
 "nbformat_minor": 5
}
