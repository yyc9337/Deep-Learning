{
 "cells": [
  {
   "cell_type": "code",
   "execution_count": 1,
   "id": "880c9f79",
   "metadata": {
    "ExecuteTime": {
     "end_time": "2022-04-07T08:49:01.015734Z",
     "start_time": "2022-04-07T08:48:59.794018Z"
    }
   },
   "outputs": [
    {
     "name": "stdout",
     "output_type": "stream",
     "text": [
      "이름              영인\n",
      "생년월일    2010-05-01\n",
      "성별               여\n",
      "학생여부          True\n",
      "dtype: object\n"
     ]
    }
   ],
   "source": [
    "import pandas as pd\n",
    "\n",
    "tup_data = ('영인','2010-05-01','여',True)\n",
    "sr = pd.Series(tup_data, index = ['이름','생년월일','성별','학생여부'])\n",
    "print(sr)"
   ]
  },
  {
   "cell_type": "code",
   "execution_count": null,
   "id": "36da67d5",
   "metadata": {},
   "outputs": [],
   "source": []
  }
 ],
 "metadata": {
  "kernelspec": {
   "display_name": "yyc",
   "language": "python",
   "name": "yyc"
  },
  "language_info": {
   "codemirror_mode": {
    "name": "ipython",
    "version": 3
   },
   "file_extension": ".py",
   "mimetype": "text/x-python",
   "name": "python",
   "nbconvert_exporter": "python",
   "pygments_lexer": "ipython3",
   "version": "3.7.6"
  },
  "toc": {
   "base_numbering": 1,
   "nav_menu": {},
   "number_sections": true,
   "sideBar": true,
   "skip_h1_title": false,
   "title_cell": "Table of Contents",
   "title_sidebar": "Contents",
   "toc_cell": false,
   "toc_position": {},
   "toc_section_display": true,
   "toc_window_display": false
  }
 },
 "nbformat": 4,
 "nbformat_minor": 5
}
