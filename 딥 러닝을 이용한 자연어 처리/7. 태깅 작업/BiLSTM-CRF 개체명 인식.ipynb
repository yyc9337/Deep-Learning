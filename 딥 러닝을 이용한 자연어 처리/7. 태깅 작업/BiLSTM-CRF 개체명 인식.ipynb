{
 "cells": [
  {
   "cell_type": "markdown",
   "metadata": {
    "collapsed": true,
    "pycharm": {
     "name": "#%% md\n"
    }
   },
   "source": [
    "## CRF\n",
    "CRF는 Conditional Random Field의 약자로 양방향 LSTM을 위해 탄생한 모델이 아\n",
    "니라 이전에 독자적으로 존재해왔던 모델입니다. 이를 양방향 LSTM 모델 위에 하나의\n",
    "층으로 추가하여, 양방향 LSTM + CRF 모델이 탄생하였습니다. 여기서는 CRF의 수식적\n",
    " 이해가 아니라 양방향 LSTM + CRF 모델의 직관에 대해서 이해합니다."
   ]
  },
  {
   "cell_type": "code",
   "execution_count": 2,
   "outputs": [
    {
     "name": "stdout",
     "output_type": "stream",
     "text": [
      "Requirement already satisfied: keras-crf in c:\\users\\inp032\\.conda\\envs\\yyc\\lib\\site-packages (0.3.0)\n",
      "Requirement already satisfied: tensorflow in c:\\users\\inp032\\.conda\\envs\\yyc\\lib\\site-packages (from keras-crf) (2.5.3)\n",
      "Requirement already satisfied: tensorflow-addons in c:\\users\\inp032\\.conda\\envs\\yyc\\lib\\site-packages (from keras-crf) (0.16.1)\n",
      "Requirement already satisfied: astunparse~=1.6.3 in c:\\users\\inp032\\.conda\\envs\\yyc\\lib\\site-packages (from tensorflow->keras-crf) (1.6.3)\n",
      "Requirement already satisfied: numpy~=1.19.2 in c:\\users\\inp032\\.conda\\envs\\yyc\\lib\\site-packages (from tensorflow->keras-crf) (1.19.5)\n",
      "Requirement already satisfied: flatbuffers~=1.12.0 in c:\\users\\inp032\\.conda\\envs\\yyc\\lib\\site-packages (from tensorflow->keras-crf) (1.12)\n",
      "Requirement already satisfied: wheel~=0.35 in c:\\users\\inp032\\.conda\\envs\\yyc\\lib\\site-packages (from tensorflow->keras-crf) (0.37.0)\n",
      "Requirement already satisfied: keras-nightly~=2.5.0.dev in c:\\users\\inp032\\.conda\\envs\\yyc\\lib\\site-packages (from tensorflow->keras-crf) (2.5.0.dev2021032900)\n",
      "Requirement already satisfied: six~=1.15.0 in c:\\users\\inp032\\.conda\\envs\\yyc\\lib\\site-packages (from tensorflow->keras-crf) (1.15.0)\n",
      "Requirement already satisfied: termcolor~=1.1.0 in c:\\users\\inp032\\.conda\\envs\\yyc\\lib\\site-packages (from tensorflow->keras-crf) (1.1.0)\n",
      "Requirement already satisfied: typing-extensions~=3.7.4 in c:\\users\\inp032\\.conda\\envs\\yyc\\lib\\site-packages (from tensorflow->keras-crf) (3.7.4.3)\n",
      "Requirement already satisfied: h5py~=3.1.0 in c:\\users\\inp032\\.conda\\envs\\yyc\\lib\\site-packages (from tensorflow->keras-crf) (3.1.0)\n",
      "Requirement already satisfied: opt-einsum~=3.3.0 in c:\\users\\inp032\\.conda\\envs\\yyc\\lib\\site-packages (from tensorflow->keras-crf) (3.3.0)\n",
      "Requirement already satisfied: keras-preprocessing~=1.1.2 in c:\\users\\inp032\\.conda\\envs\\yyc\\lib\\site-packages (from tensorflow->keras-crf) (1.1.2)\n",
      "Requirement already satisfied: tensorflow-estimator<2.6.0,>=2.5.0 in c:\\users\\inp032\\.conda\\envs\\yyc\\lib\\site-packages (from tensorflow->keras-crf) (2.5.0)\n",
      "Requirement already satisfied: gast==0.4.0 in c:\\users\\inp032\\.conda\\envs\\yyc\\lib\\site-packages (from tensorflow->keras-crf) (0.4.0)\n",
      "Requirement already satisfied: tensorboard~=2.5 in c:\\users\\inp032\\.conda\\envs\\yyc\\lib\\site-packages (from tensorflow->keras-crf) (2.7.0)\n",
      "Requirement already satisfied: google-pasta~=0.2 in c:\\users\\inp032\\.conda\\envs\\yyc\\lib\\site-packages (from tensorflow->keras-crf) (0.2.0)\n",
      "Requirement already satisfied: protobuf>=3.9.2 in c:\\users\\inp032\\.conda\\envs\\yyc\\lib\\site-packages (from tensorflow->keras-crf) (3.19.0)\n",
      "Requirement already satisfied: wrapt~=1.12.1 in c:\\users\\inp032\\.conda\\envs\\yyc\\lib\\site-packages (from tensorflow->keras-crf) (1.12.1)\n",
      "Requirement already satisfied: grpcio~=1.34.0 in c:\\users\\inp032\\.conda\\envs\\yyc\\lib\\site-packages (from tensorflow->keras-crf) (1.34.1)\n",
      "Requirement already satisfied: absl-py~=0.10 in c:\\users\\inp032\\.conda\\envs\\yyc\\lib\\site-packages (from tensorflow->keras-crf) (0.15.0)\n",
      "Requirement already satisfied: cached-property in c:\\users\\inp032\\.conda\\envs\\yyc\\lib\\site-packages (from h5py~=3.1.0->tensorflow->keras-crf) (1.5.2)\n",
      "Requirement already satisfied: google-auth<3,>=1.6.3 in c:\\users\\inp032\\.conda\\envs\\yyc\\lib\\site-packages (from tensorboard~=2.5->tensorflow->keras-crf) (2.3.2)\n",
      "Requirement already satisfied: tensorboard-data-server<0.7.0,>=0.6.0 in c:\\users\\inp032\\.conda\\envs\\yyc\\lib\\site-packages (from tensorboard~=2.5->tensorflow->keras-crf) (0.6.1)\n",
      "Requirement already satisfied: requests<3,>=2.21.0 in c:\\users\\inp032\\.conda\\envs\\yyc\\lib\\site-packages (from tensorboard~=2.5->tensorflow->keras-crf) (2.27.1)\n",
      "Requirement already satisfied: tensorboard-plugin-wit>=1.6.0 in c:\\users\\inp032\\.conda\\envs\\yyc\\lib\\site-packages (from tensorboard~=2.5->tensorflow->keras-crf) (1.8.0)\n",
      "Requirement already satisfied: setuptools>=41.0.0 in c:\\users\\inp032\\.conda\\envs\\yyc\\lib\\site-packages (from tensorboard~=2.5->tensorflow->keras-crf) (58.0.4)\n",
      "Requirement already satisfied: google-auth-oauthlib<0.5,>=0.4.1 in c:\\users\\inp032\\.conda\\envs\\yyc\\lib\\site-packages (from tensorboard~=2.5->tensorflow->keras-crf) (0.4.6)\n",
      "Requirement already satisfied: werkzeug>=0.11.15 in c:\\users\\inp032\\.conda\\envs\\yyc\\lib\\site-packages (from tensorboard~=2.5->tensorflow->keras-crf) (2.0.2)\n",
      "Requirement already satisfied: markdown>=2.6.8 in c:\\users\\inp032\\.conda\\envs\\yyc\\lib\\site-packages (from tensorboard~=2.5->tensorflow->keras-crf) (3.3.4)\n",
      "Requirement already satisfied: cachetools<5.0,>=2.0.0 in c:\\users\\inp032\\.conda\\envs\\yyc\\lib\\site-packages (from google-auth<3,>=1.6.3->tensorboard~=2.5->tensorflow->keras-crf) (4.2.4)\n",
      "Requirement already satisfied: pyasn1-modules>=0.2.1 in c:\\users\\inp032\\.conda\\envs\\yyc\\lib\\site-packages (from google-auth<3,>=1.6.3->tensorboard~=2.5->tensorflow->keras-crf) (0.2.8)\n",
      "Requirement already satisfied: rsa<5,>=3.1.4 in c:\\users\\inp032\\.conda\\envs\\yyc\\lib\\site-packages (from google-auth<3,>=1.6.3->tensorboard~=2.5->tensorflow->keras-crf) (4.7.2)\n",
      "Requirement already satisfied: requests-oauthlib>=0.7.0 in c:\\users\\inp032\\.conda\\envs\\yyc\\lib\\site-packages (from google-auth-oauthlib<0.5,>=0.4.1->tensorboard~=2.5->tensorflow->keras-crf) (1.3.0)\n",
      "Requirement already satisfied: importlib-metadata in c:\\users\\inp032\\.conda\\envs\\yyc\\lib\\site-packages (from markdown>=2.6.8->tensorboard~=2.5->tensorflow->keras-crf) (4.8.1)\n",
      "Requirement already satisfied: pyasn1<0.5.0,>=0.4.6 in c:\\users\\inp032\\.conda\\envs\\yyc\\lib\\site-packages (from pyasn1-modules>=0.2.1->google-auth<3,>=1.6.3->tensorboard~=2.5->tensorflow->keras-crf) (0.4.8)\n",
      "Requirement already satisfied: idna<4,>=2.5 in c:\\users\\inp032\\.conda\\envs\\yyc\\lib\\site-packages (from requests<3,>=2.21.0->tensorboard~=2.5->tensorflow->keras-crf) (2.6)\n",
      "Requirement already satisfied: urllib3<1.27,>=1.21.1 in c:\\users\\inp032\\.conda\\envs\\yyc\\lib\\site-packages (from requests<3,>=2.21.0->tensorboard~=2.5->tensorflow->keras-crf) (1.26.9)\n",
      "Requirement already satisfied: charset-normalizer~=2.0.0 in c:\\users\\inp032\\.conda\\envs\\yyc\\lib\\site-packages (from requests<3,>=2.21.0->tensorboard~=2.5->tensorflow->keras-crf) (2.0.7)\n",
      "Requirement already satisfied: certifi>=2017.4.17 in c:\\users\\inp032\\.conda\\envs\\yyc\\lib\\site-packages (from requests<3,>=2.21.0->tensorboard~=2.5->tensorflow->keras-crf) (2021.10.8)\n",
      "Requirement already satisfied: oauthlib>=3.0.0 in c:\\users\\inp032\\.conda\\envs\\yyc\\lib\\site-packages (from requests-oauthlib>=0.7.0->google-auth-oauthlib<0.5,>=0.4.1->tensorboard~=2.5->tensorflow->keras-crf) (3.1.1)\n",
      "Requirement already satisfied: zipp>=0.5 in c:\\users\\inp032\\.conda\\envs\\yyc\\lib\\site-packages (from importlib-metadata->markdown>=2.6.8->tensorboard~=2.5->tensorflow->keras-crf) (3.6.0)\n",
      "Requirement already satisfied: typeguard>=2.7 in c:\\users\\inp032\\.conda\\envs\\yyc\\lib\\site-packages (from tensorflow-addons->keras-crf) (2.13.3)\n"
     ]
    }
   ],
   "source": [
    "!pip install keras-crf"
   ],
   "metadata": {
    "collapsed": false,
    "pycharm": {
     "name": "#%%\n"
    }
   }
  },
  {
   "cell_type": "code",
   "execution_count": null,
   "outputs": [],
   "source": [
    "import tensorflow as tf\n",
    "from tensorflow.keras import Model\n",
    "from tensorflow.keras.layers import Dense, LSTM, Input, Bidirectional, TimeDistributed, Embedding, Dropout\n",
    "from tensorflow.keras.callbacks import EarlyStopping, ModelCheckpoint\n",
    "from keras_crf import CRFModel\n",
    "from seqeval.metrics import f1_score, classification_report\n",
    "\n",
    "embedding_dim = 128\n",
    "hidden_units = 64\n",
    "dropout_ratio = 0.3\n",
    "\n",
    "sequence_input = Input(shape=(max_len,),dtype=tf.int32, name='sequence_input')\n",
    "\n",
    "model_embedding = Embedding(input_dim=vocab_size,\n",
    "                            output_dim=embedding_dim,\n",
    "                            input_length=max_len)(sequence_input)\n",
    "\n",
    "model_bilstm = Bidirectional(LSTM(units=hidden_units, return_sequences=True))(model_embedding)\n",
    "\n",
    "model_dropout = TimeDistributed(Dropout(dropout_ratio))(model_bilstm)\n",
    "\n",
    "model_dense = TimeDistributed(Dense(tag_size, activation='relu'))(model_dropout)\n",
    "\n",
    "base = Model(inputs=sequence_input, outputs=model_dense)\n",
    "model = CRFModel(base, tag_size)\n",
    "model.compile(optimizer=tf.keras.optimizers.Adam(0.001), metrics='accuracy')"
   ],
   "metadata": {
    "collapsed": false,
    "pycharm": {
     "name": "#%%\n"
    }
   }
  },
  {
   "cell_type": "code",
   "execution_count": null,
   "outputs": [],
   "source": [
    "es = EarlyStopping(monitor='val_loss', mode='min', verbose=1, patience=4)\n",
    "mc = ModelCheckpoint('bilstm_crf/cp.ckpt', monitor='val_decode_sequence_accuracy', mode='max', verbose=1, save_best_only=True, save_weights_only=True)\n",
    "\n",
    "history = model.fit(X_train, y_train_int, batch_size=128, epochs=15, validation_split=0.1, callbacks=[mc, es])"
   ],
   "metadata": {
    "collapsed": false,
    "pycharm": {
     "name": "#%%\n"
    }
   }
  },
  {
   "cell_type": "code",
   "execution_count": null,
   "outputs": [],
   "source": [
    "model.load_weights('bilstm_crf/cp.ckpt')\n",
    "\n",
    "i = 13 # 확인하고 싶은 테스트용 샘플의 인덱스.\n",
    "y_predicted = model.predict(np.array([X_test[i]]))[0] # 입력한 테스트용 샘플에 대해서 예측 y를 리턴\n",
    "labels = np.argmax(y_test[i], -1) # 원-핫 인코딩을 다시 정수 인코딩으로 변경.\n",
    "\n",
    "print(\"{:15}|{:5}|{}\".format(\"단어\", \"실제값\", \"예측값\"))\n",
    "print(35 * \"-\")\n",
    "\n",
    "for word, tag, pred in zip(X_test[i], labels, y_predicted[0]):\n",
    "    if word != 0: # PAD값은 제외함.\n",
    "        print(\"{:17}: {:7} {}\".format(index_to_word[word], index_to_ner[tag], index_to_ner[pred]))"
   ],
   "metadata": {
    "collapsed": false,
    "pycharm": {
     "name": "#%%\n"
    }
   }
  },
  {
   "cell_type": "code",
   "execution_count": null,
   "outputs": [],
   "source": [],
   "metadata": {
    "collapsed": false,
    "pycharm": {
     "name": "#%%\n"
    }
   }
  }
 ],
 "metadata": {
  "kernelspec": {
   "name": "yyc",
   "language": "python",
   "display_name": "yyc"
  },
  "language_info": {
   "codemirror_mode": {
    "name": "ipython",
    "version": 2
   },
   "file_extension": ".py",
   "mimetype": "text/x-python",
   "name": "python",
   "nbconvert_exporter": "python",
   "pygments_lexer": "ipython2",
   "version": "2.7.6"
  }
 },
 "nbformat": 4,
 "nbformat_minor": 0
}