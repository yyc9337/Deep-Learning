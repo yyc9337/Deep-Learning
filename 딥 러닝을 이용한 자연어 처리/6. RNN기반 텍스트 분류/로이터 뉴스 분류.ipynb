{
 "cells": [
  {
   "cell_type": "code",
   "execution_count": 2,
   "metadata": {
    "collapsed": true
   },
   "outputs": [],
   "source": [
    "import numpy as np\n",
    "import seaborn as sns\n",
    "import matplotlib.pyplot as plt\n",
    "from tensorflow.keras.datasets import reuters"
   ]
  },
  {
   "cell_type": "code",
   "execution_count": 3,
   "outputs": [
    {
     "name": "stdout",
     "output_type": "stream",
     "text": [
      "Downloading data from https://storage.googleapis.com/tensorflow/tf-keras-datasets/reuters.npz\n",
      "2113536/2110848 [==============================] - 0s 0us/step\n",
      "훈련용 뉴스 기사 : 8982\n",
      "테스트용 뉴스 기사 : 2246\n",
      "카테고리 : 46\n"
     ]
    },
    {
     "name": "stderr",
     "output_type": "stream",
     "text": [
      "C:\\Users\\inp032\\.conda\\envs\\yyc\\lib\\site-packages\\tensorflow\\python\\keras\\datasets\\reuters.py:143: VisibleDeprecationWarning: Creating an ndarray from ragged nested sequences (which is a list-or-tuple of lists-or-tuples-or ndarrays with different lengths or shapes) is deprecated. If you meant to do this, you must specify 'dtype=object' when creating the ndarray\n",
      "  x_train, y_train = np.array(xs[:idx]), np.array(labels[:idx])\n",
      "C:\\Users\\inp032\\.conda\\envs\\yyc\\lib\\site-packages\\tensorflow\\python\\keras\\datasets\\reuters.py:144: VisibleDeprecationWarning: Creating an ndarray from ragged nested sequences (which is a list-or-tuple of lists-or-tuples-or ndarrays with different lengths or shapes) is deprecated. If you meant to do this, you must specify 'dtype=object' when creating the ndarray\n",
      "  x_test, y_test = np.array(xs[idx:]), np.array(labels[idx:])\n"
     ]
    }
   ],
   "source": [
    "(X_train, y_train), (X_test, y_test) = reuters.load_data(num_words=None, test_split=0.2)\n",
    "\n",
    "print('훈련용 뉴스 기사 : {}'.format(len(X_train)))\n",
    "print('테스트용 뉴스 기사 : {}'.format(len(X_test)))\n",
    "num_classes = len(set(y_train))\n",
    "print('카테고리 : {}'.format(num_classes))"
   ],
   "metadata": {
    "collapsed": false,
    "pycharm": {
     "name": "#%%\n"
    }
   }
  },
  {
   "cell_type": "code",
   "execution_count": 4,
   "outputs": [
    {
     "name": "stdout",
     "output_type": "stream",
     "text": [
      "뉴스 기사의 최대 길이 :2376\n",
      "뉴스 기사의 평균 길이 :145.5398574927633\n"
     ]
    },
    {
     "data": {
      "text/plain": "<Figure size 432x288 with 1 Axes>",
      "image/png": "[encoded data removed]"
     },
     "metadata": {
      "needs_background": "light"
     },
     "output_type": "display_data"
    }
   ],
   "source": [
    "print('뉴스 기사의 최대 길이 :{}'.format(max(len(sample) for sample in X_train)))\n",
    "print('뉴스 기사의 평균 길이 :{}'.format(sum(map(len, X_train))/len(X_train)))\n",
    "\n",
    "plt.hist([len(sample) for sample in X_train], bins=50)\n",
    "plt.xlabel('length of samples')\n",
    "plt.ylabel('number of samples')\n",
    "plt.show()"
   ],
   "metadata": {
    "collapsed": false,
    "pycharm": {
     "name": "#%%\n"
    }
   }
  },
  {
   "cell_type": "code",
   "execution_count": 5,
   "outputs": [
    {
     "name": "stderr",
     "output_type": "stream",
     "text": [
      "C:\\Users\\inp032\\.conda\\envs\\yyc\\lib\\site-packages\\seaborn\\_decorators.py:43: FutureWarning: Pass the following variable as a keyword arg: x. From version 0.12, the only valid positional argument will be `data`, and passing other arguments without an explicit keyword will result in an error or misinterpretation.\n",
      "  FutureWarning\n"
     ]
    },
    {
     "data": {
      "text/plain": "<AxesSubplot:ylabel='count'>"
     },
     "execution_count": 5,
     "metadata": {},
     "output_type": "execute_result"
    },
    {
     "data": {
      "text/plain": "<Figure size 864x360 with 1 Axes>",
      "image/png": "[encoded data removed]"
     },
     "metadata": {
      "needs_background": "light"
     },
     "output_type": "display_data"
    }
   ],
   "source": [
    "fig, axe = plt.subplots(ncols=1)\n",
    "fig.set_size_inches(12,5)\n",
    "sns.countplot(y_train)"
   ],
   "metadata": {
    "collapsed": false,
    "pycharm": {
     "name": "#%%\n"
    }
   }
  },
  {
   "cell_type": "code",
   "execution_count": 6,
   "outputs": [
    {
     "name": "stderr",
     "output_type": "stream",
     "text": [
      "C:\\Users\\inp032\\.conda\\envs\\yyc\\lib\\site-packages\\tensorflow\\python\\keras\\datasets\\reuters.py:143: VisibleDeprecationWarning: Creating an ndarray from ragged nested sequences (which is a list-or-tuple of lists-or-tuples-or ndarrays with different lengths or shapes) is deprecated. If you meant to do this, you must specify 'dtype=object' when creating the ndarray\n",
      "  x_train, y_train = np.array(xs[:idx]), np.array(labels[:idx])\n",
      "C:\\Users\\inp032\\.conda\\envs\\yyc\\lib\\site-packages\\tensorflow\\python\\keras\\datasets\\reuters.py:144: VisibleDeprecationWarning: Creating an ndarray from ragged nested sequences (which is a list-or-tuple of lists-or-tuples-or ndarrays with different lengths or shapes) is deprecated. If you meant to do this, you must specify 'dtype=object' when creating the ndarray\n",
      "  x_test, y_test = np.array(xs[idx:]), np.array(labels[idx:])\n"
     ]
    }
   ],
   "source": [
    "from tensorflow.keras.models import Sequential\n",
    "from tensorflow.keras.layers import Dense, LSTM, Embedding\n",
    "from tensorflow.keras.preprocessing.sequence import pad_sequences\n",
    "from tensorflow.keras.utils import to_categorical\n",
    "from tensorflow.keras.callbacks import EarlyStopping, ModelCheckpoint\n",
    "from tensorflow.keras.models import load_model\n",
    "\n",
    "vocab_size = 1000\n",
    "max_len = 100\n",
    "\n",
    "(X_train, y_train), (X_test, y_test) = reuters.load_data(num_words=vocab_size, test_split=0.2)\n",
    "\n",
    "X_train = pad_sequences(X_train, maxlen=max_len)\n",
    "X_test = pad_sequences(X_test, maxlen=max_len)\n",
    "\n",
    "y_train = to_categorical(y_train)\n",
    "y_test = to_categorical(y_test)"
   ],
   "metadata": {
    "collapsed": false,
    "pycharm": {
     "name": "#%%\n"
    }
   }
  },
  {
   "cell_type": "code",
   "execution_count": 7,
   "outputs": [
    {
     "name": "stdout",
     "output_type": "stream",
     "text": [
      "Epoch 1/30\n",
      "71/71 [==============================] - 20s 256ms/step - loss: 2.6028 - acc: 0.3592 - val_loss: 2.1962 - val_acc: 0.4715\n",
      "\n",
      "Epoch 00001: val_acc improved from -inf to 0.47150, saving model to best_model.h5\n",
      "Epoch 2/30\n",
      "71/71 [==============================] - 16s 228ms/step - loss: 2.0743 - acc: 0.4878 - val_loss: 2.0280 - val_acc: 0.5000\n",
      "\n",
      "Epoch 00002: val_acc improved from 0.47150 to 0.50000, saving model to best_model.h5\n",
      "Epoch 3/30\n",
      "71/71 [==============================] - 18s 251ms/step - loss: 1.9482 - acc: 0.5072 - val_loss: 1.8889 - val_acc: 0.5062\n",
      "\n",
      "Epoch 00003: val_acc improved from 0.50000 to 0.50623, saving model to best_model.h5\n",
      "Epoch 4/30\n",
      "71/71 [==============================] - 17s 243ms/step - loss: 1.8005 - acc: 0.5327 - val_loss: 1.8044 - val_acc: 0.5191\n",
      "\n",
      "Epoch 00004: val_acc improved from 0.50623 to 0.51915, saving model to best_model.h5\n",
      "Epoch 5/30\n",
      "71/71 [==============================] - 17s 236ms/step - loss: 1.6866 - acc: 0.5613 - val_loss: 1.7234 - val_acc: 0.5614\n",
      "\n",
      "Epoch 00005: val_acc improved from 0.51915 to 0.56144, saving model to best_model.h5\n",
      "Epoch 6/30\n",
      "71/71 [==============================] - 19s 274ms/step - loss: 1.6237 - acc: 0.5885 - val_loss: 1.6976 - val_acc: 0.5779\n",
      "\n",
      "Epoch 00006: val_acc improved from 0.56144 to 0.57792, saving model to best_model.h5\n",
      "Epoch 7/30\n",
      "71/71 [==============================] - 20s 281ms/step - loss: 1.5399 - acc: 0.6132 - val_loss: 1.6106 - val_acc: 0.5908\n",
      "\n",
      "Epoch 00007: val_acc improved from 0.57792 to 0.59083, saving model to best_model.h5\n",
      "Epoch 8/30\n",
      "71/71 [==============================] - 22s 306ms/step - loss: 1.5446 - acc: 0.6073 - val_loss: 1.5582 - val_acc: 0.6118\n",
      "\n",
      "Epoch 00008: val_acc improved from 0.59083 to 0.61175, saving model to best_model.h5\n",
      "Epoch 9/30\n",
      "71/71 [==============================] - 22s 312ms/step - loss: 1.4291 - acc: 0.6411 - val_loss: 1.5127 - val_acc: 0.6269\n",
      "\n",
      "Epoch 00009: val_acc improved from 0.61175 to 0.62689, saving model to best_model.h5\n",
      "Epoch 10/30\n",
      "71/71 [==============================] - 19s 263ms/step - loss: 1.3614 - acc: 0.6605 - val_loss: 1.4522 - val_acc: 0.6411\n",
      "\n",
      "Epoch 00010: val_acc improved from 0.62689 to 0.64114, saving model to best_model.h5\n",
      "Epoch 11/30\n",
      "71/71 [==============================] - 20s 280ms/step - loss: 1.2983 - acc: 0.6771 - val_loss: 1.4354 - val_acc: 0.6322\n",
      "\n",
      "Epoch 00011: val_acc did not improve from 0.64114\n",
      "Epoch 12/30\n",
      "71/71 [==============================] - 19s 263ms/step - loss: 1.2306 - acc: 0.6962 - val_loss: 1.3802 - val_acc: 0.6465\n",
      "\n",
      "Epoch 00012: val_acc improved from 0.64114 to 0.64648, saving model to best_model.h5\n",
      "Epoch 13/30\n",
      "71/71 [==============================] - 19s 265ms/step - loss: 1.1764 - acc: 0.7079 - val_loss: 1.3350 - val_acc: 0.6696\n",
      "\n",
      "Epoch 00013: val_acc improved from 0.64648 to 0.66963, saving model to best_model.h5\n",
      "Epoch 14/30\n",
      "71/71 [==============================] - 19s 262ms/step - loss: 1.1227 - acc: 0.7161 - val_loss: 1.2885 - val_acc: 0.6714\n",
      "\n",
      "Epoch 00014: val_acc improved from 0.66963 to 0.67142, saving model to best_model.h5\n",
      "Epoch 15/30\n",
      "71/71 [==============================] - 19s 267ms/step - loss: 1.0727 - acc: 0.7278 - val_loss: 1.2656 - val_acc: 0.6834\n",
      "\n",
      "Epoch 00015: val_acc improved from 0.67142 to 0.68344, saving model to best_model.h5\n",
      "Epoch 16/30\n",
      "71/71 [==============================] - 18s 257ms/step - loss: 1.0342 - acc: 0.7390 - val_loss: 1.2728 - val_acc: 0.6825\n",
      "\n",
      "Epoch 00016: val_acc did not improve from 0.68344\n",
      "Epoch 17/30\n",
      "71/71 [==============================] - 20s 281ms/step - loss: 0.9839 - acc: 0.7487 - val_loss: 1.2311 - val_acc: 0.6808\n",
      "\n",
      "Epoch 00017: val_acc did not improve from 0.68344\n",
      "Epoch 18/30\n",
      "71/71 [==============================] - 21s 292ms/step - loss: 0.9615 - acc: 0.7535 - val_loss: 1.2379 - val_acc: 0.6910\n",
      "\n",
      "Epoch 00018: val_acc improved from 0.68344 to 0.69101, saving model to best_model.h5\n",
      "Epoch 19/30\n",
      "71/71 [==============================] - 20s 289ms/step - loss: 0.9107 - acc: 0.7715 - val_loss: 1.2581 - val_acc: 0.6986\n",
      "\n",
      "Epoch 00019: val_acc improved from 0.69101 to 0.69858, saving model to best_model.h5\n",
      "Epoch 20/30\n",
      "71/71 [==============================] - 22s 313ms/step - loss: 0.8732 - acc: 0.7807 - val_loss: 1.2258 - val_acc: 0.7106\n",
      "\n",
      "Epoch 00020: val_acc improved from 0.69858 to 0.71060, saving model to best_model.h5\n",
      "Epoch 21/30\n",
      "71/71 [==============================] - 20s 280ms/step - loss: 0.8329 - acc: 0.7902 - val_loss: 1.2157 - val_acc: 0.6950\n",
      "\n",
      "Epoch 00021: val_acc did not improve from 0.71060\n",
      "Epoch 22/30\n",
      "71/71 [==============================] - 19s 274ms/step - loss: 0.7999 - acc: 0.7971 - val_loss: 1.2067 - val_acc: 0.7106\n",
      "\n",
      "Epoch 00022: val_acc did not improve from 0.71060\n",
      "Epoch 23/30\n",
      "71/71 [==============================] - 20s 281ms/step - loss: 0.7703 - acc: 0.8055 - val_loss: 1.2017 - val_acc: 0.7061\n",
      "\n",
      "Epoch 00023: val_acc did not improve from 0.71060\n",
      "Epoch 24/30\n",
      "71/71 [==============================] - 20s 282ms/step - loss: 0.7419 - acc: 0.8123 - val_loss: 1.2154 - val_acc: 0.7048\n",
      "\n",
      "Epoch 00024: val_acc did not improve from 0.71060\n",
      "Epoch 25/30\n",
      "71/71 [==============================] - 21s 298ms/step - loss: 0.7006 - acc: 0.8244 - val_loss: 1.2118 - val_acc: 0.7070\n",
      "\n",
      "Epoch 00025: val_acc did not improve from 0.71060\n",
      "Epoch 26/30\n",
      "71/71 [==============================] - 22s 308ms/step - loss: 0.6702 - acc: 0.8307 - val_loss: 1.2509 - val_acc: 0.7044\n",
      "\n",
      "Epoch 00026: val_acc did not improve from 0.71060\n",
      "Epoch 27/30\n",
      "71/71 [==============================] - 20s 289ms/step - loss: 0.6485 - acc: 0.8360 - val_loss: 1.2533 - val_acc: 0.7004\n",
      "\n",
      "Epoch 00027: val_acc did not improve from 0.71060\n",
      "Epoch 00027: early stopping\n"
     ]
    }
   ],
   "source": [
    "embedding_dim = 128\n",
    "hidden_units = 128\n",
    "num_classes = 46\n",
    "\n",
    "model = Sequential()\n",
    "model.add(Embedding(vocab_size, embedding_dim))\n",
    "model.add(LSTM(hidden_units))\n",
    "model.add(Dense(num_classes, activation='softmax'))\n",
    "\n",
    "es = EarlyStopping(monitor='val_loss', mode='min', verbose=1, patience=4)\n",
    "mc = ModelCheckpoint('best_model.h5', monitor='val_acc', mode='max', verbose=1, save_best_only=True)\n",
    "\n",
    "model.compile(loss='categorical_crossentropy', optimizer='adam', metrics=['acc'])\n",
    "history = model.fit(X_train, y_train, batch_size=128, epochs=30, callbacks=[es, mc], validation_data=(X_test, y_test))"
   ],
   "metadata": {
    "collapsed": false,
    "pycharm": {
     "name": "#%%\n"
    }
   }
  },
  {
   "cell_type": "code",
   "execution_count": 8,
   "outputs": [
    {
     "name": "stdout",
     "output_type": "stream",
     "text": [
      "71/71 [==============================] - 3s 38ms/step - loss: 1.2258 - acc: 0.7106\n",
      "\n",
      " 테스트 정확도: 0.7106\n"
     ]
    }
   ],
   "source": [
    "loaded_model = load_model('best_model.h5')\n",
    "print(\"\\n 테스트 정확도: %.4f\" % (loaded_model.evaluate(X_test, y_test)[1]))"
   ],
   "metadata": {
    "collapsed": false,
    "pycharm": {
     "name": "#%%\n"
    }
   }
  },
  {
   "cell_type": "code",
   "execution_count": 9,
   "outputs": [
    {
     "data": {
      "text/plain": "<Figure size 432x288 with 1 Axes>",
      "image/png": "[encoded data removed]"
     },
     "metadata": {
      "needs_background": "light"
     },
     "output_type": "display_data"
    }
   ],
   "source": [
    "epochs = range(1, len(history.history['acc']) + 1)\n",
    "plt.plot(epochs, history.history['loss'])\n",
    "plt.plot(epochs, history.history['val_loss'])\n",
    "plt.title('model loss')\n",
    "plt.ylabel('loss')\n",
    "plt.xlabel('epoch')\n",
    "plt.legend(['train', 'test'], loc='upper left')\n",
    "plt.show()"
   ],
   "metadata": {
    "collapsed": false,
    "pycharm": {
     "name": "#%%\n"
    }
   }
  }
 ],
 "metadata": {
  "kernelspec": {
   "name": "yyc",
   "language": "python",
   "display_name": "yyc"
  },
  "language_info": {
   "codemirror_mode": {
    "name": "ipython",
    "version": 2
   },
   "file_extension": ".py",
   "mimetype": "text/x-python",
   "name": "python",
   "nbconvert_exporter": "python",
   "pygments_lexer": "ipython2",
   "version": "2.7.6"
  }
 },
 "nbformat": 4,
 "nbformat_minor": 0
}