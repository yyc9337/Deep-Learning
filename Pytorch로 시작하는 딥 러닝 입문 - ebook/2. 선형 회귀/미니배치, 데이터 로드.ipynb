{
 "cells": [
  {
   "cell_type": "code",
   "execution_count": 1,
   "metadata": {
    "collapsed": true,
    "pycharm": {
     "name": "#%%\n"
    }
   },
   "outputs": [],
   "source": [
    "import torch\n",
    "import torch.nn as nn\n",
    "import torch.nn.functional as F"
   ]
  },
  {
   "cell_type": "code",
   "execution_count": 2,
   "outputs": [],
   "source": [
    "from torch.utils.data import TensorDataset # 텐서데이터셋\n",
    "from torch.utils.data import DataLoader # 데이터로더"
   ],
   "metadata": {
    "collapsed": false,
    "pycharm": {
     "name": "#%%\n"
    }
   }
  },
  {
   "cell_type": "code",
   "execution_count": 3,
   "outputs": [],
   "source": [
    "x_train  =  torch.FloatTensor([[73,  80,  75],\n",
    "                               [93,  88,  93],\n",
    "                               [89,  91,  90],\n",
    "                               [96,  98,  100],\n",
    "                               [73,  66,  70]])\n",
    "y_train  =  torch.FloatTensor([[152],  [185],  [180],  [196],  [142]])"
   ],
   "metadata": {
    "collapsed": false,
    "pycharm": {
     "name": "#%%\n"
    }
   }
  },
  {
   "cell_type": "code",
   "execution_count": 4,
   "outputs": [],
   "source": [
    "dataset = TensorDataset(x_train, y_train)"
   ],
   "metadata": {
    "collapsed": false,
    "pycharm": {
     "name": "#%%\n"
    }
   }
  },
  {
   "cell_type": "code",
   "execution_count": 5,
   "outputs": [],
   "source": [
    "dataloader = DataLoader(dataset, batch_size=2, shuffle=True)"
   ],
   "metadata": {
    "collapsed": false,
    "pycharm": {
     "name": "#%%\n"
    }
   }
  },
  {
   "cell_type": "code",
   "execution_count": 6,
   "outputs": [],
   "source": [
    "model = nn.Linear(3,1)\n",
    "optimizer = torch.optim.SGD(model.parameters(), lr=1e-5)"
   ],
   "metadata": {
    "collapsed": false,
    "pycharm": {
     "name": "#%%\n"
    }
   }
  },
  {
   "cell_type": "code",
   "execution_count": 8,
   "outputs": [
    {
     "name": "stdout",
     "output_type": "stream",
     "text": [
      "Epoch    0/20 Batch 1/3 Cost: 3.970779\n",
      "Epoch    0/20 Batch 2/3 Cost: 3.281160\n",
      "Epoch    0/20 Batch 3/3 Cost: 0.025709\n",
      "Epoch    1/20 Batch 1/3 Cost: 4.175495\n",
      "Epoch    1/20 Batch 2/3 Cost: 3.148034\n",
      "Epoch    1/20 Batch 3/3 Cost: 0.016822\n",
      "Epoch    2/20 Batch 1/3 Cost: 4.212524\n",
      "Epoch    2/20 Batch 2/3 Cost: 0.509475\n",
      "Epoch    2/20 Batch 3/3 Cost: 6.107692\n",
      "Epoch    3/20 Batch 1/3 Cost: 0.693541\n",
      "Epoch    3/20 Batch 2/3 Cost: 2.691038\n",
      "Epoch    3/20 Batch 3/3 Cost: 9.278334\n",
      "Epoch    4/20 Batch 1/3 Cost: 4.155780\n",
      "Epoch    4/20 Batch 2/3 Cost: 3.772901\n",
      "Epoch    4/20 Batch 3/3 Cost: 0.350332\n",
      "Epoch    5/20 Batch 1/3 Cost: 3.426300\n",
      "Epoch    5/20 Batch 2/3 Cost: 4.302948\n",
      "Epoch    5/20 Batch 3/3 Cost: 2.481913\n",
      "Epoch    6/20 Batch 1/3 Cost: 3.144908\n",
      "Epoch    6/20 Batch 2/3 Cost: 1.231060\n",
      "Epoch    6/20 Batch 3/3 Cost: 7.666754\n",
      "Epoch    7/20 Batch 1/3 Cost: 0.578490\n",
      "Epoch    7/20 Batch 2/3 Cost: 3.175797\n",
      "Epoch    7/20 Batch 3/3 Cost: 8.922531\n",
      "Epoch    8/20 Batch 1/3 Cost: 7.153769\n",
      "Epoch    8/20 Batch 2/3 Cost: 3.127983\n",
      "Epoch    8/20 Batch 3/3 Cost: 0.037541\n",
      "Epoch    9/20 Batch 1/3 Cost: 1.366347\n",
      "Epoch    9/20 Batch 2/3 Cost: 5.794380\n",
      "Epoch    9/20 Batch 3/3 Cost: 0.023362\n",
      "Epoch   10/20 Batch 1/3 Cost: 1.775089\n",
      "Epoch   10/20 Batch 2/3 Cost: 6.927935\n",
      "Epoch   10/20 Batch 3/3 Cost: 0.955970\n",
      "Epoch   11/20 Batch 1/3 Cost: 2.038024\n",
      "Epoch   11/20 Batch 2/3 Cost: 5.447703\n",
      "Epoch   11/20 Batch 3/3 Cost: 1.395121\n",
      "Epoch   12/20 Batch 1/3 Cost: 3.752897\n",
      "Epoch   12/20 Batch 2/3 Cost: 1.088986\n",
      "Epoch   12/20 Batch 3/3 Cost: 7.399735\n",
      "Epoch   13/20 Batch 1/3 Cost: 3.142837\n",
      "Epoch   13/20 Batch 2/3 Cost: 5.445024\n",
      "Epoch   13/20 Batch 3/3 Cost: 1.450449\n",
      "Epoch   14/20 Batch 1/3 Cost: 0.864202\n",
      "Epoch   14/20 Batch 2/3 Cost: 3.937984\n",
      "Epoch   14/20 Batch 3/3 Cost: 8.963508\n",
      "Epoch   15/20 Batch 1/3 Cost: 0.876858\n",
      "Epoch   15/20 Batch 2/3 Cost: 8.275180\n",
      "Epoch   15/20 Batch 3/3 Cost: 0.626768\n",
      "Epoch   16/20 Batch 1/3 Cost: 0.884438\n",
      "Epoch   16/20 Batch 2/3 Cost: 5.797610\n",
      "Epoch   16/20 Batch 3/3 Cost: 0.396714\n",
      "Epoch   17/20 Batch 1/3 Cost: 0.996123\n",
      "Epoch   17/20 Batch 2/3 Cost: 3.714246\n",
      "Epoch   17/20 Batch 3/3 Cost: 6.265192\n",
      "Epoch   18/20 Batch 1/3 Cost: 2.689954\n",
      "Epoch   18/20 Batch 2/3 Cost: 5.280376\n",
      "Epoch   18/20 Batch 3/3 Cost: 0.346513\n",
      "Epoch   19/20 Batch 1/3 Cost: 1.509710\n",
      "Epoch   19/20 Batch 2/3 Cost: 7.160827\n",
      "Epoch   19/20 Batch 3/3 Cost: 0.864858\n",
      "Epoch   20/20 Batch 1/3 Cost: 1.973946\n",
      "Epoch   20/20 Batch 2/3 Cost: 7.132937\n",
      "Epoch   20/20 Batch 3/3 Cost: 0.258292\n"
     ]
    }
   ],
   "source": [
    "nb_epochs = 20\n",
    "for epoch in range(nb_epochs + 1):\n",
    "  for batch_idx, samples in enumerate(dataloader):\n",
    "    # print(batch_idx)\n",
    "    # print(samples)\n",
    "    x_train, y_train = samples\n",
    "    # H(x) 계산\n",
    "    prediction = model(x_train)\n",
    "\n",
    "    # cost 계산\n",
    "    cost = F.mse_loss(prediction, y_train)\n",
    "\n",
    "    # cost로 H(x) 계산\n",
    "    optimizer.zero_grad()\n",
    "    cost.backward()\n",
    "    optimizer.step()\n",
    "\n",
    "    print('Epoch {:4d}/{} Batch {}/{} Cost: {:.6f}'.format(\n",
    "        epoch, nb_epochs, batch_idx+1, len(dataloader),\n",
    "        cost.item()\n",
    "        ))"
   ],
   "metadata": {
    "collapsed": false,
    "pycharm": {
     "name": "#%%\n"
    }
   }
  }
 ],
 "metadata": {
  "kernelspec": {
   "display_name": "Python 3",
   "language": "python",
   "name": "python3"
  },
  "language_info": {
   "codemirror_mode": {
    "name": "ipython",
    "version": 2
   },
   "file_extension": ".py",
   "mimetype": "text/x-python",
   "name": "python",
   "nbconvert_exporter": "python",
   "pygments_lexer": "ipython2",
   "version": "2.7.6"
  }
 },
 "nbformat": 4,
 "nbformat_minor": 0
}