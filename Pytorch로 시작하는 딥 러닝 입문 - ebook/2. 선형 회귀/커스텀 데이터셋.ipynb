{
 "cells": [
  {
   "cell_type": "code",
   "execution_count": 1,
   "outputs": [],
   "source": [
    "import torch\n",
    "import torch.nn.functional as F"
   ],
   "metadata": {
    "collapsed": false,
    "pycharm": {
     "name": "#%%\n"
    }
   }
  },
  {
   "cell_type": "code",
   "execution_count": 2,
   "outputs": [],
   "source": [
    "from torch.utils.data import Dataset\n",
    "from torch.utils.data import DataLoader"
   ],
   "metadata": {
    "collapsed": false,
    "pycharm": {
     "name": "#%%\n"
    }
   }
  },
  {
   "cell_type": "code",
   "execution_count": 4,
   "outputs": [],
   "source": [
    "# Dataset 상속\n",
    "class CustomDataset(Dataset):\n",
    "  def __init__(self):\n",
    "    self.x_data = [[73, 80, 75],\n",
    "                   [93, 88, 93],\n",
    "                   [89, 91, 90],\n",
    "                   [96, 98, 100],\n",
    "                   [73, 66, 70]]\n",
    "    self.y_data = [[152], [185], [180], [196], [142]]\n",
    "\n",
    "  # 총 데이터의 개수를 리턴\n",
    "  def __len__(self):\n",
    "    return len(self.x_data)\n",
    "\n",
    "  # 인덱스를 입력받아 그에 맵핑되는 입출력 데이터를 파이토치의 Tensor 형태로 리턴\n",
    "  def __getitem__(self, idx):\n",
    "    x = torch.FloatTensor(self.x_data[idx])\n",
    "    y = torch.FloatTensor(self.y_data[idx])\n",
    "    return x, y"
   ],
   "metadata": {
    "collapsed": false,
    "pycharm": {
     "name": "#%%\n"
    }
   }
  },
  {
   "cell_type": "code",
   "execution_count": 5,
   "outputs": [],
   "source": [
    "dataset = CustomDataset()\n",
    "dataloader = DataLoader(dataset, batch_size=2, shuffle=True)"
   ],
   "metadata": {
    "collapsed": false,
    "pycharm": {
     "name": "#%%\n"
    }
   }
  },
  {
   "cell_type": "code",
   "execution_count": 6,
   "outputs": [],
   "source": [
    "model = torch.nn.Linear(3,1)\n",
    "optimizer = torch.optim.SGD(model.parameters(), lr=1e-5)"
   ],
   "metadata": {
    "collapsed": false,
    "pycharm": {
     "name": "#%%\n"
    }
   }
  },
  {
   "cell_type": "code",
   "execution_count": 7,
   "outputs": [
    {
     "name": "stdout",
     "output_type": "stream",
     "text": [
      "Epoch    0/20 Batch 1/3 Cost: 11066.013672\n",
      "Epoch    0/20 Batch 2/3 Cost: 5141.083008\n",
      "Epoch    0/20 Batch 3/3 Cost: 683.475891\n",
      "Epoch    1/20 Batch 1/3 Cost: 306.954163\n",
      "Epoch    1/20 Batch 2/3 Cost: 242.229645\n",
      "Epoch    1/20 Batch 3/3 Cost: 27.859215\n",
      "Epoch    2/20 Batch 1/3 Cost: 17.728294\n",
      "Epoch    2/20 Batch 2/3 Cost: 1.423533\n",
      "Epoch    2/20 Batch 3/3 Cost: 10.517421\n",
      "Epoch    3/20 Batch 1/3 Cost: 3.385318\n",
      "Epoch    3/20 Batch 2/3 Cost: 0.862101\n",
      "Epoch    3/20 Batch 3/3 Cost: 5.358106\n",
      "Epoch    4/20 Batch 1/3 Cost: 2.173642\n",
      "Epoch    4/20 Batch 2/3 Cost: 2.612622\n",
      "Epoch    4/20 Batch 3/3 Cost: 5.316368\n",
      "Epoch    5/20 Batch 1/3 Cost: 3.212505\n",
      "Epoch    5/20 Batch 2/3 Cost: 1.779204\n",
      "Epoch    5/20 Batch 3/3 Cost: 2.472739\n",
      "Epoch    6/20 Batch 1/3 Cost: 1.000392\n",
      "Epoch    6/20 Batch 2/3 Cost: 3.589945\n",
      "Epoch    6/20 Batch 3/3 Cost: 4.125853\n",
      "Epoch    7/20 Batch 1/3 Cost: 2.539138\n",
      "Epoch    7/20 Batch 2/3 Cost: 3.323219\n",
      "Epoch    7/20 Batch 3/3 Cost: 3.975075\n",
      "Epoch    8/20 Batch 1/3 Cost: 2.274065\n",
      "Epoch    8/20 Batch 2/3 Cost: 3.175311\n",
      "Epoch    8/20 Batch 3/3 Cost: 1.877723\n",
      "Epoch    9/20 Batch 1/3 Cost: 3.348603\n",
      "Epoch    9/20 Batch 2/3 Cost: 1.988392\n",
      "Epoch    9/20 Batch 3/3 Cost: 1.695487\n",
      "Epoch   10/20 Batch 1/3 Cost: 3.523512\n",
      "Epoch   10/20 Batch 2/3 Cost: 0.614672\n",
      "Epoch   10/20 Batch 3/3 Cost: 5.618323\n",
      "Epoch   11/20 Batch 1/3 Cost: 2.792970\n",
      "Epoch   11/20 Batch 2/3 Cost: 2.581471\n",
      "Epoch   11/20 Batch 3/3 Cost: 4.125853\n",
      "Epoch   12/20 Batch 1/3 Cost: 1.884750\n",
      "Epoch   12/20 Batch 2/3 Cost: 3.152815\n",
      "Epoch   12/20 Batch 3/3 Cost: 2.556066\n",
      "Epoch   13/20 Batch 1/3 Cost: 2.274081\n",
      "Epoch   13/20 Batch 2/3 Cost: 3.152563\n",
      "Epoch   13/20 Batch 3/3 Cost: 1.617022\n",
      "Epoch   14/20 Batch 1/3 Cost: 3.208182\n",
      "Epoch   14/20 Batch 2/3 Cost: 1.035655\n",
      "Epoch   14/20 Batch 3/3 Cost: 5.639030\n",
      "Epoch   15/20 Batch 1/3 Cost: 2.864943\n",
      "Epoch   15/20 Batch 2/3 Cost: 4.466383\n",
      "Epoch   15/20 Batch 3/3 Cost: 3.309872\n",
      "Epoch   16/20 Batch 1/3 Cost: 2.105078\n",
      "Epoch   16/20 Batch 2/3 Cost: 3.119373\n",
      "Epoch   16/20 Batch 3/3 Cost: 1.705356\n",
      "Epoch   17/20 Batch 1/3 Cost: 2.980352\n",
      "Epoch   17/20 Batch 2/3 Cost: 2.855579\n",
      "Epoch   17/20 Batch 3/3 Cost: 0.814913\n",
      "Epoch   18/20 Batch 1/3 Cost: 0.620710\n",
      "Epoch   18/20 Batch 2/3 Cost: 3.594418\n",
      "Epoch   18/20 Batch 3/3 Cost: 4.398434\n",
      "Epoch   19/20 Batch 1/3 Cost: 3.173095\n",
      "Epoch   19/20 Batch 2/3 Cost: 2.530298\n",
      "Epoch   19/20 Batch 3/3 Cost: 3.934293\n",
      "Epoch   20/20 Batch 1/3 Cost: 1.604050\n",
      "Epoch   20/20 Batch 2/3 Cost: 5.953168\n",
      "Epoch   20/20 Batch 3/3 Cost: 1.103885\n"
     ]
    }
   ],
   "source": [
    "nb_epochs = 20\n",
    "for epoch in range(nb_epochs + 1):\n",
    "  for batch_idx, samples in enumerate(dataloader):\n",
    "    # print(batch_idx)\n",
    "    # print(samples)\n",
    "    x_train, y_train = samples\n",
    "    # H(x) 계산\n",
    "    prediction = model(x_train)\n",
    "\n",
    "    # cost 계산\n",
    "    cost = F.mse_loss(prediction, y_train)\n",
    "\n",
    "    # cost로 H(x) 계산\n",
    "    optimizer.zero_grad()\n",
    "    cost.backward()\n",
    "    optimizer.step()\n",
    "\n",
    "    print('Epoch {:4d}/{} Batch {}/{} Cost: {:.6f}'.format(\n",
    "        epoch, nb_epochs, batch_idx+1, len(dataloader),\n",
    "        cost.item()\n",
    "        ))"
   ],
   "metadata": {
    "collapsed": false,
    "pycharm": {
     "name": "#%%\n"
    }
   }
  },
  {
   "cell_type": "code",
   "execution_count": null,
   "outputs": [],
   "source": [],
   "metadata": {
    "collapsed": false,
    "pycharm": {
     "name": "#%%\n"
    }
   }
  }
 ],
 "metadata": {
  "kernelspec": {
   "display_name": "Python 3",
   "language": "python",
   "name": "python3"
  },
  "language_info": {
   "codemirror_mode": {
    "name": "ipython",
    "version": 2
   },
   "file_extension": ".py",
   "mimetype": "text/x-python",
   "name": "python",
   "nbconvert_exporter": "python",
   "pygments_lexer": "ipython2",
   "version": "2.7.6"
  }
 },
 "nbformat": 4,
 "nbformat_minor": 0
}