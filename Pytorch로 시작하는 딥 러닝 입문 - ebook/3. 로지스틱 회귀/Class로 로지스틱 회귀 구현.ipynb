{
 "cells": [
  {
   "cell_type": "code",
   "execution_count": 1,
   "metadata": {
    "collapsed": true,
    "pycharm": {
     "name": "#%%\n"
    }
   },
   "outputs": [
    {
     "data": {
      "text/plain": "<torch._C.Generator at 0x7ff0e12afe30>"
     },
     "execution_count": 1,
     "metadata": {},
     "output_type": "execute_result"
    }
   ],
   "source": [
    "import torch\n",
    "import torch.nn as nn\n",
    "import torch.nn.functional as F\n",
    "import torch.optim as optim\n",
    "\n",
    "torch.manual_seed(1)"
   ]
  },
  {
   "cell_type": "code",
   "execution_count": 2,
   "outputs": [],
   "source": [
    "x_data = [[1, 2], [2, 3], [3, 1], [4, 3], [5, 3], [6, 2]]\n",
    "y_data = [[0], [0], [0], [1], [1], [1]]\n",
    "x_train = torch.FloatTensor(x_data)\n",
    "y_train = torch.FloatTensor(y_data)"
   ],
   "metadata": {
    "collapsed": false,
    "pycharm": {
     "name": "#%%\n"
    }
   }
  },
  {
   "cell_type": "code",
   "execution_count": 3,
   "outputs": [],
   "source": [
    "class BinaryClassifier(nn.Module):\n",
    "    def __init__(self):\n",
    "        super().__init__()\n",
    "        self.linear = nn.Linear(2, 1)\n",
    "        self.sigmoid = nn.Sigmoid()\n",
    "\n",
    "    def forward(self, x):\n",
    "        return self.sigmoid(self.linear(x))"
   ],
   "metadata": {
    "collapsed": false,
    "pycharm": {
     "name": "#%%\n"
    }
   }
  },
  {
   "cell_type": "code",
   "execution_count": 4,
   "outputs": [],
   "source": [
    "model = BinaryClassifier()"
   ],
   "metadata": {
    "collapsed": false,
    "pycharm": {
     "name": "#%%\n"
    }
   }
  },
  {
   "cell_type": "code",
   "execution_count": 5,
   "outputs": [
    {
     "name": "stdout",
     "output_type": "stream",
     "text": [
      "Epoch    0/1000 Cost: 0.539713 Accuracy 83.33%\n",
      "Epoch   10/1000 Cost: 0.152741 Accuracy 100.00%\n",
      "Epoch   20/1000 Cost: 0.083781 Accuracy 100.00%\n",
      "Epoch   30/1000 Cost: 0.043819 Accuracy 100.00%\n",
      "Epoch   40/1000 Cost: 0.027129 Accuracy 100.00%\n",
      "Epoch   50/1000 Cost: 0.021349 Accuracy 100.00%\n",
      "Epoch   60/1000 Cost: 0.017375 Accuracy 100.00%\n",
      "Epoch   70/1000 Cost: 0.014878 Accuracy 100.00%\n",
      "Epoch   80/1000 Cost: 0.012955 Accuracy 100.00%\n",
      "Epoch   90/1000 Cost: 0.011480 Accuracy 100.00%\n",
      "Epoch  100/1000 Cost: 0.010270 Accuracy 100.00%\n",
      "Epoch  110/1000 Cost: 0.009256 Accuracy 100.00%\n",
      "Epoch  120/1000 Cost: 0.008397 Accuracy 100.00%\n",
      "Epoch  130/1000 Cost: 0.007661 Accuracy 100.00%\n",
      "Epoch  140/1000 Cost: 0.007023 Accuracy 100.00%\n",
      "Epoch  150/1000 Cost: 0.006468 Accuracy 100.00%\n",
      "Epoch  160/1000 Cost: 0.005980 Accuracy 100.00%\n",
      "Epoch  170/1000 Cost: 0.005549 Accuracy 100.00%\n",
      "Epoch  180/1000 Cost: 0.005166 Accuracy 100.00%\n",
      "Epoch  190/1000 Cost: 0.004824 Accuracy 100.00%\n",
      "Epoch  200/1000 Cost: 0.004517 Accuracy 100.00%\n",
      "Epoch  210/1000 Cost: 0.004241 Accuracy 100.00%\n",
      "Epoch  220/1000 Cost: 0.003991 Accuracy 100.00%\n",
      "Epoch  230/1000 Cost: 0.003764 Accuracy 100.00%\n",
      "Epoch  240/1000 Cost: 0.003557 Accuracy 100.00%\n",
      "Epoch  250/1000 Cost: 0.003368 Accuracy 100.00%\n",
      "Epoch  260/1000 Cost: 0.003195 Accuracy 100.00%\n",
      "Epoch  270/1000 Cost: 0.003035 Accuracy 100.00%\n",
      "Epoch  280/1000 Cost: 0.002888 Accuracy 100.00%\n",
      "Epoch  290/1000 Cost: 0.002753 Accuracy 100.00%\n",
      "Epoch  300/1000 Cost: 0.002627 Accuracy 100.00%\n",
      "Epoch  310/1000 Cost: 0.002510 Accuracy 100.00%\n",
      "Epoch  320/1000 Cost: 0.002402 Accuracy 100.00%\n",
      "Epoch  330/1000 Cost: 0.002300 Accuracy 100.00%\n",
      "Epoch  340/1000 Cost: 0.002206 Accuracy 100.00%\n",
      "Epoch  350/1000 Cost: 0.002117 Accuracy 100.00%\n",
      "Epoch  360/1000 Cost: 0.002034 Accuracy 100.00%\n",
      "Epoch  370/1000 Cost: 0.001957 Accuracy 100.00%\n",
      "Epoch  380/1000 Cost: 0.001884 Accuracy 100.00%\n",
      "Epoch  390/1000 Cost: 0.001815 Accuracy 100.00%\n",
      "Epoch  400/1000 Cost: 0.001750 Accuracy 100.00%\n",
      "Epoch  410/1000 Cost: 0.001689 Accuracy 100.00%\n",
      "Epoch  420/1000 Cost: 0.001631 Accuracy 100.00%\n",
      "Epoch  430/1000 Cost: 0.001576 Accuracy 100.00%\n",
      "Epoch  440/1000 Cost: 0.001524 Accuracy 100.00%\n",
      "Epoch  450/1000 Cost: 0.001475 Accuracy 100.00%\n",
      "Epoch  460/1000 Cost: 0.001428 Accuracy 100.00%\n",
      "Epoch  470/1000 Cost: 0.001384 Accuracy 100.00%\n",
      "Epoch  480/1000 Cost: 0.001341 Accuracy 100.00%\n",
      "Epoch  490/1000 Cost: 0.001301 Accuracy 100.00%\n",
      "Epoch  500/1000 Cost: 0.001263 Accuracy 100.00%\n",
      "Epoch  510/1000 Cost: 0.001226 Accuracy 100.00%\n",
      "Epoch  520/1000 Cost: 0.001191 Accuracy 100.00%\n",
      "Epoch  530/1000 Cost: 0.001158 Accuracy 100.00%\n",
      "Epoch  540/1000 Cost: 0.001126 Accuracy 100.00%\n",
      "Epoch  550/1000 Cost: 0.001095 Accuracy 100.00%\n",
      "Epoch  560/1000 Cost: 0.001066 Accuracy 100.00%\n",
      "Epoch  570/1000 Cost: 0.001038 Accuracy 100.00%\n",
      "Epoch  580/1000 Cost: 0.001011 Accuracy 100.00%\n",
      "Epoch  590/1000 Cost: 0.000986 Accuracy 100.00%\n",
      "Epoch  600/1000 Cost: 0.000961 Accuracy 100.00%\n",
      "Epoch  610/1000 Cost: 0.000937 Accuracy 100.00%\n",
      "Epoch  620/1000 Cost: 0.000914 Accuracy 100.00%\n",
      "Epoch  630/1000 Cost: 0.000892 Accuracy 100.00%\n",
      "Epoch  640/1000 Cost: 0.000871 Accuracy 100.00%\n",
      "Epoch  650/1000 Cost: 0.000850 Accuracy 100.00%\n",
      "Epoch  660/1000 Cost: 0.000831 Accuracy 100.00%\n",
      "Epoch  670/1000 Cost: 0.000812 Accuracy 100.00%\n",
      "Epoch  680/1000 Cost: 0.000793 Accuracy 100.00%\n",
      "Epoch  690/1000 Cost: 0.000776 Accuracy 100.00%\n",
      "Epoch  700/1000 Cost: 0.000759 Accuracy 100.00%\n",
      "Epoch  710/1000 Cost: 0.000742 Accuracy 100.00%\n",
      "Epoch  720/1000 Cost: 0.000726 Accuracy 100.00%\n",
      "Epoch  730/1000 Cost: 0.000711 Accuracy 100.00%\n",
      "Epoch  740/1000 Cost: 0.000696 Accuracy 100.00%\n",
      "Epoch  750/1000 Cost: 0.000682 Accuracy 100.00%\n",
      "Epoch  760/1000 Cost: 0.000668 Accuracy 100.00%\n",
      "Epoch  770/1000 Cost: 0.000654 Accuracy 100.00%\n",
      "Epoch  780/1000 Cost: 0.000641 Accuracy 100.00%\n",
      "Epoch  790/1000 Cost: 0.000628 Accuracy 100.00%\n",
      "Epoch  800/1000 Cost: 0.000616 Accuracy 100.00%\n",
      "Epoch  810/1000 Cost: 0.000604 Accuracy 100.00%\n",
      "Epoch  820/1000 Cost: 0.000592 Accuracy 100.00%\n",
      "Epoch  830/1000 Cost: 0.000581 Accuracy 100.00%\n",
      "Epoch  840/1000 Cost: 0.000570 Accuracy 100.00%\n",
      "Epoch  850/1000 Cost: 0.000560 Accuracy 100.00%\n",
      "Epoch  860/1000 Cost: 0.000549 Accuracy 100.00%\n",
      "Epoch  870/1000 Cost: 0.000539 Accuracy 100.00%\n",
      "Epoch  880/1000 Cost: 0.000530 Accuracy 100.00%\n",
      "Epoch  890/1000 Cost: 0.000520 Accuracy 100.00%\n",
      "Epoch  900/1000 Cost: 0.000511 Accuracy 100.00%\n",
      "Epoch  910/1000 Cost: 0.000502 Accuracy 100.00%\n",
      "Epoch  920/1000 Cost: 0.000493 Accuracy 100.00%\n",
      "Epoch  930/1000 Cost: 0.000485 Accuracy 100.00%\n",
      "Epoch  940/1000 Cost: 0.000476 Accuracy 100.00%\n",
      "Epoch  950/1000 Cost: 0.000468 Accuracy 100.00%\n",
      "Epoch  960/1000 Cost: 0.000461 Accuracy 100.00%\n",
      "Epoch  970/1000 Cost: 0.000453 Accuracy 100.00%\n",
      "Epoch  980/1000 Cost: 0.000445 Accuracy 100.00%\n",
      "Epoch  990/1000 Cost: 0.000438 Accuracy 100.00%\n",
      "Epoch 1000/1000 Cost: 0.000431 Accuracy 100.00%\n"
     ]
    }
   ],
   "source": [
    "# optimizer 설정\n",
    "optimizer = optim.Adam(model.parameters(), lr=1)\n",
    "\n",
    "nb_epochs = 1000\n",
    "for epoch in range(nb_epochs + 1):\n",
    "\n",
    "    # H(x) 계산\n",
    "    hypothesis = model(x_train)\n",
    "\n",
    "    # cost 계산\n",
    "    cost = F.binary_cross_entropy(hypothesis, y_train)\n",
    "\n",
    "    # cost로 H(x) 개선\n",
    "    optimizer.zero_grad()\n",
    "    cost.backward()\n",
    "    optimizer.step()\n",
    "\n",
    "    # 20번마다 로그 출력\n",
    "    if epoch % 10 == 0:\n",
    "        prediction = hypothesis >= torch.FloatTensor([0.5]) # 예측값이 0.5를 넘으면 True로 간주\n",
    "        correct_prediction = prediction.float() == y_train # 실제값과 일치하는 경우만 True로 간주\n",
    "        accuracy = correct_prediction.sum().item() / len(correct_prediction) # 정확도를 계산\n",
    "        print('Epoch {:4d}/{} Cost: {:.6f} Accuracy {:2.2f}%'.format( # 각 에포크마다 정확도를 출력\n",
    "            epoch, nb_epochs, cost.item(), accuracy * 100,\n",
    "        ))"
   ],
   "metadata": {
    "collapsed": false,
    "pycharm": {
     "name": "#%%\n"
    }
   }
  }
 ],
 "metadata": {
  "kernelspec": {
   "display_name": "Python 3",
   "language": "python",
   "name": "python3"
  },
  "language_info": {
   "codemirror_mode": {
    "name": "ipython",
    "version": 2
   },
   "file_extension": ".py",
   "mimetype": "text/x-python",
   "name": "python",
   "nbconvert_exporter": "python",
   "pygments_lexer": "ipython2",
   "version": "2.7.6"
  }
 },
 "nbformat": 4,
 "nbformat_minor": 0
}