{
 "cells": [
  {
   "cell_type": "code",
   "execution_count": 1,
   "outputs": [],
   "source": [
    "import torch\n",
    "import torch.nn as nn"
   ],
   "metadata": {
    "collapsed": false,
    "pycharm": {
     "name": "#%%\n"
    }
   }
  },
  {
   "cell_type": "code",
   "execution_count": 2,
   "outputs": [],
   "source": [
    "device = 'cuda' if torch.cuda.is_available() else 'cpu'\n",
    "\n",
    "# for reproducibility\n",
    "torch.manual_seed(777)\n",
    "if device == 'cuda':\n",
    "    torch.cuda.manual_seed_all(777)"
   ],
   "metadata": {
    "collapsed": false,
    "pycharm": {
     "name": "#%%\n"
    }
   }
  },
  {
   "cell_type": "code",
   "execution_count": 3,
   "outputs": [],
   "source": [
    "X = torch.FloatTensor([[0, 0], [0, 1], [1, 0], [1, 1]]).to(device)\n",
    "Y = torch.FloatTensor([[0], [1], [1], [0]]).to(device)"
   ],
   "metadata": {
    "collapsed": false,
    "pycharm": {
     "name": "#%%\n"
    }
   }
  },
  {
   "cell_type": "code",
   "execution_count": 5,
   "outputs": [],
   "source": [
    "model = nn.Sequential(\n",
    "          nn.Linear(2, 10, bias=True), # input_layer = 2, hidden_layer1 = 10\n",
    "          nn.Sigmoid(),\n",
    "          nn.Linear(10, 10, bias=True), # hidden_layer1 = 10, hidden_layer2 = 10\n",
    "          nn.Sigmoid(),\n",
    "          nn.Linear(10, 10, bias=True), # hidden_layer2 = 10, hidden_layer3 = 10\n",
    "          nn.Sigmoid(),\n",
    "          nn.Linear(10, 1, bias=True), # hidden_layer3 = 10, output_layer = 1\n",
    "          nn.Sigmoid()\n",
    "          ).to(device)"
   ],
   "metadata": {
    "collapsed": false,
    "pycharm": {
     "name": "#%%\n"
    }
   }
  },
  {
   "cell_type": "markdown",
   "source": [
    "![ex_screenshot](img.png)"
   ],
   "metadata": {
    "collapsed": false,
    "pycharm": {
     "name": "#%% md\n"
    }
   }
  },
  {
   "cell_type": "code",
   "execution_count": 6,
   "outputs": [],
   "source": [
    "criterion = torch.nn.BCELoss().to(device)\n",
    "optimizer = torch.optim.SGD(model.parameters(), lr=1)  # modified learning rate from 0.1 to 1"
   ],
   "metadata": {
    "collapsed": false,
    "pycharm": {
     "name": "#%%\n"
    }
   }
  },
  {
   "cell_type": "code",
   "execution_count": 7,
   "outputs": [
    {
     "name": "stdout",
     "output_type": "stream",
     "text": [
      "0 0.6948983669281006\n",
      "100 0.693155825138092\n",
      "200 0.6931535601615906\n",
      "300 0.6931513547897339\n",
      "400 0.6931493282318115\n",
      "500 0.6931473016738892\n",
      "600 0.6931453943252563\n",
      "700 0.6931434869766235\n",
      "800 0.6931416988372803\n",
      "900 0.6931397914886475\n",
      "1000 0.6931380033493042\n",
      "1100 0.6931361556053162\n",
      "1200 0.6931343078613281\n",
      "1300 0.6931324005126953\n",
      "1400 0.6931304931640625\n",
      "1500 0.6931284666061401\n",
      "1600 0.6931264400482178\n",
      "1700 0.6931242942810059\n",
      "1800 0.6931220293045044\n",
      "1900 0.6931197047233582\n",
      "2000 0.6931171417236328\n",
      "2100 0.6931145191192627\n",
      "2200 0.6931115984916687\n",
      "2300 0.6931084394454956\n",
      "2400 0.6931051015853882\n",
      "2500 0.6931014657020569\n",
      "2600 0.6930974721908569\n",
      "2700 0.6930930018424988\n",
      "2800 0.6930879950523376\n",
      "2900 0.6930825114250183\n",
      "3000 0.6930763721466064\n",
      "3100 0.6930692791938782\n",
      "3200 0.6930612325668335\n",
      "3300 0.6930519342422485\n",
      "3400 0.6930410861968994\n",
      "3500 0.6930283904075623\n",
      "3600 0.6930132508277893\n",
      "3700 0.6929951310157776\n",
      "3800 0.6929728984832764\n",
      "3900 0.6929453015327454\n",
      "4000 0.6929103136062622\n",
      "4100 0.6928649544715881\n",
      "4200 0.6928046941757202\n",
      "4300 0.692721962928772\n",
      "4400 0.6926040649414062\n",
      "4500 0.6924278736114502\n",
      "4600 0.6921480894088745\n",
      "4700 0.6916664838790894\n",
      "4800 0.6907395720481873\n",
      "4900 0.6886204481124878\n",
      "5000 0.6820822358131409\n",
      "5100 0.6472561955451965\n",
      "5200 0.4495549201965332\n",
      "5300 0.04108955338597298\n",
      "5400 0.009713951498270035\n",
      "5500 0.005029197782278061\n",
      "5600 0.0032945263665169477\n",
      "5700 0.002415546216070652\n",
      "5800 0.001891540945507586\n",
      "5900 0.001546397339552641\n",
      "6000 0.0013030901318416\n",
      "6100 0.0011230668751522899\n",
      "6200 0.0009847823530435562\n",
      "6300 0.0008754964219406247\n",
      "6400 0.0007871013367548585\n",
      "6500 0.000714148220140487\n",
      "6600 0.0006530997343361378\n",
      "6700 0.0006012100493535399\n",
      "6800 0.0005566140171140432\n",
      "6900 0.0005179538857191801\n",
      "7000 0.00048405106645077467\n",
      "7100 0.00045418954687193036\n",
      "7200 0.0004275788669474423\n",
      "7300 0.00040381622966378927\n",
      "7400 0.000382498896215111\n",
      "7500 0.0003631646395660937\n",
      "7600 0.0003456493723206222\n",
      "7700 0.00032968466985039413\n",
      "7800 0.0003150617703795433\n",
      "7900 0.0003015868132933974\n",
      "8000 0.00028925982769578695\n",
      "8100 0.0002777527552098036\n",
      "8200 0.000267184863332659\n",
      "8300 0.00025731761706992984\n",
      "8400 0.0002481211849953979\n",
      "8500 0.00023955087817739695\n",
      "8600 0.00023153208894655108\n",
      "8700 0.0002239903260488063\n",
      "8800 0.0002169255749322474\n",
      "8900 0.00021024837042205036\n",
      "9000 0.0002039736573351547\n",
      "9100 0.00019804175826720893\n",
      "9200 0.00019245268777012825\n",
      "9300 0.00018711703887674958\n",
      "9400 0.00018209438712801784\n",
      "9500 0.0001773251424310729\n",
      "9600 0.00017274964193347842\n",
      "9700 0.00016847225197125226\n",
      "9800 0.00016431411495432258\n",
      "9900 0.00016037956811487675\n",
      "10000 0.00015665366663597524\n"
     ]
    }
   ],
   "source": [
    "for epoch in range(10001):\n",
    "    optimizer.zero_grad()\n",
    "    # forward 연산\n",
    "    hypothesis = model(X)\n",
    "\n",
    "    # 비용 함수\n",
    "    cost = criterion(hypothesis, Y)\n",
    "    cost.backward()\n",
    "    optimizer.step()\n",
    "\n",
    "    # 100의 배수에 해당되는 에포크마다 비용을 출력\n",
    "    if epoch % 100 == 0:\n",
    "        print(epoch, cost.item())"
   ],
   "metadata": {
    "collapsed": false,
    "pycharm": {
     "name": "#%%\n"
    }
   }
  },
  {
   "cell_type": "code",
   "execution_count": 8,
   "outputs": [
    {
     "name": "stdout",
     "output_type": "stream",
     "text": [
      "모델의 출력값(Hypothesis):  [[1.1177176e-04]\n",
      " [9.9982870e-01]\n",
      " [9.9984217e-01]\n",
      " [1.8544328e-04]]\n",
      "모델의 예측값(Predicted):  [[0.]\n",
      " [1.]\n",
      " [1.]\n",
      " [0.]]\n",
      "실제값(Y):  [[0.]\n",
      " [1.]\n",
      " [1.]\n",
      " [0.]]\n",
      "정확도(Accuracy):  1.0\n"
     ]
    }
   ],
   "source": [
    "with torch.no_grad():\n",
    "    hypothesis = model(X)\n",
    "    predicted = (hypothesis > 0.5).float()\n",
    "    accuracy = (predicted == Y).float().mean()\n",
    "    print('모델의 출력값(Hypothesis): ', hypothesis.detach().cpu().numpy())\n",
    "    print('모델의 예측값(Predicted): ', predicted.detach().cpu().numpy())\n",
    "    print('실제값(Y): ', Y.cpu().numpy())\n",
    "    print('정확도(Accuracy): ', accuracy.item())"
   ],
   "metadata": {
    "collapsed": false,
    "pycharm": {
     "name": "#%%\n"
    }
   }
  }
 ],
 "metadata": {
  "kernelspec": {
   "display_name": "Python 3",
   "language": "python",
   "name": "python3"
  },
  "language_info": {
   "codemirror_mode": {
    "name": "ipython",
    "version": 2
   },
   "file_extension": ".py",
   "mimetype": "text/x-python",
   "name": "python",
   "nbconvert_exporter": "python",
   "pygments_lexer": "ipython2",
   "version": "2.7.6"
  }
 },
 "nbformat": 4,
 "nbformat_minor": 0
}