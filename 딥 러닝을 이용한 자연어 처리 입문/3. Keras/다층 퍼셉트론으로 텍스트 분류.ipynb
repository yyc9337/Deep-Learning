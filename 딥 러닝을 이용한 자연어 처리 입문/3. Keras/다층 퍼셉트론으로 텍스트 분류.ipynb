{
 "cells": [
  {
   "cell_type": "markdown",
   "metadata": {
    "collapsed": true,
    "pycharm": {
     "name": "#%% md\n"
    }
   },
   "source": [
    "## 다층퍼센트론으로 텍스트 분류"
   ]
  },
  {
   "cell_type": "markdown",
   "source": [
    "- 케라스의 texts_to_matrix() 이해하기"
   ],
   "metadata": {
    "collapsed": false,
    "pycharm": {
     "name": "#%% md\n"
    }
   }
  },
  {
   "cell_type": "code",
   "execution_count": 1,
   "outputs": [],
   "source": [
    "import numpy as np\n",
    "from tensorflow.keras.preprocessing.text import Tokenizer"
   ],
   "metadata": {
    "collapsed": false,
    "pycharm": {
     "name": "#%%\n"
    }
   }
  },
  {
   "cell_type": "code",
   "execution_count": 2,
   "outputs": [],
   "source": [
    "texts = ['먹고 싶은 사과', '먹고 싶은 바나나', '길고 노란 바나나 바나나', '저는 과일이 좋아요']"
   ],
   "metadata": {
    "collapsed": false,
    "pycharm": {
     "name": "#%%\n"
    }
   }
  },
  {
   "cell_type": "code",
   "execution_count": 3,
   "outputs": [
    {
     "name": "stdout",
     "output_type": "stream",
     "text": [
      "{'바나나': 1, '먹고': 2, '싶은': 3, '사과': 4, '길고': 5, '노란': 6, '저는': 7, '과일이': 8, '좋아요': 9}\n"
     ]
    }
   ],
   "source": [
    "tokenizer = Tokenizer()\n",
    "tokenizer.fit_on_texts(texts)\n",
    "print(tokenizer.word_index)"
   ],
   "metadata": {
    "collapsed": false,
    "pycharm": {
     "name": "#%%\n"
    }
   }
  },
  {
   "cell_type": "code",
   "execution_count": 4,
   "outputs": [
    {
     "name": "stdout",
     "output_type": "stream",
     "text": [
      "[[0. 0. 1. 1. 1. 0. 0. 0. 0. 0.]\n",
      " [0. 1. 1. 1. 0. 0. 0. 0. 0. 0.]\n",
      " [0. 2. 0. 0. 0. 1. 1. 0. 0. 0.]\n",
      " [0. 0. 0. 0. 0. 0. 0. 1. 1. 1.]]\n"
     ]
    }
   ],
   "source": [
    "print(tokenizer.texts_to_matrix(texts, mode = 'count'))"
   ],
   "metadata": {
    "collapsed": false,
    "pycharm": {
     "name": "#%%\n"
    }
   }
  },
  {
   "cell_type": "code",
   "execution_count": 5,
   "outputs": [
    {
     "name": "stdout",
     "output_type": "stream",
     "text": [
      "[[0. 0. 1. 1. 1. 0. 0. 0. 0. 0.]\n",
      " [0. 1. 1. 1. 0. 0. 0. 0. 0. 0.]\n",
      " [0. 1. 0. 0. 0. 1. 1. 0. 0. 0.]\n",
      " [0. 0. 0. 0. 0. 0. 0. 1. 1. 1.]]\n"
     ]
    }
   ],
   "source": [
    "print(tokenizer.texts_to_matrix(texts, mode = 'binary'))"
   ],
   "metadata": {
    "collapsed": false,
    "pycharm": {
     "name": "#%%\n"
    }
   }
  },
  {
   "cell_type": "code",
   "execution_count": 6,
   "outputs": [
    {
     "name": "stdout",
     "output_type": "stream",
     "text": [
      "[[0.   0.   0.85 0.85 1.1  0.   0.   0.   0.   0.  ]\n",
      " [0.   0.85 0.85 0.85 0.   0.   0.   0.   0.   0.  ]\n",
      " [0.   1.43 0.   0.   0.   1.1  1.1  0.   0.   0.  ]\n",
      " [0.   0.   0.   0.   0.   0.   0.   1.1  1.1  1.1 ]]\n"
     ]
    }
   ],
   "source": [
    "print(tokenizer.texts_to_matrix(texts, mode = 'tfidf').round(2)) # 둘째 자리까지 반올림하여 출력"
   ],
   "metadata": {
    "collapsed": false,
    "pycharm": {
     "name": "#%%\n"
    }
   }
  },
  {
   "cell_type": "code",
   "execution_count": 7,
   "outputs": [
    {
     "name": "stdout",
     "output_type": "stream",
     "text": [
      "[[0.   0.   0.33 0.33 0.33 0.   0.   0.   0.   0.  ]\n",
      " [0.   0.33 0.33 0.33 0.   0.   0.   0.   0.   0.  ]\n",
      " [0.   0.5  0.   0.   0.   0.25 0.25 0.   0.   0.  ]\n",
      " [0.   0.   0.   0.   0.   0.   0.   0.33 0.33 0.33]]\n"
     ]
    }
   ],
   "source": [
    "print(tokenizer.texts_to_matrix(texts, mode = 'freq').round(2)) # 둘째 자리까지 반올림하여 출력"
   ],
   "metadata": {
    "collapsed": false,
    "pycharm": {
     "name": "#%%\n"
    }
   }
  },
  {
   "cell_type": "markdown",
   "source": [
    "-  20개 뉴스 그룹(Twenty Newsgroups) 데이터에 대한 이해"
   ],
   "metadata": {
    "collapsed": false,
    "pycharm": {
     "name": "#%% md\n"
    }
   }
  },
  {
   "cell_type": "code",
   "execution_count": 8,
   "outputs": [],
   "source": [
    "import pandas as pd\n",
    "from sklearn.datasets import fetch_20newsgroups\n",
    "import matplotlib.pyplot as plt\n",
    "from tensorflow.keras.preprocessing.text import Tokenizer\n",
    "from tensorflow.keras.utils import to_categorical"
   ],
   "metadata": {
    "collapsed": false,
    "pycharm": {
     "name": "#%%\n"
    }
   }
  },
  {
   "cell_type": "code",
   "execution_count": 9,
   "outputs": [],
   "source": [
    "newsdata = fetch_20newsgroups(subset = 'train') # 'train'을 기재하면 훈련 데이터만 리턴한다."
   ],
   "metadata": {
    "collapsed": false,
    "pycharm": {
     "name": "#%%\n"
    }
   }
  },
  {
   "cell_type": "code",
   "execution_count": 18,
   "outputs": [
    {
     "name": "stdout",
     "output_type": "stream",
     "text": [
      "훈련용 샘플의 개수 : 11314\n"
     ]
    }
   ],
   "source": [
    "print('훈련용 샘플의 개수 : {}'.format(len(newsdata.data)))"
   ],
   "metadata": {
    "collapsed": false,
    "pycharm": {
     "name": "#%%\n"
    }
   }
  },
  {
   "cell_type": "code",
   "execution_count": 19,
   "outputs": [
    {
     "name": "stdout",
     "output_type": "stream",
     "text": [
      "첫번째 샘플의 레이블 : 7\n"
     ]
    }
   ],
   "source": [
    "print('첫번째 샘플의 레이블 : {}'.format(newsdata.target[0]))"
   ],
   "metadata": {
    "collapsed": false,
    "pycharm": {
     "name": "#%%\n"
    }
   }
  },
  {
   "cell_type": "code",
   "execution_count": 20,
   "outputs": [
    {
     "name": "stdout",
     "output_type": "stream",
     "text": [
      "7번 레이블이 의미하는 주제 : rec.autos\n"
     ]
    }
   ],
   "source": [
    "print('7번 레이블이 의미하는 주제 : {}'.format(newsdata.target_names[7]))"
   ],
   "metadata": {
    "collapsed": false,
    "pycharm": {
     "name": "#%%\n"
    }
   }
  },
  {
   "cell_type": "code",
   "execution_count": 21,
   "outputs": [
    {
     "name": "stdout",
     "output_type": "stream",
     "text": [
      "From: lerxst@wam.umd.edu (where's my thing)\n",
      "Subject: WHAT car is this!?\n",
      "Nntp-Posting-Host: rac3.wam.umd.edu\n",
      "Organization: University of Maryland, College Park\n",
      "Lines: 15\n",
      "\n",
      " I was wondering if anyone out there could enlighten me on this car I saw\n",
      "the other day. It was a 2-door sports car, looked to be from the late 60s/\n",
      "early 70s. It was called a Bricklin. The doors were really small. In addition,\n",
      "the front bumper was separate from the rest of the body. This is \n",
      "all I know. If anyone can tellme a model name, engine specs, years\n",
      "of production, where this car is made, history, or whatever info you\n",
      "have on this funky looking car, please e-mail.\n",
      "\n",
      "Thanks,\n",
      "- IL\n",
      "   ---- brought to you by your neighborhood Lerxst ----\n",
      "\n",
      "\n",
      "\n",
      "\n",
      "\n"
     ]
    }
   ],
   "source": [
    "print(newsdata.data[0]) # 첫번째 샘플 출력"
   ],
   "metadata": {
    "collapsed": false,
    "pycharm": {
     "name": "#%%\n"
    }
   }
  },
  {
   "cell_type": "code",
   "execution_count": 22,
   "outputs": [
    {
     "data": {
      "text/plain": "                                               email  target\n0  From: lerxst@wam.umd.edu (where's my thing)\\nS...       7\n1  From: guykuo@carson.u.washington.edu (Guy Kuo)...       4\n2  From: twillis@ec.ecn.purdue.edu (Thomas E Will...       4\n3  From: jgreen@amber (Joe Green)\\nSubject: Re: W...       1\n4  From: jcm@head-cfa.harvard.edu (Jonathan McDow...      14",
      "text/html": "<div>\n<style scoped>\n    .dataframe tbody tr th:only-of-type {\n        vertical-align: middle;\n    }\n\n    .dataframe tbody tr th {\n        vertical-align: top;\n    }\n\n    .dataframe thead th {\n        text-align: right;\n    }\n</style>\n<table border=\"1\" class=\"dataframe\">\n  <thead>\n    <tr style=\"text-align: right;\">\n      <th></th>\n      <th>email</th>\n      <th>target</th>\n    </tr>\n  </thead>\n  <tbody>\n    <tr>\n      <th>0</th>\n      <td>From: lerxst@wam.umd.edu (where's my thing)\\nS...</td>\n      <td>7</td>\n    </tr>\n    <tr>\n      <th>1</th>\n      <td>From: guykuo@carson.u.washington.edu (Guy Kuo)...</td>\n      <td>4</td>\n    </tr>\n    <tr>\n      <th>2</th>\n      <td>From: twillis@ec.ecn.purdue.edu (Thomas E Will...</td>\n      <td>4</td>\n    </tr>\n    <tr>\n      <th>3</th>\n      <td>From: jgreen@amber (Joe Green)\\nSubject: Re: W...</td>\n      <td>1</td>\n    </tr>\n    <tr>\n      <th>4</th>\n      <td>From: jcm@head-cfa.harvard.edu (Jonathan McDow...</td>\n      <td>14</td>\n    </tr>\n  </tbody>\n</table>\n</div>"
     },
     "execution_count": 22,
     "metadata": {},
     "output_type": "execute_result"
    }
   ],
   "source": [
    "data = pd.DataFrame(newsdata.data, columns = ['email'])\n",
    "data['target'] = pd.Series(newsdata.target)\n",
    "data[:5]"
   ],
   "metadata": {
    "collapsed": false,
    "pycharm": {
     "name": "#%%\n"
    }
   }
  },
  {
   "cell_type": "code",
   "execution_count": 23,
   "outputs": [],
   "source": [
    "newsdata_test = fetch_20newsgroups(subset='test', shuffle=True)\n",
    "train_email = data['email']\n",
    "train_label = data['target']\n",
    "test_email = newsdata_test.data\n",
    "test_label = newsdata_test.target"
   ],
   "metadata": {
    "collapsed": false,
    "pycharm": {
     "name": "#%%\n"
    }
   }
  },
  {
   "cell_type": "code",
   "execution_count": 26,
   "outputs": [],
   "source": [
    "vocab_size = 10000\n",
    "num_classes = 20"
   ],
   "metadata": {
    "collapsed": false,
    "pycharm": {
     "name": "#%%\n"
    }
   }
  },
  {
   "cell_type": "code",
   "execution_count": 24,
   "outputs": [],
   "source": [
    "def prepare_data(train_data, test_data, mode): # 전처리 함수\n",
    "    tokenizer = Tokenizer(num_words = vocab_size) # vocab_size 개수만큼의 단어만 사용한다.\n",
    "    tokenizer.fit_on_texts(train_data)\n",
    "    X_train = tokenizer.texts_to_matrix(train_data, mode=mode) # 샘플 수 × vocab_size 크기의 행렬 생성\n",
    "    X_test = tokenizer.texts_to_matrix(test_data, mode=mode) # 샘플 수 × vocab_size 크기의 행렬 생성\n",
    "    return X_train, X_test, tokenizer.index_word"
   ],
   "metadata": {
    "collapsed": false,
    "pycharm": {
     "name": "#%%\n"
    }
   }
  },
  {
   "cell_type": "code",
   "execution_count": 27,
   "outputs": [],
   "source": [
    "X_train, X_test, index_to_word = prepare_data(train_email, test_email, 'binary') # binary 모드로 변환\n",
    "y_train = to_categorical(train_label, num_classes) # 원-핫 인코딩\n",
    "y_test = to_categorical(test_label, num_classes) # 원-핫 인코딩"
   ],
   "metadata": {
    "collapsed": false,
    "pycharm": {
     "name": "#%%\n"
    }
   }
  },
  {
   "cell_type": "code",
   "execution_count": 29,
   "outputs": [
    {
     "name": "stdout",
     "output_type": "stream",
     "text": [
      "훈련 샘플 본문의 크기 : (11314, 10000)\n",
      "훈련 샘플 레이블의 크기 : (11314, 20)\n",
      "테스트 샘플 본문의 크기 : (7532, 10000)\n",
      "테스트 샘플 레이블의 크기 : (7532, 20)\n"
     ]
    }
   ],
   "source": [
    "print('훈련 샘플 본문의 크기 : {}'.format(X_train.shape))\n",
    "print('훈련 샘플 레이블의 크기 : {}'.format(y_train.shape))\n",
    "print('테스트 샘플 본문의 크기 : {}'.format(X_test.shape))\n",
    "print('테스트 샘플 레이블의 크기 : {}'.format(y_test.shape))"
   ],
   "metadata": {
    "collapsed": false,
    "pycharm": {
     "name": "#%%\n"
    }
   }
  },
  {
   "cell_type": "code",
   "execution_count": 30,
   "outputs": [],
   "source": [
    "from tensorflow.keras.models import Sequential\n",
    "from tensorflow.keras.layers import Dense, Dropout"
   ],
   "metadata": {
    "collapsed": false,
    "pycharm": {
     "name": "#%%\n"
    }
   }
  },
  {
   "cell_type": "code",
   "execution_count": 31,
   "outputs": [],
   "source": [
    "def fit_and_evaluate(X_train, y_train, X_test, y_test):\n",
    "    model = Sequential()\n",
    "    model.add(Dense(256, input_shape=(vocab_size,), activation='relu'))\n",
    "    model.add(Dropout(0.5))\n",
    "    model.add(Dense(128, activation='relu'))\n",
    "    model.add(Dropout(0.5))\n",
    "    model.add(Dense(num_classes, activation='softmax'))\n",
    "\n",
    "    model.compile(loss='categorical_crossentropy', optimizer='adam', metrics=['accuracy'])\n",
    "    model.fit(X_train, y_train, batch_size=128, epochs=5, verbose=1, validation_split=0.1)\n",
    "    score = model.evaluate(X_test, y_test, batch_size=128, verbose=0)\n",
    "    return score[1]"
   ],
   "metadata": {
    "collapsed": false,
    "pycharm": {
     "name": "#%%\n"
    }
   }
  },
  {
   "cell_type": "code",
   "execution_count": 32,
   "outputs": [
    {
     "name": "stdout",
     "output_type": "stream",
     "text": [
      "Epoch 1/5\n",
      "80/80 [==============================] - 2s 23ms/step - loss: 2.3007 - accuracy: 0.3367 - val_loss: 0.9570 - val_accuracy: 0.8216\n",
      "Epoch 2/5\n",
      "80/80 [==============================] - 2s 21ms/step - loss: 0.8495 - accuracy: 0.7673 - val_loss: 0.4588 - val_accuracy: 0.8834\n",
      "Epoch 3/5\n",
      "80/80 [==============================] - 2s 22ms/step - loss: 0.4427 - accuracy: 0.8839 - val_loss: 0.3497 - val_accuracy: 0.9046\n",
      "Epoch 4/5\n",
      "80/80 [==============================] - 2s 21ms/step - loss: 0.2588 - accuracy: 0.9368 - val_loss: 0.3134 - val_accuracy: 0.9081\n",
      "Epoch 5/5\n",
      "80/80 [==============================] - 2s 22ms/step - loss: 0.1667 - accuracy: 0.9581 - val_loss: 0.3036 - val_accuracy: 0.9117\n",
      "binary 모드의 테스트 정확도: 0.8246150016784668\n",
      "Epoch 1/5\n",
      "80/80 [==============================] - 2s 23ms/step - loss: 2.7822 - accuracy: 0.2471 - val_loss: 1.5715 - val_accuracy: 0.7270\n",
      "Epoch 2/5\n",
      "80/80 [==============================] - 2s 21ms/step - loss: 1.3835 - accuracy: 0.6406 - val_loss: 0.7034 - val_accuracy: 0.8587\n",
      "Epoch 3/5\n",
      "80/80 [==============================] - 2s 21ms/step - loss: 0.7924 - accuracy: 0.8055 - val_loss: 0.5083 - val_accuracy: 0.8790\n",
      "Epoch 4/5\n",
      "80/80 [==============================] - 2s 22ms/step - loss: 0.5636 - accuracy: 0.8669 - val_loss: 0.4472 - val_accuracy: 0.8878\n",
      "Epoch 5/5\n",
      "80/80 [==============================] - 2s 25ms/step - loss: 0.4589 - accuracy: 0.8979 - val_loss: 0.4039 - val_accuracy: 0.8966\n",
      "count 모드의 테스트 정확도: 0.8154540657997131\n",
      "Epoch 1/5\n",
      "80/80 [==============================] - 2s 22ms/step - loss: 2.2288 - accuracy: 0.3662 - val_loss: 0.7874 - val_accuracy: 0.8454\n",
      "Epoch 2/5\n",
      "80/80 [==============================] - 2s 22ms/step - loss: 0.8520 - accuracy: 0.7684 - val_loss: 0.4121 - val_accuracy: 0.9002\n",
      "Epoch 3/5\n",
      "80/80 [==============================] - 2s 21ms/step - loss: 0.4335 - accuracy: 0.8860 - val_loss: 0.3307 - val_accuracy: 0.9099\n",
      "Epoch 4/5\n",
      "80/80 [==============================] - 2s 20ms/step - loss: 0.2875 - accuracy: 0.9265 - val_loss: 0.2948 - val_accuracy: 0.9223\n",
      "Epoch 5/5\n",
      "80/80 [==============================] - 2s 20ms/step - loss: 0.2217 - accuracy: 0.9483 - val_loss: 0.2794 - val_accuracy: 0.9258\n",
      "tfidf 모드의 테스트 정확도: 0.8301911950111389\n",
      "Epoch 1/5\n",
      "80/80 [==============================] - 2s 24ms/step - loss: 2.9809 - accuracy: 0.0791 - val_loss: 2.9461 - val_accuracy: 0.2836\n",
      "Epoch 2/5\n",
      "80/80 [==============================] - 2s 21ms/step - loss: 2.7854 - accuracy: 0.2141 - val_loss: 2.4857 - val_accuracy: 0.3657\n",
      "Epoch 3/5\n",
      "80/80 [==============================] - 2s 22ms/step - loss: 2.2323 - accuracy: 0.3239 - val_loss: 1.8959 - val_accuracy: 0.5777\n",
      "Epoch 4/5\n",
      "80/80 [==============================] - 2s 20ms/step - loss: 1.7554 - accuracy: 0.4549 - val_loss: 1.4790 - val_accuracy: 0.6528\n",
      "Epoch 5/5\n",
      "80/80 [==============================] - 2s 20ms/step - loss: 1.3927 - accuracy: 0.5860 - val_loss: 1.1676 - val_accuracy: 0.7297\n",
      "freq 모드의 테스트 정확도: 0.6787042021751404\n"
     ]
    }
   ],
   "source": [
    "modes = ['binary', 'count', 'tfidf', 'freq'] # 4개의 모드를 리스트에 저장.\n",
    "\n",
    "for mode in modes: # 4개의 모드에 대해서 각각 아래의 작업을 반복한다.\n",
    "    X_train, X_test, _ = prepare_data(train_email, test_email, mode) # 모드에 따라서 데이터를 전처리\n",
    "    score = fit_and_evaluate(X_train, y_train, X_test, y_test) # 모델을 훈련하고 평가.\n",
    "    print(mode+' 모드의 테스트 정확도:', score)"
   ],
   "metadata": {
    "collapsed": false,
    "pycharm": {
     "name": "#%%\n"
    }
   }
  }
 ],
 "metadata": {
  "kernelspec": {
   "name": "yyc",
   "language": "python",
   "display_name": "yyc"
  },
  "language_info": {
   "codemirror_mode": {
    "name": "ipython",
    "version": 2
   },
   "file_extension": ".py",
   "mimetype": "text/x-python",
   "name": "python",
   "nbconvert_exporter": "python",
   "pygments_lexer": "ipython2",
   "version": "2.7.6"
  }
 },
 "nbformat": 4,
 "nbformat_minor": 0
}