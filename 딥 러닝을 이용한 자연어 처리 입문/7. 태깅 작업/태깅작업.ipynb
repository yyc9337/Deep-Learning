{
 "cells": [
  {
   "cell_type": "markdown",
   "metadata": {
    "collapsed": true,
    "pycharm": {
     "name": "#%% md\n"
    }
   },
   "source": [
    "## 태깅 작업(Tagging Task)"
   ]
  },
  {
   "cell_type": "markdown",
   "source": [
    "자연어 처리 분야에서 각 단어가 어떤 유형에 속해있는지를 알아내는 태깅 작업에 대해서 배웁니다.\n",
    "이러한 단어 태깅 작업의 대표적인 예시 두 가지로 각 단어의 유형이 사람, 장소, 단체 등 어떤\n",
    "유형인지를 알아내는 개체명 인식(Named Entity Recognition) 과 각 단어의 품사가 명사, 동사,\n",
    "형용사 인지를 알아내는 품사 태깅(Part-of-Speech Tagging) 이 있습니다."
   ],
   "metadata": {
    "collapsed": false,
    "pycharm": {
     "name": "#%% md\n"
    }
   }
  }
 ],
 "metadata": {
  "kernelspec": {
   "display_name": "Python 3",
   "language": "python",
   "name": "python3"
  },
  "language_info": {
   "codemirror_mode": {
    "name": "ipython",
    "version": 2
   },
   "file_extension": ".py",
   "mimetype": "text/x-python",
   "name": "python",
   "nbconvert_exporter": "python",
   "pygments_lexer": "ipython2",
   "version": "2.7.6"
  }
 },
 "nbformat": 4,
 "nbformat_minor": 0
}