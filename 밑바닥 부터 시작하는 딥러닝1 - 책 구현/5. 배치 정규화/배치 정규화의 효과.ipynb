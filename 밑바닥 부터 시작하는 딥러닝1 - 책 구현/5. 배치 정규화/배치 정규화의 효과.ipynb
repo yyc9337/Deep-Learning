{
 "cells": [
  {
   "cell_type": "code",
   "execution_count": 2,
   "id": "d6cd98d8",
   "metadata": {},
   "outputs": [],
   "source": [
    "# coding: utf-8\n",
    "import sys, os\n",
    "sys.path.append(\"../예제/\")  # 부모 디렉터리의 파일을 가져올 수 있도록 설정\n",
    "import numpy as np\n",
    "import matplotlib.pyplot as plt\n",
    "from dataset.mnist import load_mnist\n",
    "from common.multi_layer_net_extend import MultiLayerNetExtend\n",
    "from common.optimizer import SGD, Adam"
   ]
  },
  {
   "cell_type": "code",
   "execution_count": 16,
   "id": "8da2cc0e",
   "metadata": {},
   "outputs": [
    {
     "name": "stdout",
     "output_type": "stream",
     "text": [
      "[[0. 0. 0. ... 0. 0. 0.]\n",
      " [0. 0. 0. ... 0. 0. 0.]\n",
      " [0. 0. 0. ... 0. 0. 0.]\n",
      " ...\n",
      " [0. 0. 0. ... 0. 0. 0.]\n",
      " [0. 0. 0. ... 0. 0. 0.]\n",
      " [0. 0. 0. ... 0. 0. 0.]]\n",
      "[5 0 4 1 9 2 1 3 1 4 3 5 3 6 1 7 2 8 6 9 4 0 9 1 1 2 4 3 2 7 3 8 6 9 0 5 6\n",
      " 0 7 6 1 8 7 9 3 9 8 5 9 3 3 0 7 4 9 8 0 9 4 1 4 4 6 0 4 5 6 1 0 0 1 7 1 6\n",
      " 3 0 2 1 1 7 9 0 2 6 7 8 3 9 0 4 6 7 4 6 8 0 7 8 3 1 5 7 1 7 1 1 6 3 0 2 9\n",
      " 3 1 1 0 4 9 2 0 0 2 0 2 7 1 8 6 4 1 6 3 4 5 9 1 3 3 8 5 4 7 7 4 2 8 5 8 6\n",
      " 7 3 4 6 1 9 9 6 0 3 7 2 8 2 9 4 4 6 4 9 7 0 9 2 9 5 1 5 9 1 2 3 2 3 5 9 1\n",
      " 7 6 2 8 2 2 5 0 7 4 9 7 8 3 2 1 1 8 3 6 1 0 3 1 0 0 1 7 2 7 3 0 4 6 5 2 6\n",
      " 4 7 1 8 9 9 3 0 7 1 0 2 0 3 5 4 6 5 8 6 3 7 5 8 0 9 1 0 3 1 2 2 3 3 6 4 7\n",
      " 5 0 6 2 7 9 8 5 9 2 1 1 4 4 5 6 4 1 2 5 3 9 3 9 0 5 9 6 5 7 4 1 3 4 0 4 8\n",
      " 0 4 3 6 8 7 6 0 9 7 5 7 2 1 1 6 8 9 4 1 5 2 2 9 0 3 9 6 7 2 0 3 5 4 3 6 5\n",
      " 8 9 5 4 7 4 2 7 3 4 8 9 1 9 2 8 7 9 1 8 7 4 1 3 1 1 0 2 3 9 4 9 2 1 6 8 4\n",
      " 7 7 4 4 9 2 5 7 2 4 4 2 1 9 7 2 8 7 6 9 2 2 3 8 1 6 5 1 1 0 2 6 4 5 8 3 1\n",
      " 5 1 9 2 7 4 4 4 8 1 5 8 9 5 6 7 9 9 3 7 0 9 0 6 6 2 3 9 0 7 5 4 8 0 9 4 1\n",
      " 2 8 7 1 2 6 1 0 3 0 1 1 8 2 0 3 9 4 0 5 0 6 1 7 7 8 1 9 2 0 5 1 2 2 7 3 5\n",
      " 4 9 7 1 8 3 9 6 0 3 1 1 2 6 3 5 7 6 8 3 9 5 8 5 7 6 1 1 3 1 7 5 5 5 2 5 8\n",
      " 7 0 9 7 7 5 0 9 0 0 8 9 2 4 8 1 6 1 6 5 1 8 3 4 0 5 5 8 3 6 2 3 9 2 1 1 5\n",
      " 2 1 3 2 8 7 3 7 2 4 6 9 7 2 4 2 8 1 1 3 8 4 0 6 5 9 3 0 9 2 4 7 1 2 9 4 2\n",
      " 6 1 8 9 0 6 6 7 9 9 8 0 1 4 4 6 7 1 5 7 0 3 5 8 4 7 1 2 5 9 5 6 7 5 9 8 8\n",
      " 3 6 9 7 0 7 5 7 1 1 0 7 9 2 3 7 3 2 4 1 6 2 7 5 5 7 4 0 2 6 3 6 4 0 4 2 6\n",
      " 0 0 0 0 3 1 6 2 2 3 1 4 1 5 4 6 4 7 2 8 7 9 2 0 5 1 4 2 8 3 2 4 1 5 4 6 0\n",
      " 7 9 8 4 9 8 0 1 1 0 2 2 3 2 4 4 5 8 6 5 7 7 8 8 9 7 4 7 3 2 0 8 6 8 6 1 6\n",
      " 8 9 4 0 9 0 4 1 5 4 7 5 3 7 4 9 8 5 8 6 3 8 6 9 9 1 8 3 5 8 6 5 9 7 2 5 0\n",
      " 8 5 1 1 0 9 1 8 6 7 0 9 3 0 8 8 9 6 7 8 4 7 5 9 2 6 7 4 5 9 2 3 1 6 3 9 2\n",
      " 2 5 6 8 0 7 7 1 9 8 7 0 9 9 4 6 2 8 5 1 4 1 5 5 1 7 3 6 4 3 2 5 6 4 4 0 4\n",
      " 4 6 7 2 4 3 3 8 0 0 3 2 2 9 8 2 3 7 0 1 1 0 2 3 3 8 4 3 5 7 6 4 7 7 8 5 9\n",
      " 7 0 3 1 6 2 4 3 4 4 7 5 9 6 9 0 7 1 4 2 7 3 6 7 5 8 4 5 5 2 7 1 1 5 6 8 5\n",
      " 8 4 0 7 9 9 2 9 7 7 8 7 4 2 6 9 1 7 0 6 4 2 5 7 0 7 1 0 3 7 6 5 0 6 1 5 1\n",
      " 7 8 5 0 3 4 7 7 5 7 8 6 9 3 8 6 1 0 9 7 1 3 0 5 6 4 4 2 4 4 3 1 7 7 6 0 3\n",
      " 6]\n"
     ]
    }
   ],
   "source": [
    "(x_train, t_train), (x_test, t_test) = load_mnist(normalize=True)\n",
    "\n",
    "# 학습 데이터를 줄임\n",
    "x_train = x_train[:1000]\n",
    "t_train = t_train[:1000]\n",
    "\n",
    "max_epochs = 20\n",
    "train_size = x_train.shape[0]\n",
    "batch_size = 100\n",
    "learning_rate = 0.01\n",
    "\n",
    "print(x_train)\n",
    "print(t_train)\n",
    "\n",
    "def __train(weight_init_std):\n",
    "    bn_network = MultiLayerNetExtend(input_size=784, hidden_size_list=[100, 100, 100, 100, 100], output_size=10, \n",
    "                                    weight_init_std=weight_init_std, use_batchnorm=True)\n",
    "    network = MultiLayerNetExtend(input_size=784, hidden_size_list=[100, 100, 100, 100, 100], output_size=10,\n",
    "                                weight_init_std=weight_init_std)\n",
    "    optimizer = SGD(lr=learning_rate)\n",
    "    #optimizer = Adam(lr=0.001, beta1=0.9, beta2=0.999)\n",
    "    \n",
    "    train_acc_list = []\n",
    "    bn_train_acc_list = []\n",
    "    \n",
    "    iter_per_epoch = max(train_size / batch_size, 1)\n",
    "    epoch_cnt = 0\n",
    "    \n",
    "    for i in range(1000000000):\n",
    "        batch_mask = np.random.choice(train_size, batch_size)\n",
    "        x_batch = x_train[batch_mask]\n",
    "        t_batch = t_train[batch_mask]\n",
    "    \n",
    "        for _network in (bn_network, network):\n",
    "            grads = _network.gradient(x_batch, t_batch)\n",
    "            optimizer.update(_network.params, grads)\n",
    "    \n",
    "        if i % iter_per_epoch == 0:\n",
    "            train_acc = network.accuracy(x_train, t_train)\n",
    "            bn_train_acc = bn_network.accuracy(x_train, t_train)\n",
    "            train_acc_list.append(train_acc)\n",
    "            bn_train_acc_list.append(bn_train_acc)\n",
    "    \n",
    "            print(\"epoch:\" + str(epoch_cnt) + \" | \" + str(train_acc) + \" - \" + str(bn_train_acc))\n",
    "    \n",
    "            epoch_cnt += 1\n",
    "            if epoch_cnt >= max_epochs:\n",
    "                break\n",
    "                \n",
    "    return train_acc_list, bn_train_acc_list"
   ]
  },
  {
   "cell_type": "code",
   "execution_count": 17,
   "id": "8be04442",
   "metadata": {},
   "outputs": [
    {
     "name": "stdout",
     "output_type": "stream",
     "text": [
      "============== 1/16 ==============\n",
      "epoch:0 | 0.11 - 0.102\n",
      "epoch:1 | 0.136 - 0.12\n",
      "epoch:2 | 0.161 - 0.129\n",
      "epoch:3 | 0.225 - 0.116\n",
      "epoch:4 | 0.297 - 0.13\n",
      "epoch:5 | 0.346 - 0.146\n",
      "epoch:6 | 0.396 - 0.16\n",
      "epoch:7 | 0.449 - 0.167\n",
      "epoch:8 | 0.483 - 0.177\n",
      "epoch:9 | 0.523 - 0.183\n",
      "epoch:10 | 0.564 - 0.192\n",
      "epoch:11 | 0.593 - 0.204\n",
      "epoch:12 | 0.616 - 0.218\n",
      "epoch:13 | 0.647 - 0.23\n",
      "epoch:14 | 0.67 - 0.238\n",
      "epoch:15 | 0.68 - 0.238\n",
      "epoch:16 | 0.701 - 0.257\n",
      "epoch:17 | 0.735 - 0.272\n"
     ]
    },
    {
     "name": "stderr",
     "output_type": "stream",
     "text": [
      "No artists with labels found to put in legend.  Note that artists whose label start with an underscore are ignored when legend() is called with no argument.\n"
     ]
    },
    {
     "name": "stdout",
     "output_type": "stream",
     "text": [
      "epoch:18 | 0.744 - 0.286\n",
      "epoch:19 | 0.742 - 0.282\n",
      "============== 2/16 ==============\n",
      "epoch:0 | 0.097 - 0.054\n",
      "epoch:1 | 0.179 - 0.087\n",
      "epoch:2 | 0.206 - 0.101\n",
      "epoch:3 | 0.302 - 0.105\n",
      "epoch:4 | 0.384 - 0.118\n",
      "epoch:5 | 0.46 - 0.13\n",
      "epoch:6 | 0.508 - 0.149\n",
      "epoch:7 | 0.562 - 0.165\n",
      "epoch:8 | 0.597 - 0.179\n",
      "epoch:9 | 0.646 - 0.2\n",
      "epoch:10 | 0.686 - 0.213\n",
      "epoch:11 | 0.722 - 0.228\n",
      "epoch:12 | 0.733 - 0.251\n",
      "epoch:13 | 0.767 - 0.261\n",
      "epoch:14 | 0.786 - 0.288\n",
      "epoch:15 | 0.818 - 0.301\n",
      "epoch:16 | 0.819 - 0.309\n",
      "epoch:17 | 0.835 - 0.331\n",
      "epoch:18 | 0.853 - 0.339\n"
     ]
    },
    {
     "name": "stderr",
     "output_type": "stream",
     "text": [
      "No artists with labels found to put in legend.  Note that artists whose label start with an underscore are ignored when legend() is called with no argument.\n"
     ]
    },
    {
     "name": "stdout",
     "output_type": "stream",
     "text": [
      "epoch:19 | 0.86 - 0.334\n",
      "============== 3/16 ==============\n",
      "epoch:0 | 0.071 - 0.103\n",
      "epoch:1 | 0.137 - 0.133\n",
      "epoch:2 | 0.265 - 0.201\n",
      "epoch:3 | 0.388 - 0.25\n",
      "epoch:4 | 0.48 - 0.281\n",
      "epoch:5 | 0.56 - 0.332\n",
      "epoch:6 | 0.647 - 0.366\n",
      "epoch:7 | 0.702 - 0.406\n",
      "epoch:8 | 0.736 - 0.442\n",
      "epoch:9 | 0.767 - 0.472\n",
      "epoch:10 | 0.816 - 0.503\n",
      "epoch:11 | 0.852 - 0.538\n",
      "epoch:12 | 0.875 - 0.562\n",
      "epoch:13 | 0.905 - 0.581\n",
      "epoch:14 | 0.921 - 0.616\n",
      "epoch:15 | 0.944 - 0.635\n",
      "epoch:16 | 0.957 - 0.652\n",
      "epoch:17 | 0.964 - 0.676\n"
     ]
    },
    {
     "name": "stderr",
     "output_type": "stream",
     "text": [
      "No artists with labels found to put in legend.  Note that artists whose label start with an underscore are ignored when legend() is called with no argument.\n"
     ]
    },
    {
     "name": "stdout",
     "output_type": "stream",
     "text": [
      "epoch:18 | 0.975 - 0.689\n",
      "epoch:19 | 0.98 - 0.714\n",
      "============== 4/16 ==============\n",
      "epoch:0 | 0.1 - 0.127\n",
      "epoch:1 | 0.455 - 0.263\n",
      "epoch:2 | 0.624 - 0.552\n",
      "epoch:3 | 0.732 - 0.7\n",
      "epoch:4 | 0.814 - 0.792\n",
      "epoch:5 | 0.864 - 0.842\n",
      "epoch:6 | 0.889 - 0.872\n",
      "epoch:7 | 0.923 - 0.888\n",
      "epoch:8 | 0.941 - 0.92\n",
      "epoch:9 | 0.958 - 0.937\n",
      "epoch:10 | 0.968 - 0.96\n",
      "epoch:11 | 0.98 - 0.97\n",
      "epoch:12 | 0.981 - 0.975\n",
      "epoch:13 | 0.987 - 0.983\n",
      "epoch:14 | 0.993 - 0.984\n",
      "epoch:15 | 0.998 - 0.992\n",
      "epoch:16 | 0.999 - 0.992\n",
      "epoch:17 | 0.998 - 0.994\n",
      "epoch:18 | 0.997 - 0.994\n"
     ]
    },
    {
     "name": "stderr",
     "output_type": "stream",
     "text": [
      "No artists with labels found to put in legend.  Note that artists whose label start with an underscore are ignored when legend() is called with no argument.\n"
     ]
    },
    {
     "name": "stdout",
     "output_type": "stream",
     "text": [
      "epoch:19 | 0.998 - 0.996\n",
      "============== 5/16 ==============\n",
      "epoch:0 | 0.111 - 0.109\n",
      "epoch:1 | 0.107 - 0.44\n",
      "epoch:2 | 0.129 - 0.778\n",
      "epoch:3 | 0.145 - 0.866\n",
      "epoch:4 | 0.274 - 0.905\n",
      "epoch:5 | 0.316 - 0.932\n",
      "epoch:6 | 0.414 - 0.959\n",
      "epoch:7 | 0.552 - 0.976\n",
      "epoch:8 | 0.655 - 0.976\n",
      "epoch:9 | 0.736 - 0.987\n",
      "epoch:10 | 0.804 - 0.99\n",
      "epoch:11 | 0.839 - 0.994\n",
      "epoch:12 | 0.876 - 0.997\n",
      "epoch:13 | 0.888 - 0.995\n",
      "epoch:14 | 0.907 - 0.998\n",
      "epoch:15 | 0.897 - 0.999\n",
      "epoch:16 | 0.917 - 1.0\n",
      "epoch:17 | 0.931 - 1.0\n"
     ]
    },
    {
     "name": "stderr",
     "output_type": "stream",
     "text": [
      "No artists with labels found to put in legend.  Note that artists whose label start with an underscore are ignored when legend() is called with no argument.\n"
     ]
    },
    {
     "name": "stdout",
     "output_type": "stream",
     "text": [
      "epoch:18 | 0.941 - 1.0\n",
      "epoch:19 | 0.949 - 1.0\n",
      "============== 6/16 ==============\n",
      "epoch:0 | 0.132 - 0.118\n",
      "epoch:1 | 0.198 - 0.448\n",
      "epoch:2 | 0.117 - 0.833\n",
      "epoch:3 | 0.117 - 0.91\n",
      "epoch:4 | 0.117 - 0.938\n",
      "epoch:5 | 0.117 - 0.967\n",
      "epoch:6 | 0.181 - 0.982\n",
      "epoch:7 | 0.216 - 0.985\n",
      "epoch:8 | 0.211 - 0.991\n",
      "epoch:9 | 0.137 - 0.995\n",
      "epoch:10 | 0.132 - 0.997\n",
      "epoch:11 | 0.218 - 0.997\n",
      "epoch:12 | 0.209 - 0.999\n",
      "epoch:13 | 0.208 - 1.0\n",
      "epoch:14 | 0.212 - 0.999\n",
      "epoch:15 | 0.207 - 0.999\n",
      "epoch:16 | 0.198 - 1.0\n",
      "epoch:17 | 0.206 - 1.0\n",
      "epoch:18 | 0.213 - 1.0\n"
     ]
    },
    {
     "name": "stderr",
     "output_type": "stream",
     "text": [
      "No artists with labels found to put in legend.  Note that artists whose label start with an underscore are ignored when legend() is called with no argument.\n"
     ]
    },
    {
     "name": "stdout",
     "output_type": "stream",
     "text": [
      "epoch:19 | 0.216 - 1.0\n",
      "============== 7/16 ==============\n",
      "epoch:0 | 0.116 - 0.102\n",
      "epoch:1 | 0.116 - 0.723\n",
      "epoch:2 | 0.116 - 0.887\n",
      "epoch:3 | 0.116 - 0.948\n",
      "epoch:4 | 0.116 - 0.979\n",
      "epoch:5 | 0.116 - 0.986\n",
      "epoch:6 | 0.116 - 0.99\n",
      "epoch:7 | 0.116 - 0.995\n",
      "epoch:8 | 0.116 - 0.996\n",
      "epoch:9 | 0.116 - 0.998\n",
      "epoch:10 | 0.116 - 1.0\n",
      "epoch:11 | 0.116 - 1.0\n",
      "epoch:12 | 0.116 - 1.0\n",
      "epoch:13 | 0.116 - 1.0\n",
      "epoch:14 | 0.116 - 1.0\n",
      "epoch:15 | 0.116 - 1.0\n",
      "epoch:16 | 0.116 - 1.0\n",
      "epoch:17 | 0.116 - 1.0\n",
      "epoch:18 | 0.116 - 1.0\n",
      "epoch:19 | 0.116 - 1.0\n"
     ]
    },
    {
     "name": "stderr",
     "output_type": "stream",
     "text": [
      "No artists with labels found to put in legend.  Note that artists whose label start with an underscore are ignored when legend() is called with no argument.\n"
     ]
    },
    {
     "name": "stdout",
     "output_type": "stream",
     "text": [
      "============== 8/16 ==============\n",
      "epoch:0 | 0.092 - 0.136\n",
      "epoch:1 | 0.117 - 0.677\n",
      "epoch:2 | 0.117 - 0.923\n",
      "epoch:3 | 0.117 - 0.953\n",
      "epoch:4 | 0.117 - 0.972\n",
      "epoch:5 | 0.117 - 0.983\n",
      "epoch:6 | 0.117 - 0.988\n",
      "epoch:7 | 0.117 - 0.995\n",
      "epoch:8 | 0.117 - 0.99\n",
      "epoch:9 | 0.117 - 0.994\n",
      "epoch:10 | 0.117 - 0.996\n",
      "epoch:11 | 0.117 - 1.0\n",
      "epoch:12 | 0.117 - 0.999\n",
      "epoch:13 | 0.116 - 0.999\n",
      "epoch:14 | 0.116 - 0.999\n",
      "epoch:15 | 0.116 - 0.999\n",
      "epoch:16 | 0.116 - 0.999\n",
      "epoch:17 | 0.116 - 0.999\n"
     ]
    },
    {
     "name": "stderr",
     "output_type": "stream",
     "text": [
      "No artists with labels found to put in legend.  Note that artists whose label start with an underscore are ignored when legend() is called with no argument.\n"
     ]
    },
    {
     "name": "stdout",
     "output_type": "stream",
     "text": [
      "epoch:18 | 0.116 - 0.999\n",
      "epoch:19 | 0.116 - 1.0\n",
      "============== 9/16 ==============\n",
      "epoch:0 | 0.116 - 0.147\n",
      "epoch:1 | 0.116 - 0.819\n",
      "epoch:2 | 0.1 - 0.943\n",
      "epoch:3 | 0.117 - 0.96\n",
      "epoch:4 | 0.117 - 0.97\n",
      "epoch:5 | 0.105 - 0.977\n",
      "epoch:6 | 0.105 - 0.986\n",
      "epoch:7 | 0.117 - 0.994\n",
      "epoch:8 | 0.117 - 0.99\n",
      "epoch:9 | 0.117 - 0.995\n",
      "epoch:10 | 0.117 - 0.988\n",
      "epoch:11 | 0.117 - 0.994\n",
      "epoch:12 | 0.116 - 0.996\n",
      "epoch:13 | 0.116 - 0.998\n",
      "epoch:14 | 0.116 - 0.997\n",
      "epoch:15 | 0.116 - 0.996\n",
      "epoch:16 | 0.116 - 0.998\n",
      "epoch:17 | 0.116 - 0.994\n"
     ]
    },
    {
     "name": "stderr",
     "output_type": "stream",
     "text": [
      "No artists with labels found to put in legend.  Note that artists whose label start with an underscore are ignored when legend() is called with no argument.\n"
     ]
    },
    {
     "name": "stdout",
     "output_type": "stream",
     "text": [
      "epoch:18 | 0.116 - 0.996\n",
      "epoch:19 | 0.116 - 0.983\n",
      "============== 10/16 ==============\n",
      "epoch:0 | 0.105 - 0.171\n",
      "epoch:1 | 0.116 - 0.815\n",
      "epoch:2 | 0.116 - 0.915\n",
      "epoch:3 | 0.116 - 0.941\n",
      "epoch:4 | 0.116 - 0.947\n",
      "epoch:5 | 0.116 - 0.976\n",
      "epoch:6 | 0.116 - 0.982\n",
      "epoch:7 | 0.116 - 0.984\n",
      "epoch:8 | 0.116 - 0.981\n",
      "epoch:9 | 0.116 - 0.988\n",
      "epoch:10 | 0.116 - 0.993\n",
      "epoch:11 | 0.116 - 0.994\n",
      "epoch:12 | 0.116 - 0.996\n",
      "epoch:13 | 0.117 - 0.997\n",
      "epoch:14 | 0.116 - 0.994\n",
      "epoch:15 | 0.116 - 0.997\n",
      "epoch:16 | 0.116 - 0.999\n",
      "epoch:17 | 0.116 - 0.999\n",
      "epoch:18 | 0.117 - 0.999\n",
      "epoch:19 | 0.117 - 0.998\n"
     ]
    },
    {
     "name": "stderr",
     "output_type": "stream",
     "text": [
      "No artists with labels found to put in legend.  Note that artists whose label start with an underscore are ignored when legend() is called with no argument.\n"
     ]
    },
    {
     "name": "stdout",
     "output_type": "stream",
     "text": [
      "============== 11/16 ==============\n",
      "epoch:0 | 0.117 - 0.099\n",
      "epoch:1 | 0.116 - 0.735\n",
      "epoch:2 | 0.116 - 0.795\n",
      "epoch:3 | 0.116 - 0.857\n",
      "epoch:4 | 0.116 - 0.844\n",
      "epoch:5 | 0.116 - 0.882\n",
      "epoch:6 | 0.117 - 0.879\n",
      "epoch:7 | 0.117 - 0.898\n",
      "epoch:8 | 0.117 - 0.9\n",
      "epoch:9 | 0.117 - 0.941\n",
      "epoch:10 | 0.117 - 0.94\n",
      "epoch:11 | 0.117 - 0.966\n",
      "epoch:12 | 0.117 - 0.983\n",
      "epoch:13 | 0.116 - 0.99\n",
      "epoch:14 | 0.116 - 0.991\n",
      "epoch:15 | 0.116 - 0.983\n",
      "epoch:16 | 0.116 - 0.989\n",
      "epoch:17 | 0.116 - 0.987\n",
      "epoch:18 | 0.117 - 0.992\n"
     ]
    },
    {
     "name": "stderr",
     "output_type": "stream",
     "text": [
      "No artists with labels found to put in legend.  Note that artists whose label start with an underscore are ignored when legend() is called with no argument.\n"
     ]
    },
    {
     "name": "stdout",
     "output_type": "stream",
     "text": [
      "epoch:19 | 0.117 - 0.991\n",
      "============== 12/16 ==============\n",
      "epoch:0 | 0.099 - 0.099\n",
      "epoch:1 | 0.1 - 0.741\n",
      "epoch:2 | 0.116 - 0.837\n",
      "epoch:3 | 0.116 - 0.85\n",
      "epoch:4 | 0.117 - 0.943\n",
      "epoch:5 | 0.117 - 0.921\n",
      "epoch:6 | 0.116 - 0.938\n",
      "epoch:7 | 0.116 - 0.979\n",
      "epoch:8 | 0.116 - 0.986\n",
      "epoch:9 | 0.116 - 0.97\n",
      "epoch:10 | 0.116 - 0.993\n",
      "epoch:11 | 0.116 - 0.993\n",
      "epoch:12 | 0.116 - 0.994\n",
      "epoch:13 | 0.116 - 0.996\n",
      "epoch:14 | 0.116 - 0.992\n",
      "epoch:15 | 0.116 - 0.996\n",
      "epoch:16 | 0.116 - 0.995\n",
      "epoch:17 | 0.116 - 0.992\n",
      "epoch:18 | 0.116 - 0.999\n",
      "epoch:19 | 0.116 - 0.999\n"
     ]
    },
    {
     "name": "stderr",
     "output_type": "stream",
     "text": [
      "No artists with labels found to put in legend.  Note that artists whose label start with an underscore are ignored when legend() is called with no argument.\n"
     ]
    },
    {
     "name": "stdout",
     "output_type": "stream",
     "text": [
      "============== 13/16 ==============\n",
      "epoch:0 | 0.097 - 0.105\n",
      "epoch:1 | 0.099 - 0.66\n",
      "epoch:2 | 0.117 - 0.682\n",
      "epoch:3 | 0.117 - 0.747\n",
      "epoch:4 | 0.117 - 0.848\n",
      "epoch:5 | 0.117 - 0.855\n",
      "epoch:6 | 0.117 - 0.91\n",
      "epoch:7 | 0.117 - 0.966\n",
      "epoch:8 | 0.117 - 0.956\n",
      "epoch:9 | 0.117 - 0.977\n",
      "epoch:10 | 0.117 - 0.983\n",
      "epoch:11 | 0.117 - 0.986\n",
      "epoch:12 | 0.116 - 0.99\n",
      "epoch:13 | 0.117 - 0.981\n",
      "epoch:14 | 0.117 - 0.987\n",
      "epoch:15 | 0.117 - 0.989\n",
      "epoch:16 | 0.117 - 0.99\n",
      "epoch:17 | 0.117 - 0.993\n",
      "epoch:18 | 0.117 - 0.986\n"
     ]
    },
    {
     "name": "stderr",
     "output_type": "stream",
     "text": [
      "No artists with labels found to put in legend.  Note that artists whose label start with an underscore are ignored when legend() is called with no argument.\n"
     ]
    },
    {
     "name": "stdout",
     "output_type": "stream",
     "text": [
      "epoch:19 | 0.117 - 0.998\n",
      "============== 14/16 ==============\n",
      "epoch:0 | 0.097 - 0.157\n",
      "epoch:1 | 0.117 - 0.301\n",
      "epoch:2 | 0.117 - 0.71\n",
      "epoch:3 | 0.116 - 0.775\n",
      "epoch:4 | 0.116 - 0.773\n",
      "epoch:5 | 0.116 - 0.78\n",
      "epoch:6 | 0.116 - 0.789\n",
      "epoch:7 | 0.116 - 0.804\n",
      "epoch:8 | 0.116 - 0.879\n",
      "epoch:9 | 0.116 - 0.87\n",
      "epoch:10 | 0.116 - 0.884\n",
      "epoch:11 | 0.116 - 0.881\n",
      "epoch:12 | 0.116 - 0.893\n",
      "epoch:13 | 0.116 - 0.891\n",
      "epoch:14 | 0.116 - 0.885\n",
      "epoch:15 | 0.116 - 0.895\n",
      "epoch:16 | 0.116 - 0.895\n",
      "epoch:17 | 0.116 - 0.874\n",
      "epoch:18 | 0.116 - 0.895\n"
     ]
    },
    {
     "name": "stderr",
     "output_type": "stream",
     "text": [
      "No artists with labels found to put in legend.  Note that artists whose label start with an underscore are ignored when legend() is called with no argument.\n"
     ]
    },
    {
     "name": "stdout",
     "output_type": "stream",
     "text": [
      "epoch:19 | 0.116 - 0.899\n",
      "============== 15/16 ==============\n",
      "epoch:0 | 0.117 - 0.128\n",
      "epoch:1 | 0.117 - 0.48\n",
      "epoch:2 | 0.117 - 0.555\n",
      "epoch:3 | 0.117 - 0.56\n",
      "epoch:4 | 0.116 - 0.731\n",
      "epoch:5 | 0.116 - 0.77\n",
      "epoch:6 | 0.116 - 0.778\n",
      "epoch:7 | 0.116 - 0.863\n",
      "epoch:8 | 0.116 - 0.89\n",
      "epoch:9 | 0.094 - 0.886\n",
      "epoch:10 | 0.094 - 0.877\n",
      "epoch:11 | 0.094 - 0.854\n",
      "epoch:12 | 0.105 - 0.884\n",
      "epoch:13 | 0.094 - 0.979\n",
      "epoch:14 | 0.094 - 0.991\n",
      "epoch:15 | 0.094 - 0.988\n",
      "epoch:16 | 0.094 - 0.982\n",
      "epoch:17 | 0.117 - 0.993\n"
     ]
    },
    {
     "name": "stderr",
     "output_type": "stream",
     "text": [
      "No artists with labels found to put in legend.  Note that artists whose label start with an underscore are ignored when legend() is called with no argument.\n"
     ]
    },
    {
     "name": "stdout",
     "output_type": "stream",
     "text": [
      "epoch:18 | 0.094 - 0.994\n",
      "epoch:19 | 0.094 - 0.993\n",
      "============== 16/16 ==============\n",
      "epoch:0 | 0.116 - 0.135\n",
      "epoch:1 | 0.116 - 0.4\n",
      "epoch:2 | 0.117 - 0.556\n",
      "epoch:3 | 0.117 - 0.591\n",
      "epoch:4 | 0.117 - 0.664\n",
      "epoch:5 | 0.117 - 0.74\n",
      "epoch:6 | 0.105 - 0.794\n",
      "epoch:7 | 0.105 - 0.856\n",
      "epoch:8 | 0.105 - 0.876\n",
      "epoch:9 | 0.105 - 0.873\n",
      "epoch:10 | 0.105 - 0.882\n",
      "epoch:11 | 0.105 - 0.89\n",
      "epoch:12 | 0.105 - 0.884\n",
      "epoch:13 | 0.105 - 0.899\n",
      "epoch:14 | 0.105 - 0.897\n",
      "epoch:15 | 0.105 - 0.897\n",
      "epoch:16 | 0.117 - 0.888\n",
      "epoch:17 | 0.117 - 0.895\n",
      "epoch:18 | 0.117 - 0.898\n",
      "epoch:19 | 0.117 - 0.9\n"
     ]
    },
    {
     "data": {
      "image/png": "[encoded data removed]",
      "text/plain": [
       "<Figure size 432x288 with 16 Axes>"
      ]
     },
     "metadata": {
      "needs_background": "light"
     },
     "output_type": "display_data"
    }
   ],
   "source": [
    "# 그래프 그리기==========\n",
    "weight_scale_list = np.logspace(0, -4, num=16)\n",
    "x = np.arange(max_epochs)\n",
    "\n",
    "for i, w in enumerate(weight_scale_list):\n",
    "    print( \"============== \" + str(i+1) + \"/16\" + \" ==============\")\n",
    "    train_acc_list, bn_train_acc_list = __train(w)\n",
    "    \n",
    "    plt.subplot(4,4,i+1)\n",
    "    plt.title(\"W:\" + str(w))\n",
    "    if i == 15:\n",
    "        plt.plot(x, bn_train_acc_list, label='Batch Normalization', markevery=2)\n",
    "        plt.plot(x, train_acc_list, linestyle = \"--\", label='Normal(without BatchNorm)', markevery=2)\n",
    "    else:\n",
    "        plt.plot(x, bn_train_acc_list, markevery=2)\n",
    "        plt.plot(x, train_acc_list, linestyle=\"--\", markevery=2)\n",
    "\n",
    "    plt.ylim(0, 1.0)\n",
    "    if i % 4:\n",
    "        plt.yticks([])\n",
    "    else:\n",
    "        plt.ylabel(\"accuracy\")\n",
    "    if i < 12:\n",
    "        plt.xticks([])\n",
    "    else:\n",
    "        plt.xlabel(\"epochs\")\n",
    "    plt.legend(loc='lower right')\n",
    "    \n",
    "plt.show()"
   ]
  },
  {
   "cell_type": "code",
   "execution_count": null,
   "id": "4ebd9fc9",
   "metadata": {},
   "outputs": [],
   "source": []
  }
 ],
 "metadata": {
  "kernelspec": {
   "display_name": "yyc",
   "language": "python",
   "name": "yyc"
  },
  "language_info": {
   "codemirror_mode": {
    "name": "ipython",
    "version": 3
   },
   "file_extension": ".py",
   "mimetype": "text/x-python",
   "name": "python",
   "nbconvert_exporter": "python",
   "pygments_lexer": "ipython3",
   "version": "3.9.6"
  }
 },
 "nbformat": 4,
 "nbformat_minor": 5
}
