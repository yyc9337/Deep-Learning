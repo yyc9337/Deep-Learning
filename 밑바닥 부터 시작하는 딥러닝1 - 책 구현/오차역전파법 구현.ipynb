{
 "cells": [
  {
   "cell_type": "code",
   "execution_count": 1,
   "id": "48a7864e",
   "metadata": {
    "ExecuteTime": {
     "end_time": "2022-03-18T04:54:57.887239Z",
     "start_time": "2022-03-18T04:54:57.852273Z"
    }
   },
   "outputs": [
    {
     "data": {
      "text/plain": [
       "['C:\\\\Users\\\\inp032\\\\Desktop\\\\유영찬\\\\Git_Hub\\\\Deep-Learning\\\\밑바닥 부터 시작하는 딥러닝1 - 책 구현',\n",
       " 'C:\\\\Users\\\\inp032\\\\.conda\\\\envs\\\\yyc\\\\python37.zip',\n",
       " 'C:\\\\Users\\\\inp032\\\\.conda\\\\envs\\\\yyc\\\\DLLs',\n",
       " 'C:\\\\Users\\\\inp032\\\\.conda\\\\envs\\\\yyc\\\\lib',\n",
       " 'C:\\\\Users\\\\inp032\\\\.conda\\\\envs\\\\yyc',\n",
       " '',\n",
       " 'C:\\\\Users\\\\inp032\\\\.conda\\\\envs\\\\yyc\\\\lib\\\\site-packages',\n",
       " 'C:\\\\Users\\\\inp032\\\\.conda\\\\envs\\\\yyc\\\\lib\\\\site-packages\\\\win32',\n",
       " 'C:\\\\Users\\\\inp032\\\\.conda\\\\envs\\\\yyc\\\\lib\\\\site-packages\\\\win32\\\\lib',\n",
       " 'C:\\\\Users\\\\inp032\\\\.conda\\\\envs\\\\yyc\\\\lib\\\\site-packages\\\\Pythonwin',\n",
       " 'C:\\\\Users\\\\inp032\\\\.conda\\\\envs\\\\yyc\\\\lib\\\\site-packages\\\\IPython\\\\extensions',\n",
       " 'C:\\\\Users\\\\inp032\\\\.ipython']"
      ]
     },
     "execution_count": 1,
     "metadata": {},
     "output_type": "execute_result"
    }
   ],
   "source": [
    "import sys\n",
    "sys.path"
   ]
  },
  {
   "cell_type": "code",
   "execution_count": 1,
   "id": "aa622795",
   "metadata": {
    "ExecuteTime": {
     "end_time": "2022-03-17T01:57:33.950616Z",
     "start_time": "2022-03-17T01:57:33.921605Z"
    }
   },
   "outputs": [],
   "source": [
    "### 곱셉\n",
    "class MulLayer:\n",
    "    def __init__(self):\n",
    "        self.x = None\n",
    "        self.y = None\n",
    "\n",
    "    def forward(self, x, y):\n",
    "        self.x = x\n",
    "        self.y = y                \n",
    "        out = x * y\n",
    "\n",
    "        return out\n",
    "\n",
    "    def backward(self, dout):\n",
    "        dx = dout * self.y  # x와 y를 바꾼다.\n",
    "        dy = dout * self.x\n",
    "\n",
    "        return dx, dy\n",
    "\n",
    "\n",
    "class AddLayer:\n",
    "    def __init__(self):conda\n",
    "\n",
    "    def forward(self, x, y):\n",
    "        out = x + y\n",
    "\n",
    "        return out\n",
    "\n",
    "    def backward(self, dout):\n",
    "        dx = dout * 1\n",
    "        dy = dout * 1\n",
    "\n",
    "        return dx, dy"
   ]
  },
  {
   "cell_type": "code",
   "execution_count": 4,
   "id": "26c76334",
   "metadata": {
    "ExecuteTime": {
     "end_time": "2022-03-17T02:06:20.892837Z",
     "start_time": "2022-03-17T02:06:20.876857Z"
    }
   },
   "outputs": [
    {
     "name": "stdout",
     "output_type": "stream",
     "text": [
      "price: 220\n",
      "apple_price: 200\n",
      "dApple: 2.2\n",
      "dApple_num: 110\n",
      "dTax: 200\n"
     ]
    }
   ],
   "source": [
    "apple = 100\n",
    "apple_num = 2\n",
    "tax = 1.1\n",
    "\n",
    "mul_apple_layer = MulLayer()\n",
    "mul_tax_layer = MulLayer()\n",
    "\n",
    "# forward\n",
    "apple_price = mul_apple_layer.forward(apple, apple_num)\n",
    "price = mul_tax_layer.forward(apple_price, tax)\n",
    "\n",
    "# backward\n",
    "dprice = 1\n",
    "dapple_price, dtax = mul_tax_layer.backward(dprice)\n",
    "dapple, dapple_num = mul_apple_layer.backward(dapple_price)\n",
    "\n",
    "print(\"price:\", int(price))\n",
    "print(\"apple_price:\", apple_price )\n",
    "print(\"dApple:\", dapple)\n",
    "print(\"dApple_num:\", int(dapple_num))\n",
    "print(\"dTax:\", dtax)"
   ]
  }
 ],
 "metadata": {
  "kernelspec": {
   "display_name": "yyc",
   "language": "python",
   "name": "yyc"
  },
  "language_info": {
   "codemirror_mode": {
    "name": "ipython",
    "version": 3
   },
   "file_extension": ".py",
   "mimetype": "text/x-python",
   "name": "python",
   "nbconvert_exporter": "python",
   "pygments_lexer": "ipython3",
   "version": "3.7.6"
  },
  "toc": {
   "base_numbering": 1,
   "nav_menu": {},
   "number_sections": true,
   "sideBar": true,
   "skip_h1_title": false,
   "title_cell": "Table of Contents",
   "title_sidebar": "Contents",
   "toc_cell": false,
   "toc_position": {},
   "toc_section_display": true,
   "toc_window_display": false
  }
 },
 "nbformat": 4,
 "nbformat_minor": 5
}
