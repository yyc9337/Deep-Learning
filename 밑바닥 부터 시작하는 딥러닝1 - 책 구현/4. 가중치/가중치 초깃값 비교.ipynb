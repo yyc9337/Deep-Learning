{
 "cells": [
  {
   "cell_type": "code",
   "execution_count": 1,
   "id": "c1033c2c",
   "metadata": {
    "ExecuteTime": {
     "end_time": "2022-03-21T08:45:59.183779Z",
     "start_time": "2022-03-21T08:45:58.492780Z"
    }
   },
   "outputs": [],
   "source": [
    "# coding: utf-8\n",
    "import os\n",
    "import sys\n",
    "\n",
    "sys.path.append(\"../예제/\")  # 부모 디렉터리의 파일을 가져올 수 있도록 설정\n",
    "import numpy as np\n",
    "import matplotlib.pyplot as plt\n",
    "from dataset.mnist import load_mnist\n",
    "from common.util import smooth_curve\n",
    "from common.multi_layer_net import MultiLayerNet\n",
    "from common.optimizer import SGD"
   ]
  },
  {
   "cell_type": "code",
   "execution_count": 2,
   "id": "4ed730b8",
   "metadata": {
    "ExecuteTime": {
     "end_time": "2022-03-21T08:47:11.526088Z",
     "start_time": "2022-03-21T08:46:02.216274Z"
    }
   },
   "outputs": [
    {
     "name": "stdout",
     "output_type": "stream",
     "text": [
      "===========iteration:0===========\n",
      "std=0.01:2.302446911539068\n",
      "Xavier:2.296228166064738\n",
      "He:2.2351227812529637\n",
      "===========iteration:100===========\n",
      "std=0.01:2.301716667525389\n",
      "Xavier:2.224454795259228\n",
      "He:1.3220723139674035\n",
      "===========iteration:200===========\n",
      "std=0.01:2.302335889943925\n",
      "Xavier:2.063731932572964\n",
      "He:0.7871187912132156\n",
      "===========iteration:300===========\n",
      "std=0.01:2.298367977266503\n",
      "Xavier:1.7717793080591522\n",
      "He:0.5687538074609217\n",
      "===========iteration:400===========\n",
      "std=0.01:2.3018986592949933\n",
      "Xavier:1.2889255767531917\n",
      "He:0.3686233604885207\n",
      "===========iteration:500===========\n",
      "std=0.01:2.3019153089773203\n",
      "Xavier:0.870797211065142\n",
      "He:0.33675337659599913\n",
      "===========iteration:600===========\n",
      "std=0.01:2.2982809852122688\n",
      "Xavier:0.6400427895633491\n",
      "He:0.35954347587823443\n",
      "===========iteration:700===========\n",
      "std=0.01:2.301253579994567\n",
      "Xavier:0.530444262139494\n",
      "He:0.20809834468366198\n",
      "===========iteration:800===========\n",
      "std=0.01:2.2999502104065384\n",
      "Xavier:0.4806715787064147\n",
      "He:0.29004962809531043\n",
      "===========iteration:900===========\n",
      "std=0.01:2.303959176991902\n",
      "Xavier:0.5412188440576466\n",
      "He:0.3947456486840292\n",
      "===========iteration:1000===========\n",
      "std=0.01:2.2980848946279613\n",
      "Xavier:0.4672181991679582\n",
      "He:0.3081030220206914\n",
      "===========iteration:1100===========\n",
      "std=0.01:2.3067842021442835\n",
      "Xavier:0.4214454368372095\n",
      "He:0.2505540655220904\n",
      "===========iteration:1200===========\n",
      "std=0.01:2.3060842151040295\n",
      "Xavier:0.43855084632340524\n",
      "He:0.3112608886805298\n",
      "===========iteration:1300===========\n",
      "std=0.01:2.293118531161028\n",
      "Xavier:0.3054149729062976\n",
      "He:0.22391272214624192\n",
      "===========iteration:1400===========\n",
      "std=0.01:2.3024385416440527\n",
      "Xavier:0.30423184353298405\n",
      "He:0.24297927186052334\n",
      "===========iteration:1500===========\n",
      "std=0.01:2.2995747847225223\n",
      "Xavier:0.27701511540310797\n",
      "He:0.21012188731599096\n",
      "===========iteration:1600===========\n",
      "std=0.01:2.298081685471517\n",
      "Xavier:0.19708978744183558\n",
      "He:0.11882491230261198\n",
      "===========iteration:1700===========\n",
      "std=0.01:2.3007390891364206\n",
      "Xavier:0.33326898457956877\n",
      "He:0.24230279427499232\n",
      "===========iteration:1800===========\n",
      "std=0.01:2.2968502609318158\n",
      "Xavier:0.322028834354099\n",
      "He:0.24698323557063376\n",
      "===========iteration:1900===========\n",
      "std=0.01:2.307366483573774\n",
      "Xavier:0.3277393056310811\n",
      "He:0.23660272257475518\n"
     ]
    },
    {
     "data": {
      "image/png": "[encoded data removed]",
      "text/plain": [
       "<Figure size 432x288 with 1 Axes>"
      ]
     },
     "metadata": {
      "needs_background": "light"
     },
     "output_type": "display_data"
    }
   ],
   "source": [
    "# 0. MNIST 데이터 읽기==========\n",
    "(x_train, t_train), (x_test, t_test) = load_mnist(normalize=True)\n",
    "\n",
    "train_size = x_train.shape[0]\n",
    "batch_size = 128\n",
    "max_iterations = 2000\n",
    "\n",
    "\n",
    "# 1. 실험용 설정==========\n",
    "weight_init_types = {'std=0.01': 0.01, 'Xavier': 'sigmoid', 'He': 'relu'}\n",
    "optimizer = SGD(lr=0.01)\n",
    "\n",
    "networks = {}\n",
    "train_loss = {}\n",
    "for key, weight_type in weight_init_types.items():\n",
    "    networks[key] = MultiLayerNet(input_size=784, hidden_size_list=[100, 100, 100, 100],\n",
    "                                  output_size=10, weight_init_std=weight_type)\n",
    "    train_loss[key] = []\n",
    "\n",
    "\n",
    "# 2. 훈련 시작==========\n",
    "for i in range(max_iterations):\n",
    "    batch_mask = np.random.choice(train_size, batch_size)\n",
    "    x_batch = x_train[batch_mask]\n",
    "    t_batch = t_train[batch_mask]\n",
    "    \n",
    "    for key in weight_init_types.keys():\n",
    "        grads = networks[key].gradient(x_batch, t_batch)\n",
    "        optimizer.update(networks[key].params, grads)\n",
    "    \n",
    "        loss = networks[key].loss(x_batch, t_batch)\n",
    "        train_loss[key].append(loss)\n",
    "    \n",
    "    if i % 100 == 0:\n",
    "        print(\"===========\" + \"iteration:\" + str(i) + \"===========\")\n",
    "        for key in weight_init_types.keys():\n",
    "            loss = networks[key].loss(x_batch, t_batch)\n",
    "            print(key + \":\" + str(loss))\n",
    "\n",
    "\n",
    "# 3. 그래프 그리기==========\n",
    "markers = {'std=0.01': 'o', 'Xavier': 's', 'He': 'D'}\n",
    "x = np.arange(max_iterations)\n",
    "for key in weight_init_types.keys():\n",
    "    plt.plot(x, smooth_curve(train_loss[key]), marker=markers[key], markevery=100, label=key)\n",
    "plt.xlabel(\"iterations\")\n",
    "plt.ylabel(\"loss\")\n",
    "plt.ylim(0, 2.5)\n",
    "plt.legend()\n",
    "plt.show()\n"
   ]
  }
 ],
 "metadata": {
  "kernelspec": {
   "display_name": "yyc",
   "language": "python",
   "name": "yyc"
  },
  "language_info": {
   "codemirror_mode": {
    "name": "ipython",
    "version": 3
   },
   "file_extension": ".py",
   "mimetype": "text/x-python",
   "name": "python",
   "nbconvert_exporter": "python",
   "pygments_lexer": "ipython3",
   "version": "3.9.6"
  },
  "toc": {
   "base_numbering": 1,
   "nav_menu": {},
   "number_sections": true,
   "sideBar": true,
   "skip_h1_title": false,
   "title_cell": "Table of Contents",
   "title_sidebar": "Contents",
   "toc_cell": false,
   "toc_position": {},
   "toc_section_display": true,
   "toc_window_display": false
  }
 },
 "nbformat": 4,
 "nbformat_minor": 5
}
