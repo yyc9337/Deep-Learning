{
 "cells": [
  {
   "cell_type": "code",
   "execution_count": 9,
   "metadata": {},
   "outputs": [],
   "source": [
    "import numpy as np\n",
    "import random\n",
    "\n",
    "import torch\n",
    "import torch.nn as nn\n",
    "import torch.optim as optim\n",
    "\n",
    "from torchvision import models\n",
    "\n",
    "from tqdm import tqdm"
   ]
  },
  {
   "cell_type": "code",
   "execution_count": 10,
   "metadata": {},
   "outputs": [
    {
     "ename": "AttributeError",
     "evalue": "module 'sys' has no attribute 'append'",
     "output_type": "error",
     "traceback": [
      "\u001b[0;31m---------------------------------------------------------------------------\u001b[0m",
      "\u001b[0;31mAttributeError\u001b[0m                            Traceback (most recent call last)",
      "\u001b[1;32m/home/innerwave/ailab/YYC/Pytorch 프로젝트/1. 화상분류와 전이학습/fine-tuning.ipynb Cell 2'\u001b[0m in \u001b[0;36m<cell line: 5>\u001b[0;34m()\u001b[0m\n\u001b[1;32m      <a href='vscode-notebook-cell://ssh-remote%2Binnerwave@office.innerwave.co.kr:50023/home/innerwave/ailab/YYC/Pytorch%20%ED%94%84%EB%A1%9C%EC%A0%9D%ED%8A%B8/1.%20%ED%99%94%EC%83%81%EB%B6%84%EB%A5%98%EC%99%80%20%EC%A0%84%EC%9D%B4%ED%95%99%EC%8A%B5/fine-tuning.ipynb#ch0000001vscode-remote?line=1'>2</a>\u001b[0m np\u001b[39m.\u001b[39mrandom\u001b[39m.\u001b[39mseed(\u001b[39m1234\u001b[39m)\n\u001b[1;32m      <a href='vscode-notebook-cell://ssh-remote%2Binnerwave@office.innerwave.co.kr:50023/home/innerwave/ailab/YYC/Pytorch%20%ED%94%84%EB%A1%9C%EC%A0%9D%ED%8A%B8/1.%20%ED%99%94%EC%83%81%EB%B6%84%EB%A5%98%EC%99%80%20%EC%A0%84%EC%9D%B4%ED%95%99%EC%8A%B5/fine-tuning.ipynb#ch0000001vscode-remote?line=2'>3</a>\u001b[0m random\u001b[39m.\u001b[39mseed(\u001b[39m1234\u001b[39m)\n\u001b[0;32m----> <a href='vscode-notebook-cell://ssh-remote%2Binnerwave@office.innerwave.co.kr:50023/home/innerwave/ailab/YYC/Pytorch%20%ED%94%84%EB%A1%9C%EC%A0%9D%ED%8A%B8/1.%20%ED%99%94%EC%83%81%EB%B6%84%EB%A5%98%EC%99%80%20%EC%A0%84%EC%9D%B4%ED%95%99%EC%8A%B5/fine-tuning.ipynb#ch0000001vscode-remote?line=4'>5</a>\u001b[0m sys\u001b[39m.\u001b[39;49mappend(\u001b[39m'\u001b[39m\u001b[39m./dataloader_image_classification.py\u001b[39m\u001b[39m'\u001b[39m)\n",
      "\u001b[0;31mAttributeError\u001b[0m: module 'sys' has no attribute 'append'"
     ]
    }
   ],
   "source": [
    "torch.manual_seed(1234)\n",
    "np.random.seed(1234)\n",
    "random.seed(1234)"
   ]
  },
  {
   "cell_type": "code",
   "execution_count": 12,
   "metadata": {},
   "outputs": [
    {
     "name": "stdout",
     "output_type": "stream",
     "text": [
      "./data/hymenoptera_data/train/**/*.jpg\n",
      "./data/hymenoptera_data/val/**/*.jpg\n"
     ]
    }
   ],
   "source": [
    "from dataloader_image_classification import ImageTransform, make_datapath_list, HymenopteraDataset\n",
    "\n",
    "# アリとハチの画像へのファイルパスのリストを作成する\n",
    "train_list = make_datapath_list(phase=\"train\")\n",
    "val_list = make_datapath_list(phase=\"val\")\n",
    "\n",
    "# Datasetを作成する\n",
    "size = 224\n",
    "mean = (0.485, 0.456, 0.406)\n",
    "std = (0.229, 0.224, 0.225)\n",
    "train_dataset = HymenopteraDataset(\n",
    "    file_list=train_list, transform=ImageTransform(size, mean, std), phase='train')\n",
    "\n",
    "val_dataset = HymenopteraDataset(\n",
    "    file_list=val_list, transform=ImageTransform(size, mean, std), phase='val')\n",
    "\n",
    "\n",
    "# DataLoaderを作成する\n",
    "batch_size = 32\n",
    "\n",
    "train_dataloader = torch.utils.data.DataLoader(\n",
    "    train_dataset, batch_size=batch_size, shuffle=True)\n",
    "\n",
    "val_dataloader = torch.utils.data.DataLoader(\n",
    "    val_dataset, batch_size=batch_size, shuffle=False)\n",
    "\n",
    "# 辞書オブジェクトにまとめる\n",
    "dataloaders_dict = {\"train\": train_dataloader, \"val\": val_dataloader}"
   ]
  }
 ],
 "metadata": {
  "kernelspec": {
   "display_name": "Python 3.8.10 64-bit",
   "language": "python",
   "name": "python3"
  },
  "language_info": {
   "codemirror_mode": {
    "name": "ipython",
    "version": 3
   },
   "file_extension": ".py",
   "mimetype": "text/x-python",
   "name": "python",
   "nbconvert_exporter": "python",
   "pygments_lexer": "ipython3",
   "version": "3.8.10"
  },
  "orig_nbformat": 4,
  "vscode": {
   "interpreter": {
    "hash": "916dbcbb3f70747c44a77c7bcd40155683ae19c65e1c03b4aa3499c5328201f1"
   }
  }
 },
 "nbformat": 4,
 "nbformat_minor": 2
}
