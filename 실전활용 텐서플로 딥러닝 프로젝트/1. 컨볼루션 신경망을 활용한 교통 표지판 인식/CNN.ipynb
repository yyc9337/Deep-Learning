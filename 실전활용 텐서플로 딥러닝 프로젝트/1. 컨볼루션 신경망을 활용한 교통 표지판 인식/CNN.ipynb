{
 "cells": [
  {
   "cell_type": "code",
   "execution_count": 3,
   "metadata": {
    "collapsed": true
   },
   "outputs": [
    {
     "name": "stdout",
     "output_type": "stream",
     "text": [
      "Collecting hub\n",
      "  Downloading hub-2.3.4-py3-none-any.whl (323 kB)\n",
      "Requirement already satisfied: numpy in c:\\users\\inp032\\.conda\\envs\\yyc\\lib\\site-packages (from hub) (1.19.5)\n",
      "Requirement already satisfied: tqdm in c:\\users\\inp032\\.conda\\envs\\yyc\\lib\\site-packages (from hub) (4.62.3)\n",
      "Collecting pathos\n",
      "  Downloading pathos-0.2.8-py2.py3-none-any.whl (81 kB)\n",
      "Requirement already satisfied: click in c:\\users\\inp032\\.conda\\envs\\yyc\\lib\\site-packages (from hub) (8.0.3)\n",
      "Requirement already satisfied: pillow in c:\\users\\inp032\\.conda\\envs\\yyc\\lib\\site-packages (from hub) (8.4.0)\n",
      "Collecting boto3\n",
      "  Downloading boto3-1.22.0-py3-none-any.whl (132 kB)\n",
      "Collecting humbug>=0.2.6\n",
      "  Downloading humbug-0.2.7-py3-none-any.whl (11 kB)\n",
      "Collecting numcodecs\n",
      "  Downloading numcodecs-0.9.1-cp37-cp37m-win_amd64.whl (810 kB)\n",
      "Requirement already satisfied: requests in c:\\users\\inp032\\.conda\\envs\\yyc\\lib\\site-packages (from humbug>=0.2.6->hub) (2.27.1)\n",
      "Collecting s3transfer<0.6.0,>=0.5.0\n",
      "  Using cached s3transfer-0.5.2-py3-none-any.whl (79 kB)\n",
      "Collecting botocore<1.26.0,>=1.25.0\n",
      "  Downloading botocore-1.25.0-py3-none-any.whl (8.7 MB)\n",
      "Collecting jmespath<2.0.0,>=0.7.1\n",
      "  Using cached jmespath-1.0.0-py3-none-any.whl (23 kB)\n",
      "Requirement already satisfied: urllib3<1.27,>=1.25.4 in c:\\users\\inp032\\.conda\\envs\\yyc\\lib\\site-packages (from botocore<1.26.0,>=1.25.0->boto3->hub) (1.26.9)\n",
      "Requirement already satisfied: python-dateutil<3.0.0,>=2.1 in c:\\users\\inp032\\.conda\\envs\\yyc\\lib\\site-packages (from botocore<1.26.0,>=1.25.0->boto3->hub) (2.8.2)\n",
      "Requirement already satisfied: six>=1.5 in c:\\users\\inp032\\.conda\\envs\\yyc\\lib\\site-packages (from python-dateutil<3.0.0,>=2.1->botocore<1.26.0,>=1.25.0->boto3->hub) (1.15.0)\n",
      "Requirement already satisfied: importlib-metadata in c:\\users\\inp032\\.conda\\envs\\yyc\\lib\\site-packages (from click->hub) (4.8.1)\n",
      "Requirement already satisfied: colorama in c:\\users\\inp032\\.conda\\envs\\yyc\\lib\\site-packages (from click->hub) (0.4.4)\n",
      "Requirement already satisfied: typing-extensions>=3.6.4 in c:\\users\\inp032\\.conda\\envs\\yyc\\lib\\site-packages (from importlib-metadata->click->hub) (3.7.4.3)\n",
      "Requirement already satisfied: zipp>=0.5 in c:\\users\\inp032\\.conda\\envs\\yyc\\lib\\site-packages (from importlib-metadata->click->hub) (3.6.0)\n",
      "Collecting ppft>=1.6.6.4\n",
      "  Downloading ppft-1.6.6.4-py3-none-any.whl (65 kB)\n",
      "Collecting pox>=0.3.0\n",
      "  Downloading pox-0.3.0-py2.py3-none-any.whl (30 kB)\n",
      "Requirement already satisfied: dill>=0.3.4 in c:\\users\\inp032\\.conda\\envs\\yyc\\lib\\site-packages (from pathos->hub) (0.3.4)\n",
      "Collecting multiprocess>=0.70.12\n",
      "  Downloading multiprocess-0.70.12.2-py37-none-any.whl (112 kB)\n",
      "Requirement already satisfied: idna<4,>=2.5 in c:\\users\\inp032\\.conda\\envs\\yyc\\lib\\site-packages (from requests->humbug>=0.2.6->hub) (2.6)\n",
      "Requirement already satisfied: certifi>=2017.4.17 in c:\\users\\inp032\\.conda\\envs\\yyc\\lib\\site-packages (from requests->humbug>=0.2.6->hub) (2021.10.8)\n",
      "Requirement already satisfied: charset-normalizer~=2.0.0 in c:\\users\\inp032\\.conda\\envs\\yyc\\lib\\site-packages (from requests->humbug>=0.2.6->hub) (2.0.7)\n",
      "Installing collected packages: jmespath, botocore, s3transfer, ppft, pox, multiprocess, pathos, numcodecs, humbug, boto3, hub\n",
      "Successfully installed boto3-1.22.0 botocore-1.25.0 hub-2.3.4 humbug-0.2.7 jmespath-1.0.0 multiprocess-0.70.12.2 numcodecs-0.9.1 pathos-0.2.8 pox-0.3.0 ppft-1.6.6.4 s3transfer-0.5.2\n"
     ]
    }
   ],
   "source": [
    "!pip install hub"
   ]
  },
  {
   "cell_type": "code",
   "execution_count": 4,
   "outputs": [
    {
     "name": "stdout",
     "output_type": "stream",
     "text": [
      "Opening dataset in read-only mode as you don't have write permissions.\n",
      "hub://activeloop/gtsrb-train loaded successfully.\n",
      "This dataset can be visualized in Jupyter Notebook by ds.visualize() or at https://app.activeloop.ai/activeloop/gtsrb-train\n"
     ]
    }
   ],
   "source": [
    "import hub\n",
    "ds = hub.load(\"hub://activeloop/gtsrb-train\")"
   ],
   "metadata": {
    "collapsed": false,
    "pycharm": {
     "name": "#%%\n"
    }
   }
  },
  {
   "cell_type": "code",
   "execution_count": 6,
   "outputs": [],
   "source": [
    "N_CLASSES = 43\n",
    "RESIZED_IMAGE = (32, 32)"
   ],
   "metadata": {
    "collapsed": false,
    "pycharm": {
     "name": "#%%\n"
    }
   }
  },
  {
   "cell_type": "code",
   "execution_count": 17,
   "outputs": [
    {
     "name": "stdout",
     "output_type": "stream",
     "text": [
      "Requirement already satisfied: scikit-image in c:\\users\\inp032\\.conda\\envs\\yyc\\lib\\site-packages (0.19.2)\n",
      "Requirement already satisfied: pillow!=7.1.0,!=7.1.1,!=8.3.0,>=6.1.0 in c:\\users\\inp032\\.conda\\envs\\yyc\\lib\\site-packages (from scikit-image) (8.4.0)\n",
      "Requirement already satisfied: imageio>=2.4.1 in c:\\users\\inp032\\.conda\\envs\\yyc\\lib\\site-packages (from scikit-image) (2.18.0)\n",
      "Requirement already satisfied: scipy>=1.4.1 in c:\\users\\inp032\\.conda\\envs\\yyc\\lib\\site-packages (from scikit-image) (1.7.1)\n",
      "Requirement already satisfied: networkx>=2.2 in c:\\users\\inp032\\.conda\\envs\\yyc\\lib\\site-packages (from scikit-image) (2.6.3)\n",
      "Requirement already satisfied: PyWavelets>=1.1.1 in c:\\users\\inp032\\.conda\\envs\\yyc\\lib\\site-packages (from scikit-image) (1.3.0)\n",
      "Requirement already satisfied: tifffile>=2019.7.26 in c:\\users\\inp032\\.conda\\envs\\yyc\\lib\\site-packages (from scikit-image) (2021.11.2)\n",
      "Requirement already satisfied: packaging>=20.0 in c:\\users\\inp032\\.conda\\envs\\yyc\\lib\\site-packages (from scikit-image) (21.0)\n",
      "Requirement already satisfied: numpy>=1.17.0 in c:\\users\\inp032\\.conda\\envs\\yyc\\lib\\site-packages (from scikit-image) (1.19.5)\n",
      "Requirement already satisfied: pyparsing>=2.0.2 in c:\\users\\inp032\\.conda\\envs\\yyc\\lib\\site-packages (from packaging>=20.0->scikit-image) (3.0.1)\n",
      "(39209, 32, 32, 1)\n",
      "(39209, 43)\n"
     ]
    }
   ],
   "source": [
    "!pip install scikit-image\n",
    "import matplotlib.pyplot as plt\n",
    "import glob\n",
    "from skimage.color import rgb2lab\n",
    "from skimage.transform import resize\n",
    "from collections import namedtuple\n",
    "import numpy as np\n",
    "np.random.seed(101)\n",
    "%matplotlib inline\n",
    "\n",
    "Dataset = namedtuple('Dataset', ['X', 'y'])\n",
    "\n",
    "def to_tf_format(imgs):\n",
    "    return np.stack([img[:, :, np.newaxis] for img in imgs], axis=0).astype(np.float32)\n",
    "\n",
    "def read_dataset_ppm(rootpath, n_labels, resize_to):\n",
    "  images = []\n",
    "  labels = []\n",
    "\n",
    "  for c in range(n_labels):\n",
    "    full_path = rootpath + '/' + format(c, '05d') + '/'\n",
    "    for img_name in glob.glob(full_path + \"*.ppm\"):\n",
    "\n",
    "      img = plt.imread(img_name).astype(np.float32)\n",
    "      img = rgb2lab(img / 255.0)[:,:,0]\n",
    "      if resize_to:\n",
    "        img = resize(img, resize_to, mode='reflect')\n",
    "\n",
    "      label = np.zeros((n_labels, ), dtype=np.float32)\n",
    "      label[c] = 1.0\n",
    "\n",
    "      images.append(img.astype(np.float32))\n",
    "      labels.append(label)\n",
    "\n",
    "  return Dataset(X = to_tf_format(images).astype(np.float32),\n",
    "                 y = np.matrix(labels).astype(np.float32))\n",
    "\n",
    "dataset = read_dataset_ppm('C:/Users/inp032/Desktop/유영찬/Git_Hub/Deep-Learning/실전활용 텐서플로 딥러닝 프로젝트/Dataset/GTSRB_Final_Training_Images/GTSRB/Final_Training/Images', N_CLASSES, RESIZED_IMAGE)\n",
    "print(dataset.X.shape)\n",
    "print(dataset.y.shape)"
   ],
   "metadata": {
    "collapsed": false,
    "pycharm": {
     "name": "#%%\n"
    }
   }
  },
  {
   "cell_type": "code",
   "execution_count": 18,
   "outputs": [
    {
     "name": "stdout",
     "output_type": "stream",
     "text": [
      "[[1. 0. 0. 0. 0. 0. 0. 0. 0. 0. 0. 0. 0. 0. 0. 0. 0. 0. 0. 0. 0. 0. 0. 0.\n",
      "  0. 0. 0. 0. 0. 0. 0. 0. 0. 0. 0. 0. 0. 0. 0. 0. 0. 0. 0.]]\n"
     ]
    },
    {
     "data": {
      "text/plain": "<Figure size 432x288 with 1 Axes>",
      "image/png": "[encoded data removed]"
     },
     "metadata": {
      "needs_background": "light"
     },
     "output_type": "display_data"
    }
   ],
   "source": [
    "plt.imshow(dataset.X[0, :, :, :].reshape(RESIZED_IMAGE)) #sample\n",
    "print(dataset.y[0, :]) #label"
   ],
   "metadata": {
    "collapsed": false,
    "pycharm": {
     "name": "#%%\n"
    }
   }
  },
  {
   "cell_type": "code",
   "execution_count": 19,
   "outputs": [
    {
     "name": "stdout",
     "output_type": "stream",
     "text": [
      "[[0. 0. 0. 0. 0. 0. 0. 0. 0. 0. 0. 0. 0. 0. 0. 0. 0. 0. 0. 0. 0. 0. 0. 0.\n",
      "  0. 0. 0. 0. 0. 0. 0. 0. 0. 0. 0. 0. 0. 0. 0. 0. 0. 0. 1.]]\n"
     ]
    },
    {
     "data": {
      "text/plain": "<Figure size 432x288 with 1 Axes>",
      "image/png": "[encoded data removed]"
     },
     "metadata": {
      "needs_background": "light"
     },
     "output_type": "display_data"
    }
   ],
   "source": [
    "plt.imshow(dataset.X[-1, :, :, :].reshape(RESIZED_IMAGE)) #sample\n",
    "print(dataset.y[-1, :]) #label"
   ],
   "metadata": {
    "collapsed": false,
    "pycharm": {
     "name": "#%%\n"
    }
   }
  },
  {
   "cell_type": "code",
   "execution_count": 20,
   "outputs": [
    {
     "name": "stdout",
     "output_type": "stream",
     "text": [
      "(29406, 32, 32, 1)\n",
      "(29406, 43)\n",
      "(9803, 32, 32, 1)\n",
      "(9803, 43)\n"
     ]
    }
   ],
   "source": [
    "from sklearn.model_selection import train_test_split\n",
    "idx_train, idx_test = train_test_split(range(dataset.X.shape[0]), test_size=0.25, random_state=101)\n",
    "X_train = dataset.X[idx_train, :, :, :]\n",
    "X_test = dataset.X[idx_test, :, :, :]\n",
    "y_train = dataset.y[idx_train, :]\n",
    "y_test = dataset.y[idx_test, :]\n",
    "\n",
    "print(X_train.shape)\n",
    "print(y_train.shape)\n",
    "print(X_test.shape)\n",
    "print(y_test.shape)"
   ],
   "metadata": {
    "collapsed": false,
    "pycharm": {
     "name": "#%%\n"
    }
   }
  },
  {
   "cell_type": "code",
   "execution_count": null,
   "outputs": [],
   "source": [
    "def minibatcher(X, y, batch_size, shuffle):\n",
    "  assert X.shape[0] == y.shape[0]\n",
    "  n_samples = X.shape[0]\n",
    "\n",
    "  if shuffle:\n",
    "    idx = np.random.permutation(n_samples)\n",
    "  else:\n",
    "    idx = list(range(n_samples))\n",
    "\n",
    "  for k in range(int(np.ceil(n_samples/batch_size))):\n",
    "    from_idx = k*batch_size\n",
    "    to_idx = (k+1)*batch_size\n",
    "    yield X[idx[from_idx:to_idx], :, :, :], y[idx[from_idx:to_idx], :]"
   ],
   "metadata": {
    "collapsed": false,
    "pycharm": {
     "name": "#%%\n"
    }
   }
  },
  {
   "cell_type": "markdown",
   "source": [],
   "metadata": {
    "collapsed": false
   }
  }
 ],
 "metadata": {
  "kernelspec": {
   "name": "yyc",
   "language": "python",
   "display_name": "yyc"
  },
  "language_info": {
   "codemirror_mode": {
    "name": "ipython",
    "version": 2
   },
   "file_extension": ".py",
   "mimetype": "text/x-python",
   "name": "python",
   "nbconvert_exporter": "python",
   "pygments_lexer": "ipython2",
   "version": "2.7.6"
  }
 },
 "nbformat": 4,
 "nbformat_minor": 0
}