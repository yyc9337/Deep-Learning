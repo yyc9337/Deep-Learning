{
 "cells": [
  {
   "cell_type": "code",
   "execution_count": 3,
   "metadata": {
    "collapsed": true
   },
   "outputs": [
    {
     "name": "stdout",
     "output_type": "stream",
     "text": [
      "Collecting hub\n",
      "  Downloading hub-2.3.4-py3-none-any.whl (323 kB)\n",
      "Requirement already satisfied: numpy in c:\\users\\inp032\\.conda\\envs\\yyc\\lib\\site-packages (from hub) (1.19.5)\n",
      "Requirement already satisfied: tqdm in c:\\users\\inp032\\.conda\\envs\\yyc\\lib\\site-packages (from hub) (4.62.3)\n",
      "Collecting pathos\n",
      "  Downloading pathos-0.2.8-py2.py3-none-any.whl (81 kB)\n",
      "Requirement already satisfied: click in c:\\users\\inp032\\.conda\\envs\\yyc\\lib\\site-packages (from hub) (8.0.3)\n",
      "Requirement already satisfied: pillow in c:\\users\\inp032\\.conda\\envs\\yyc\\lib\\site-packages (from hub) (8.4.0)\n",
      "Collecting boto3\n",
      "  Downloading boto3-1.22.0-py3-none-any.whl (132 kB)\n",
      "Collecting humbug>=0.2.6\n",
      "  Downloading humbug-0.2.7-py3-none-any.whl (11 kB)\n",
      "Collecting numcodecs\n",
      "  Downloading numcodecs-0.9.1-cp37-cp37m-win_amd64.whl (810 kB)\n",
      "Requirement already satisfied: requests in c:\\users\\inp032\\.conda\\envs\\yyc\\lib\\site-packages (from humbug>=0.2.6->hub) (2.27.1)\n",
      "Collecting s3transfer<0.6.0,>=0.5.0\n",
      "  Using cached s3transfer-0.5.2-py3-none-any.whl (79 kB)\n",
      "Collecting botocore<1.26.0,>=1.25.0\n",
      "  Downloading botocore-1.25.0-py3-none-any.whl (8.7 MB)\n",
      "Collecting jmespath<2.0.0,>=0.7.1\n",
      "  Using cached jmespath-1.0.0-py3-none-any.whl (23 kB)\n",
      "Requirement already satisfied: urllib3<1.27,>=1.25.4 in c:\\users\\inp032\\.conda\\envs\\yyc\\lib\\site-packages (from botocore<1.26.0,>=1.25.0->boto3->hub) (1.26.9)\n",
      "Requirement already satisfied: python-dateutil<3.0.0,>=2.1 in c:\\users\\inp032\\.conda\\envs\\yyc\\lib\\site-packages (from botocore<1.26.0,>=1.25.0->boto3->hub) (2.8.2)\n",
      "Requirement already satisfied: six>=1.5 in c:\\users\\inp032\\.conda\\envs\\yyc\\lib\\site-packages (from python-dateutil<3.0.0,>=2.1->botocore<1.26.0,>=1.25.0->boto3->hub) (1.15.0)\n",
      "Requirement already satisfied: importlib-metadata in c:\\users\\inp032\\.conda\\envs\\yyc\\lib\\site-packages (from click->hub) (4.8.1)\n",
      "Requirement already satisfied: colorama in c:\\users\\inp032\\.conda\\envs\\yyc\\lib\\site-packages (from click->hub) (0.4.4)\n",
      "Requirement already satisfied: typing-extensions>=3.6.4 in c:\\users\\inp032\\.conda\\envs\\yyc\\lib\\site-packages (from importlib-metadata->click->hub) (3.7.4.3)\n",
      "Requirement already satisfied: zipp>=0.5 in c:\\users\\inp032\\.conda\\envs\\yyc\\lib\\site-packages (from importlib-metadata->click->hub) (3.6.0)\n",
      "Collecting ppft>=1.6.6.4\n",
      "  Downloading ppft-1.6.6.4-py3-none-any.whl (65 kB)\n",
      "Collecting pox>=0.3.0\n",
      "  Downloading pox-0.3.0-py2.py3-none-any.whl (30 kB)\n",
      "Requirement already satisfied: dill>=0.3.4 in c:\\users\\inp032\\.conda\\envs\\yyc\\lib\\site-packages (from pathos->hub) (0.3.4)\n",
      "Collecting multiprocess>=0.70.12\n",
      "  Downloading multiprocess-0.70.12.2-py37-none-any.whl (112 kB)\n",
      "Requirement already satisfied: idna<4,>=2.5 in c:\\users\\inp032\\.conda\\envs\\yyc\\lib\\site-packages (from requests->humbug>=0.2.6->hub) (2.6)\n",
      "Requirement already satisfied: certifi>=2017.4.17 in c:\\users\\inp032\\.conda\\envs\\yyc\\lib\\site-packages (from requests->humbug>=0.2.6->hub) (2021.10.8)\n",
      "Requirement already satisfied: charset-normalizer~=2.0.0 in c:\\users\\inp032\\.conda\\envs\\yyc\\lib\\site-packages (from requests->humbug>=0.2.6->hub) (2.0.7)\n",
      "Installing collected packages: jmespath, botocore, s3transfer, ppft, pox, multiprocess, pathos, numcodecs, humbug, boto3, hub\n",
      "Successfully installed boto3-1.22.0 botocore-1.25.0 hub-2.3.4 humbug-0.2.7 jmespath-1.0.0 multiprocess-0.70.12.2 numcodecs-0.9.1 pathos-0.2.8 pox-0.3.0 ppft-1.6.6.4 s3transfer-0.5.2\n"
     ]
    }
   ],
   "source": [
    "!pip install hub"
   ]
  },
  {
   "cell_type": "code",
   "execution_count": 4,
   "outputs": [
    {
     "name": "stdout",
     "output_type": "stream",
     "text": [
      "Opening dataset in read-only mode as you don't have write permissions.\n",
      "hub://activeloop/gtsrb-train loaded successfully.\n",
      "This dataset can be visualized in Jupyter Notebook by ds.visualize() or at https://app.activeloop.ai/activeloop/gtsrb-train\n"
     ]
    }
   ],
   "source": [
    "import hub\n",
    "ds = hub.load(\"hub://activeloop/gtsrb-train\")"
   ],
   "metadata": {
    "collapsed": false,
    "pycharm": {
     "name": "#%%\n"
    }
   }
  },
  {
   "cell_type": "code",
   "execution_count": 5,
   "outputs": [
    {
     "data": {
      "text/plain": "Dataset(path='hub://activeloop/gtsrb-train', read_only=True, tensors=['images', 'boxes', 'labels', 'shapes', 'colors'])"
     },
     "execution_count": 5,
     "metadata": {},
     "output_type": "execute_result"
    }
   ],
   "source": [],
   "metadata": {
    "collapsed": false,
    "pycharm": {
     "name": "#%%\n"
    }
   }
  }
 ],
 "metadata": {
  "kernelspec": {
   "name": "yyc",
   "language": "python",
   "display_name": "yyc"
  },
  "language_info": {
   "codemirror_mode": {
    "name": "ipython",
    "version": 2
   },
   "file_extension": ".py",
   "mimetype": "text/x-python",
   "name": "python",
   "nbconvert_exporter": "python",
   "pygments_lexer": "ipython2",
   "version": "2.7.6"
  }
 },
 "nbformat": 4,
 "nbformat_minor": 0
}