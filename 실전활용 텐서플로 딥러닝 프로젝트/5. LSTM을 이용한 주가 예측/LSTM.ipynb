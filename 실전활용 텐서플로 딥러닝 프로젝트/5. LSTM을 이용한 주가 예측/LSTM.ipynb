{
 "cells": [
  {
   "cell_type": "code",
   "execution_count": 2,
   "metadata": {
    "collapsed": true
   },
   "outputs": [],
   "source": [
    "from tools import *"
   ]
  },
  {
   "cell_type": "code",
   "execution_count": 3,
   "outputs": [
    {
     "name": "stdout",
     "output_type": "stream",
     "text": [
      "saved into ./tmp/prices/GOOG_2017-01-01_2017-01-31.pk\n",
      "[786.14, 786.9, 794.02, 806.15, 806.65, 804.79, 807.91, 806.36, 807.88, 804.61, 806.07, 802.175, 805.02, 819.31, 823.87, 835.67, 832.15, 823.31, 802.32, 796.79]\n"
     ]
    }
   ],
   "source": [
    "import datetime\n",
    "\n",
    "print(fetch_stock_price(\"GOOG\",\n",
    "                        datetime.date(2017,1,1),\n",
    "                        datetime.date(2017,1,31)))"
   ],
   "metadata": {
    "collapsed": false,
    "pycharm": {
     "name": "#%%\n"
    }
   }
  },
  {
   "cell_type": "markdown",
   "source": [
    "## visualization"
   ],
   "metadata": {
    "collapsed": false,
    "pycharm": {
     "name": "#%% md\n"
    }
   }
  },
  {
   "cell_type": "code",
   "execution_count": 9,
   "outputs": [
    {
     "name": "stdout",
     "output_type": "stream",
     "text": [
      "Requirement already satisfied: seaborn in c:\\users\\inp032\\.conda\\envs\\yyc\\lib\\site-packages (0.8.1)\n",
      "Collecting seaborn\n",
      "  Using cached seaborn-0.11.2-py3-none-any.whl (292 kB)\n",
      "Requirement already satisfied: scipy>=1.0 in c:\\users\\inp032\\.conda\\envs\\yyc\\lib\\site-packages (from seaborn) (1.7.1)\n",
      "Requirement already satisfied: numpy>=1.15 in c:\\users\\inp032\\.conda\\envs\\yyc\\lib\\site-packages (from seaborn) (1.19.5)\n",
      "Requirement already satisfied: pandas>=0.23 in c:\\users\\inp032\\.conda\\envs\\yyc\\lib\\site-packages (from seaborn) (1.3.5)\n",
      "Requirement already satisfied: matplotlib>=2.2 in c:\\users\\inp032\\.conda\\envs\\yyc\\lib\\site-packages (from seaborn) (3.4.3)\n",
      "Requirement already satisfied: kiwisolver>=1.0.1 in c:\\users\\inp032\\.conda\\envs\\yyc\\lib\\site-packages (from matplotlib>=2.2->seaborn) (1.3.2)\n",
      "Requirement already satisfied: cycler>=0.10 in c:\\users\\inp032\\.conda\\envs\\yyc\\lib\\site-packages (from matplotlib>=2.2->seaborn) (0.10.0)\n",
      "Requirement already satisfied: pillow>=6.2.0 in c:\\users\\inp032\\.conda\\envs\\yyc\\lib\\site-packages (from matplotlib>=2.2->seaborn) (8.4.0)\n",
      "Requirement already satisfied: pyparsing>=2.2.1 in c:\\users\\inp032\\.conda\\envs\\yyc\\lib\\site-packages (from matplotlib>=2.2->seaborn) (3.0.1)\n",
      "Requirement already satisfied: python-dateutil>=2.7 in c:\\users\\inp032\\.conda\\envs\\yyc\\lib\\site-packages (from matplotlib>=2.2->seaborn) (2.8.2)\n",
      "Requirement already satisfied: six in c:\\users\\inp032\\.conda\\envs\\yyc\\lib\\site-packages (from cycler>=0.10->matplotlib>=2.2->seaborn) (1.16.0)\n",
      "Requirement already satisfied: pytz>=2017.3 in c:\\users\\inp032\\.conda\\envs\\yyc\\lib\\site-packages (from pandas>=0.23->seaborn) (2021.3)\n",
      "Installing collected packages: seaborn\n",
      "  Attempting uninstall: seaborn\n",
      "    Found existing installation: seaborn 0.8.1\n",
      "    Uninstalling seaborn-0.8.1:\n",
      "      Successfully uninstalled seaborn-0.8.1\n",
      "Successfully installed seaborn-0.11.2\n"
     ]
    }
   ],
   "source": [
    "!pip install -U seaborn"
   ],
   "metadata": {
    "collapsed": false,
    "pycharm": {
     "name": "#%%\n"
    }
   }
  },
  {
   "cell_type": "code",
   "execution_count": 19,
   "outputs": [
    {
     "data": {
      "text/plain": "<Figure size 432x288 with 1 Axes>",
      "image/png": "[encoded data removed]"
     },
     "metadata": {
      "needs_background": "light"
     },
     "output_type": "display_data"
    }
   ],
   "source": [
    "import matplotlib.pyplot as plt\n",
    "import numpy as np\n",
    "import seaborn\n",
    "from tools import fetch_cosine_values, fetch_stock_price, format_dataset\n",
    "\n",
    "np.set_printoptions(precision=2)\n",
    "\n",
    "# # Print 2 oscillations (20 points, with a frequency of 0.1, i.e. a period of 10)\n",
    "cos_values = fetch_cosine_values(20, frequency=0.1)\n",
    "seaborn.pointplot(cos_values)\n",
    "plt.xlabel(\"Days since start of the experiment\")\n",
    "plt.ylabel(\"Value of the cosine function\")\n",
    "plt.title(\"Cgit push\"\n",
    "          \"osine time series over time\")\n",
    "plt.show()"
   ],
   "metadata": {
    "collapsed": false,
    "pycharm": {
     "name": "#%%\n"
    }
   }
  },
  {
   "cell_type": "code",
   "execution_count": 22,
   "outputs": [
    {
     "name": "stdout",
     "output_type": "stream",
     "text": [
      "minibatch_cos_X.shape= (15, 5)\n",
      "minibatch_cos_y.shape= (15,)\n"
     ]
    }
   ],
   "source": [
    "# Format the feature and label set\n",
    "features_size = 5\n",
    "minibatch_cos_X, minibatch_cos_y = format_dataset(cos_values, features_size)\n",
    "print(\"minibatch_cos_X.shape=\", minibatch_cos_X.shape)\n",
    "print(\"minibatch_cos_y.shape=\", minibatch_cos_y.shape)"
   ],
   "metadata": {
    "collapsed": false,
    "pycharm": {
     "name": "#%%\n"
    }
   }
  },
  {
   "cell_type": "code",
   "execution_count": 25,
   "outputs": [
    {
     "data": {
      "text/plain": "array([[ 1.  ,  0.82,  0.21, -0.37, -0.77],\n       [ 0.82,  0.21, -0.37, -0.77, -0.93],\n       [ 0.21, -0.37, -0.77, -0.93, -0.85],\n       [-0.37, -0.77, -0.93, -0.85, -0.23],\n       [-0.77, -0.93, -0.85, -0.23,  0.35],\n       [-0.93, -0.85, -0.23,  0.35,  0.75],\n       [-0.85, -0.23,  0.35,  0.75,  1.01],\n       [-0.23,  0.35,  0.75,  1.01,  0.78],\n       [ 0.35,  0.75,  1.01,  0.78,  0.25],\n       [ 0.75,  1.01,  0.78,  0.25, -0.25],\n       [ 1.01,  0.78,  0.25, -0.25, -0.72],\n       [ 0.78,  0.25, -0.25, -0.72, -1.05],\n       [ 0.25, -0.25, -0.72, -1.05, -0.89],\n       [-0.25, -0.72, -1.05, -0.89, -0.29],\n       [-0.72, -1.05, -0.89, -0.29,  0.35]])"
     },
     "execution_count": 25,
     "metadata": {},
     "output_type": "execute_result"
    }
   ],
   "source": [
    "minibatch_cos_X"
   ],
   "metadata": {
    "collapsed": false,
    "pycharm": {
     "name": "#%%\n"
    }
   }
  }
 ],
 "metadata": {
  "kernelspec": {
   "name": "yyc",
   "language": "python",
   "display_name": "yyc"
  },
  "language_info": {
   "codemirror_mode": {
    "name": "ipython",
    "version": 2
   },
   "file_extension": ".py",
   "mimetype": "text/x-python",
   "name": "python",
   "nbconvert_exporter": "python",
   "pygments_lexer": "ipython2",
   "version": "2.7.6"
  }
 },
 "nbformat": 4,
 "nbformat_minor": 0
}