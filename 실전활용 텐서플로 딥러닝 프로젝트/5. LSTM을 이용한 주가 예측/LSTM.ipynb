{
 "cells": [
  {
   "cell_type": "code",
   "execution_count": null,
   "metadata": {
    "collapsed": true,
    "pycharm": {
     "is_executing": true
    }
   },
   "outputs": [],
   "source": [
    "from tools import *"
   ]
  },
  {
   "cell_type": "code",
   "execution_count": null,
   "outputs": [],
   "source": [
    "import datetime\n",
    "\n",
    "print(fetch_stock_price(\"GOOG\",\n",
    "                        datetime.date(2017,1,1),\n",
    "                        datetime.date(2017,1,31)))"
   ],
   "metadata": {
    "collapsed": false,
    "pycharm": {
     "name": "#%%\n",
     "is_executing": true
    }
   }
  },
  {
   "cell_type": "markdown",
   "source": [
    "## visualization"
   ],
   "metadata": {
    "collapsed": false,
    "pycharm": {
     "name": "#%% md\n"
    }
   }
  },
  {
   "cell_type": "code",
   "execution_count": null,
   "outputs": [],
   "source": [
    "import matplotlib.pyplot as plt\n",
    "import numpy as np\n",
    "import seaborn\n",
    "from tools import fetch_cosine_values, fetch_stock_price, format_dataset\n",
    "\n",
    "np.set_printoptions(precision=2)\n",
    "\n",
    "# # Print 2 oscillations (20 points, with a frequency of 0.1, i.e. a period of 10)\n",
    "cos_values = fetch_cosine_values(20, frequency=0.1)\n",
    "seaborn.pointplot(cos_values)\n",
    "plt.xlabel(\"Days since start of the experiment\")\n",
    "plt.ylabel(\"Value of the cosine function\")\n",
    "plt.title(\"Cgit push\"\n",
    "          \"osine time series over time\")\n",
    "plt.show()"
   ],
   "metadata": {
    "collapsed": false,
    "pycharm": {
     "name": "#%%\n",
     "is_executing": true
    }
   }
  },
  {
   "cell_type": "code",
   "execution_count": null,
   "outputs": [],
   "source": [
    "# Format the feature and label set\n",
    "features_size = 5\n",
    "minibatch_cos_X, minibatch_cos_y = format_dataset(cos_values, features_size)\n",
    "print(\"minibatch_cos_X.shape=\", minibatch_cos_X.shape)\n",
    "print(\"minibatch_cos_y.shape=\", minibatch_cos_y.shape)"
   ],
   "metadata": {
    "collapsed": false,
    "pycharm": {
     "name": "#%%\n",
     "is_executing": true
    }
   }
  },
  {
   "cell_type": "code",
   "execution_count": null,
   "outputs": [],
   "source": [
    "minibatch_cos_X"
   ],
   "metadata": {
    "collapsed": false,
    "pycharm": {
     "name": "#%%\n",
     "is_executing": true
    }
   }
  },
  {
   "cell_type": "code",
   "execution_count": null,
   "outputs": [],
   "source": [],
   "metadata": {
    "collapsed": false,
    "pycharm": {
     "name": "#%%\n"
    }
   }
  }
 ],
 "metadata": {
  "kernelspec": {
   "name": "yyc",
   "language": "python",
   "display_name": "yyc"
  },
  "language_info": {
   "codemirror_mode": {
    "name": "ipython",
    "version": 2
   },
   "file_extension": ".py",
   "mimetype": "text/x-python",
   "name": "python",
   "nbconvert_exporter": "python",
   "pygments_lexer": "ipython2",
   "version": "2.7.6"
  }
 },
 "nbformat": 4,
 "nbformat_minor": 0
}