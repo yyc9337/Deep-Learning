{
 "cells": [
  {
   "cell_type": "code",
   "execution_count": 18,
   "metadata": {},
   "outputs": [
    {
     "name": "stderr",
     "output_type": "stream",
     "text": [
      "/home/innerwave/.local/lib/python3.8/site-packages/sklearn/utils/deprecation.py:87: FutureWarning: Function get_feature_names is deprecated; get_feature_names is deprecated in 1.0 and will be removed in 1.2. Please use get_feature_names_out instead.\n",
      "  warnings.warn(msg, category=FutureWarning)\n"
     ]
    }
   ],
   "source": [
    "import pandas as pd\n",
    "from sklearn import model_selection\n",
    "import torch\n",
    "from torch import nn, optim\n",
    "from torch.utils.data import (Dataset, \n",
    "                              DataLoader,\n",
    "                              TensorDataset)\n",
    "import tqdm\n",
    "import csv\n",
    "from sklearn.feature_extraction.text import CountVectorizer\n",
    "\n",
    "\n",
    "# csv.DictReader를 사용해서 CSV 파일 읽기\n",
    "# 필요한 부분만 추출\n",
    "with open(\"ml-20m/movies.csv\") as fp:\n",
    "    reader = csv.DictReader(fp)\n",
    "    def parse(d):\n",
    "        movieId = int(d[\"movieId\"])\n",
    "        genres = d[\"genres\"]\n",
    "        return movieId, genres\n",
    "    data = [parse(d) for d in reader]\n",
    "  \n",
    "movieIds = [x[0] for x in data]\n",
    "genres = [x[1] for x in data]\n",
    "\n",
    "# 데이터에 맞추어 CountVectorizer를 훈련\n",
    "# Bag of Words 형태로 만들기\n",
    "cv = CountVectorizer(dtype=\"f4\").fit(genres)\n",
    "num_genres = len(cv.get_feature_names())\n",
    "\n",
    "# key가 movieId이고 value가 BoW인 Tensor의 dict 만들기\n",
    "it = cv.transform(genres).toarray()\n",
    "it = (torch.tensor(g, dtype=torch.float32) for g in it)\n",
    "genre_dict = dict(zip(movieIds, it))"
   ]
  },
  {
   "cell_type": "code",
   "execution_count": 19,
   "metadata": {},
   "outputs": [],
   "source": [
    "df = pd.read_csv(\"ml-20m/ratings.csv\")\n",
    "# X는 (userId, movieId) 쌍\n",
    "X = df[[\"userId\", \"movieId\"]].values\n",
    "Y = df[[\"rating\"]].values\n",
    "\n",
    "# 훈련 데이터와 테스트 데이터를 9대 1로 분할\n",
    "train_X, test_X, train_Y, test_Y\\\n",
    "    = model_selection.train_test_split(X, Y, test_size=0.1)\n",
    "\n",
    "# X는 ID이고 정수이므로 int64, Y는 실수이므로 float32의 Tensor로 변환\n",
    "train_dataset = TensorDataset(\n",
    "    torch.tensor(train_X, dtype=torch.int64), torch.tensor(train_Y, dtype=torch.float32))\n",
    "test_dataset = TensorDataset(\n",
    "    torch.tensor(test_X, dtype=torch.int64), torch.tensor(test_Y, dtype=torch.float32))\n",
    "train_loader = DataLoader(\n",
    "    train_dataset, batch_size=1024, num_workers=4, shuffle=True)\n",
    "test_loader = DataLoader(\n",
    "    test_dataset, batch_size=1024, num_workers=4)"
   ]
  },
  {
   "cell_type": "code",
   "execution_count": 20,
   "metadata": {},
   "outputs": [
    {
     "data": {
      "text/plain": [
       "array([[ 88817,   4540],\n",
       "       [ 69935,   2700],\n",
       "       [103027,   3668],\n",
       "       ...,\n",
       "       [ 98231,   1278],\n",
       "       [138348,    529],\n",
       "       [  5209,    838]])"
      ]
     },
     "execution_count": 20,
     "metadata": {},
     "output_type": "execute_result"
    }
   ],
   "source": [
    "train_X"
   ]
  },
  {
   "cell_type": "code",
   "execution_count": 25,
   "metadata": {},
   "outputs": [],
   "source": [
    "class MatrixFactorization(nn.Module):\n",
    "    def __init__(self, max_user, max_item, k=20):\n",
    "        super().__init__()\n",
    "        self.max_user = max_user\n",
    "        self.max_item = max_item\n",
    "        self.user_emb = nn.Embedding(max_user, k, 0)\n",
    "        self.item_emb = nn.Embedding(max_item, k, 0)\n",
    "        \n",
    "    def forward(self, x):\n",
    "        user_idx = x[:, 0]\n",
    "        item_idx = x[:, 1]\n",
    "        user_feature = self.user_emb(user_idx)\n",
    "        item_feature = self.item_emb(item_idx)\n",
    "        \n",
    "        # user_feature*item_feature는 (batch_size,k) 차원이므로\n",
    "        # k의 sum을 구하면 각 샘플의 내적이 된다\n",
    "        out = torch.sum(user_feature * item_feature, 1)\n",
    "        \n",
    "        # [0, 5] 범위 내로 조정\n",
    "        out = nn.functional.sigmoid(out) * 5\n",
    "        return out"
   ]
  },
  {
   "cell_type": "code",
   "execution_count": 26,
   "metadata": {},
   "outputs": [],
   "source": [
    "max_user, max_item = X.max(0)\n",
    "# np.int64형을 파이썬의 표준 int로 캐스트\n",
    "max_user = int(max_user)\n",
    "max_item = int(max_item)\n",
    "net = MatrixFactorization(max_user+1, max_item+1)"
   ]
  },
  {
   "cell_type": "code",
   "execution_count": null,
   "metadata": {},
   "outputs": [],
   "source": [
    "def first(xs):\n",
    "    it = iter(xs)\n",
    "    return next(it)\n",
    "\n",
    "class MovieLensDataset(Dataset):\n",
    "    def __init__(self, x, y, genres):\n",
    "        assert len(x) == len(y)\n",
    "        self.x = x\n",
    "        self.y = y\n",
    "        self.genres = genres\n",
    "        \n",
    "        # 장르 사전에 없는 movieId를 위한 더미 데이터\n",
    "        self.null_genre = torch.zeros_like(\n",
    "            first(genres.values()))\n",
    "        \n",
    "    def __len__(self):\n",
    "        return len(self.x)\n",
    "        \n",
    "    def __getitem__(self, idx):\n",
    "        x = self.x[idx]\n",
    "        y = self.y[idx]\n",
    "        # x = (userId, movieId)\n",
    "        movieId = x[1]\n",
    "        g = self.genres.get(movieId, self.null_genre)\n",
    "        return x, y, g"
   ]
  },
  {
   "cell_type": "code",
   "execution_count": 21,
   "metadata": {},
   "outputs": [],
   "source": [
    "train_dataset = MovieLensDataset(\n",
    "    torch.tensor(train_X, dtype=torch.int64),\n",
    "    torch.tensor(train_Y, dtype=torch.float32), \n",
    "    genre_dict)\n",
    "test_dataset = MovieLensDataset(\n",
    "    torch.tensor(test_X, dtype=torch.int64),\n",
    "    torch.tensor(test_Y, dtype=torch.float32),\n",
    "    genre_dict)\n",
    "train_loader = DataLoader(\n",
    "    train_dataset, batch_size=1024, shuffle=True, \n",
    "num_workers=4)\n",
    "test_loader = DataLoader(\n",
    "    test_dataset, batch_size=1024, num_workers=4)"
   ]
  },
  {
   "cell_type": "code",
   "execution_count": 22,
   "metadata": {},
   "outputs": [],
   "source": [
    "class NeuralMatrixFactorization2(nn.Module):\n",
    "    def __init__(self, max_user, max_item, num_genres,\n",
    "                 user_k=10, item_k=10, hidden_dim=50):\n",
    "        super().__init__()\n",
    "        self.user_emb = nn.Embedding(max_user, user_k, 0)\n",
    "        self.item_emb = nn.Embedding(max_item, item_k, 0)\n",
    "        self.mlp = nn.Sequential(\n",
    "            # num_genres분만큼 차원이 늘어난다\n",
    "            nn.Linear(user_k + item_k + num_genres, \n",
    "hidden_dim),\n",
    "            nn.ReLU(),\n",
    "            nn.BatchNorm1d(hidden_dim),\n",
    "            nn.Linear(hidden_dim, hidden_dim),\n",
    "            nn.ReLU(),\n",
    "            nn.BatchNorm1d(hidden_dim),\n",
    "            nn.Linear(hidden_dim, 1)\n",
    "        )\n",
    "        \n",
    "    def forward(self, x, g):\n",
    "        user_idx = x[:, 0]\n",
    "        item_idx = x[:, 1]\n",
    "        user_feature = self.user_emb(user_idx)\n",
    "        item_feature = self.item_emb(item_idx)\n",
    "        # 장르 BoW를 cat로 특이 벡터에 결합한다\n",
    "        out = torch.cat([user_feature, item_feature, g], 1)\n",
    "        out = self.mlp(out)\n",
    "        out = nn.functional.sigmoid(out) * 5\n",
    "        return out.squeeze()"
   ]
  },
  {
   "cell_type": "code",
   "execution_count": 23,
   "metadata": {},
   "outputs": [],
   "source": [
    "def eval_net(net, loader, score_fn=nn.functional.\n",
    "l1_loss, device=\"cpu\"):\n",
    "    ys = []\n",
    "    ypreds = []\n",
    "    # loader는 장르 BoW도 반환\n",
    "    for x, y, g in loader:\n",
    "        x = x.to(device)\n",
    "        g = g.to(device)\n",
    "        ys.append(y)\n",
    "        # userId, movieId 외에 장르 BoW\n",
    "        # 도 신경망 함수에 전달\n",
    "        with torch.no_grad():\n",
    "         ypred = net(x, g).to(\"cpu\")\n",
    "        ypreds.append(ypred)\n",
    "    score = score_fn(torch.cat(ys).squeeze(), \n",
    "torch.cat(ypreds))\n",
    "    return score"
   ]
  },
  {
   "cell_type": "code",
   "execution_count": 27,
   "metadata": {},
   "outputs": [
    {
     "name": "stderr",
     "output_type": "stream",
     "text": [
      "  0%|          | 0/17579 [00:00<?, ?it/s]/usr/local/lib/python3.8/dist-packages/torch/nn/functional.py:1944: UserWarning: nn.functional.sigmoid is deprecated. Use torch.sigmoid instead.\n",
      "  warnings.warn(\"nn.functional.sigmoid is deprecated. Use torch.sigmoid instead.\")\n",
      "100%|██████████| 17579/17579 [02:23<00:00, 122.13it/s]\n"
     ]
    },
    {
     "name": "stdout",
     "output_type": "stream",
     "text": [
      "0 0.7549036730169212 0.6439146399497986\n"
     ]
    },
    {
     "name": "stderr",
     "output_type": "stream",
     "text": [
      "100%|██████████| 17579/17579 [02:22<00:00, 123.72it/s]\n"
     ]
    },
    {
     "name": "stdout",
     "output_type": "stream",
     "text": [
      "1 0.6906584421212685 0.6309435367584229\n"
     ]
    },
    {
     "name": "stderr",
     "output_type": "stream",
     "text": [
      "100%|██████████| 17579/17579 [02:23<00:00, 122.55it/s]\n"
     ]
    },
    {
     "name": "stdout",
     "output_type": "stream",
     "text": [
      "2 0.6704502047155964 0.6268938779830933\n"
     ]
    },
    {
     "name": "stderr",
     "output_type": "stream",
     "text": [
      "100%|██████████| 17579/17579 [02:18<00:00, 126.61it/s]\n"
     ]
    },
    {
     "name": "stdout",
     "output_type": "stream",
     "text": [
      "3 0.659086318544726 0.6249074339866638\n"
     ]
    },
    {
     "name": "stderr",
     "output_type": "stream",
     "text": [
      "100%|██████████| 17579/17579 [02:21<00:00, 123.87it/s]\n"
     ]
    },
    {
     "name": "stdout",
     "output_type": "stream",
     "text": [
      "4 0.6447439897324189 0.6247057914733887\n"
     ]
    }
   ],
   "source": [
    "from statistics import mean\n",
    "\n",
    "net = NeuralMatrixFactorization2(\n",
    "    max_user+1, max_item+1, num_genres)\n",
    "opt = optim.Adam(net.parameters(), lr=0.01)\n",
    "loss_f = nn.MSELoss()\n",
    "net.to(\"cuda:0\")\n",
    "for epoch in range(5):\n",
    "    loss_log = []\n",
    "    net.train()\n",
    "    for x, y, g in tqdm.tqdm(train_loader):\n",
    "        x = x.to(\"cuda:0\")\n",
    "        y = y.to(\"cuda:0\")\n",
    "        g = g.to(\"cuda:0\")\n",
    "        o = net(x, g)\n",
    "        loss = loss_f(o, y.view(-1))\n",
    "        net.zero_grad()\n",
    "        loss.backward()\n",
    "        opt.step()\n",
    "        loss_log.append(loss.item())\n",
    "    net.eval()\n",
    "    test_score = eval_net(net, test_loader, \n",
    "device=\"cuda:0\")\n",
    "    print(epoch, mean(loss_log), test_score.item(), \n",
    "flush=True)"
   ]
  },
  {
   "cell_type": "code",
   "execution_count": 28,
   "metadata": {},
   "outputs": [
    {
     "data": {
      "text/plain": [
       "tensor([3.0603, 3.0593, 3.0590, 3.0606, 3.0591, 3.0592, 3.0601, 3.0583, 3.0588,\n",
       "        3.0582, 3.0614, 3.0591, 3.0601, 3.0587, 3.0614, 3.0564, 3.0589, 3.0587,\n",
       "        3.0602, 3.0600, 3.0601, 3.0582, 3.0606, 3.0609], device='cuda:0',\n",
       "       grad_fn=<SqueezeBackward0>)"
      ]
     },
     "execution_count": 28,
     "metadata": {},
     "output_type": "execute_result"
    }
   ],
   "source": [
    "# 지정한 위치만 1이고 나머지가 0인 Tensor 반환\n",
    "def make_genre_vector(i, max_len):\n",
    "    g = torch.zeros(max_len)\n",
    "    g[i] = 1\n",
    "    return g\n",
    "  \n",
    "query_genres = [make_genre_vector(i, num_genres)\n",
    "    for i in range(num_genres)]\n",
    "query_genres = torch.stack(query_genres, 1)\n",
    "\n",
    "# num_genres분만큼 userId=100과 movieId=0의 Tensor를 만들어 결합\n",
    "query = torch.stack([\n",
    "    torch.empty(num_genres, dtype=torch.int64).fill_(100),\n",
    "    torch.empty(num_genres, dtype=torch.int64).fill_(0)\n",
    "], 1)\n",
    "\n",
    "# GPU로 전송\n",
    "query_genres = query_genres.to(\"cuda:0\")\n",
    "query = query.to(\"cuda:0\")\n",
    "\n",
    "# 점수 계산\n",
    "net(query, query_genres)"
   ]
  }
 ],
 "metadata": {
  "interpreter": {
   "hash": "916dbcbb3f70747c44a77c7bcd40155683ae19c65e1c03b4aa3499c5328201f1"
  },
  "kernelspec": {
   "display_name": "Python 3.8.10 64-bit",
   "language": "python",
   "name": "python3"
  },
  "language_info": {
   "codemirror_mode": {
    "name": "ipython",
    "version": 3
   },
   "file_extension": ".py",
   "mimetype": "text/x-python",
   "name": "python",
   "nbconvert_exporter": "python",
   "pygments_lexer": "ipython3",
   "version": "3.8.10"
  },
  "orig_nbformat": 4
 },
 "nbformat": 4,
 "nbformat_minor": 2
}
