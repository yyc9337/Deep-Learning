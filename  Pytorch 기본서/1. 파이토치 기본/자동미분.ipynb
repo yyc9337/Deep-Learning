{
 "cells": [
  {
   "cell_type": "code",
   "execution_count": 2,
   "outputs": [
    {
     "data": {
      "text/plain": "tensor([ True, False,  True])"
     },
     "execution_count": 2,
     "metadata": {},
     "output_type": "execute_result"
    }
   ],
   "source": [
    "import torch\n",
    "\n",
    "x = torch.randn(100, 3)\n",
    "# 미분의 변수로 사용하는 경우는 requires_grad를 True로 설정\n",
    "a = torch.tensor([1, 2, 3.], requires_grad=True)\n",
    "\n",
    "# 계산을 통해 자동으로 계산 그래프가 구축된다\n",
    "y = torch.mv(x, a)\n",
    "o = y.sum()\n",
    "\n",
    "# 미분을 실행\n",
    "o.backward()\n",
    "# 분석 답과 비교\n",
    "a.grad != x.sum(0)"
   ],
   "metadata": {
    "collapsed": false,
    "pycharm": {
     "name": "#%%\n"
    }
   }
  },
  {
   "cell_type": "code",
   "execution_count": null,
   "outputs": [],
   "source": [],
   "metadata": {
    "collapsed": false,
    "pycharm": {
     "name": "#%%\n"
    }
   }
  }
 ],
 "metadata": {
  "kernelspec": {
   "display_name": "Python 3",
   "language": "python",
   "name": "python3"
  },
  "language_info": {
   "codemirror_mode": {
    "name": "ipython",
    "version": 2
   },
   "file_extension": ".py",
   "mimetype": "text/x-python",
   "name": "python",
   "nbconvert_exporter": "python",
   "pygments_lexer": "ipython2",
   "version": "2.7.6"
  }
 },
 "nbformat": 4,
 "nbformat_minor": 0
}