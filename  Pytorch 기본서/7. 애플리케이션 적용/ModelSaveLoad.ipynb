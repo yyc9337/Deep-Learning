{
 "cells": [
  {
   "cell_type": "code",
   "execution_count": 6,
   "metadata": {},
   "outputs": [
    {
     "name": "stdout",
     "output_type": "stream",
     "text": [
      "\u001b[31mERROR: torch-1.0.0-cp36-cp36m-linux_x86_64.whl is not a supported wheel on this platform.\u001b[0m\n",
      "Requirement already satisfied: torchvision in /home/innerwave/.local/lib/python3.8/site-packages (0.12.0)\n",
      "Requirement already satisfied: requests in /usr/lib/python3/dist-packages (from torchvision) (2.22.0)\n",
      "Requirement already satisfied: numpy in /home/innerwave/.local/lib/python3.8/site-packages (from torchvision) (1.19.5)\n",
      "Requirement already satisfied: typing-extensions in /home/innerwave/.local/lib/python3.8/site-packages (from torchvision) (4.2.0)\n",
      "Requirement already satisfied: torch==1.11.0 in /usr/local/lib/python3.8/dist-packages (from torchvision) (1.11.0)\n",
      "Requirement already satisfied: pillow!=8.3.*,>=5.3.0 in /usr/lib/python3/dist-packages (from torchvision) (7.0.0)\n",
      "Requirement already satisfied: tqdm in /home/innerwave/.local/lib/python3.8/site-packages (4.64.0)\n"
     ]
    }
   ],
   "source": [
    "!pip install http://download.pytorch.org/whl/cu90/torch-1.0.0-cp36-cp36m-linux_x86_64.whl\n",
    "!pip install torchvision\n",
    "!pip install tqdm"
   ]
  },
  {
   "cell_type": "code",
   "execution_count": 8,
   "metadata": {},
   "outputs": [
    {
     "name": "stdout",
     "output_type": "stream",
     "text": [
      "Requirement already satisfied: onnx in /home/innerwave/.local/lib/python3.8/site-packages (1.11.0)\n",
      "Requirement already satisfied: numpy>=1.16.6 in /home/innerwave/.local/lib/python3.8/site-packages (from onnx) (1.19.5)\n",
      "Requirement already satisfied: protobuf>=3.12.2 in /home/innerwave/.local/lib/python3.8/site-packages (from onnx) (3.20.1)\n",
      "Requirement already satisfied: typing-extensions>=3.6.2.1 in /home/innerwave/.local/lib/python3.8/site-packages (from onnx) (4.2.0)\n"
     ]
    }
   ],
   "source": [
    "!pip install onnx"
   ]
  },
  {
   "cell_type": "code",
   "execution_count": 1,
   "metadata": {},
   "outputs": [
    {
     "data": {
      "text/plain": [
       "tensor([1, 2, 3], device='cuda:0')"
      ]
     },
     "execution_count": 1,
     "metadata": {},
     "output_type": "execute_result"
    }
   ],
   "source": [
    "import torch\n",
    "torch.tensor([1,2,3]).to(\"cuda:0\")"
   ]
  },
  {
   "cell_type": "code",
   "execution_count": 2,
   "metadata": {},
   "outputs": [],
   "source": [
    "import torch\n",
    "from torch import nn, optim\n",
    "from torch.utils.data import (Dataset,\n",
    "                            DataLoader,\n",
    "                            TensorDataset)\n",
    "import tqdm"
   ]
  },
  {
   "cell_type": "markdown",
   "metadata": {},
   "source": [
    "## Data 업로드"
   ]
  },
  {
   "cell_type": "code",
   "execution_count": null,
   "metadata": {},
   "outputs": [],
   "source": [
    "from torchvision import models\n",
    "\n",
    "def create_network():\n",
    "    \n",
    "    # resnet18 기반의 이종 분류 식별 모델\n",
    "    net = models.resnet18()\n",
    "    fc_input_dim = net.fc.in_features\n",
    "    net.fc = nn.Linear(fc_input_dim, 2)\n",
    "    return net\n",
    "\n",
    "# 모델 생성\n",
    "net = create_network()\n",
    "\n",
    "# 파라미터 읽기 및 모델에 설정\n",
    "prm = torch.load(\"taco_burrito.prm\", map_location=\"cpu\")\n",
    "net.load_state_dict(prm)\n",
    "\n",
    "# 평가 모드로 설정\n",
    "net.eval()"
   ]
  },
  {
   "cell_type": "code",
   "execution_count": null,
   "metadata": {},
   "outputs": [],
   "source": [
    "import torch.onnx\n",
    "dummy_data = torch.empty(1, 3, 224, 224, dtype=torch.float32)\n",
    "torch.onnx.export(net, dummy_data, \"taco_burrito.onnx\")"
   ]
  },
  {
   "cell_type": "code",
   "execution_count": null,
   "metadata": {},
   "outputs": [],
   "source": [
    "import onnx\n",
    "from caffe2.python.onnx import backend as caffe2_backend\n",
    "\n",
    "# ONNX 모델 불러오기\n",
    "onnx_model = onnx.load(\"/content/taco_burrito.onnx\")\n",
    "\n",
    "# ONNX 모델을 Caffe2 모델로 변환\n",
    "backend = caffe2_backend.prepare(onnx_model)"
   ]
  },
  {
   "cell_type": "code",
   "execution_count": null,
   "metadata": {},
   "outputs": [],
   "source": [
    "from PIL import Image\n",
    "from torchvision import transforms\n",
    "\n",
    "# 이미지를 잘라서 Tensor로 변환하는 함수\n",
    "transform = transforms.Compose([\n",
    "    transforms.CenterCrop(224),\n",
    "    transforms.ToTensor()\n",
    "])\n",
    "\n",
    "# 이미지 불러오기\n",
    "img = Image.open(\"/content/360.jpg\")\n",
    "\n",
    "# Tensor로 변환해서 배치 차원을 더함\n",
    "img_tensor = transform(img).unsqueeze(0)\n",
    "\n",
    "# ndarray로 변환\n",
    "img_ndarray = img_tensor.numpy()\n",
    "\n",
    "# 파이토치로 실행\n",
    "net(img_tensor)"
   ]
  },
  {
   "cell_type": "code",
   "execution_count": null,
   "metadata": {},
   "outputs": [],
   "source": [
    "# ONNX/Caffe2로 실행\n",
    "output = backend.run(img_ndarray)\n",
    "output[0]"
   ]
  },
  {
   "cell_type": "code",
   "execution_count": null,
   "metadata": {},
   "outputs": [],
   "source": [
    "from caffe2.python.onnx.backend import Caffe2Backend\n",
    "\n",
    "init_net, predict_net = \\\n",
    "    Caffe2Backend.onnx_graph_to_caffe2_net(onnx_model)"
   ]
  },
  {
   "cell_type": "code",
   "execution_count": null,
   "metadata": {},
   "outputs": [],
   "source": [
    "with open('init_net.pb', \"wb\") as fopen:\n",
    "    fopen.write(init_net.SerializeToString())\n",
    "\n",
    "with open('predict_net.pb', \"wb\") as fopen:\n",
    "    fopen.write(predict_net.SerializeToString())"
   ]
  }
 ],
 "metadata": {
  "interpreter": {
   "hash": "916dbcbb3f70747c44a77c7bcd40155683ae19c65e1c03b4aa3499c5328201f1"
  },
  "kernelspec": {
   "display_name": "Python 3.8.10 64-bit",
   "language": "python",
   "name": "python3"
  },
  "language_info": {
   "codemirror_mode": {
    "name": "ipython",
    "version": 3
   },
   "file_extension": ".py",
   "mimetype": "text/x-python",
   "name": "python",
   "nbconvert_exporter": "python",
   "pygments_lexer": "ipython3",
   "version": "3.8.10"
  },
  "orig_nbformat": 4
 },
 "nbformat": 4,
 "nbformat_minor": 2
}
