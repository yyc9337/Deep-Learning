{
 "cells": [
  {
   "cell_type": "markdown",
   "metadata": {
    "collapsed": true,
    "pycharm": {
     "name": "#%% md\n"
    }
   },
   "source": [
    "## 베이지안 최적화"
   ]
  },
  {
   "cell_type": "code",
   "execution_count": 2,
   "outputs": [
    {
     "name": "stdout",
     "output_type": "stream",
     "text": [
      "Collecting bayesian-optimization\n",
      "  Downloading bayesian-optimization-1.2.0.tar.gz (14 kB)\n",
      "Requirement already satisfied: numpy>=1.9.0 in c:\\users\\inp032\\.conda\\envs\\yyc\\lib\\site-packages (from bayesian-optimization) (1.19.5)\n",
      "Requirement already satisfied: scipy>=0.14.0 in c:\\users\\inp032\\.conda\\envs\\yyc\\lib\\site-packages (from bayesian-optimization) (1.7.1)\n",
      "Requirement already satisfied: scikit-learn>=0.18.0 in c:\\users\\inp032\\.conda\\envs\\yyc\\lib\\site-packages (from bayesian-optimization) (1.0.1)\n",
      "Requirement already satisfied: threadpoolctl>=2.0.0 in c:\\users\\inp032\\.conda\\envs\\yyc\\lib\\site-packages (from scikit-learn>=0.18.0->bayesian-optimization) (3.0.0)\n",
      "Requirement already satisfied: joblib>=0.11 in c:\\users\\inp032\\.conda\\envs\\yyc\\lib\\site-packages (from scikit-learn>=0.18.0->bayesian-optimization) (1.1.0)\n",
      "Building wheels for collected packages: bayesian-optimization\n",
      "  Building wheel for bayesian-optimization (setup.py): started\n",
      "  Building wheel for bayesian-optimization (setup.py): finished with status 'done'\n",
      "  Created wheel for bayesian-optimization: filename=bayesian_optimization-1.2.0-py3-none-any.whl size=11685 sha256=82941367035ed0897cb5006d5a4686b3c1225e7209e7b79f30c47f63bc9385ce\n",
      "  Stored in directory: c:\\users\\inp032\\appdata\\local\\pip\\cache\\wheels\\fd\\9b\\71\\f127d694e02eb40bcf18c7ae9613b88a6be4470f57a8528c5b\n",
      "Successfully built bayesian-optimization\n",
      "Installing collected packages: bayesian-optimization\n",
      "Successfully installed bayesian-optimization-1.2.0\n"
     ]
    }
   ],
   "source": [
    "!pip install bayesian-optimization"
   ],
   "metadata": {
    "collapsed": false,
    "pycharm": {
     "name": "#%%\n"
    }
   }
  },
  {
   "cell_type": "code",
   "execution_count": 3,
   "outputs": [],
   "source": [
    "# 하이퍼 파라미터 범위 (딕셔너리 형태)\n",
    "param_bounds = {'x': (-1, 5),\n",
    "                'y': (0, 4)}"
   ],
   "metadata": {
    "collapsed": false,
    "pycharm": {
     "name": "#%%\n"
    }
   }
  },
  {
   "cell_type": "code",
   "execution_count": 4,
   "outputs": [],
   "source": [
    "def eval_function(x, y):\n",
    "    return -x ** 2 - (y - 2) ** 2 + 10"
   ],
   "metadata": {
    "collapsed": false,
    "pycharm": {
     "name": "#%%\n"
    }
   }
  },
  {
   "cell_type": "code",
   "execution_count": 6,
   "outputs": [],
   "source": [
    "from bayes_opt import BayesianOptimization\n",
    "\n",
    "# 베이지안 최적화 객체 생성\n",
    "optimizer = BayesianOptimization(f=eval_function,\n",
    "                                 pbounds=param_bounds,\n",
    "                                 random_state=0)"
   ],
   "metadata": {
    "collapsed": false,
    "pycharm": {
     "name": "#%%\n"
    }
   }
  },
  {
   "cell_type": "code",
   "execution_count": 7,
   "outputs": [],
   "source": [
    "from bayes_opt import BayesianOptimization\n",
    "\n",
    "# 베이지안 최적화 객체 생성\n",
    "optimizer = BayesianOptimization(f=eval_function,\n",
    "                                 pbounds=param_bounds,\n",
    "                                 random_state=0)"
   ],
   "metadata": {
    "collapsed": false,
    "pycharm": {
     "name": "#%%\n"
    }
   }
  },
  {
   "cell_type": "code",
   "execution_count": 8,
   "outputs": [
    {
     "name": "stdout",
     "output_type": "stream",
     "text": [
      "|   iter    |  target   |     x     |     y     |\n",
      "-------------------------------------------------\n",
      "| \u001B[0m 1       \u001B[0m | \u001B[0m 4.002   \u001B[0m | \u001B[0m 2.293   \u001B[0m | \u001B[0m 2.861   \u001B[0m |\n",
      "| \u001B[0m 2       \u001B[0m | \u001B[0m 3.121   \u001B[0m | \u001B[0m 2.617   \u001B[0m | \u001B[0m 2.18    \u001B[0m |\n",
      "| \u001B[0m 3       \u001B[0m | \u001B[0m 3.832   \u001B[0m | \u001B[0m 2.327   \u001B[0m | \u001B[0m 2.869   \u001B[0m |\n",
      "| \u001B[95m 4       \u001B[0m | \u001B[95m 4.596   \u001B[0m | \u001B[95m 2.171   \u001B[0m | \u001B[95m 2.832   \u001B[0m |\n",
      "| \u001B[0m 5       \u001B[0m | \u001B[0m-6.227   \u001B[0m | \u001B[0m 3.989   \u001B[0m | \u001B[0m 2.559   \u001B[0m |\n",
      "| \u001B[95m 6       \u001B[0m | \u001B[95m 9.467   \u001B[0m | \u001B[95m 0.3522  \u001B[0m | \u001B[95m 1.361   \u001B[0m |\n",
      "| \u001B[0m 7       \u001B[0m | \u001B[0m 7.39    \u001B[0m | \u001B[0m-1.0     \u001B[0m | \u001B[0m 3.269   \u001B[0m |\n",
      "| \u001B[0m 8       \u001B[0m | \u001B[0m 5.0     \u001B[0m | \u001B[0m-1.0     \u001B[0m | \u001B[0m 0.0     \u001B[0m |\n",
      "| \u001B[0m 9       \u001B[0m | \u001B[0m 3.841   \u001B[0m | \u001B[0m 1.469   \u001B[0m | \u001B[0m 0.0     \u001B[0m |\n",
      "| \u001B[0m 10      \u001B[0m | \u001B[0m 8.966   \u001B[0m | \u001B[0m-1.0     \u001B[0m | \u001B[0m 1.817   \u001B[0m |\n",
      "| \u001B[95m 11      \u001B[0m | \u001B[95m 9.737   \u001B[0m | \u001B[95m 0.1806  \u001B[0m | \u001B[95m 2.48    \u001B[0m |\n",
      "| \u001B[0m 12      \u001B[0m | \u001B[0m 5.785   \u001B[0m | \u001B[0m 0.4638  \u001B[0m | \u001B[0m 4.0     \u001B[0m |\n",
      "=================================================\n"
     ]
    }
   ],
   "source": [
    "# 베이지안 최적화 수행\n",
    "optimizer.maximize(init_points=2, n_iter=10)"
   ],
   "metadata": {
    "collapsed": false,
    "pycharm": {
     "name": "#%%\n"
    }
   }
  },
  {
   "cell_type": "code",
   "execution_count": 9,
   "outputs": [
    {
     "data": {
      "text/plain": "{'target': 9.737087430309668,\n 'params': {'x': 0.18063706881216038, 'y': 2.4798779209979167}}"
     },
     "execution_count": 9,
     "metadata": {},
     "output_type": "execute_result"
    }
   ],
   "source": [
    "# 평가점수가 최대일 때 타깃, x, y 값 출력\n",
    "optimizer.max"
   ],
   "metadata": {
    "collapsed": false,
    "pycharm": {
     "name": "#%%\n"
    }
   }
  }
 ],
 "metadata": {
  "kernelspec": {
   "name": "yyc",
   "language": "python",
   "display_name": "yyc"
  },
  "language_info": {
   "codemirror_mode": {
    "name": "ipython",
    "version": 2
   },
   "file_extension": ".py",
   "mimetype": "text/x-python",
   "name": "python",
   "nbconvert_exporter": "python",
   "pygments_lexer": "ipython2",
   "version": "2.7.6"
  }
 },
 "nbformat": 4,
 "nbformat_minor": 0
}