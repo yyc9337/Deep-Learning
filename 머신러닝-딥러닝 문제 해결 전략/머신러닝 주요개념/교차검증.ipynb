{
 "cells": [
  {
   "cell_type": "markdown",
   "source": [
    "## 교차검증"
   ],
   "metadata": {
    "collapsed": false,
    "pycharm": {
     "name": "#%% md\n"
    }
   }
  },
  {
   "cell_type": "code",
   "execution_count": 1,
   "outputs": [],
   "source": [
    "import numpy as np\n",
    "from sklearn.model_selection import KFold"
   ],
   "metadata": {
    "collapsed": false,
    "pycharm": {
     "name": "#%%\n"
    }
   }
  },
  {
   "cell_type": "code",
   "execution_count": 3,
   "outputs": [],
   "source": [
    "data = np.array([0,1,2,3,4,5,6,7,8,9])"
   ],
   "metadata": {
    "collapsed": false,
    "pycharm": {
     "name": "#%%\n"
    }
   }
  },
  {
   "cell_type": "code",
   "execution_count": 4,
   "outputs": [
    {
     "name": "stdout",
     "output_type": "stream",
     "text": [
      "훈련데이터 :[2 3 4 5 6 7 8 9], 검증데이터 : [0 1]\n",
      "훈련데이터 :[0 1 4 5 6 7 8 9], 검증데이터 : [2 3]\n",
      "훈련데이터 :[0 1 2 3 6 7 8 9], 검증데이터 : [4 5]\n",
      "훈련데이터 :[0 1 2 3 4 5 8 9], 검증데이터 : [6 7]\n",
      "훈련데이터 :[0 1 2 3 4 5 6 7], 검증데이터 : [8 9]\n"
     ]
    }
   ],
   "source": [
    "folds = KFold(n_splits=5, shuffle=False)\n",
    "\n",
    "for train_idx, valid_idx in folds.split(data) :\n",
    "    print(f'훈련데이터 :{data[train_idx]}, 검증데이터 : {data[valid_idx]}')"
   ],
   "metadata": {
    "collapsed": false,
    "pycharm": {
     "name": "#%%\n"
    }
   }
  }
 ],
 "metadata": {
  "kernelspec": {
   "display_name": "Python 3",
   "language": "python",
   "name": "python3"
  },
  "language_info": {
   "codemirror_mode": {
    "name": "ipython",
    "version": 2
   },
   "file_extension": ".py",
   "mimetype": "text/x-python",
   "name": "python",
   "nbconvert_exporter": "python",
   "pygments_lexer": "ipython2",
   "version": "2.7.6"
  }
 },
 "nbformat": 4,
 "nbformat_minor": 0
}