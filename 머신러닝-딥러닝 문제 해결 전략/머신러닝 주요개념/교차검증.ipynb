{
 "cells": [
  {
   "cell_type": "markdown",
   "source": [
    "## 교차검증"
   ],
   "metadata": {
    "collapsed": false,
    "pycharm": {
     "name": "#%% md\n"
    }
   }
  },
  {
   "cell_type": "code",
   "execution_count": 11,
   "outputs": [],
   "source": [
    "import numpy as np\n",
    "from sklearn.model_selection import KFold"
   ],
   "metadata": {
    "collapsed": false,
    "pycharm": {
     "name": "#%%\n"
    }
   }
  },
  {
   "cell_type": "code",
   "execution_count": 3,
   "outputs": [],
   "source": [
    "data = np.array([0,1,2,3,4,5,6,7,8,9])"
   ],
   "metadata": {
    "collapsed": false,
    "pycharm": {
     "name": "#%%\n"
    }
   }
  },
  {
   "cell_type": "code",
   "execution_count": 5,
   "outputs": [
    {
     "name": "stdout",
     "output_type": "stream",
     "text": [
      "훈련데이터 :[0 1 2 3 4 5 7 8], 검증데이터 : [6 9]\n",
      "훈련데이터 :[0 3 4 5 6 7 8 9], 검증데이터 : [1 2]\n",
      "훈련데이터 :[1 2 4 5 6 7 8 9], 검증데이터 : [0 3]\n",
      "훈련데이터 :[0 1 2 3 5 6 7 9], 검증데이터 : [4 8]\n",
      "훈련데이터 :[0 1 2 3 4 6 8 9], 검증데이터 : [5 7]\n"
     ]
    }
   ],
   "source": [
    "folds = KFold(n_splits=5, shuffle=True)\n",
    "\n",
    "for train_idx, valid_idx in folds.split(data) :\n",
    "    print(f'훈련데이터 :{data[train_idx]}, 검증데이터 : {data[valid_idx]}')"
   ],
   "metadata": {
    "collapsed": false,
    "pycharm": {
     "name": "#%%\n"
    }
   }
  },
  {
   "cell_type": "markdown",
   "source": [
    "## StratifiedKFold\n",
    "\n",
    "target의 불균형이 심할때 사용"
   ],
   "metadata": {
    "collapsed": false,
    "pycharm": {
     "name": "#%% md\n"
    }
   }
  },
  {
   "cell_type": "code",
   "execution_count": 9,
   "outputs": [],
   "source": [
    "from sklearn.model_selection import StratifiedKFold\n",
    "\n",
    "X = np.array(range(50))\n",
    "y = np.array(['스팸메일']*5 + ['메일']*45)"
   ],
   "metadata": {
    "collapsed": false,
    "pycharm": {
     "name": "#%%\n"
    }
   }
  },
  {
   "cell_type": "code",
   "execution_count": 10,
   "outputs": [
    {
     "name": "stdout",
     "output_type": "stream",
     "text": [
      "Fold 1 검증 데이터 타깃값 :\n",
      "['스팸메일' '메일' '메일' '메일' '메일' '메일' '메일' '메일' '메일' '메일'] \n",
      "\n",
      "Fold 2 검증 데이터 타깃값 :\n",
      "['스팸메일' '메일' '메일' '메일' '메일' '메일' '메일' '메일' '메일' '메일'] \n",
      "\n",
      "Fold 3 검증 데이터 타깃값 :\n",
      "['스팸메일' '메일' '메일' '메일' '메일' '메일' '메일' '메일' '메일' '메일'] \n",
      "\n",
      "Fold 4 검증 데이터 타깃값 :\n",
      "['스팸메일' '메일' '메일' '메일' '메일' '메일' '메일' '메일' '메일' '메일'] \n",
      "\n",
      "Fold 5 검증 데이터 타깃값 :\n",
      "['스팸메일' '메일' '메일' '메일' '메일' '메일' '메일' '메일' '메일' '메일'] \n",
      "\n"
     ]
    }
   ],
   "source": [
    "folds = StratifiedKFold(n_splits=5, shuffle=True)\n",
    "\n",
    "for idx, (train_idx, valid_idx) in enumerate(folds.split(X,y)) :\n",
    "    print(f'Fold {idx+1} 검증 데이터 타깃값 :')\n",
    "    print(y[valid_idx], '\\n')"
   ],
   "metadata": {
    "collapsed": false,
    "pycharm": {
     "name": "#%%\n"
    }
   }
  },
  {
   "cell_type": "code",
   "execution_count": null,
   "outputs": [],
   "source": [],
   "metadata": {
    "collapsed": false,
    "pycharm": {
     "name": "#%%\n"
    }
   }
  }
 ],
 "metadata": {
  "kernelspec": {
   "display_name": "Python 3",
   "language": "python",
   "name": "python3"
  },
  "language_info": {
   "codemirror_mode": {
    "name": "ipython",
    "version": 2
   },
   "file_extension": ".py",
   "mimetype": "text/x-python",
   "name": "python",
   "nbconvert_exporter": "python",
   "pygments_lexer": "ipython2",
   "version": "2.7.6"
  }
 },
 "nbformat": 4,
 "nbformat_minor": 0
}