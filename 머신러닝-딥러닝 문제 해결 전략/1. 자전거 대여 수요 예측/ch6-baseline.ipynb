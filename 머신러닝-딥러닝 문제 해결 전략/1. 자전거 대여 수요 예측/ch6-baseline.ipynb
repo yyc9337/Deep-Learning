{
 "cells": [
  {
   "cell_type": "markdown",
   "id": "0e02f352",
   "metadata": {
    "papermill": {
     "duration": 0.013889,
     "end_time": "2022-03-04T07:14:05.722828",
     "exception": false,
     "start_time": "2022-03-04T07:14:05.708939",
     "status": "completed"
    },
    "tags": []
   },
   "source": [
    "# 6.4 자전거 대여 수요 예측 경진대회 베이스라인 모델"
   ]
  },
  {
   "cell_type": "markdown",
   "id": "b73c37a3",
   "metadata": {
    "papermill": {
     "duration": 0.01262,
     "end_time": "2022-03-04T07:14:05.749261",
     "exception": false,
     "start_time": "2022-03-04T07:14:05.736641",
     "status": "completed"
    },
    "tags": []
   },
   "source": [
    "- [자전거 대여 수요 예측 경진대회 링크](https://www.kaggle.com/c/bike-sharing-demand)\n",
    "\n",
    "- [베이스라인 모델 코드 참고 링크](https://www.kaggle.com/viveksrinivasan/eda-ensemble-model-top-10-percentile)"
   ]
  },
  {
   "cell_type": "code",
   "execution_count": 1,
   "id": "40a9192a",
   "metadata": {
    "_cell_guid": "057b1690-5b93-9f14-eafe-fad12c00da69",
    "execution": {
     "iopub.execute_input": "2022-03-04T07:14:05.779624Z",
     "iopub.status.busy": "2022-03-04T07:14:05.778523Z",
     "iopub.status.idle": "2022-03-04T07:14:05.856125Z",
     "shell.execute_reply": "2022-03-04T07:14:05.856947Z",
     "shell.execute_reply.started": "2022-03-04T07:13:47.451779Z"
    },
    "papermill": {
     "duration": 0.095203,
     "end_time": "2022-03-04T07:14:05.857360",
     "exception": false,
     "start_time": "2022-03-04T07:14:05.762157",
     "status": "completed"
    },
    "tags": []
   },
   "outputs": [],
   "source": [
    "import pandas as pd\n",
    "# 데이터 경로\n",
    "data_path = '../dataset/'\n",
    "\n",
    "train = pd.read_csv(data_path + 'Bike_sharing_train.csv')"
   ]
  },
  {
   "cell_type": "markdown",
   "id": "457a2e60",
   "metadata": {
    "papermill": {
     "duration": 0.017926,
     "end_time": "2022-03-04T07:14:05.890281",
     "exception": false,
     "start_time": "2022-03-04T07:14:05.872355",
     "status": "completed"
    },
    "tags": []
   },
   "source": [
    "## 6.4.1 피처 엔지니어링"
   ]
  },
  {
   "cell_type": "markdown",
   "id": "79a653d5",
   "metadata": {
    "papermill": {
     "duration": 0.012779,
     "end_time": "2022-03-04T07:14:05.921617",
     "exception": false,
     "start_time": "2022-03-04T07:14:05.908838",
     "status": "completed"
    },
    "tags": []
   },
   "source": [
    "### 이상치 제거"
   ]
  },
  {
   "cell_type": "code",
   "execution_count": 2,
   "id": "abe8b235",
   "metadata": {
    "execution": {
     "iopub.execute_input": "2022-03-04T07:14:05.960592Z",
     "iopub.status.busy": "2022-03-04T07:14:05.959962Z",
     "iopub.status.idle": "2022-03-04T07:14:05.971126Z",
     "shell.execute_reply": "2022-03-04T07:14:05.971631Z",
     "shell.execute_reply.started": "2022-03-04T07:13:47.554689Z"
    },
    "papermill": {
     "duration": 0.029281,
     "end_time": "2022-03-04T07:14:05.971810",
     "exception": false,
     "start_time": "2022-03-04T07:14:05.942529",
     "status": "completed"
    },
    "tags": []
   },
   "outputs": [],
   "source": [
    "# 훈련 데이터에서 weather가 4가 아닌 데이터만 추출\n",
    "train = train[train['weather'] != 4]"
   ]
  },
  {
   "cell_type": "markdown",
   "id": "b8d95eb2",
   "metadata": {
    "papermill": {
     "duration": 0.012348,
     "end_time": "2022-03-04T07:14:05.997219",
     "exception": false,
     "start_time": "2022-03-04T07:14:05.984871",
     "status": "completed"
    },
    "tags": []
   },
   "source": [
    "### 데이터 합치기"
   ]
  },
  {
   "cell_type": "code",
   "execution_count": 3,
   "id": "0da58b0c",
   "metadata": {
    "execution": {
     "iopub.execute_input": "2022-03-04T07:14:06.026657Z",
     "iopub.status.busy": "2022-03-04T07:14:06.026050Z",
     "iopub.status.idle": "2022-03-04T07:14:06.057760Z",
     "shell.execute_reply": "2022-03-04T07:14:06.058209Z",
     "shell.execute_reply.started": "2022-03-04T07:13:47.569945Z"
    },
    "papermill": {
     "duration": 0.047227,
     "end_time": "2022-03-04T07:14:06.058388",
     "exception": false,
     "start_time": "2022-03-04T07:14:06.011161",
     "status": "completed"
    },
    "tags": []
   },
   "outputs": [
    {
     "data": {
      "text/plain": "                  datetime  season  holiday  workingday  weather   temp  \\\n0      2011-01-01 00:00:00       1        0           0        1   9.84   \n1      2011-01-01 01:00:00       1        0           0        1   9.02   \n2      2011-01-01 02:00:00       1        0           0        1   9.02   \n3      2011-01-01 03:00:00       1        0           0        1   9.84   \n4      2011-01-01 04:00:00       1        0           0        1   9.84   \n...                    ...     ...      ...         ...      ...    ...   \n10881  2012-12-19 19:00:00       4        0           1        1  15.58   \n10882  2012-12-19 20:00:00       4        0           1        1  14.76   \n10883  2012-12-19 21:00:00       4        0           1        1  13.94   \n10884  2012-12-19 22:00:00       4        0           1        1  13.94   \n10885  2012-12-19 23:00:00       4        0           1        1  13.12   \n\n        atemp  humidity  windspeed  casual  registered  count  \n0      14.395        81     0.0000       3          13     16  \n1      13.635        80     0.0000       8          32     40  \n2      13.635        80     0.0000       5          27     32  \n3      14.395        75     0.0000       3          10     13  \n4      14.395        75     0.0000       0           1      1  \n...       ...       ...        ...     ...         ...    ...  \n10881  19.695        50    26.0027       7         329    336  \n10882  17.425        57    15.0013      10         231    241  \n10883  15.910        61    15.0013       4         164    168  \n10884  17.425        61     6.0032      12         117    129  \n10885  16.665        66     8.9981       4          84     88  \n\n[10885 rows x 12 columns]",
      "text/html": "<div>\n<style scoped>\n    .dataframe tbody tr th:only-of-type {\n        vertical-align: middle;\n    }\n\n    .dataframe tbody tr th {\n        vertical-align: top;\n    }\n\n    .dataframe thead th {\n        text-align: right;\n    }\n</style>\n<table border=\"1\" class=\"dataframe\">\n  <thead>\n    <tr style=\"text-align: right;\">\n      <th></th>\n      <th>datetime</th>\n      <th>season</th>\n      <th>holiday</th>\n      <th>workingday</th>\n      <th>weather</th>\n      <th>temp</th>\n      <th>atemp</th>\n      <th>humidity</th>\n      <th>windspeed</th>\n      <th>casual</th>\n      <th>registered</th>\n      <th>count</th>\n    </tr>\n  </thead>\n  <tbody>\n    <tr>\n      <th>0</th>\n      <td>2011-01-01 00:00:00</td>\n      <td>1</td>\n      <td>0</td>\n      <td>0</td>\n      <td>1</td>\n      <td>9.84</td>\n      <td>14.395</td>\n      <td>81</td>\n      <td>0.0000</td>\n      <td>3</td>\n      <td>13</td>\n      <td>16</td>\n    </tr>\n    <tr>\n      <th>1</th>\n      <td>2011-01-01 01:00:00</td>\n      <td>1</td>\n      <td>0</td>\n      <td>0</td>\n      <td>1</td>\n      <td>9.02</td>\n      <td>13.635</td>\n      <td>80</td>\n      <td>0.0000</td>\n      <td>8</td>\n      <td>32</td>\n      <td>40</td>\n    </tr>\n    <tr>\n      <th>2</th>\n      <td>2011-01-01 02:00:00</td>\n      <td>1</td>\n      <td>0</td>\n      <td>0</td>\n      <td>1</td>\n      <td>9.02</td>\n      <td>13.635</td>\n      <td>80</td>\n      <td>0.0000</td>\n      <td>5</td>\n      <td>27</td>\n      <td>32</td>\n    </tr>\n    <tr>\n      <th>3</th>\n      <td>2011-01-01 03:00:00</td>\n      <td>1</td>\n      <td>0</td>\n      <td>0</td>\n      <td>1</td>\n      <td>9.84</td>\n      <td>14.395</td>\n      <td>75</td>\n      <td>0.0000</td>\n      <td>3</td>\n      <td>10</td>\n      <td>13</td>\n    </tr>\n    <tr>\n      <th>4</th>\n      <td>2011-01-01 04:00:00</td>\n      <td>1</td>\n      <td>0</td>\n      <td>0</td>\n      <td>1</td>\n      <td>9.84</td>\n      <td>14.395</td>\n      <td>75</td>\n      <td>0.0000</td>\n      <td>0</td>\n      <td>1</td>\n      <td>1</td>\n    </tr>\n    <tr>\n      <th>...</th>\n      <td>...</td>\n      <td>...</td>\n      <td>...</td>\n      <td>...</td>\n      <td>...</td>\n      <td>...</td>\n      <td>...</td>\n      <td>...</td>\n      <td>...</td>\n      <td>...</td>\n      <td>...</td>\n      <td>...</td>\n    </tr>\n    <tr>\n      <th>10881</th>\n      <td>2012-12-19 19:00:00</td>\n      <td>4</td>\n      <td>0</td>\n      <td>1</td>\n      <td>1</td>\n      <td>15.58</td>\n      <td>19.695</td>\n      <td>50</td>\n      <td>26.0027</td>\n      <td>7</td>\n      <td>329</td>\n      <td>336</td>\n    </tr>\n    <tr>\n      <th>10882</th>\n      <td>2012-12-19 20:00:00</td>\n      <td>4</td>\n      <td>0</td>\n      <td>1</td>\n      <td>1</td>\n      <td>14.76</td>\n      <td>17.425</td>\n      <td>57</td>\n      <td>15.0013</td>\n      <td>10</td>\n      <td>231</td>\n      <td>241</td>\n    </tr>\n    <tr>\n      <th>10883</th>\n      <td>2012-12-19 21:00:00</td>\n      <td>4</td>\n      <td>0</td>\n      <td>1</td>\n      <td>1</td>\n      <td>13.94</td>\n      <td>15.910</td>\n      <td>61</td>\n      <td>15.0013</td>\n      <td>4</td>\n      <td>164</td>\n      <td>168</td>\n    </tr>\n    <tr>\n      <th>10884</th>\n      <td>2012-12-19 22:00:00</td>\n      <td>4</td>\n      <td>0</td>\n      <td>1</td>\n      <td>1</td>\n      <td>13.94</td>\n      <td>17.425</td>\n      <td>61</td>\n      <td>6.0032</td>\n      <td>12</td>\n      <td>117</td>\n      <td>129</td>\n    </tr>\n    <tr>\n      <th>10885</th>\n      <td>2012-12-19 23:00:00</td>\n      <td>4</td>\n      <td>0</td>\n      <td>1</td>\n      <td>1</td>\n      <td>13.12</td>\n      <td>16.665</td>\n      <td>66</td>\n      <td>8.9981</td>\n      <td>4</td>\n      <td>84</td>\n      <td>88</td>\n    </tr>\n  </tbody>\n</table>\n<p>10885 rows × 12 columns</p>\n</div>"
     },
     "execution_count": 3,
     "metadata": {},
     "output_type": "execute_result"
    }
   ],
   "source": [
    "all_data_temp = train.copy()\n",
    "all_data_temp"
   ]
  },
  {
   "cell_type": "code",
   "execution_count": 4,
   "id": "db1bf5a9",
   "metadata": {
    "execution": {
     "iopub.execute_input": "2022-03-04T07:14:06.089082Z",
     "iopub.status.busy": "2022-03-04T07:14:06.088449Z",
     "iopub.status.idle": "2022-03-04T07:14:06.109942Z",
     "shell.execute_reply": "2022-03-04T07:14:06.110468Z",
     "shell.execute_reply.started": "2022-03-04T07:13:47.614214Z"
    },
    "papermill": {
     "duration": 0.037888,
     "end_time": "2022-03-04T07:14:06.110635",
     "exception": false,
     "start_time": "2022-03-04T07:14:06.072747",
     "status": "completed"
    },
    "tags": []
   },
   "outputs": [
    {
     "data": {
      "text/plain": "                  datetime  season  holiday  workingday  weather   temp  \\\n0      2011-01-01 00:00:00       1        0           0        1   9.84   \n1      2011-01-01 01:00:00       1        0           0        1   9.02   \n2      2011-01-01 02:00:00       1        0           0        1   9.02   \n3      2011-01-01 03:00:00       1        0           0        1   9.84   \n4      2011-01-01 04:00:00       1        0           0        1   9.84   \n...                    ...     ...      ...         ...      ...    ...   \n10881  2012-12-19 19:00:00       4        0           1        1  15.58   \n10882  2012-12-19 20:00:00       4        0           1        1  14.76   \n10883  2012-12-19 21:00:00       4        0           1        1  13.94   \n10884  2012-12-19 22:00:00       4        0           1        1  13.94   \n10885  2012-12-19 23:00:00       4        0           1        1  13.12   \n\n        atemp  humidity  windspeed  casual  registered  count  \n0      14.395        81     0.0000       3          13     16  \n1      13.635        80     0.0000       8          32     40  \n2      13.635        80     0.0000       5          27     32  \n3      14.395        75     0.0000       3          10     13  \n4      14.395        75     0.0000       0           1      1  \n...       ...       ...        ...     ...         ...    ...  \n10881  19.695        50    26.0027       7         329    336  \n10882  17.425        57    15.0013      10         231    241  \n10883  15.910        61    15.0013       4         164    168  \n10884  17.425        61     6.0032      12         117    129  \n10885  16.665        66     8.9981       4          84     88  \n\n[10885 rows x 12 columns]",
      "text/html": "<div>\n<style scoped>\n    .dataframe tbody tr th:only-of-type {\n        vertical-align: middle;\n    }\n\n    .dataframe tbody tr th {\n        vertical-align: top;\n    }\n\n    .dataframe thead th {\n        text-align: right;\n    }\n</style>\n<table border=\"1\" class=\"dataframe\">\n  <thead>\n    <tr style=\"text-align: right;\">\n      <th></th>\n      <th>datetime</th>\n      <th>season</th>\n      <th>holiday</th>\n      <th>workingday</th>\n      <th>weather</th>\n      <th>temp</th>\n      <th>atemp</th>\n      <th>humidity</th>\n      <th>windspeed</th>\n      <th>casual</th>\n      <th>registered</th>\n      <th>count</th>\n    </tr>\n  </thead>\n  <tbody>\n    <tr>\n      <th>0</th>\n      <td>2011-01-01 00:00:00</td>\n      <td>1</td>\n      <td>0</td>\n      <td>0</td>\n      <td>1</td>\n      <td>9.84</td>\n      <td>14.395</td>\n      <td>81</td>\n      <td>0.0000</td>\n      <td>3</td>\n      <td>13</td>\n      <td>16</td>\n    </tr>\n    <tr>\n      <th>1</th>\n      <td>2011-01-01 01:00:00</td>\n      <td>1</td>\n      <td>0</td>\n      <td>0</td>\n      <td>1</td>\n      <td>9.02</td>\n      <td>13.635</td>\n      <td>80</td>\n      <td>0.0000</td>\n      <td>8</td>\n      <td>32</td>\n      <td>40</td>\n    </tr>\n    <tr>\n      <th>2</th>\n      <td>2011-01-01 02:00:00</td>\n      <td>1</td>\n      <td>0</td>\n      <td>0</td>\n      <td>1</td>\n      <td>9.02</td>\n      <td>13.635</td>\n      <td>80</td>\n      <td>0.0000</td>\n      <td>5</td>\n      <td>27</td>\n      <td>32</td>\n    </tr>\n    <tr>\n      <th>3</th>\n      <td>2011-01-01 03:00:00</td>\n      <td>1</td>\n      <td>0</td>\n      <td>0</td>\n      <td>1</td>\n      <td>9.84</td>\n      <td>14.395</td>\n      <td>75</td>\n      <td>0.0000</td>\n      <td>3</td>\n      <td>10</td>\n      <td>13</td>\n    </tr>\n    <tr>\n      <th>4</th>\n      <td>2011-01-01 04:00:00</td>\n      <td>1</td>\n      <td>0</td>\n      <td>0</td>\n      <td>1</td>\n      <td>9.84</td>\n      <td>14.395</td>\n      <td>75</td>\n      <td>0.0000</td>\n      <td>0</td>\n      <td>1</td>\n      <td>1</td>\n    </tr>\n    <tr>\n      <th>...</th>\n      <td>...</td>\n      <td>...</td>\n      <td>...</td>\n      <td>...</td>\n      <td>...</td>\n      <td>...</td>\n      <td>...</td>\n      <td>...</td>\n      <td>...</td>\n      <td>...</td>\n      <td>...</td>\n      <td>...</td>\n    </tr>\n    <tr>\n      <th>10881</th>\n      <td>2012-12-19 19:00:00</td>\n      <td>4</td>\n      <td>0</td>\n      <td>1</td>\n      <td>1</td>\n      <td>15.58</td>\n      <td>19.695</td>\n      <td>50</td>\n      <td>26.0027</td>\n      <td>7</td>\n      <td>329</td>\n      <td>336</td>\n    </tr>\n    <tr>\n      <th>10882</th>\n      <td>2012-12-19 20:00:00</td>\n      <td>4</td>\n      <td>0</td>\n      <td>1</td>\n      <td>1</td>\n      <td>14.76</td>\n      <td>17.425</td>\n      <td>57</td>\n      <td>15.0013</td>\n      <td>10</td>\n      <td>231</td>\n      <td>241</td>\n    </tr>\n    <tr>\n      <th>10883</th>\n      <td>2012-12-19 21:00:00</td>\n      <td>4</td>\n      <td>0</td>\n      <td>1</td>\n      <td>1</td>\n      <td>13.94</td>\n      <td>15.910</td>\n      <td>61</td>\n      <td>15.0013</td>\n      <td>4</td>\n      <td>164</td>\n      <td>168</td>\n    </tr>\n    <tr>\n      <th>10884</th>\n      <td>2012-12-19 22:00:00</td>\n      <td>4</td>\n      <td>0</td>\n      <td>1</td>\n      <td>1</td>\n      <td>13.94</td>\n      <td>17.425</td>\n      <td>61</td>\n      <td>6.0032</td>\n      <td>12</td>\n      <td>117</td>\n      <td>129</td>\n    </tr>\n    <tr>\n      <th>10885</th>\n      <td>2012-12-19 23:00:00</td>\n      <td>4</td>\n      <td>0</td>\n      <td>1</td>\n      <td>1</td>\n      <td>13.12</td>\n      <td>16.665</td>\n      <td>66</td>\n      <td>8.9981</td>\n      <td>4</td>\n      <td>84</td>\n      <td>88</td>\n    </tr>\n  </tbody>\n</table>\n<p>10885 rows × 12 columns</p>\n</div>"
     },
     "execution_count": 4,
     "metadata": {},
     "output_type": "execute_result"
    }
   ],
   "source": [
    "all_data = all_data_temp.copy()\n",
    "all_data"
   ]
  },
  {
   "cell_type": "markdown",
   "id": "0ca4baf1",
   "metadata": {
    "papermill": {
     "duration": 0.013764,
     "end_time": "2022-03-04T07:14:06.138272",
     "exception": false,
     "start_time": "2022-03-04T07:14:06.124508",
     "status": "completed"
    },
    "tags": []
   },
   "source": [
    "### 파생 변수(피처) 추가"
   ]
  },
  {
   "cell_type": "code",
   "execution_count": 5,
   "id": "52035406",
   "metadata": {
    "_cell_guid": "18f7c3fc-ffdf-4bc6-1d4c-c455fb4e0141",
    "execution": {
     "iopub.execute_input": "2022-03-04T07:14:06.169054Z",
     "iopub.status.busy": "2022-03-04T07:14:06.168460Z",
     "iopub.status.idle": "2022-03-04T07:14:06.382463Z",
     "shell.execute_reply": "2022-03-04T07:14:06.381932Z",
     "shell.execute_reply.started": "2022-03-04T07:13:47.649062Z"
    },
    "papermill": {
     "duration": 0.230439,
     "end_time": "2022-03-04T07:14:06.382626",
     "exception": false,
     "start_time": "2022-03-04T07:14:06.152187",
     "status": "completed"
    },
    "tags": []
   },
   "outputs": [],
   "source": [
    "from datetime import datetime\n",
    "\n",
    "# 날짜 피처 생성\n",
    "all_data['date'] = all_data['datetime'].apply(lambda x: x.split()[0])\n",
    "# 연도 피처 생성\n",
    "all_data['year'] = all_data['datetime'].apply(lambda x: x.split()[0].split('-')[0])\n",
    "# 월 피처 생성\n",
    "all_data['month'] = all_data['datetime'].apply(lambda x: x.split()[0].split('-')[1])\n",
    "# 시 피처 생성\n",
    "all_data['hour'] = all_data['datetime'].apply(lambda x: x.split()[1].split(':')[0])\n",
    "# 요일 피처 생성\n",
    "all_data[\"weekday\"] = all_data['date'].apply(lambda dateString : datetime.strptime(dateString,\"%Y-%m-%d\").weekday())"
   ]
  },
  {
   "cell_type": "code",
   "execution_count": 6,
   "outputs": [
    {
     "data": {
      "text/plain": "                  datetime  season  holiday  workingday  weather   temp  \\\n0      2011-01-01 00:00:00       1        0           0        1   9.84   \n1      2011-01-01 01:00:00       1        0           0        1   9.02   \n2      2011-01-01 02:00:00       1        0           0        1   9.02   \n3      2011-01-01 03:00:00       1        0           0        1   9.84   \n4      2011-01-01 04:00:00       1        0           0        1   9.84   \n...                    ...     ...      ...         ...      ...    ...   \n10881  2012-12-19 19:00:00       4        0           1        1  15.58   \n10882  2012-12-19 20:00:00       4        0           1        1  14.76   \n10883  2012-12-19 21:00:00       4        0           1        1  13.94   \n10884  2012-12-19 22:00:00       4        0           1        1  13.94   \n10885  2012-12-19 23:00:00       4        0           1        1  13.12   \n\n        atemp  humidity  windspeed  casual  registered  count        date  \\\n0      14.395        81     0.0000       3          13     16  2011-01-01   \n1      13.635        80     0.0000       8          32     40  2011-01-01   \n2      13.635        80     0.0000       5          27     32  2011-01-01   \n3      14.395        75     0.0000       3          10     13  2011-01-01   \n4      14.395        75     0.0000       0           1      1  2011-01-01   \n...       ...       ...        ...     ...         ...    ...         ...   \n10881  19.695        50    26.0027       7         329    336  2012-12-19   \n10882  17.425        57    15.0013      10         231    241  2012-12-19   \n10883  15.910        61    15.0013       4         164    168  2012-12-19   \n10884  17.425        61     6.0032      12         117    129  2012-12-19   \n10885  16.665        66     8.9981       4          84     88  2012-12-19   \n\n       year month hour  weekday  \n0      2011    01   00        5  \n1      2011    01   01        5  \n2      2011    01   02        5  \n3      2011    01   03        5  \n4      2011    01   04        5  \n...     ...   ...  ...      ...  \n10881  2012    12   19        2  \n10882  2012    12   20        2  \n10883  2012    12   21        2  \n10884  2012    12   22        2  \n10885  2012    12   23        2  \n\n[10885 rows x 17 columns]",
      "text/html": "<div>\n<style scoped>\n    .dataframe tbody tr th:only-of-type {\n        vertical-align: middle;\n    }\n\n    .dataframe tbody tr th {\n        vertical-align: top;\n    }\n\n    .dataframe thead th {\n        text-align: right;\n    }\n</style>\n<table border=\"1\" class=\"dataframe\">\n  <thead>\n    <tr style=\"text-align: right;\">\n      <th></th>\n      <th>datetime</th>\n      <th>season</th>\n      <th>holiday</th>\n      <th>workingday</th>\n      <th>weather</th>\n      <th>temp</th>\n      <th>atemp</th>\n      <th>humidity</th>\n      <th>windspeed</th>\n      <th>casual</th>\n      <th>registered</th>\n      <th>count</th>\n      <th>date</th>\n      <th>year</th>\n      <th>month</th>\n      <th>hour</th>\n      <th>weekday</th>\n    </tr>\n  </thead>\n  <tbody>\n    <tr>\n      <th>0</th>\n      <td>2011-01-01 00:00:00</td>\n      <td>1</td>\n      <td>0</td>\n      <td>0</td>\n      <td>1</td>\n      <td>9.84</td>\n      <td>14.395</td>\n      <td>81</td>\n      <td>0.0000</td>\n      <td>3</td>\n      <td>13</td>\n      <td>16</td>\n      <td>2011-01-01</td>\n      <td>2011</td>\n      <td>01</td>\n      <td>00</td>\n      <td>5</td>\n    </tr>\n    <tr>\n      <th>1</th>\n      <td>2011-01-01 01:00:00</td>\n      <td>1</td>\n      <td>0</td>\n      <td>0</td>\n      <td>1</td>\n      <td>9.02</td>\n      <td>13.635</td>\n      <td>80</td>\n      <td>0.0000</td>\n      <td>8</td>\n      <td>32</td>\n      <td>40</td>\n      <td>2011-01-01</td>\n      <td>2011</td>\n      <td>01</td>\n      <td>01</td>\n      <td>5</td>\n    </tr>\n    <tr>\n      <th>2</th>\n      <td>2011-01-01 02:00:00</td>\n      <td>1</td>\n      <td>0</td>\n      <td>0</td>\n      <td>1</td>\n      <td>9.02</td>\n      <td>13.635</td>\n      <td>80</td>\n      <td>0.0000</td>\n      <td>5</td>\n      <td>27</td>\n      <td>32</td>\n      <td>2011-01-01</td>\n      <td>2011</td>\n      <td>01</td>\n      <td>02</td>\n      <td>5</td>\n    </tr>\n    <tr>\n      <th>3</th>\n      <td>2011-01-01 03:00:00</td>\n      <td>1</td>\n      <td>0</td>\n      <td>0</td>\n      <td>1</td>\n      <td>9.84</td>\n      <td>14.395</td>\n      <td>75</td>\n      <td>0.0000</td>\n      <td>3</td>\n      <td>10</td>\n      <td>13</td>\n      <td>2011-01-01</td>\n      <td>2011</td>\n      <td>01</td>\n      <td>03</td>\n      <td>5</td>\n    </tr>\n    <tr>\n      <th>4</th>\n      <td>2011-01-01 04:00:00</td>\n      <td>1</td>\n      <td>0</td>\n      <td>0</td>\n      <td>1</td>\n      <td>9.84</td>\n      <td>14.395</td>\n      <td>75</td>\n      <td>0.0000</td>\n      <td>0</td>\n      <td>1</td>\n      <td>1</td>\n      <td>2011-01-01</td>\n      <td>2011</td>\n      <td>01</td>\n      <td>04</td>\n      <td>5</td>\n    </tr>\n    <tr>\n      <th>...</th>\n      <td>...</td>\n      <td>...</td>\n      <td>...</td>\n      <td>...</td>\n      <td>...</td>\n      <td>...</td>\n      <td>...</td>\n      <td>...</td>\n      <td>...</td>\n      <td>...</td>\n      <td>...</td>\n      <td>...</td>\n      <td>...</td>\n      <td>...</td>\n      <td>...</td>\n      <td>...</td>\n      <td>...</td>\n    </tr>\n    <tr>\n      <th>10881</th>\n      <td>2012-12-19 19:00:00</td>\n      <td>4</td>\n      <td>0</td>\n      <td>1</td>\n      <td>1</td>\n      <td>15.58</td>\n      <td>19.695</td>\n      <td>50</td>\n      <td>26.0027</td>\n      <td>7</td>\n      <td>329</td>\n      <td>336</td>\n      <td>2012-12-19</td>\n      <td>2012</td>\n      <td>12</td>\n      <td>19</td>\n      <td>2</td>\n    </tr>\n    <tr>\n      <th>10882</th>\n      <td>2012-12-19 20:00:00</td>\n      <td>4</td>\n      <td>0</td>\n      <td>1</td>\n      <td>1</td>\n      <td>14.76</td>\n      <td>17.425</td>\n      <td>57</td>\n      <td>15.0013</td>\n      <td>10</td>\n      <td>231</td>\n      <td>241</td>\n      <td>2012-12-19</td>\n      <td>2012</td>\n      <td>12</td>\n      <td>20</td>\n      <td>2</td>\n    </tr>\n    <tr>\n      <th>10883</th>\n      <td>2012-12-19 21:00:00</td>\n      <td>4</td>\n      <td>0</td>\n      <td>1</td>\n      <td>1</td>\n      <td>13.94</td>\n      <td>15.910</td>\n      <td>61</td>\n      <td>15.0013</td>\n      <td>4</td>\n      <td>164</td>\n      <td>168</td>\n      <td>2012-12-19</td>\n      <td>2012</td>\n      <td>12</td>\n      <td>21</td>\n      <td>2</td>\n    </tr>\n    <tr>\n      <th>10884</th>\n      <td>2012-12-19 22:00:00</td>\n      <td>4</td>\n      <td>0</td>\n      <td>1</td>\n      <td>1</td>\n      <td>13.94</td>\n      <td>17.425</td>\n      <td>61</td>\n      <td>6.0032</td>\n      <td>12</td>\n      <td>117</td>\n      <td>129</td>\n      <td>2012-12-19</td>\n      <td>2012</td>\n      <td>12</td>\n      <td>22</td>\n      <td>2</td>\n    </tr>\n    <tr>\n      <th>10885</th>\n      <td>2012-12-19 23:00:00</td>\n      <td>4</td>\n      <td>0</td>\n      <td>1</td>\n      <td>1</td>\n      <td>13.12</td>\n      <td>16.665</td>\n      <td>66</td>\n      <td>8.9981</td>\n      <td>4</td>\n      <td>84</td>\n      <td>88</td>\n      <td>2012-12-19</td>\n      <td>2012</td>\n      <td>12</td>\n      <td>23</td>\n      <td>2</td>\n    </tr>\n  </tbody>\n</table>\n<p>10885 rows × 17 columns</p>\n</div>"
     },
     "execution_count": 6,
     "metadata": {},
     "output_type": "execute_result"
    }
   ],
   "source": [
    "all_data"
   ],
   "metadata": {
    "collapsed": false,
    "pycharm": {
     "name": "#%%\n"
    }
   }
  },
  {
   "cell_type": "markdown",
   "id": "99ae76ac",
   "metadata": {
    "papermill": {
     "duration": 0.013724,
     "end_time": "2022-03-04T07:14:06.410297",
     "exception": false,
     "start_time": "2022-03-04T07:14:06.396573",
     "status": "completed"
    },
    "tags": []
   },
   "source": [
    "### 필요 없는 피처 제거"
   ]
  },
  {
   "cell_type": "code",
   "execution_count": 6,
   "id": "33b6319f",
   "metadata": {
    "execution": {
     "iopub.execute_input": "2022-03-04T07:14:06.444634Z",
     "iopub.status.busy": "2022-03-04T07:14:06.443546Z",
     "iopub.status.idle": "2022-03-04T07:14:06.454163Z",
     "shell.execute_reply": "2022-03-04T07:14:06.453595Z",
     "shell.execute_reply.started": "2022-03-04T07:13:47.959230Z"
    },
    "papermill": {
     "duration": 0.029914,
     "end_time": "2022-03-04T07:14:06.454297",
     "exception": false,
     "start_time": "2022-03-04T07:14:06.424383",
     "status": "completed"
    },
    "tags": []
   },
   "outputs": [],
   "source": [
    "drop_features = ['casual', 'registered', 'datetime', 'date', 'windspeed', 'month']\n",
    "\n",
    "all_data = all_data.drop(drop_features, axis=1)"
   ]
  },
  {
   "cell_type": "markdown",
   "id": "054cb6bd",
   "metadata": {
    "papermill": {
     "duration": 0.013659,
     "end_time": "2022-03-04T07:14:06.481904",
     "exception": false,
     "start_time": "2022-03-04T07:14:06.468245",
     "status": "completed"
    },
    "tags": []
   },
   "source": [
    "### 데이터 나누기"
   ]
  },
  {
   "cell_type": "code",
   "execution_count": 7,
   "id": "c864bbd8",
   "metadata": {
    "execution": {
     "iopub.execute_input": "2022-03-04T07:14:06.513934Z",
     "iopub.status.busy": "2022-03-04T07:14:06.512968Z",
     "iopub.status.idle": "2022-03-04T07:14:06.523171Z",
     "shell.execute_reply": "2022-03-04T07:14:06.523627Z",
     "shell.execute_reply.started": "2022-03-04T07:13:47.976049Z"
    },
    "papermill": {
     "duration": 0.027974,
     "end_time": "2022-03-04T07:14:06.523811",
     "exception": false,
     "start_time": "2022-03-04T07:14:06.495837",
     "status": "completed"
    },
    "tags": []
   },
   "outputs": [],
   "source": [
    "# 훈련 데이터와 테스트 데이터 나누기\n",
    "X_train = all_data[~pd.isnull(all_data['count'])]\n",
    "X_test = all_data[pd.isnull(all_data['count'])]\n",
    "\n",
    "# 타깃값 count 제거\n",
    "X_train = X_train.drop(['count'], axis=1)\n",
    "X_test = X_test.drop(['count'], axis=1)\n",
    "\n",
    "y = train['count'] # 타깃값"
   ]
  },
  {
   "cell_type": "code",
   "execution_count": 8,
   "id": "f8f1afbf",
   "metadata": {
    "execution": {
     "iopub.execute_input": "2022-03-04T07:14:06.555449Z",
     "iopub.status.busy": "2022-03-04T07:14:06.554526Z",
     "iopub.status.idle": "2022-03-04T07:14:06.567114Z",
     "shell.execute_reply": "2022-03-04T07:14:06.567530Z",
     "shell.execute_reply.started": "2022-03-04T07:13:47.994169Z"
    },
    "papermill": {
     "duration": 0.030091,
     "end_time": "2022-03-04T07:14:06.567698",
     "exception": false,
     "start_time": "2022-03-04T07:14:06.537607",
     "status": "completed"
    },
    "tags": []
   },
   "outputs": [
    {
     "data": {
      "text/html": [
       "<div>\n",
       "<style scoped>\n",
       "    .dataframe tbody tr th:only-of-type {\n",
       "        vertical-align: middle;\n",
       "    }\n",
       "\n",
       "    .dataframe tbody tr th {\n",
       "        vertical-align: top;\n",
       "    }\n",
       "\n",
       "    .dataframe thead th {\n",
       "        text-align: right;\n",
       "    }\n",
       "</style>\n",
       "<table border=\"1\" class=\"dataframe\">\n",
       "  <thead>\n",
       "    <tr style=\"text-align: right;\">\n",
       "      <th></th>\n",
       "      <th>season</th>\n",
       "      <th>holiday</th>\n",
       "      <th>workingday</th>\n",
       "      <th>weather</th>\n",
       "      <th>temp</th>\n",
       "      <th>atemp</th>\n",
       "      <th>humidity</th>\n",
       "      <th>year</th>\n",
       "      <th>hour</th>\n",
       "      <th>weekday</th>\n",
       "    </tr>\n",
       "  </thead>\n",
       "  <tbody>\n",
       "    <tr>\n",
       "      <th>0</th>\n",
       "      <td>1</td>\n",
       "      <td>0</td>\n",
       "      <td>0</td>\n",
       "      <td>1</td>\n",
       "      <td>9.84</td>\n",
       "      <td>14.395</td>\n",
       "      <td>81</td>\n",
       "      <td>2011</td>\n",
       "      <td>00</td>\n",
       "      <td>5</td>\n",
       "    </tr>\n",
       "    <tr>\n",
       "      <th>1</th>\n",
       "      <td>1</td>\n",
       "      <td>0</td>\n",
       "      <td>0</td>\n",
       "      <td>1</td>\n",
       "      <td>9.02</td>\n",
       "      <td>13.635</td>\n",
       "      <td>80</td>\n",
       "      <td>2011</td>\n",
       "      <td>01</td>\n",
       "      <td>5</td>\n",
       "    </tr>\n",
       "    <tr>\n",
       "      <th>2</th>\n",
       "      <td>1</td>\n",
       "      <td>0</td>\n",
       "      <td>0</td>\n",
       "      <td>1</td>\n",
       "      <td>9.02</td>\n",
       "      <td>13.635</td>\n",
       "      <td>80</td>\n",
       "      <td>2011</td>\n",
       "      <td>02</td>\n",
       "      <td>5</td>\n",
       "    </tr>\n",
       "    <tr>\n",
       "      <th>3</th>\n",
       "      <td>1</td>\n",
       "      <td>0</td>\n",
       "      <td>0</td>\n",
       "      <td>1</td>\n",
       "      <td>9.84</td>\n",
       "      <td>14.395</td>\n",
       "      <td>75</td>\n",
       "      <td>2011</td>\n",
       "      <td>03</td>\n",
       "      <td>5</td>\n",
       "    </tr>\n",
       "    <tr>\n",
       "      <th>4</th>\n",
       "      <td>1</td>\n",
       "      <td>0</td>\n",
       "      <td>0</td>\n",
       "      <td>1</td>\n",
       "      <td>9.84</td>\n",
       "      <td>14.395</td>\n",
       "      <td>75</td>\n",
       "      <td>2011</td>\n",
       "      <td>04</td>\n",
       "      <td>5</td>\n",
       "    </tr>\n",
       "  </tbody>\n",
       "</table>\n",
       "</div>"
      ],
      "text/plain": [
       "   season  holiday  workingday  weather  temp   atemp  humidity  year hour  \\\n",
       "0       1        0           0        1  9.84  14.395        81  2011   00   \n",
       "1       1        0           0        1  9.02  13.635        80  2011   01   \n",
       "2       1        0           0        1  9.02  13.635        80  2011   02   \n",
       "3       1        0           0        1  9.84  14.395        75  2011   03   \n",
       "4       1        0           0        1  9.84  14.395        75  2011   04   \n",
       "\n",
       "   weekday  \n",
       "0        5  \n",
       "1        5  \n",
       "2        5  \n",
       "3        5  \n",
       "4        5  "
      ]
     },
     "execution_count": 8,
     "metadata": {},
     "output_type": "execute_result"
    }
   ],
   "source": [
    "X_train.head()"
   ]
  },
  {
   "cell_type": "markdown",
   "id": "382398e9",
   "metadata": {
    "papermill": {
     "duration": 0.014163,
     "end_time": "2022-03-04T07:14:06.596183",
     "exception": false,
     "start_time": "2022-03-04T07:14:06.582020",
     "status": "completed"
    },
    "tags": []
   },
   "source": [
    "## 6.4.2 평가지표 계산 함수 작성"
   ]
  },
  {
   "cell_type": "code",
   "execution_count": 9,
   "id": "d366cbd8",
   "metadata": {
    "execution": {
     "iopub.execute_input": "2022-03-04T07:14:06.628127Z",
     "iopub.status.busy": "2022-03-04T07:14:06.627525Z",
     "iopub.status.idle": "2022-03-04T07:14:06.632405Z",
     "shell.execute_reply": "2022-03-04T07:14:06.632887Z",
     "shell.execute_reply.started": "2022-03-04T07:13:48.014807Z"
    },
    "papermill": {
     "duration": 0.022519,
     "end_time": "2022-03-04T07:14:06.633058",
     "exception": false,
     "start_time": "2022-03-04T07:14:06.610539",
     "status": "completed"
    },
    "tags": []
   },
   "outputs": [],
   "source": [
    "import numpy as np\n",
    "\n",
    "def rmsle(y_true, y_pred, convertExp=True):\n",
    "    # 지수변환\n",
    "    if convertExp:\n",
    "        y_true = np.exp(y_true)\n",
    "        y_pred = np.exp(y_pred)\n",
    "        \n",
    "    # 로그변환 후 결측값을 0으로 변환\n",
    "    log_true = np.nan_to_num(np.log(y_true+1))\n",
    "    log_pred = np.nan_to_num(np.log(y_pred+1))\n",
    "    \n",
    "    # RMSLE 계산\n",
    "    output = np.sqrt(np.mean((log_true - log_pred)**2))\n",
    "    return output"
   ]
  },
  {
   "cell_type": "markdown",
   "id": "862392f7",
   "metadata": {
    "papermill": {
     "duration": 0.018329,
     "end_time": "2022-03-04T07:14:06.669185",
     "exception": false,
     "start_time": "2022-03-04T07:14:06.650856",
     "status": "completed"
    },
    "tags": []
   },
   "source": [
    "## 6.4.3 모델 훈련"
   ]
  },
  {
   "cell_type": "code",
   "execution_count": 10,
   "id": "8b4b06df",
   "metadata": {
    "execution": {
     "iopub.execute_input": "2022-03-04T07:14:06.706938Z",
     "iopub.status.busy": "2022-03-04T07:14:06.705985Z",
     "iopub.status.idle": "2022-03-04T07:14:07.726381Z",
     "shell.execute_reply": "2022-03-04T07:14:07.725812Z"
    },
    "papermill": {
     "duration": 1.040798,
     "end_time": "2022-03-04T07:14:07.726546",
     "exception": false,
     "start_time": "2022-03-04T07:14:06.685748",
     "status": "completed"
    },
    "tags": []
   },
   "outputs": [],
   "source": [
    "from sklearn.linear_model import LinearRegression\n",
    "\n",
    "linear_reg_model = LinearRegression()"
   ]
  },
  {
   "cell_type": "code",
   "execution_count": 11,
   "id": "baf0b7ae",
   "metadata": {
    "execution": {
     "iopub.execute_input": "2022-03-04T07:14:07.761520Z",
     "iopub.status.busy": "2022-03-04T07:14:07.760453Z",
     "iopub.status.idle": "2022-03-04T07:14:07.796046Z",
     "shell.execute_reply": "2022-03-04T07:14:07.796535Z"
    },
    "papermill": {
     "duration": 0.055714,
     "end_time": "2022-03-04T07:14:07.796728",
     "exception": false,
     "start_time": "2022-03-04T07:14:07.741014",
     "status": "completed"
    },
    "tags": []
   },
   "outputs": [
    {
     "data": {
      "text/plain": [
       "LinearRegression()"
      ]
     },
     "execution_count": 11,
     "metadata": {},
     "output_type": "execute_result"
    }
   ],
   "source": [
    "log_y = np.log(y)  # 타깃값 로그변환\n",
    "linear_reg_model.fit(X_train, log_y) # 모델 훈련"
   ]
  },
  {
   "cell_type": "markdown",
   "id": "ba0fc430",
   "metadata": {
    "papermill": {
     "duration": 0.014963,
     "end_time": "2022-03-04T07:14:07.826762",
     "exception": false,
     "start_time": "2022-03-04T07:14:07.811799",
     "status": "completed"
    },
    "tags": []
   },
   "source": [
    "## 6.4.4 모델 성능 검증"
   ]
  },
  {
   "cell_type": "code",
   "execution_count": 12,
   "id": "04ee0d90",
   "metadata": {
    "execution": {
     "iopub.execute_input": "2022-03-04T07:14:07.870960Z",
     "iopub.status.busy": "2022-03-04T07:14:07.869920Z",
     "iopub.status.idle": "2022-03-04T07:14:07.897377Z",
     "shell.execute_reply": "2022-03-04T07:14:07.898874Z"
    },
    "papermill": {
     "duration": 0.057322,
     "end_time": "2022-03-04T07:14:07.899151",
     "exception": false,
     "start_time": "2022-03-04T07:14:07.841829",
     "status": "completed"
    },
    "tags": []
   },
   "outputs": [],
   "source": [
    "preds = linear_reg_model.predict(X_train)"
   ]
  },
  {
   "cell_type": "code",
   "execution_count": 13,
   "id": "3ab85dfb",
   "metadata": {
    "execution": {
     "iopub.execute_input": "2022-03-04T07:14:07.983471Z",
     "iopub.status.busy": "2022-03-04T07:14:07.982193Z",
     "iopub.status.idle": "2022-03-04T07:14:07.987233Z",
     "shell.execute_reply": "2022-03-04T07:14:07.984385Z"
    },
    "papermill": {
     "duration": 0.050307,
     "end_time": "2022-03-04T07:14:07.987465",
     "exception": false,
     "start_time": "2022-03-04T07:14:07.937158",
     "status": "completed"
    },
    "tags": []
   },
   "outputs": [
    {
     "name": "stdout",
     "output_type": "stream",
     "text": [
      "선형회귀의 RMSLE 값 : 1.0205\n"
     ]
    }
   ],
   "source": [
    "print (f'선형회귀의 RMSLE 값 : {rmsle(log_y, preds, True):.4f}')"
   ]
  },
  {
   "cell_type": "markdown",
   "id": "3805b6c6",
   "metadata": {
    "papermill": {
     "duration": 0.014863,
     "end_time": "2022-03-04T07:14:08.030553",
     "exception": false,
     "start_time": "2022-03-04T07:14:08.015690",
     "status": "completed"
    },
    "tags": []
   },
   "source": [
    "## 6.4.5 예측 및 결과 제출"
   ]
  },
  {
   "cell_type": "code",
   "execution_count": 14,
   "id": "76ed9519",
   "metadata": {
    "execution": {
     "iopub.execute_input": "2022-03-04T07:14:08.069570Z",
     "iopub.status.busy": "2022-03-04T07:14:08.068555Z",
     "iopub.status.idle": "2022-03-04T07:14:08.116602Z",
     "shell.execute_reply": "2022-03-04T07:14:08.117520Z"
    },
    "papermill": {
     "duration": 0.072017,
     "end_time": "2022-03-04T07:14:08.117793",
     "exception": false,
     "start_time": "2022-03-04T07:14:08.045776",
     "status": "completed"
    },
    "tags": []
   },
   "outputs": [],
   "source": [
    "linearreg_preds = linear_reg_model.predict(X_test) # 테스트 데이터로 예측\n",
    "\n",
    "submission['count'] = np.exp(linearreg_preds)    # 지수변환\n",
    "submission.to_csv('submission.csv', index=False) # 파일로 저장"
   ]
  }
 ],
 "metadata": {
  "kernelspec": {
   "name": "yyc",
   "language": "python",
   "display_name": "yyc"
  },
  "language_info": {
   "codemirror_mode": {
    "name": "ipython",
    "version": 3
   },
   "file_extension": ".py",
   "mimetype": "text/x-python",
   "name": "python",
   "nbconvert_exporter": "python",
   "pygments_lexer": "ipython3",
   "version": "3.7.10"
  },
  "papermill": {
   "default_parameters": {},
   "duration": 10.658732,
   "end_time": "2022-03-04T07:14:08.763290",
   "environment_variables": {},
   "exception": null,
   "input_path": "__notebook__.ipynb",
   "output_path": "__notebook__.ipynb",
   "parameters": {},
   "start_time": "2022-03-04T07:13:58.104558",
   "version": "2.3.3"
  }
 },
 "nbformat": 4,
 "nbformat_minor": 5
}