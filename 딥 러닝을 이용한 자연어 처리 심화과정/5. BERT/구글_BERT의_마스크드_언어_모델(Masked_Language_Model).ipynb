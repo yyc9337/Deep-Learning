{
 "nbformat": 4,
 "nbformat_minor": 0,
 "metadata": {
  "colab": {
   "name": "구글 BERT의 마스크드 언어 모델(Masked Language Model).ipynb",
   "provenance": [],
   "machine_shape": "hm"
  },
  "kernelspec": {
   "name": "python3",
   "display_name": "Python 3"
  },
  "language_info": {
   "name": "python"
  },
  "accelerator": "GPU"
 },
 "cells": [
  {
   "cell_type": "markdown",
   "source": [
    "## 마스크드 언어 모델과 토크나이저\n",
    "transformers 패키지를 사용하여 모델과 토크나이저를 로드합니다. BERT는 이미 누군가가 학습해둔 모델을 사용하는 것이므로 우리가 사용하는 모델과 토크나이저는 항상 맵핑 관계여야 합니다. 예를 들어서 A라는 이름의 BERT를 사용하는데, B라는 이름의 BERT의 토크나이저를 사용하면 모델은 텍스트를 제대로 이해할 수 없습니다. A라는 BERT의 토크나이저는 '사과'라는 단어를 36번으로 정수 인코딩하는 반면에, B라는 BERT의 토크나이저는 '사과'라는 단어를 42번으로 정수 인코딩하는 등 단어와 맵핑되는 정수 정보 자체가 다르기 때문입니다."
   ],
   "metadata": {
    "id": "z1ya948KSOqR"
   }
  },
  {
   "cell_type": "code",
   "source": [
    "from transformers import TFBertForMaskedLM\n",
    "from transformers import AutoTokenizer"
   ],
   "metadata": {
    "id": "oUAag3FgSF9g"
   },
   "execution_count": 3,
   "outputs": []
  },
  {
   "cell_type": "code",
   "source": [
    "model = TFBertForMaskedLM.from_pretrained('bert-large-uncased')\n",
    "tokenizer = AutoTokenizer.from_pretrained(\"bert-large-uncased\")"
   ],
   "metadata": {
    "id": "r-59_aT9SVYd"
   },
   "execution_count": null,
   "outputs": []
  },
  {
   "cell_type": "code",
   "source": [
    "inputs = tokenizer('Soccer is a really fun [MASK].', return_tensors='tf')"
   ],
   "metadata": {
    "id": "Ky59Ri_XSbiZ"
   },
   "execution_count": 5,
   "outputs": []
  },
  {
   "cell_type": "code",
   "source": [
    "print(inputs['input_ids'])"
   ],
   "metadata": {
    "colab": {
     "base_uri": "https://localhost:8080/"
    },
    "id": "Wr_coOlOShK4",
    "outputId": "c226bcc6-2125-4dc0-a6c5-b378c2cbcfc3"
   },
   "execution_count": 6,
   "outputs": [
    {
     "output_type": "stream",
     "name": "stdout",
     "text": [
      "tf.Tensor([[ 101 4715 2003 1037 2428 4569  103 1012  102]], shape=(1, 9), dtype=int32)\n"
     ]
    }
   ]
  },
  {
   "cell_type": "code",
   "source": [
    "# 토크나이저로 변환된 결과에서 token_type_ids를 통해서 문장을 구분하는 세그먼트 인코딩 결과를 확인할 수 있습니다.\n",
    "print(inputs['token_type_ids'])"
   ],
   "metadata": {
    "colab": {
     "base_uri": "https://localhost:8080/"
    },
    "id": "x3EojUbcSnQZ",
    "outputId": "5af4f540-af50-42cc-8e5d-eaa1a92f2c1a"
   },
   "execution_count": 7,
   "outputs": [
    {
     "output_type": "stream",
     "name": "stdout",
     "text": [
      "tf.Tensor([[0 0 0 0 0 0 0 0 0]], shape=(1, 9), dtype=int32)\n"
     ]
    }
   ]
  },
  {
   "cell_type": "code",
   "source": [
    "# 토크나이저로 변환된 결과에서 attention_mask를 통해서 실제 단어와 패딩 토큰을 구분하는 용도인 어텐션 마스크를 확인할 수 있습니\n",
    "print(inputs['attention_mask'])"
   ],
   "metadata": {
    "colab": {
     "base_uri": "https://localhost:8080/"
    },
    "id": "8XqizS1qSx6U",
    "outputId": "816ae078-2c26-44b5-f9c6-049cfe49a175"
   },
   "execution_count": 8,
   "outputs": [
    {
     "output_type": "stream",
     "name": "stdout",
     "text": [
      "tf.Tensor([[1 1 1 1 1 1 1 1 1]], shape=(1, 9), dtype=int32)\n"
     ]
    }
   ]
  },
  {
   "cell_type": "markdown",
   "source": [
    "## [MASK] 토큰 예측하기"
   ],
   "metadata": {
    "id": "OjXhc1T2S5hs"
   }
  },
  {
   "cell_type": "code",
   "source": [
    "#FillMaskPipeline은 모델과 토크나이저를 지정하면 손쉽게 마스크드 언어 모델의 예측 결과를 정리해서 보여줍니다. FillMaskPipeline에 우선 앞서 불러온 모델과 토크나이저를 지정해줍니다.\n",
    "\n",
    "from transformers import FillMaskPipeline\n",
    "pip = FillMaskPipeline(model=model, tokenizer=tokenizer)"
   ],
   "metadata": {
    "id": "XGu4qqRGS7BN"
   },
   "execution_count": 9,
   "outputs": []
  },
  {
   "cell_type": "code",
   "source": [
    "pip('Soccer is a really fun [MASK].')"
   ],
   "metadata": {
    "colab": {
     "base_uri": "https://localhost:8080/"
    },
    "id": "23_v4gtfTFpp",
    "outputId": "cea3fe90-c529-4b00-932b-43528a918a0d"
   },
   "execution_count": 10,
   "outputs": [
    {
     "output_type": "execute_result",
     "data": {
      "text/plain": [
       "[{'score': 0.762112021446228,\n",
       "  'sequence': 'soccer is a really fun sport.',\n",
       "  'token': 4368,\n",
       "  'token_str': 'sport'},\n",
       " {'score': 0.2034197747707367,\n",
       "  'sequence': 'soccer is a really fun game.',\n",
       "  'token': 2208,\n",
       "  'token_str': 'game'},\n",
       " {'score': 0.012208552099764347,\n",
       "  'sequence': 'soccer is a really fun thing.',\n",
       "  'token': 2518,\n",
       "  'token_str': 'thing'},\n",
       " {'score': 0.001863026525825262,\n",
       "  'sequence': 'soccer is a really fun activity.',\n",
       "  'token': 4023,\n",
       "  'token_str': 'activity'},\n",
       " {'score': 0.0013354825787246227,\n",
       "  'sequence': 'soccer is a really fun field.',\n",
       "  'token': 2492,\n",
       "  'token_str': 'field'}]"
      ]
     },
     "metadata": {},
     "execution_count": 10
    }
   ]
  }
 ]
}