{
 "cells": [
  {
   "cell_type": "markdown",
   "metadata": {
    "collapsed": true,
    "pycharm": {
     "name": "#%% md\n"
    }
   },
   "source": [
    "##### Seq2seq\n",
    "    인코더 아키텍처와 디코더 아키텍처의 내부는 사실 두 개의 RNN 아키텍처 입니다. 입력 문장을 받는\n",
    "    RNN 셀을 인코더라고 하고, 출력 문장을 출력하는 RNN 셀을 디코더라고 합니다. 여기서는 인코더의\n",
    "    RNN 셀을 주황색으로, 디코더의 RNN 셀을 초록색으로 표현합니다. 물론, 성능 문제로 인해 실제로는\n",
    "     바닐라 RNN이 아니라 LSTM 셀 또는 GRU 셀들로 구성됩니다. 우선 인코더를 자세히보면, 입력 문장\n",
    "     은 단어 토큰화를 통해서 단어 단위로 쪼개지고 단어 토큰 각각은 RNN 셀의 각 시점의 입력이 됩니\n",
    "     다. 인코더 RNN 셀은 모든 단어를 입력받은 뒤에 인코더 RNN 셀의 마지막 시점의 은닉 상태를 디코\n",
    "     더 RNN 셀로 넘겨주는데 이를 컨텍스트 벡터라고 합니다. 컨텍스트 벡터는 디코더 RNN 셀의 첫번째\n",
    "     은닉 상태에 사용됩니다."
   ]
  },
  {
   "cell_type": "code",
   "execution_count": 1,
   "outputs": [],
   "source": [
    "import os\n",
    "import shutil\n",
    "import zipfile\n",
    "\n",
    "import pandas as pd\n",
    "import tensorflow as tf\n",
    "import urllib3\n",
    "from tensorflow.keras.preprocessing.sequence import pad_sequences\n",
    "from tensorflow.keras.utils import to_categorical"
   ],
   "metadata": {
    "collapsed": false,
    "pycharm": {
     "name": "#%%\n"
    }
   }
  },
  {
   "cell_type": "code",
   "execution_count": 2,
   "outputs": [],
   "source": [
    "http = urllib3.PoolManager()\n",
    "url ='http://www.manythings.org/anki/fra-eng.zip'\n",
    "filename = 'fra-eng.zip'\n",
    "path = os.getcwd()\n",
    "zipfilename = os.path.join(path, filename)\n",
    "with http.request('GET', url, preload_content=False) as r, open(zipfilename, 'wb') as out_file:\n",
    "    shutil.copyfileobj(r, out_file)\n",
    "\n",
    "with zipfile.ZipFile(zipfilename, 'r') as zip_ref:\n",
    "    zip_ref.extractall(path)"
   ],
   "metadata": {
    "collapsed": false,
    "pycharm": {
     "name": "#%%\n"
    }
   }
  },
  {
   "cell_type": "code",
   "execution_count": 3,
   "outputs": [
    {
     "name": "stdout",
     "output_type": "stream",
     "text": [
      "전체 샘플의 개수 : 192341\n"
     ]
    }
   ],
   "source": [
    "lines = pd.read_csv('fra.txt', names=['src', 'tar', 'lic'], sep='\\t')\n",
    "del lines['lic']\n",
    "print('전체 샘플의 개수 :',len(lines))"
   ],
   "metadata": {
    "collapsed": false,
    "pycharm": {
     "name": "#%%\n"
    }
   }
  },
  {
   "cell_type": "code",
   "execution_count": 4,
   "outputs": [
    {
     "data": {
      "text/plain": "                           src                                  tar\n9107            We're trapped.                 Nous sommes piégées.\n25532       The cake is ready.                  Le gâteau est prêt.\n7253            I just did it.                Je viens de le faire.\n33884     Death is inevitable.              La mort est inévitable.\n19286        It freaks me out.            Ça me fout les chocottes.\n55272  I don't like your boss.          Je n'aime pas votre patron.\n36810     My dad will kill me.                   Mon père me tuera.\n21061        We can't go back.  Nous ne pouvons revenir en arrière.\n23159       How's your mother?              Comment va votre mère ?\n50966   Take off your clothes.                 Ôtez vos vêtements !",
      "text/html": "<div>\n<style scoped>\n    .dataframe tbody tr th:only-of-type {\n        vertical-align: middle;\n    }\n\n    .dataframe tbody tr th {\n        vertical-align: top;\n    }\n\n    .dataframe thead th {\n        text-align: right;\n    }\n</style>\n<table border=\"1\" class=\"dataframe\">\n  <thead>\n    <tr style=\"text-align: right;\">\n      <th></th>\n      <th>src</th>\n      <th>tar</th>\n    </tr>\n  </thead>\n  <tbody>\n    <tr>\n      <th>9107</th>\n      <td>We're trapped.</td>\n      <td>Nous sommes piégées.</td>\n    </tr>\n    <tr>\n      <th>25532</th>\n      <td>The cake is ready.</td>\n      <td>Le gâteau est prêt.</td>\n    </tr>\n    <tr>\n      <th>7253</th>\n      <td>I just did it.</td>\n      <td>Je viens de le faire.</td>\n    </tr>\n    <tr>\n      <th>33884</th>\n      <td>Death is inevitable.</td>\n      <td>La mort est inévitable.</td>\n    </tr>\n    <tr>\n      <th>19286</th>\n      <td>It freaks me out.</td>\n      <td>Ça me fout les chocottes.</td>\n    </tr>\n    <tr>\n      <th>55272</th>\n      <td>I don't like your boss.</td>\n      <td>Je n'aime pas votre patron.</td>\n    </tr>\n    <tr>\n      <th>36810</th>\n      <td>My dad will kill me.</td>\n      <td>Mon père me tuera.</td>\n    </tr>\n    <tr>\n      <th>21061</th>\n      <td>We can't go back.</td>\n      <td>Nous ne pouvons revenir en arrière.</td>\n    </tr>\n    <tr>\n      <th>23159</th>\n      <td>How's your mother?</td>\n      <td>Comment va votre mère ?</td>\n    </tr>\n    <tr>\n      <th>50966</th>\n      <td>Take off your clothes.</td>\n      <td>Ôtez vos vêtements !</td>\n    </tr>\n  </tbody>\n</table>\n</div>"
     },
     "execution_count": 4,
     "metadata": {},
     "output_type": "execute_result"
    }
   ],
   "source": [
    "lines = lines.loc[:, 'src':'tar']\n",
    "lines = lines[0:60000] # 6만개만 저장\n",
    "lines.sample(10)"
   ],
   "metadata": {
    "collapsed": false,
    "pycharm": {
     "name": "#%%\n"
    }
   }
  },
  {
   "cell_type": "code",
   "execution_count": null,
   "outputs": [],
   "source": [],
   "metadata": {
    "collapsed": false,
    "pycharm": {
     "name": "#%%\n"
    }
   }
  }
 ],
 "metadata": {
  "kernelspec": {
   "name": "yyc",
   "language": "python",
   "display_name": "yyc"
  },
  "language_info": {
   "codemirror_mode": {
    "name": "ipython",
    "version": 2
   },
   "file_extension": ".py",
   "mimetype": "text/x-python",
   "name": "python",
   "nbconvert_exporter": "python",
   "pygments_lexer": "ipython2",
   "version": "2.7.6"
  }
 },
 "nbformat": 4,
 "nbformat_minor": 0
}