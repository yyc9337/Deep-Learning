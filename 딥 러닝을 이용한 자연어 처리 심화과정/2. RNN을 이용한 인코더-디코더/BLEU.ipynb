{
 "cells": [
  {
   "cell_type": "markdown",
   "metadata": {
    "collapsed": true,
    "pycharm": {
     "name": "#%% md\n"
    }
   },
   "source": [
    "## BLEU(Bilingual Evaluation Understudy)\n",
    "\n",
    "##### BLEU는 기계 번역 결과와 사람이 직접 번역한 결과가 얼마나 유사한지 비교하여 번역에 대한 성능을 측정하는 방법입니다. 측정 기준은 n-gram에 기반합니다."
   ]
  },
  {
   "cell_type": "code",
   "execution_count": 25,
   "outputs": [],
   "source": [
    "import numpy as np\n",
    "from collections import Counter\n",
    "from nltk import ngrams"
   ],
   "metadata": {
    "collapsed": false,
    "pycharm": {
     "name": "#%%\n"
    }
   }
  },
  {
   "cell_type": "code",
   "execution_count": 26,
   "outputs": [],
   "source": [
    "def simple_count(tokens, n):\n",
    "  return Counter(ngrams(tokens, n))"
   ],
   "metadata": {
    "collapsed": false,
    "pycharm": {
     "name": "#%%\n"
    }
   }
  },
  {
   "cell_type": "code",
   "execution_count": 27,
   "outputs": [],
   "source": [
    "def count_clip(candidate, reference_list, n):\n",
    "  # Ca 문장에서 n-gram 카운트\n",
    "  ca_cnt = simple_count(candidate, n)\n",
    "  max_ref_cnt_dict = dict()\n",
    "\n",
    "  for ref in reference_list:\n",
    "    # Ref 문장에서 n-gram 카운트\n",
    "    ref_cnt = simple_count(ref, n)\n",
    "\n",
    "    # 각 Ref 문장에 대해서 비교하여 n-gram의 최대 등장 횟수를 계산.\n",
    "    for n_gram in ref_cnt:\n",
    "      if n_gram in max_ref_cnt_dict:\n",
    "        max_ref_cnt_dict[n_gram] = max(ref_cnt[n_gram], max_ref_cnt_dict[n_gram])\n",
    "      else:\n",
    "        max_ref_cnt_dict[n_gram] = ref_cnt[n_gram]\n",
    "\n",
    "  return {\n",
    "        # count_clip = min(count, max_ref_count)\n",
    "        n_gram: min(ca_cnt.get(n_gram, 0), max_ref_cnt_dict.get(n_gram, 0)) for n_gram in ca_cnt\n",
    "     }"
   ],
   "metadata": {
    "collapsed": false,
    "pycharm": {
     "name": "#%%\n"
    }
   }
  },
  {
   "cell_type": "code",
   "execution_count": 28,
   "outputs": [],
   "source": [
    "def modified_precision(candidate, reference_list, n):\n",
    "  clip_cnt = count_clip(candidate, reference_list, n)\n",
    "  total_clip_cnt = sum(clip_cnt.values()) # 분자\n",
    "\n",
    "  cnt = simple_count(candidate, n)\n",
    "  total_cnt = sum(cnt.values()) # 분모\n",
    "\n",
    "  # 분모가 0이 되는 것을 방지\n",
    "  if total_cnt == 0:\n",
    "    total_cnt = 1\n",
    "\n",
    "  # 분자 : count_clip의 합, 분모 : 단순 count의 합 ==> 보정된 정밀도\n",
    "  return (total_clip_cnt / total_cnt)"
   ],
   "metadata": {
    "collapsed": false,
    "pycharm": {
     "name": "#%%\n"
    }
   }
  },
  {
   "cell_type": "code",
   "execution_count": 29,
   "outputs": [],
   "source": [
    "def closest_ref_length(candidate, reference_list):\n",
    "  ca_len = len(candidate) # ca 길이\n",
    "  ref_lens = (len(ref) for ref in reference_list) # Ref들의 길이\n",
    "  # 길이 차이를 최소화하는 Ref를 찾아서 Ref의 길이를 리턴\n",
    "  closest_ref_len = min(ref_lens, key=lambda ref_len: (abs(ref_len - ca_len), ref_len))\n",
    "  return closest_ref_len"
   ],
   "metadata": {
    "collapsed": false,
    "pycharm": {
     "name": "#%%\n"
    }
   }
  },
  {
   "cell_type": "code",
   "execution_count": 30,
   "outputs": [],
   "source": [
    "def brevity_penalty(candidate, reference_list):\n",
    "  ca_len = len(candidate)\n",
    "  ref_len = closest_ref_length(candidate, reference_list)\n",
    "\n",
    "  if ca_len > ref_len:\n",
    "    return 1\n",
    "\n",
    "  # candidate가 비어있다면 BP = 0 → BLEU = 0.0\n",
    "  elif ca_len == 0 :\n",
    "    return 0\n",
    "  else:\n",
    "    return np.exp(1 - ref_len/ca_len)"
   ],
   "metadata": {
    "collapsed": false,
    "pycharm": {
     "name": "#%%\n"
    }
   }
  },
  {
   "cell_type": "code",
   "execution_count": 31,
   "outputs": [],
   "source": [
    "def bleu_score(candidate, reference_list, weights=[0.25, 0.25, 0.25, 0.25]):\n",
    "  bp = brevity_penalty(candidate, reference_list) # 브레버티 패널티, BP\n",
    "\n",
    "  p_n = [modified_precision(candidate, reference_list, n=n) for n, _ in enumerate(weights,start=1)]\n",
    "  # p1, p2, p3, ..., pn\n",
    "  score = np.sum([w_i * np.log(p_i) if p_i != 0 else 0 for w_i, p_i in zip(weights, p_n)])\n",
    "  return bp * np.exp(score)"
   ],
   "metadata": {
    "collapsed": false,
    "pycharm": {
     "name": "#%%\n"
    }
   }
  },
  {
   "cell_type": "code",
   "execution_count": 32,
   "outputs": [
    {
     "name": "stdout",
     "output_type": "stream",
     "text": [
      "실습 코드의 BLEU : 0.5045666840058485\n",
      "패키지 NLTK의 BLEU : 0.5045666840058485\n"
     ]
    }
   ],
   "source": [
    "import nltk.translate.bleu_score as bleu\n",
    "\n",
    "candidate = 'It is a guide to action which ensures that the military always obeys the commands of the party'\n",
    "references = [\n",
    "    'It is a guide to action that ensures that the military will forever heed Party commands',\n",
    "    'It is the guiding principle which guarantees the military forces always being under the command of the Party',\n",
    "    'It is the practical guide for the army always to heed the directions of the party'\n",
    "]\n",
    "\n",
    "print('실습 코드의 BLEU :',bleu_score(candidate.split(),list(map(lambda ref: ref.split(), references))))\n",
    "print('패키지 NLTK의 BLEU :',bleu.sentence_bleu(list(map(lambda ref: ref.split(), references)),candidate.split()))"
   ],
   "metadata": {
    "collapsed": false,
    "pycharm": {
     "name": "#%%\n"
    }
   }
  }
 ],
 "metadata": {
  "kernelspec": {
   "name": "yyc",
   "language": "python",
   "display_name": "yyc"
  },
  "language_info": {
   "codemirror_mode": {
    "name": "ipython",
    "version": 2
   },
   "file_extension": ".py",
   "mimetype": "text/x-python",
   "name": "python",
   "nbconvert_exporter": "python",
   "pygments_lexer": "ipython2",
   "version": "2.7.6"
  }
 },
 "nbformat": 4,
 "nbformat_minor": 0
}